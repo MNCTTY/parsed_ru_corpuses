{
 "cells": [
  {
   "cell_type": "code",
   "execution_count": 278,
   "metadata": {},
   "outputs": [],
   "source": [
    "import glob\n",
    "files_low = glob.glob(\"/Users/mnctty/Documents/___Jupyter_Notebooks___/ashmanov.hack/ali/april 1-10/low/*.txt\")\n",
    "files_sat = glob.glob(\"/Users/mnctty/Documents/___Jupyter_Notebooks___/ashmanov.hack/ali/april 1-10/satisfied/*.txt\")\n",
    "files_gen = glob.glob(\"/Users/mnctty/Documents/___Jupyter_Notebooks___/ashmanov.hack/ali/april 1-10/general/*.txt\")"
   ]
  },
  {
   "cell_type": "code",
   "execution_count": 279,
   "metadata": {},
   "outputs": [
    {
     "data": {
      "text/plain": [
       "406"
      ]
     },
     "execution_count": 279,
     "metadata": {},
     "output_type": "execute_result"
    }
   ],
   "source": [
    "len(files_low)"
   ]
  },
  {
   "cell_type": "code",
   "execution_count": 280,
   "metadata": {},
   "outputs": [
    {
     "data": {
      "text/plain": [
       "498"
      ]
     },
     "execution_count": 280,
     "metadata": {},
     "output_type": "execute_result"
    }
   ],
   "source": [
    "len(files_gen)"
   ]
  },
  {
   "cell_type": "code",
   "execution_count": 281,
   "metadata": {},
   "outputs": [
    {
     "data": {
      "text/plain": [
       "5214"
      ]
     },
     "execution_count": 281,
     "metadata": {},
     "output_type": "execute_result"
    }
   ],
   "source": [
    "len(files_sat)"
   ]
  },
  {
   "cell_type": "markdown",
   "metadata": {},
   "source": [
    "### reading the data"
   ]
  },
  {
   "cell_type": "code",
   "execution_count": 282,
   "metadata": {},
   "outputs": [],
   "source": [
    "low_raw = []\n",
    "for file in files_low:\n",
    "    with open(file) as f:\n",
    "        raw = f.read().splitlines()\n",
    "        low_raw.append(raw)"
   ]
  },
  {
   "cell_type": "code",
   "execution_count": 283,
   "metadata": {},
   "outputs": [],
   "source": [
    "sat_raw = []\n",
    "for file in files_sat:\n",
    "    with open(file) as f:\n",
    "        raw = f.read().splitlines()\n",
    "        sat_raw.append(raw)"
   ]
  },
  {
   "cell_type": "code",
   "execution_count": 284,
   "metadata": {},
   "outputs": [],
   "source": [
    "gen_raw = []\n",
    "for file in files_gen:\n",
    "    with open(file) as f:\n",
    "        raw = f.read().splitlines()\n",
    "        gen_raw.append(raw)"
   ]
  },
  {
   "cell_type": "markdown",
   "metadata": {},
   "source": [
    "# parsing the data (totally)"
   ]
  },
  {
   "cell_type": "code",
   "execution_count": 285,
   "metadata": {},
   "outputs": [],
   "source": [
    "low_text = []\n",
    "low_btext = []\n",
    "for i in range(0, len(low_raw)):\n",
    "    text = []\n",
    "    buyers_text = []\n",
    "    flag_text = 0\n",
    "    flag_buyer = 0\n",
    "    for raw in low_raw[i]:\n",
    "        if raw == 'Text:':\n",
    "            flag_text = 1\n",
    "        if raw == 'Buyers\\' text:':\n",
    "            flag_text = 0\n",
    "            flag_buyer = 1\n",
    "        if flag_text == 1:\n",
    "            text.append(raw)\n",
    "        if flag_buyer == 1:\n",
    "            buyers_text.append(raw)\n",
    "    text = text[1:]\n",
    "    buyers_text = buyers_text[1:]\n",
    "    text = ' '.join(text)\n",
    "    buyers_text = ' '.join(buyers_text)\n",
    "    low_text.append(text)\n",
    "    low_btext.append(buyers_text)"
   ]
  },
  {
   "cell_type": "code",
   "execution_count": 286,
   "metadata": {},
   "outputs": [
    {
     "data": {
      "text/plain": [
       "406"
      ]
     },
     "execution_count": 286,
     "metadata": {},
     "output_type": "execute_result"
    }
   ],
   "source": [
    "len(low_btext)"
   ]
  },
  {
   "cell_type": "code",
   "execution_count": 287,
   "metadata": {},
   "outputs": [
    {
     "data": {
      "text/plain": [
       "406"
      ]
     },
     "execution_count": 287,
     "metadata": {},
     "output_type": "execute_result"
    }
   ],
   "source": [
    "len(low_text)"
   ]
  },
  {
   "cell_type": "code",
   "execution_count": 288,
   "metadata": {},
   "outputs": [
    {
     "data": {
      "text/plain": [
       "406"
      ]
     },
     "execution_count": 288,
     "metadata": {},
     "output_type": "execute_result"
    }
   ],
   "source": [
    "len(low_raw)"
   ]
  },
  {
   "cell_type": "code",
   "execution_count": 289,
   "metadata": {},
   "outputs": [],
   "source": [
    "sat_text = []\n",
    "sat_btext = []\n",
    "for i in range(0, len(sat_raw)):\n",
    "    text = []\n",
    "    buyers_text = []\n",
    "    flag_text = 0\n",
    "    flag_buyer = 0\n",
    "    for raw in sat_raw[i]:\n",
    "        if raw == 'Text:':\n",
    "            flag_text = 1\n",
    "        if raw == 'Buyers\\' text:':\n",
    "            flag_text = 0\n",
    "            flag_buyer = 1\n",
    "        if flag_text == 1:\n",
    "            text.append(raw)\n",
    "        if flag_buyer == 1:\n",
    "            buyers_text.append(raw)\n",
    "    text = text[1:]\n",
    "    buyers_text = buyers_text[1:]\n",
    "    text = ' '.join(text)\n",
    "    buyers_text = ' '.join(buyers_text)\n",
    "    sat_text.append(text)\n",
    "    sat_btext.append(buyers_text)"
   ]
  },
  {
   "cell_type": "code",
   "execution_count": 290,
   "metadata": {},
   "outputs": [
    {
     "data": {
      "text/plain": [
       "5214"
      ]
     },
     "execution_count": 290,
     "metadata": {},
     "output_type": "execute_result"
    }
   ],
   "source": [
    "len(sat_raw)"
   ]
  },
  {
   "cell_type": "code",
   "execution_count": 291,
   "metadata": {},
   "outputs": [
    {
     "data": {
      "text/plain": [
       "5214"
      ]
     },
     "execution_count": 291,
     "metadata": {},
     "output_type": "execute_result"
    }
   ],
   "source": [
    "len(sat_btext)"
   ]
  },
  {
   "cell_type": "code",
   "execution_count": 292,
   "metadata": {},
   "outputs": [
    {
     "data": {
      "text/plain": [
       "5214"
      ]
     },
     "execution_count": 292,
     "metadata": {},
     "output_type": "execute_result"
    }
   ],
   "source": [
    "len(sat_text)"
   ]
  },
  {
   "cell_type": "code",
   "execution_count": 293,
   "metadata": {},
   "outputs": [],
   "source": [
    "gen_text = []\n",
    "gen_btext = []\n",
    "for i in range(0, len(gen_raw)):\n",
    "    text = []\n",
    "    buyers_text = []\n",
    "    flag_text = 0\n",
    "    flag_buyer = 0\n",
    "    for raw in gen_raw[i]:\n",
    "        if raw == 'Text:':\n",
    "            flag_text = 1\n",
    "        if raw == 'Buyers\\' text:':\n",
    "            flag_text = 0\n",
    "            flag_buyer = 1\n",
    "        if flag_text == 1:\n",
    "            text.append(raw)\n",
    "        if flag_buyer == 1:\n",
    "            buyers_text.append(raw)\n",
    "    text = text[1:]\n",
    "    buyers_text = buyers_text[1:]\n",
    "    text = ' '.join(text)\n",
    "    buyers_text = ' '.join(buyers_text)\n",
    "    gen_text.append(text)\n",
    "    gen_btext.append(buyers_text)"
   ]
  },
  {
   "cell_type": "code",
   "execution_count": 294,
   "metadata": {},
   "outputs": [
    {
     "data": {
      "text/plain": [
       "498"
      ]
     },
     "execution_count": 294,
     "metadata": {},
     "output_type": "execute_result"
    }
   ],
   "source": [
    "len(gen_btext)"
   ]
  },
  {
   "cell_type": "code",
   "execution_count": 295,
   "metadata": {},
   "outputs": [
    {
     "data": {
      "text/plain": [
       "498"
      ]
     },
     "execution_count": 295,
     "metadata": {},
     "output_type": "execute_result"
    }
   ],
   "source": [
    "len(gen_text)"
   ]
  },
  {
   "cell_type": "code",
   "execution_count": 296,
   "metadata": {},
   "outputs": [
    {
     "data": {
      "text/plain": [
       "498"
      ]
     },
     "execution_count": 296,
     "metadata": {},
     "output_type": "execute_result"
    }
   ],
   "source": [
    "len(gen_raw)"
   ]
  },
  {
   "cell_type": "markdown",
   "metadata": {},
   "source": [
    "# давайте-ка почистим данные"
   ]
  },
  {
   "cell_type": "markdown",
   "metadata": {},
   "source": [
    "удалим\n",
    "    - лишнии пробелы +\n",
    "    - лишнии точки +\n",
    "    - ссылки +"
   ]
  },
  {
   "cell_type": "markdown",
   "metadata": {},
   "source": [
    "а что не очень удаляется?\n",
    "    - мета-информация между ссылками, потому что ее сложно отличить от обычного текста между ссылками"
   ]
  },
  {
   "cell_type": "code",
   "execution_count": 297,
   "metadata": {},
   "outputs": [],
   "source": [
    "def del_all_meta(s):\n",
    "    parts = re.findall(r\"[\\w']+\", s)\n",
    "    #print(parts)\n",
    "\n",
    "    result = []\n",
    "    for part in parts:\n",
    "        if part != 'Увеличить':\n",
    "            result.append(re.sub(r'[^а-яА-Я]', \" \", part))\n",
    "    text = ' '.join(result)\n",
    "    return text"
   ]
  },
  {
   "cell_type": "code",
   "execution_count": 298,
   "metadata": {},
   "outputs": [
    {
     "name": "stdout",
     "output_type": "stream",
     "text": [
      "CPU times: user 4 µs, sys: 1e+03 ns, total: 5 µs\n",
      "Wall time: 46 µs\n"
     ]
    }
   ],
   "source": [
    "%time\n",
    "for i in range(0, len(gen_text)):\n",
    "    gen_text[i] = del_all_meta(gen_text[i])"
   ]
  },
  {
   "cell_type": "code",
   "execution_count": 299,
   "metadata": {},
   "outputs": [
    {
     "name": "stdout",
     "output_type": "stream",
     "text": [
      "CPU times: user 139 ms, sys: 3.97 ms, total: 143 ms\n",
      "Wall time: 161 ms\n"
     ]
    }
   ],
   "source": [
    "%%time\n",
    "for i in range(0, len(gen_btext)):\n",
    "    gen_btext[i] = del_all_meta(gen_btext[i])"
   ]
  },
  {
   "cell_type": "code",
   "execution_count": 300,
   "metadata": {},
   "outputs": [
    {
     "name": "stdout",
     "output_type": "stream",
     "text": [
      "CPU times: user 1.64 s, sys: 27.1 ms, total: 1.66 s\n",
      "Wall time: 1.74 s\n"
     ]
    }
   ],
   "source": [
    "%%time\n",
    "for i in range(0, len(sat_text)):\n",
    "    sat_text[i] = del_all_meta(sat_text[i])"
   ]
  },
  {
   "cell_type": "code",
   "execution_count": 301,
   "metadata": {},
   "outputs": [
    {
     "name": "stdout",
     "output_type": "stream",
     "text": [
      "CPU times: user 743 ms, sys: 9.1 ms, total: 752 ms\n",
      "Wall time: 798 ms\n"
     ]
    }
   ],
   "source": [
    "%%time\n",
    "for i in range(0, len(sat_btext)):\n",
    "    sat_btext[i] = del_all_meta(sat_btext[i])"
   ]
  },
  {
   "cell_type": "code",
   "execution_count": 302,
   "metadata": {},
   "outputs": [
    {
     "name": "stdout",
     "output_type": "stream",
     "text": [
      "CPU times: user 157 ms, sys: 2.7 ms, total: 160 ms\n",
      "Wall time: 198 ms\n"
     ]
    }
   ],
   "source": [
    "%%time\n",
    "for i in range(0, len(low_text)):\n",
    "    low_text[i] = del_all_meta(low_text[i])"
   ]
  },
  {
   "cell_type": "code",
   "execution_count": 303,
   "metadata": {},
   "outputs": [
    {
     "name": "stdout",
     "output_type": "stream",
     "text": [
      "CPU times: user 117 ms, sys: 2.98 ms, total: 120 ms\n",
      "Wall time: 150 ms\n"
     ]
    }
   ],
   "source": [
    "%%time\n",
    "for i in range(0, len(low_btext)):\n",
    "    low_btext[i] = del_all_meta(low_btext[i])"
   ]
  },
  {
   "cell_type": "code",
   "execution_count": 304,
   "metadata": {},
   "outputs": [],
   "source": [
    "def del_all_extra_spaces(s):\n",
    "    while s.find('  ') != -1:\n",
    "        s = s.replace(\"  \", \" \")\n",
    "    s = s.strip()\n",
    "    return s"
   ]
  },
  {
   "cell_type": "code",
   "execution_count": 305,
   "metadata": {},
   "outputs": [
    {
     "name": "stdout",
     "output_type": "stream",
     "text": [
      "CPU times: user 4 µs, sys: 0 ns, total: 4 µs\n",
      "Wall time: 9.06 µs\n"
     ]
    }
   ],
   "source": [
    "%time\n",
    "for i in range(0, len(gen_text)):\n",
    "    gen_text[i] = del_all_extra_spaces(gen_text[i])"
   ]
  },
  {
   "cell_type": "code",
   "execution_count": 306,
   "metadata": {},
   "outputs": [
    {
     "name": "stdout",
     "output_type": "stream",
     "text": [
      "CPU times: user 4 µs, sys: 1 µs, total: 5 µs\n",
      "Wall time: 8.82 µs\n"
     ]
    }
   ],
   "source": [
    "%time\n",
    "for i in range(0, len(gen_btext)):\n",
    "    gen_btext[i] = del_all_extra_spaces(gen_btext[i])"
   ]
  },
  {
   "cell_type": "code",
   "execution_count": 307,
   "metadata": {},
   "outputs": [
    {
     "name": "stdout",
     "output_type": "stream",
     "text": [
      "CPU times: user 5 µs, sys: 0 ns, total: 5 µs\n",
      "Wall time: 11 µs\n"
     ]
    }
   ],
   "source": [
    "%time\n",
    "for i in range(0, len(sat_text)):\n",
    "    sat_text[i] = del_all_extra_spaces(sat_text[i])"
   ]
  },
  {
   "cell_type": "code",
   "execution_count": 308,
   "metadata": {},
   "outputs": [
    {
     "name": "stdout",
     "output_type": "stream",
     "text": [
      "CPU times: user 2 µs, sys: 1e+03 ns, total: 3 µs\n",
      "Wall time: 4.77 µs\n"
     ]
    }
   ],
   "source": [
    "%time\n",
    "for i in range(0, len(sat_btext)):\n",
    "    sat_btext[i] = del_all_extra_spaces(sat_btext[i])"
   ]
  },
  {
   "cell_type": "code",
   "execution_count": 309,
   "metadata": {},
   "outputs": [
    {
     "name": "stdout",
     "output_type": "stream",
     "text": [
      "CPU times: user 5 µs, sys: 0 ns, total: 5 µs\n",
      "Wall time: 10 µs\n"
     ]
    }
   ],
   "source": [
    "%time\n",
    "for i in range(0, len(low_text)):\n",
    "    low_text[i] = del_all_extra_spaces(low_text[i])"
   ]
  },
  {
   "cell_type": "code",
   "execution_count": 310,
   "metadata": {},
   "outputs": [
    {
     "name": "stdout",
     "output_type": "stream",
     "text": [
      "CPU times: user 3 µs, sys: 0 ns, total: 3 µs\n",
      "Wall time: 4.77 µs\n"
     ]
    }
   ],
   "source": [
    "%time\n",
    "for i in range(0, len(low_btext)):\n",
    "    low_btext[i] = del_all_extra_spaces(low_btext[i])"
   ]
  },
  {
   "cell_type": "markdown",
   "metadata": {},
   "source": [
    "# writeing txt files"
   ]
  },
  {
   "cell_type": "code",
   "execution_count": 311,
   "metadata": {},
   "outputs": [],
   "source": [
    "with open('low_dialogs.txt', 'w', encoding='utf-8') as file:\n",
    "    for i in range(0, len(low_text)):\n",
    "        file.write(low_text[i] + '\\n')\n",
    "        file.write('\\n')\n",
    "        file.write('\\n')\n",
    "        file.write(low_btext[i] + '\\n')\n",
    "        file.write('\\n')\n",
    "        file.write('\\n')\n",
    "        file.write('--- --- --- --- --- --- --- --- --- --- --- --- --- --- --- --- --- --- --- --- ')        \n",
    "        file.write('\\n')\n",
    "        file.write('\\n')"
   ]
  },
  {
   "cell_type": "code",
   "execution_count": 312,
   "metadata": {},
   "outputs": [],
   "source": [
    "with open('sat_dialogs.txt', 'w', encoding='utf-8') as file:\n",
    "    for i in range(0, len(sat_text)):\n",
    "        file.write(sat_text[i] + '\\n')\n",
    "        file.write('\\n')\n",
    "        file.write('\\n')\n",
    "        file.write(sat_btext[i] + '\\n')\n",
    "        file.write('\\n')\n",
    "        file.write('\\n')\n",
    "        file.write('--- --- --- --- --- --- --- --- --- --- --- --- --- --- --- --- --- --- --- --- ')        \n",
    "        file.write('\\n')\n",
    "        file.write('\\n')"
   ]
  },
  {
   "cell_type": "code",
   "execution_count": 313,
   "metadata": {},
   "outputs": [],
   "source": [
    "with open('gen_dialogs.txt', 'w', encoding='utf-8') as file:\n",
    "    for i in range(0, len(gen_text)):\n",
    "        file.write(gen_text[i] + '\\n')\n",
    "        file.write('\\n')\n",
    "        file.write('\\n')\n",
    "        file.write(gen_btext[i] + '\\n')\n",
    "        file.write('\\n')\n",
    "        file.write('\\n')\n",
    "        file.write('--- --- --- --- --- --- --- --- --- --- --- --- --- --- --- --- --- --- --- --- ')        \n",
    "        file.write('\\n')\n",
    "        file.write('\\n')"
   ]
  },
  {
   "cell_type": "code",
   "execution_count": null,
   "metadata": {},
   "outputs": [],
   "source": []
  },
  {
   "cell_type": "code",
   "execution_count": null,
   "metadata": {},
   "outputs": [],
   "source": []
  },
  {
   "cell_type": "code",
   "execution_count": null,
   "metadata": {},
   "outputs": [],
   "source": []
  },
  {
   "cell_type": "markdown",
   "metadata": {},
   "source": [
    "# let's encode those texts somehow"
   ]
  },
  {
   "cell_type": "markdown",
   "metadata": {},
   "source": [
    "## let's try bert as soon as possible !!"
   ]
  },
  {
   "cell_type": "markdown",
   "metadata": {},
   "source": [
    "ну сначала ворд2век"
   ]
  },
  {
   "cell_type": "code",
   "execution_count": 314,
   "metadata": {},
   "outputs": [],
   "source": [
    "def splitting(mass):\n",
    "    for text in mass:\n",
    "        parts = text.split(' ')\n",
    "        sentences.append(parts)\n"
   ]
  },
  {
   "cell_type": "code",
   "execution_count": 315,
   "metadata": {},
   "outputs": [],
   "source": [
    "sentences = []\n",
    "splitting(low_btext)\n",
    "splitting(low_text)\n",
    "splitting(gen_btext)\n",
    "splitting(gen_text)\n",
    "splitting(sat_btext)\n",
    "splitting(sat_text)\n",
    "\n",
    "model = Word2Vec(sentences, min_count=1)\n"
   ]
  },
  {
   "cell_type": "code",
   "execution_count": 316,
   "metadata": {},
   "outputs": [
    {
     "name": "stdout",
     "output_type": "stream",
     "text": [
      "Word2Vec(vocab=32723, size=100, alpha=0.025)\n"
     ]
    }
   ],
   "source": [
    "print(model)"
   ]
  },
  {
   "cell_type": "code",
   "execution_count": 317,
   "metadata": {},
   "outputs": [],
   "source": [
    "words = list(model.wv.vocab)"
   ]
  },
  {
   "cell_type": "code",
   "execution_count": 318,
   "metadata": {},
   "outputs": [],
   "source": [
    "model.save('model.bin')\n"
   ]
  },
  {
   "cell_type": "code",
   "execution_count": 319,
   "metadata": {},
   "outputs": [],
   "source": [
    "new_model = Word2Vec.load('model.bin')"
   ]
  },
  {
   "cell_type": "code",
   "execution_count": 320,
   "metadata": {},
   "outputs": [
    {
     "name": "stderr",
     "output_type": "stream",
     "text": [
      "/usr/local/lib/python3.6/site-packages/ipykernel_launcher.py:6: DeprecationWarning: Call to deprecated `__getitem__` (Method will be removed in 4.0.0, use self.wv.__getitem__() instead).\n",
      "  \n"
     ]
    }
   ],
   "source": [
    "gen_text_embeddings = []\n",
    "for text in gen_text:\n",
    "    words = text.split(' ')\n",
    "    result = []\n",
    "    for word in words:\n",
    "        res = model[word]\n",
    "        result.append(res)    \n",
    "    gen_text_embeddings.append(result)"
   ]
  },
  {
   "cell_type": "code",
   "execution_count": 321,
   "metadata": {},
   "outputs": [
    {
     "name": "stderr",
     "output_type": "stream",
     "text": [
      "/usr/local/lib/python3.6/site-packages/ipykernel_launcher.py:6: DeprecationWarning: Call to deprecated `__getitem__` (Method will be removed in 4.0.0, use self.wv.__getitem__() instead).\n",
      "  \n"
     ]
    }
   ],
   "source": [
    "gen_btext_embeddings = []\n",
    "for text in gen_btext:\n",
    "    words = text.split(' ')\n",
    "    result = []\n",
    "    for word in words:\n",
    "        res = model[word]\n",
    "        result.append(res)    \n",
    "    gen_btext_embeddings.append(result)"
   ]
  },
  {
   "cell_type": "code",
   "execution_count": 322,
   "metadata": {},
   "outputs": [
    {
     "name": "stderr",
     "output_type": "stream",
     "text": [
      "/usr/local/lib/python3.6/site-packages/ipykernel_launcher.py:6: DeprecationWarning: Call to deprecated `__getitem__` (Method will be removed in 4.0.0, use self.wv.__getitem__() instead).\n",
      "  \n"
     ]
    }
   ],
   "source": [
    "low_text_embeddings = []\n",
    "for text in low_text:\n",
    "    words = text.split(' ')\n",
    "    result = []\n",
    "    for word in words:\n",
    "        res = model[word]\n",
    "        result.append(res)    \n",
    "    low_text_embeddings.append(result)"
   ]
  },
  {
   "cell_type": "code",
   "execution_count": 323,
   "metadata": {},
   "outputs": [
    {
     "name": "stderr",
     "output_type": "stream",
     "text": [
      "/usr/local/lib/python3.6/site-packages/ipykernel_launcher.py:6: DeprecationWarning: Call to deprecated `__getitem__` (Method will be removed in 4.0.0, use self.wv.__getitem__() instead).\n",
      "  \n"
     ]
    }
   ],
   "source": [
    "low_btext_embeddings = []\n",
    "for text in low_btext:\n",
    "    words = text.split(' ')\n",
    "    result = []\n",
    "    for word in words:\n",
    "        res = model[word]\n",
    "        result.append(res)    \n",
    "    low_btext_embeddings.append(result)"
   ]
  },
  {
   "cell_type": "code",
   "execution_count": 324,
   "metadata": {},
   "outputs": [
    {
     "name": "stderr",
     "output_type": "stream",
     "text": [
      "/usr/local/lib/python3.6/site-packages/ipykernel_launcher.py:6: DeprecationWarning: Call to deprecated `__getitem__` (Method will be removed in 4.0.0, use self.wv.__getitem__() instead).\n",
      "  \n"
     ]
    }
   ],
   "source": [
    "sat_text_embeddings = []\n",
    "for text in sat_text:\n",
    "    words = text.split(' ')\n",
    "    result = []\n",
    "    for word in words:\n",
    "        res = model[word]\n",
    "        result.append(res)    \n",
    "    sat_text_embeddings.append(result)"
   ]
  },
  {
   "cell_type": "code",
   "execution_count": 325,
   "metadata": {},
   "outputs": [
    {
     "name": "stderr",
     "output_type": "stream",
     "text": [
      "/usr/local/lib/python3.6/site-packages/ipykernel_launcher.py:6: DeprecationWarning: Call to deprecated `__getitem__` (Method will be removed in 4.0.0, use self.wv.__getitem__() instead).\n",
      "  \n"
     ]
    }
   ],
   "source": [
    "sat_btext_embeddings = []\n",
    "for text in sat_btext:\n",
    "    words = text.split(' ')\n",
    "    result = []\n",
    "    for word in words:\n",
    "        res = model[word]\n",
    "        result.append(res)    \n",
    "    sat_btext_embeddings.append(result)"
   ]
  },
  {
   "cell_type": "markdown",
   "metadata": {},
   "source": [
    "## bert для всей даты!"
   ]
  },
  {
   "cell_type": "code",
   "execution_count": 326,
   "metadata": {},
   "outputs": [],
   "source": [
    "####### тонкое место, по ходу -- выполняется долго"
   ]
  },
  {
   "cell_type": "code",
   "execution_count": 329,
   "metadata": {},
   "outputs": [
    {
     "data": {
      "text/plain": [
       "\"\\nembedding = BertEmbedding(model='bert_12_768_12', dataset_name='wiki_multilingual_cased')\\n\\n%%time\\ngen_text_embeddings = []\\nfor text in gen_text:\\n    bert_abstract2 = text\\n    sentences = bert_abstract2.split('. ')\\n    result = embedding(sentences)\\n    gen_text_embeddings.append(result)\\n    \\ngen_btext_embeddings = []\\nfor text in gen_btext:\\n    bert_abstract2 = text\\n    sentences = bert_abstract2.split('. ')\\n    result = embedding(sentences)\\n    gen_btext_embeddings.append(result)\\n    \\n    \\nsat_text_embeddings = []\\nfor text in sat_text:\\n    bert_abstract2 = text\\n    sentences = bert_abstract2.split('. ')\\n    result = embedding(sentences)\\n    sat_text_embeddings.append(result)\\n    \\nsat_btext_embeddings = []\\nfor text in sat_btext:\\n    bert_abstract2 = text\\n    sentences = bert_abstract2.split('. ')\\n    result = embedding(sentences)\\n    sat_btext_embeddings.append(result)\\n    \\n    \\nlow_text_embeddings = []\\nfor text in low_text:\\n    bert_abstract2 = text\\n    sentences = bert_abstract2.split('. ')\\n    result = embedding(sentences)\\n    low_text_embeddings.append(result)\\n    \\nlow_btext_embeddings = []\\nfor text in low_btext:\\n    bert_abstract2 = text\\n    sentences = bert_abstract2.split('. ')\\n    result = embedding(sentences)\\n    low_btext_embeddings.append(result)\\n\""
      ]
     },
     "execution_count": 329,
     "metadata": {},
     "output_type": "execute_result"
    }
   ],
   "source": [
    "'''\n",
    "embedding = BertEmbedding(model='bert_12_768_12', dataset_name='wiki_multilingual_cased')\n",
    "\n",
    "%%time\n",
    "gen_text_embeddings = []\n",
    "for text in gen_text:\n",
    "    bert_abstract2 = text\n",
    "    sentences = bert_abstract2.split('. ')\n",
    "    result = embedding(sentences)\n",
    "    gen_text_embeddings.append(result)\n",
    "    \n",
    "gen_btext_embeddings = []\n",
    "for text in gen_btext:\n",
    "    bert_abstract2 = text\n",
    "    sentences = bert_abstract2.split('. ')\n",
    "    result = embedding(sentences)\n",
    "    gen_btext_embeddings.append(result)\n",
    "    \n",
    "    \n",
    "sat_text_embeddings = []\n",
    "for text in sat_text:\n",
    "    bert_abstract2 = text\n",
    "    sentences = bert_abstract2.split('. ')\n",
    "    result = embedding(sentences)\n",
    "    sat_text_embeddings.append(result)\n",
    "    \n",
    "sat_btext_embeddings = []\n",
    "for text in sat_btext:\n",
    "    bert_abstract2 = text\n",
    "    sentences = bert_abstract2.split('. ')\n",
    "    result = embedding(sentences)\n",
    "    sat_btext_embeddings.append(result)\n",
    "    \n",
    "    \n",
    "low_text_embeddings = []\n",
    "for text in low_text:\n",
    "    bert_abstract2 = text\n",
    "    sentences = bert_abstract2.split('. ')\n",
    "    result = embedding(sentences)\n",
    "    low_text_embeddings.append(result)\n",
    "    \n",
    "low_btext_embeddings = []\n",
    "for text in low_btext:\n",
    "    bert_abstract2 = text\n",
    "    sentences = bert_abstract2.split('. ')\n",
    "    result = embedding(sentences)\n",
    "    low_btext_embeddings.append(result)\n",
    "'''"
   ]
  },
  {
   "cell_type": "markdown",
   "metadata": {},
   "source": [
    "# теперь пора собрать датасет"
   ]
  },
  {
   "cell_type": "code",
   "execution_count": 330,
   "metadata": {},
   "outputs": [
    {
     "data": {
      "text/plain": [
       "list"
      ]
     },
     "execution_count": 330,
     "metadata": {},
     "output_type": "execute_result"
    }
   ],
   "source": [
    "type(gen_text_embeddings[0])"
   ]
  },
  {
   "cell_type": "code",
   "execution_count": 331,
   "metadata": {},
   "outputs": [
    {
     "data": {
      "text/plain": [
       "numpy.ndarray"
      ]
     },
     "execution_count": 331,
     "metadata": {},
     "output_type": "execute_result"
    }
   ],
   "source": [
    "type(gen_text_embeddings[0][0])"
   ]
  },
  {
   "cell_type": "code",
   "execution_count": 332,
   "metadata": {},
   "outputs": [],
   "source": [
    "gen_sum = []\n",
    "for i in range(0, len(gen_text_embeddings)):\n",
    "    sum_ = 0\n",
    "    for j in range(0, len(gen_text_embeddings[i])):\n",
    "        sum_ +=gen_text_embeddings[i][j]\n",
    "    for j in range(0, len(gen_btext_embeddings[i])):\n",
    "        sum_ +=gen_btext_embeddings[i][j]\n",
    "    \n",
    "    gen_sum.append(sum_)"
   ]
  },
  {
   "cell_type": "code",
   "execution_count": 333,
   "metadata": {},
   "outputs": [
    {
     "data": {
      "text/plain": [
       "498"
      ]
     },
     "execution_count": 333,
     "metadata": {},
     "output_type": "execute_result"
    }
   ],
   "source": [
    "len(gen_sum)"
   ]
  },
  {
   "cell_type": "code",
   "execution_count": 334,
   "metadata": {},
   "outputs": [
    {
     "data": {
      "text/plain": [
       "numpy.ndarray"
      ]
     },
     "execution_count": 334,
     "metadata": {},
     "output_type": "execute_result"
    }
   ],
   "source": [
    "type(gen_sum[0])"
   ]
  },
  {
   "cell_type": "code",
   "execution_count": 335,
   "metadata": {},
   "outputs": [],
   "source": [
    "sat_sum = []\n",
    "for i in range(0, len(sat_text_embeddings)):\n",
    "    sum_ = 0\n",
    "    for j in range(0, len(sat_text_embeddings[i])):\n",
    "        sum_ +=sat_text_embeddings[i][j]\n",
    "    for j in range(0, len(sat_btext_embeddings[i])):\n",
    "        sum_ +=sat_btext_embeddings[i][j]\n",
    "    sat_sum.append(sum_)"
   ]
  },
  {
   "cell_type": "code",
   "execution_count": 336,
   "metadata": {},
   "outputs": [],
   "source": [
    "low_sum = []\n",
    "for i in range(0, len(low_text_embeddings)):\n",
    "    sum_ = 0\n",
    "    for j in range(0, len(low_text_embeddings[i])):\n",
    "        sum_ +=low_text_embeddings[i][j]\n",
    "    for j in range(0, len(low_btext_embeddings[i])):\n",
    "        sum_ +=low_btext_embeddings[i][j]\n",
    "    low_sum.append(sum_)"
   ]
  },
  {
   "cell_type": "code",
   "execution_count": 337,
   "metadata": {},
   "outputs": [],
   "source": [
    "#old, ',' --> '+'\n",
    "concated_data = [] #encodings 1, 2 #label\n",
    "labels = []\n",
    "for i in range(0, len(gen_text_embeddings)):\n",
    "    concated_data.append([gen_text_embeddings[i] + gen_btext_embeddings[i]])\n",
    "    labels.append('general')\n",
    "\n",
    "for i in range(0, len(sat_text_embeddings)):\n",
    "    concated_data.append([sat_text_embeddings[i] + sat_btext_embeddings[i]])\n",
    "    labels.append('satisfied')\n",
    "    \n",
    "for i in range(0, len(low_text_embeddings)):\n",
    "    concated_data.append([low_text_embeddings[i] + low_btext_embeddings[i]])\n",
    "    labels.append('low')"
   ]
  },
  {
   "cell_type": "code",
   "execution_count": 338,
   "metadata": {},
   "outputs": [],
   "source": [
    "concated_data = []\n",
    "labels = []\n",
    "for i in range(0, len(gen_sum)):\n",
    "    concated_data.append(gen_sum[i])\n",
    "    labels.append('general')\n",
    "\n",
    "for i in range(0, len(sat_sum)):\n",
    "    concated_data.append(sat_sum[i])\n",
    "    labels.append('satisfied')\n",
    "    \n",
    "for i in range(0, len(low_sum)):\n",
    "    concated_data.append(low_sum[i])\n",
    "    labels.append('low')"
   ]
  },
  {
   "cell_type": "code",
   "execution_count": 339,
   "metadata": {},
   "outputs": [
    {
     "data": {
      "text/plain": [
       "numpy.ndarray"
      ]
     },
     "execution_count": 339,
     "metadata": {},
     "output_type": "execute_result"
    }
   ],
   "source": [
    "type(concated_data[0])"
   ]
  },
  {
   "cell_type": "code",
   "execution_count": 340,
   "metadata": {},
   "outputs": [],
   "source": [
    "from sklearn.preprocessing import LabelEncoder\n",
    "label_encoder = LabelEncoder()\n",
    "labels = label_encoder.fit_transform(labels)"
   ]
  },
  {
   "cell_type": "code",
   "execution_count": 341,
   "metadata": {},
   "outputs": [],
   "source": [
    "import numpy as np\n",
    "from sklearn.model_selection import train_test_split"
   ]
  },
  {
   "cell_type": "code",
   "execution_count": 342,
   "metadata": {},
   "outputs": [],
   "source": [
    "X_train, X_test, y_train, y_test = train_test_split(concated_data, labels, test_size=0.1, random_state=42)"
   ]
  },
  {
   "cell_type": "code",
   "execution_count": 343,
   "metadata": {},
   "outputs": [],
   "source": [
    "X_train, X_val, y_train, y_val = train_test_split(X_train, y_train, test_size=0.25, random_state=1)"
   ]
  },
  {
   "cell_type": "markdown",
   "metadata": {},
   "source": [
    "# и в классификатор их!"
   ]
  },
  {
   "cell_type": "markdown",
   "metadata": {},
   "source": [
    "# knn"
   ]
  },
  {
   "cell_type": "code",
   "execution_count": 344,
   "metadata": {},
   "outputs": [],
   "source": [
    "from sklearn.neighbors import KNeighborsClassifier"
   ]
  },
  {
   "cell_type": "code",
   "execution_count": 345,
   "metadata": {},
   "outputs": [],
   "source": [
    "clf = KNeighborsClassifier(n_neighbors=15, weights='distance')"
   ]
  },
  {
   "cell_type": "code",
   "execution_count": 356,
   "metadata": {},
   "outputs": [
    {
     "data": {
      "text/plain": [
       "list"
      ]
     },
     "execution_count": 356,
     "metadata": {},
     "output_type": "execute_result"
    }
   ],
   "source": [
    "type(X_train)"
   ]
  },
  {
   "cell_type": "code",
   "execution_count": 350,
   "metadata": {},
   "outputs": [
    {
     "data": {
      "text/plain": [
       "numpy.ndarray"
      ]
     },
     "execution_count": 350,
     "metadata": {},
     "output_type": "execute_result"
    }
   ],
   "source": [
    "type(X_train[0])"
   ]
  },
  {
   "cell_type": "code",
   "execution_count": 355,
   "metadata": {},
   "outputs": [
    {
     "data": {
      "text/plain": [
       "numpy.float32"
      ]
     },
     "execution_count": 355,
     "metadata": {},
     "output_type": "execute_result"
    }
   ],
   "source": [
    "type(X_train[0][0])"
   ]
  },
  {
   "cell_type": "code",
   "execution_count": 349,
   "metadata": {},
   "outputs": [
    {
     "data": {
      "text/plain": [
       "2"
      ]
     },
     "execution_count": 349,
     "metadata": {},
     "output_type": "execute_result"
    }
   ],
   "source": [
    "y_train[0]"
   ]
  },
  {
   "cell_type": "code",
   "execution_count": 272,
   "metadata": {},
   "outputs": [
    {
     "data": {
      "text/plain": [
       "KNeighborsClassifier(algorithm='auto', leaf_size=30, metric='minkowski',\n",
       "           metric_params=None, n_jobs=1, n_neighbors=15, p=2,\n",
       "           weights='distance')"
      ]
     },
     "execution_count": 272,
     "metadata": {},
     "output_type": "execute_result"
    }
   ],
   "source": [
    "clf.fit(X_train, y_train)"
   ]
  },
  {
   "cell_type": "code",
   "execution_count": 273,
   "metadata": {},
   "outputs": [
    {
     "data": {
      "text/plain": [
       "0.8513071895424836"
      ]
     },
     "execution_count": 273,
     "metadata": {},
     "output_type": "execute_result"
    }
   ],
   "source": [
    "clf.score(X_test, y_test)"
   ]
  },
  {
   "cell_type": "markdown",
   "metadata": {},
   "source": [
    "# bayes"
   ]
  },
  {
   "cell_type": "code",
   "execution_count": 274,
   "metadata": {},
   "outputs": [],
   "source": [
    "from sklearn.naive_bayes import GaussianNB"
   ]
  },
  {
   "cell_type": "code",
   "execution_count": 275,
   "metadata": {},
   "outputs": [],
   "source": [
    "model = GaussianNB()"
   ]
  },
  {
   "cell_type": "code",
   "execution_count": 276,
   "metadata": {},
   "outputs": [
    {
     "name": "stdout",
     "output_type": "stream",
     "text": [
      "CPU times: user 11.6 ms, sys: 4.05 ms, total: 15.6 ms\n",
      "Wall time: 14.5 ms\n"
     ]
    },
    {
     "data": {
      "text/plain": [
       "GaussianNB(priors=None)"
      ]
     },
     "execution_count": 276,
     "metadata": {},
     "output_type": "execute_result"
    }
   ],
   "source": [
    "%%time\n",
    "model.fit(X_train,y_train)"
   ]
  },
  {
   "cell_type": "code",
   "execution_count": 277,
   "metadata": {},
   "outputs": [
    {
     "name": "stdout",
     "output_type": "stream",
     "text": [
      "CPU times: user 4.32 ms, sys: 2.54 ms, total: 6.85 ms\n",
      "Wall time: 5.98 ms\n"
     ]
    },
    {
     "data": {
      "text/plain": [
       "0.7549019607843137"
      ]
     },
     "execution_count": 277,
     "metadata": {},
     "output_type": "execute_result"
    }
   ],
   "source": [
    "%%time\n",
    "model.score(X_test,y_test)"
   ]
  },
  {
   "cell_type": "code",
   "execution_count": null,
   "metadata": {},
   "outputs": [],
   "source": []
  },
  {
   "cell_type": "code",
   "execution_count": null,
   "metadata": {},
   "outputs": [],
   "source": []
  }
 ],
 "metadata": {
  "kernelspec": {
   "display_name": "Python 3",
   "language": "python",
   "name": "python3"
  },
  "language_info": {
   "codemirror_mode": {
    "name": "ipython",
    "version": 3
   },
   "file_extension": ".py",
   "mimetype": "text/x-python",
   "name": "python",
   "nbconvert_exporter": "python",
   "pygments_lexer": "ipython3",
   "version": "3.6.8"
  }
 },
 "nbformat": 4,
 "nbformat_minor": 2
}
