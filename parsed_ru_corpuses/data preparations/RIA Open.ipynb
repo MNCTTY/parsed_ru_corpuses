{
 "cells": [
  {
   "cell_type": "markdown",
   "metadata": {},
   "source": [
    "# RIA corpuses opening"
   ]
  },
  {
   "cell_type": "code",
   "execution_count": 5,
   "metadata": {},
   "outputs": [],
   "source": [
    "# json opening"
   ]
  },
  {
   "cell_type": "code",
   "execution_count": 1,
   "metadata": {},
   "outputs": [],
   "source": [
    "import pandas as pd\n",
    "import os\n",
    "import json"
   ]
  },
  {
   "cell_type": "code",
   "execution_count": 2,
   "metadata": {},
   "outputs": [],
   "source": [
    "raw_data = []\n",
    "for line in open('ria_1k.json', 'r', encoding='utf-8'): ## use \"ria_20.json\" to open a small one\n",
    "    raw_data.append(json.loads(line))"
   ]
  },
  {
   "cell_type": "code",
   "execution_count": null,
   "metadata": {
    "scrolled": true
   },
   "outputs": [],
   "source": [
    "all_texts = []\n",
    "all_titles = []\n",
    "for d in raw_data:\n",
    "    for k, v in d.items():\n",
    "        print('key: ', k)\n",
    "        print('value: ', v)\n",
    "        if k == 'text':\n",
    "            all_texts.append(v)\n",
    "        if k == 'title':\n",
    "            all_titles.append(v)"
   ]
  },
  {
   "cell_type": "code",
   "execution_count": null,
   "metadata": {},
   "outputs": [],
   "source": [
    "the_list = []\n",
    "for i in range(0, len(all_texts)):\n",
    "    the_list.append([all_texts[i], all_titles[i]])\n",
    "the_list[0]"
   ]
  },
  {
   "cell_type": "markdown",
   "metadata": {},
   "source": [
    "### delete undesirable elements"
   ]
  },
  {
   "cell_type": "raw",
   "metadata": {},
   "source": [
    "\\n\n",
    "<...>\n",
    "&mdash\n",
    "&nbsp"
   ]
  },
  {
   "cell_type": "code",
   "execution_count": 8,
   "metadata": {},
   "outputs": [],
   "source": [
    "import re"
   ]
  },
  {
   "cell_type": "code",
   "execution_count": 21,
   "metadata": {},
   "outputs": [],
   "source": [
    "for i in range(0,len(the_list)):\n",
    "    the_list[i][0] = re.sub('<.*?>', '', the_list[i][0])\n",
    "    the_list[i][0] = the_list[i][0].replace('\\n', ' ')\n",
    "    the_list[i][0] = the_list[i][0].replace('&mdash', ' ')\n",
    "    the_list[i][0] = the_list[i][0].replace('&nbsp', ' ')\n",
    "    the_list[i][0] = the_list[i][0].replace(';', ' ')\n",
    "    the_list[i][0] = the_list[i][0].replace(',', ' , ')\n",
    "    the_list[i][0] = the_list[i][0].replace('.', ' . ')\n",
    "    the_list[i][0] = the_list[i][0].replace('\"', ' \" ')\n",
    "    the_list[i][0] = the_list[i][0].replace(')', ' ) ')\n",
    "    the_list[i][0] = the_list[i][0].replace('(', ' ( ')\n",
    "    the_list[i][0] = the_list[i][0].replace('  ', ' ')\n",
    "    the_list[i][0] = the_list[i][0].replace('   ', ' ')\n",
    "    the_list[i][0] = the_list[i][0].replace('    ', ' ') #ну да, я не стала заморачиваться"
   ]
  },
  {
   "cell_type": "code",
   "execution_count": null,
   "metadata": {},
   "outputs": [],
   "source": []
  },
  {
   "cell_type": "markdown",
   "metadata": {},
   "source": [
    "### construct the dataframe and save results as csv"
   ]
  },
  {
   "cell_type": "code",
   "execution_count": 12,
   "metadata": {},
   "outputs": [
    {
     "data": {
      "text/html": [
       "<div>\n",
       "<style scoped>\n",
       "    .dataframe tbody tr th:only-of-type {\n",
       "        vertical-align: middle;\n",
       "    }\n",
       "\n",
       "    .dataframe tbody tr th {\n",
       "        vertical-align: top;\n",
       "    }\n",
       "\n",
       "    .dataframe thead th {\n",
       "        text-align: right;\n",
       "    }\n",
       "</style>\n",
       "<table border=\"1\" class=\"dataframe\">\n",
       "  <thead>\n",
       "    <tr style=\"text-align: right;\">\n",
       "      <th></th>\n",
       "      <th>text</th>\n",
       "      <th>title</th>\n",
       "    </tr>\n",
       "  </thead>\n",
       "  <tbody>\n",
       "    <tr>\n",
       "      <th>0</th>\n",
       "      <td>автор мария балябина  на украине уволили уже б...</td>\n",
       "      <td>украинская люстрация: жертвоприношение во власти</td>\n",
       "    </tr>\n",
       "    <tr>\n",
       "      <th>1</th>\n",
       "      <td>москва, 2 дек риа новости. цена на нефть марк...</td>\n",
       "      <td>цена на нефть марки brent поднялась выше $73 з...</td>\n",
       "    </tr>\n",
       "    <tr>\n",
       "      <th>2</th>\n",
       "      <td>бангкок, 2 дек риа новости. число россиян, по...</td>\n",
       "      <td>число пострадавших в аварии в таиланде россиян...</td>\n",
       "    </tr>\n",
       "    <tr>\n",
       "      <th>3</th>\n",
       "      <td>москва, 2 дек риа новости. строительство детс...</td>\n",
       "      <td>собянин открыл детсад в хорошево-мневниках в м...</td>\n",
       "    </tr>\n",
       "    <tr>\n",
       "      <th>4</th>\n",
       "      <td>москва, 2 декабря - риа новости. группа компа...</td>\n",
       "      <td>\"ташир\" построит в москве перинатально-кардиол...</td>\n",
       "    </tr>\n",
       "  </tbody>\n",
       "</table>\n",
       "</div>"
      ],
      "text/plain": [
       "                                                text  \\\n",
       "0  автор мария балябина  на украине уволили уже б...   \n",
       "1   москва, 2 дек риа новости. цена на нефть марк...   \n",
       "2   бангкок, 2 дек риа новости. число россиян, по...   \n",
       "3   москва, 2 дек риа новости. строительство детс...   \n",
       "4   москва, 2 декабря - риа новости. группа компа...   \n",
       "\n",
       "                                               title  \n",
       "0   украинская люстрация: жертвоприношение во власти  \n",
       "1  цена на нефть марки brent поднялась выше $73 з...  \n",
       "2  число пострадавших в аварии в таиланде россиян...  \n",
       "3  собянин открыл детсад в хорошево-мневниках в м...  \n",
       "4  \"ташир\" построит в москве перинатально-кардиол...  "
      ]
     },
     "execution_count": 12,
     "metadata": {},
     "output_type": "execute_result"
    }
   ],
   "source": [
    "df = pd.DataFrame(the_list, columns=['text', 'title'])\n",
    "df.head()"
   ]
  },
  {
   "cell_type": "code",
   "execution_count": null,
   "metadata": {},
   "outputs": [],
   "source": [
    "df.to_csv('ria_1k.csv') ## 'ria_20.csv'"
   ]
  }
 ],
 "metadata": {
  "kernelspec": {
   "display_name": "Python 3",
   "language": "python",
   "name": "python3"
  },
  "language_info": {
   "codemirror_mode": {
    "name": "ipython",
    "version": 3
   },
   "file_extension": ".py",
   "mimetype": "text/x-python",
   "name": "python",
   "nbconvert_exporter": "python",
   "pygments_lexer": "ipython3",
   "version": "3.6.7"
  }
 },
 "nbformat": 4,
 "nbformat_minor": 2
}
