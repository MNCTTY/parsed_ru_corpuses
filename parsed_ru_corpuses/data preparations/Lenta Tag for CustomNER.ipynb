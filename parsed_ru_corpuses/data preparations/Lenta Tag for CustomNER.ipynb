{
 "cells": [
  {
   "cell_type": "raw",
   "metadata": {},
   "source": [
    "Tagginig entities: who commited the crime? (преступник - OFF (offender)), against whom? (жертва SUF sufferer)), when (дата DAT), where (место LOC), the crime itself (преступление CRI (crime))"
   ]
  },
  {
   "cell_type": "markdown",
   "metadata": {},
   "source": [
    "We take news that have the crime topic\n",
    "Tokenize them\n",
    "Get top 100 by length\n",
    "and START TAGGING!"
   ]
  },
  {
   "cell_type": "code",
   "execution_count": null,
   "metadata": {},
   "outputs": [],
   "source": []
  },
  {
   "cell_type": "markdown",
   "metadata": {
    "scrolled": true
   },
   "source": [
    "## Read data"
   ]
  },
  {
   "cell_type": "code",
   "execution_count": 3,
   "metadata": {
    "scrolled": true
   },
   "outputs": [],
   "source": [
    "import numpy as np\n",
    "import pandas as pd\n",
    "import os"
   ]
  },
  {
   "cell_type": "code",
   "execution_count": 4,
   "metadata": {},
   "outputs": [],
   "source": [
    "base = r'Lenta\\newmetadata.csv'\n",
    "news_texts = r'Lenta\\texts'\n",
    "df = pd.read_csv(base, sep='\\t')"
   ]
  },
  {
   "cell_type": "code",
   "execution_count": 32,
   "metadata": {},
   "outputs": [
    {
     "data": {
      "text/html": [
       "<div>\n",
       "<style scoped>\n",
       "    .dataframe tbody tr th:only-of-type {\n",
       "        vertical-align: middle;\n",
       "    }\n",
       "\n",
       "    .dataframe tbody tr th {\n",
       "        vertical-align: top;\n",
       "    }\n",
       "\n",
       "    .dataframe thead th {\n",
       "        text-align: right;\n",
       "    }\n",
       "</style>\n",
       "<table border=\"1\" class=\"dataframe\">\n",
       "  <thead>\n",
       "    <tr style=\"text-align: right;\">\n",
       "      <th></th>\n",
       "      <th>index</th>\n",
       "      <th>segment</th>\n",
       "      <th>textid</th>\n",
       "      <th>textname</th>\n",
       "      <th>textregion</th>\n",
       "      <th>textrubric</th>\n",
       "      <th>textdiff</th>\n",
       "      <th>author</th>\n",
       "      <th>authortexts</th>\n",
       "      <th>authorreaders</th>\n",
       "      <th>magazine</th>\n",
       "      <th>date</th>\n",
       "      <th>time</th>\n",
       "      <th>tags</th>\n",
       "      <th>source</th>\n",
       "    </tr>\n",
       "  </thead>\n",
       "  <tbody>\n",
       "    <tr>\n",
       "      <th>0</th>\n",
       "      <td>43</td>\n",
       "      <td>Lenta</td>\n",
       "      <td>20150302police_against_blacks</td>\n",
       "      <td>В США адвокаты обвинили убитого полицией подро...</td>\n",
       "      <td>NaN</td>\n",
       "      <td>Преступность</td>\n",
       "      <td>NaN</td>\n",
       "      <td>NaN</td>\n",
       "      <td>NaN</td>\n",
       "      <td>NaN</td>\n",
       "      <td>NaN</td>\n",
       "      <td>2 марта 2015</td>\n",
       "      <td>22:58</td>\n",
       "      <td>NaN</td>\n",
       "      <td>https://lenta.ru/news/2015/03/02/police_agains...</td>\n",
       "    </tr>\n",
       "    <tr>\n",
       "      <th>1</th>\n",
       "      <td>73</td>\n",
       "      <td>Lenta</td>\n",
       "      <td>20130603pedagog</td>\n",
       "      <td>В Пермском крае на учителя начальных классов з...</td>\n",
       "      <td>NaN</td>\n",
       "      <td>Преступность</td>\n",
       "      <td>NaN</td>\n",
       "      <td>NaN</td>\n",
       "      <td>NaN</td>\n",
       "      <td>NaN</td>\n",
       "      <td>NaN</td>\n",
       "      <td>3 июня 2013</td>\n",
       "      <td>16:43</td>\n",
       "      <td>NaN</td>\n",
       "      <td>https://lenta.ru/news/2013/06/03/pedagog/</td>\n",
       "    </tr>\n",
       "    <tr>\n",
       "      <th>2</th>\n",
       "      <td>181</td>\n",
       "      <td>Lenta</td>\n",
       "      <td>20130403ptu</td>\n",
       "      <td>В Чите в доме преподавателя техникума нашли ар...</td>\n",
       "      <td>NaN</td>\n",
       "      <td>Преступность</td>\n",
       "      <td>NaN</td>\n",
       "      <td>NaN</td>\n",
       "      <td>NaN</td>\n",
       "      <td>NaN</td>\n",
       "      <td>NaN</td>\n",
       "      <td>3 апреля 2013</td>\n",
       "      <td>14:42</td>\n",
       "      <td>NaN</td>\n",
       "      <td>https://lenta.ru/news/2013/04/03/ptu/</td>\n",
       "    </tr>\n",
       "    <tr>\n",
       "      <th>3</th>\n",
       "      <td>231</td>\n",
       "      <td>Lenta</td>\n",
       "      <td>20160708saudi</td>\n",
       "      <td>В Саудовской Аравии арестованы 19 подозреваемы...</td>\n",
       "      <td>NaN</td>\n",
       "      <td>Преступность</td>\n",
       "      <td>NaN</td>\n",
       "      <td>NaN</td>\n",
       "      <td>NaN</td>\n",
       "      <td>NaN</td>\n",
       "      <td>NaN</td>\n",
       "      <td>8 июля 2016</td>\n",
       "      <td>00:55</td>\n",
       "      <td>NaN</td>\n",
       "      <td>https://lenta.ru/news/2016/07/08/saudi/</td>\n",
       "    </tr>\n",
       "    <tr>\n",
       "      <th>4</th>\n",
       "      <td>232</td>\n",
       "      <td>Lenta</td>\n",
       "      <td>20130708daleste</td>\n",
       "      <td>Бразильского музыканта застрелили во время выс...</td>\n",
       "      <td>NaN</td>\n",
       "      <td>Преступность</td>\n",
       "      <td>NaN</td>\n",
       "      <td>NaN</td>\n",
       "      <td>NaN</td>\n",
       "      <td>NaN</td>\n",
       "      <td>NaN</td>\n",
       "      <td>8 июля 2013</td>\n",
       "      <td>11:35</td>\n",
       "      <td>NaN</td>\n",
       "      <td>https://lenta.ru/news/2013/07/08/daleste/</td>\n",
       "    </tr>\n",
       "  </tbody>\n",
       "</table>\n",
       "</div>"
      ],
      "text/plain": [
       "   index segment                         textid  \\\n",
       "0     43   Lenta  20150302police_against_blacks   \n",
       "1     73   Lenta                20130603pedagog   \n",
       "2    181   Lenta                    20130403ptu   \n",
       "3    231   Lenta                  20160708saudi   \n",
       "4    232   Lenta                20130708daleste   \n",
       "\n",
       "                                            textname  textregion  \\\n",
       "0  В США адвокаты обвинили убитого полицией подро...         NaN   \n",
       "1  В Пермском крае на учителя начальных классов з...         NaN   \n",
       "2  В Чите в доме преподавателя техникума нашли ар...         NaN   \n",
       "3  В Саудовской Аравии арестованы 19 подозреваемы...         NaN   \n",
       "4  Бразильского музыканта застрелили во время выс...         NaN   \n",
       "\n",
       "     textrubric  textdiff  author  authortexts  authorreaders  magazine  \\\n",
       "0  Преступность       NaN     NaN          NaN            NaN       NaN   \n",
       "1  Преступность       NaN     NaN          NaN            NaN       NaN   \n",
       "2  Преступность       NaN     NaN          NaN            NaN       NaN   \n",
       "3  Преступность       NaN     NaN          NaN            NaN       NaN   \n",
       "4  Преступность       NaN     NaN          NaN            NaN       NaN   \n",
       "\n",
       "            date   time  tags  \\\n",
       "0   2 марта 2015  22:58   NaN   \n",
       "1    3 июня 2013  16:43   NaN   \n",
       "2  3 апреля 2013  14:42   NaN   \n",
       "3    8 июля 2016  00:55   NaN   \n",
       "4    8 июля 2013  11:35   NaN   \n",
       "\n",
       "                                              source  \n",
       "0  https://lenta.ru/news/2015/03/02/police_agains...  \n",
       "1          https://lenta.ru/news/2013/06/03/pedagog/  \n",
       "2              https://lenta.ru/news/2013/04/03/ptu/  \n",
       "3            https://lenta.ru/news/2016/07/08/saudi/  \n",
       "4          https://lenta.ru/news/2013/07/08/daleste/  "
      ]
     },
     "execution_count": 32,
     "metadata": {},
     "output_type": "execute_result"
    }
   ],
   "source": [
    "textrubric = ['Преступность']\n",
    "df1 = df[df.textrubric.isin(textrubric)].reset_index()\n",
    "df1.head()"
   ]
  },
  {
   "cell_type": "code",
   "execution_count": 33,
   "metadata": {},
   "outputs": [
    {
     "data": {
      "text/plain": [
       "314"
      ]
     },
     "execution_count": 33,
     "metadata": {},
     "output_type": "execute_result"
    }
   ],
   "source": [
    "len(df1[df1['textid'] == '20170203france_attack']) # one third of our crime data are duplicates!"
   ]
  },
  {
   "cell_type": "code",
   "execution_count": null,
   "metadata": {},
   "outputs": [],
   "source": []
  },
  {
   "cell_type": "code",
   "execution_count": 35,
   "metadata": {},
   "outputs": [],
   "source": [
    "def get_news_text(address, encoding='UTF8'):\n",
    "    return ' '.join(open(news_texts + address + '.txt','r',encoding=encoding).read().split())"
   ]
  },
  {
   "cell_type": "code",
   "execution_count": 36,
   "metadata": {},
   "outputs": [
    {
     "name": "stdout",
     "output_type": "stream",
     "text": [
      "Wall time: 216 ms\n"
     ]
    }
   ],
   "source": [
    "%%time\n",
    "df1['full_text'] = df1.textid.apply(lambda x:get_news_text(address = \"\\\\\"+str(x)))"
   ]
  },
  {
   "cell_type": "code",
   "execution_count": 39,
   "metadata": {},
   "outputs": [],
   "source": [
    "df2 = df1[['textid','textname', 'full_text']]"
   ]
  },
  {
   "cell_type": "code",
   "execution_count": 40,
   "metadata": {},
   "outputs": [
    {
     "data": {
      "text/html": [
       "<div>\n",
       "<style scoped>\n",
       "    .dataframe tbody tr th:only-of-type {\n",
       "        vertical-align: middle;\n",
       "    }\n",
       "\n",
       "    .dataframe tbody tr th {\n",
       "        vertical-align: top;\n",
       "    }\n",
       "\n",
       "    .dataframe thead th {\n",
       "        text-align: right;\n",
       "    }\n",
       "</style>\n",
       "<table border=\"1\" class=\"dataframe\">\n",
       "  <thead>\n",
       "    <tr style=\"text-align: right;\">\n",
       "      <th></th>\n",
       "      <th>textid</th>\n",
       "      <th>textname</th>\n",
       "      <th>full_text</th>\n",
       "    </tr>\n",
       "  </thead>\n",
       "  <tbody>\n",
       "    <tr>\n",
       "      <th>0</th>\n",
       "      <td>20150302police_against_blacks</td>\n",
       "      <td>В США адвокаты обвинили убитого полицией подро...</td>\n",
       "      <td>Адвокаты, выступающие от имени города Кливленд...</td>\n",
       "    </tr>\n",
       "    <tr>\n",
       "      <th>1</th>\n",
       "      <td>20130603pedagog</td>\n",
       "      <td>В Пермском крае на учителя начальных классов з...</td>\n",
       "      <td>В Пермском крае в отношении учителя начальных ...</td>\n",
       "    </tr>\n",
       "    <tr>\n",
       "      <th>2</th>\n",
       "      <td>20130403ptu</td>\n",
       "      <td>В Чите в доме преподавателя техникума нашли ар...</td>\n",
       "      <td>В Чите в доме преподавателя техникума изъяли м...</td>\n",
       "    </tr>\n",
       "    <tr>\n",
       "      <th>3</th>\n",
       "      <td>20160708saudi</td>\n",
       "      <td>В Саудовской Аравии арестованы 19 подозреваемы...</td>\n",
       "      <td>МВД Саудовской Аравии арестовало 19 подозревае...</td>\n",
       "    </tr>\n",
       "    <tr>\n",
       "      <th>4</th>\n",
       "      <td>20130708daleste</td>\n",
       "      <td>Бразильского музыканта застрелили во время выс...</td>\n",
       "      <td>В Бразилии фанк-музыканта и исполнителя Даниэл...</td>\n",
       "    </tr>\n",
       "  </tbody>\n",
       "</table>\n",
       "</div>"
      ],
      "text/plain": [
       "                          textid  \\\n",
       "0  20150302police_against_blacks   \n",
       "1                20130603pedagog   \n",
       "2                    20130403ptu   \n",
       "3                  20160708saudi   \n",
       "4                20130708daleste   \n",
       "\n",
       "                                            textname  \\\n",
       "0  В США адвокаты обвинили убитого полицией подро...   \n",
       "1  В Пермском крае на учителя начальных классов з...   \n",
       "2  В Чите в доме преподавателя техникума нашли ар...   \n",
       "3  В Саудовской Аравии арестованы 19 подозреваемы...   \n",
       "4  Бразильского музыканта застрелили во время выс...   \n",
       "\n",
       "                                           full_text  \n",
       "0  Адвокаты, выступающие от имени города Кливленд...  \n",
       "1  В Пермском крае в отношении учителя начальных ...  \n",
       "2  В Чите в доме преподавателя техникума изъяли м...  \n",
       "3  МВД Саудовской Аравии арестовало 19 подозревае...  \n",
       "4  В Бразилии фанк-музыканта и исполнителя Даниэл...  "
      ]
     },
     "execution_count": 40,
     "metadata": {},
     "output_type": "execute_result"
    }
   ],
   "source": [
    "df2.head()"
   ]
  },
  {
   "cell_type": "code",
   "execution_count": 43,
   "metadata": {},
   "outputs": [],
   "source": [
    "df2.to_csv(r'data\\Lenta_Crime.csv', index=False)"
   ]
  },
  {
   "cell_type": "code",
   "execution_count": null,
   "metadata": {},
   "outputs": [],
   "source": []
  },
  {
   "cell_type": "raw",
   "metadata": {},
   "source": [
    "Кто совершил преступление\n",
    "Против кого\n",
    "Когда\n",
    "Где"
   ]
  },
  {
   "cell_type": "markdown",
   "metadata": {},
   "source": [
    "### top100 "
   ]
  },
  {
   "cell_type": "code",
   "execution_count": 47,
   "metadata": {
    "scrolled": false
   },
   "outputs": [],
   "source": [
    "lengthes_and_indicies = []\n",
    "for i in range(0, len(df2)):\n",
    "    #print(len(df2['full_text'][i]))\n",
    "    lengthes_and_indicies.append([len(df2['full_text'][i]), df2['full_text'][i], df2['textid'][i]])"
   ]
  },
  {
   "cell_type": "code",
   "execution_count": 54,
   "metadata": {},
   "outputs": [],
   "source": [
    "a = sorted(lengthes_and_indicies)"
   ]
  },
  {
   "cell_type": "code",
   "execution_count": 56,
   "metadata": {},
   "outputs": [],
   "source": [
    "to_annotate = a[:100]"
   ]
  },
  {
   "cell_type": "markdown",
   "metadata": {},
   "source": [
    "### tokenize"
   ]
  },
  {
   "cell_type": "code",
   "execution_count": 65,
   "metadata": {},
   "outputs": [],
   "source": [
    "def tokenize(the_list, idx):\n",
    "    for i in range(0,len(the_list)):\n",
    "        the_list[i][idx] = the_list[i][idx].replace('\\n', ' ')\n",
    "        the_list[i][idx] = the_list[i][idx].replace(';', ' ; ')\n",
    "        the_list[i][idx] = the_list[i][idx].replace(',', ' , ')\n",
    "        the_list[i][idx] = the_list[i][idx].replace('.', ' . ')\n",
    "        the_list[i][idx] = the_list[i][idx].replace('\"', ' \" ')\n",
    "        the_list[i][idx] = the_list[i][idx].replace('«', ' « ')\n",
    "        the_list[i][idx] = the_list[i][idx].replace('»', ' » ')\n",
    "        the_list[i][idx] = the_list[i][idx].replace(')', ' ) ')\n",
    "        the_list[i][idx] = the_list[i][idx].replace('(', ' ( ')\n",
    "        the_list[i][idx] = the_list[i][idx].replace('  ', ' ')\n",
    "        the_list[i][idx] = the_list[i][idx].replace('   ', ' ')\n",
    "        the_list[i][idx] = the_list[i][idx].replace('    ', ' ')"
   ]
  },
  {
   "cell_type": "code",
   "execution_count": 66,
   "metadata": {},
   "outputs": [],
   "source": [
    "tokenize(to_annotate, idx = 1)"
   ]
  },
  {
   "cell_type": "markdown",
   "metadata": {},
   "source": [
    "# START"
   ]
  },
  {
   "cell_type": "code",
   "execution_count": 352,
   "metadata": {},
   "outputs": [],
   "source": [
    "tags_list = []"
   ]
  },
  {
   "cell_type": "raw",
   "metadata": {},
   "source": [
    "tags = ''\n",
    "tags_list.append(tags)"
   ]
  },
  {
   "cell_type": "code",
   "execution_count": 353,
   "metadata": {},
   "outputs": [
    {
     "data": {
      "text/plain": [
       "[284,\n",
       " 'В Ессентуках в пригородном электропоезде произошел взрыв . Об этом сообщает агентство « Интерфакс » со ссылкой на источник , близкий к правоохранительным органам Ставропольского края . Официального подтверждения этой информации не поступало . Сведений о пострадавших в результате взрыва нет . ',\n",
       " '20140108blast']"
      ]
     },
     "execution_count": 353,
     "metadata": {},
     "output_type": "execute_result"
    }
   ],
   "source": [
    "to_annotate[0]"
   ]
  },
  {
   "cell_type": "code",
   "execution_count": 354,
   "metadata": {},
   "outputs": [],
   "source": [
    "tags = 'O LOC O O O O CRI O O O O O O O O O O O O O O O O O O O O O O O O O O O O O O O O CRI SUF O'\n",
    "tags_list.append(tags)"
   ]
  },
  {
   "cell_type": "code",
   "execution_count": 355,
   "metadata": {},
   "outputs": [
    {
     "data": {
      "text/plain": [
       "[407,\n",
       " 'На Трубной улице в Москве произошла перестрелка между водителями . Об этом 7 июня сообщает агентство ИТАР-ТАСС на своей странице ВКонтакте . Причиной конфликта стало небольшое ДТП с участием « Лексуса » с дагестанскими номерами и « Мерседеса » с белорусскими номерами . После аварии водитель « Лексуса » открыл стрельбу по водителю « Мерседеса » . Пострадал ли кто-нибудь , пока не уточняется . Водитель « Лексуса » задержан . ',\n",
       " '20130607lexus']"
      ]
     },
     "execution_count": 355,
     "metadata": {},
     "output_type": "execute_result"
    }
   ],
   "source": [
    "to_annotate[1]"
   ]
  },
  {
   "cell_type": "code",
   "execution_count": 356,
   "metadata": {},
   "outputs": [],
   "source": [
    "tags = 'O LOC LOC O LOC O CRI O OFF O O O DAT DAT O O O O O O O O O O O O O O O O O O O O O O O O O O O O O O O OFF O OFF O O O O SUF O SUF O O O O O O O O O O OFF O OFF O O O'\n",
    "tags_list.append(tags)"
   ]
  },
  {
   "cell_type": "code",
   "execution_count": 357,
   "metadata": {},
   "outputs": [
    {
     "data": {
      "text/plain": [
       "[427,\n",
       " 'Во время рейда в молельной комнате в московском районе Печатники задержаны около 300 человек . Об этом 7 июня сообщает агентство « Интерфакс » . Задержанные , 170 из которых являются иностранцами , доставлены в отделения полиции для разбирательства . В ходе обыска в молельной комнате была изъята литература , которую проверят на экстремизм . Молельная была оборудована в нежилом доме . Кто является организатором учреждения , не уточняется . ',\n",
       " '20130607pray']"
      ]
     },
     "execution_count": 357,
     "metadata": {},
     "output_type": "execute_result"
    }
   ],
   "source": [
    "to_annotate[2]"
   ]
  },
  {
   "cell_type": "code",
   "execution_count": 358,
   "metadata": {},
   "outputs": [],
   "source": [
    "tags = 'O O O O O O O LOC LOC LOC O O OFF OFF O O O DAT DAT O O O O O O O O O O O O O O O O O O O O O O O O O O O O O O O O O O CRI O O O O O O O O O O O O O O O O'\n",
    "tags_list.append(tags)"
   ]
  },
  {
   "cell_type": "code",
   "execution_count": 359,
   "metadata": {},
   "outputs": [
    {
     "data": {
      "text/plain": [
       "[478,\n",
       " 'В Москве неизвестные злоумышленники отобрали у бизнесмена примерно 20 миллионов рублей . Об этом 5 августа сообщает агентство ИТАР-ТАСС . Двое преступников напали на мужчину около дома 22 по Веерной улице . Угрожая пистолетом , они отняли у бизнесмена сумку с деньгами и скрылись на автомобиле Volvo . По информации издания Life News , машина была белой . Для розыска преступников в Москве введен план « Перехват » . По информации открытых источников , дом 22 по Веерной улице является жилым . ',\n",
       " '20130805veernaya']"
      ]
     },
     "execution_count": 359,
     "metadata": {},
     "output_type": "execute_result"
    }
   ],
   "source": [
    "to_annotate[3]"
   ]
  },
  {
   "cell_type": "code",
   "execution_count": 360,
   "metadata": {},
   "outputs": [],
   "source": [
    "tags = 'O LOC OFF OFF CRI O SUF O O O O O O O DAT DAT O O O O O O O O O O LOC LOC O LOC LOC O O O O O CRI O O O O O O O O O O O O O O O O O O O O O O O O O LOC O O O O O O O O O O O LOC LOC O LOC LOC O O O'\n",
    "tags_list.append(tags)"
   ]
  },
  {
   "cell_type": "code",
   "execution_count": 361,
   "metadata": {},
   "outputs": [
    {
     "data": {
      "text/plain": [
       "[484,\n",
       " 'Преступник открыл огонь в торговом центре Westfield Garden State Plaza в американском городе Парамус , штат Нью-Джерси , сообщает телеканал CNN в понедельник , 4 ноября . По свидетельству очевидцев , около 21:30 по местному времени в здании торгового центра прозвучали как минимум семь выстрелов . На место происшествия прибыли спецподразделения полиции . На парковке около Westfield Garden State Plaza , сообщили очевидцы , находятся не менее 20 полицейских автомобилей . Торговый центр оцеплен . ',\n",
       " '20131105mall']"
      ]
     },
     "execution_count": 361,
     "metadata": {},
     "output_type": "execute_result"
    }
   ],
   "source": [
    "to_annotate[4]"
   ]
  },
  {
   "cell_type": "code",
   "execution_count": 362,
   "metadata": {},
   "outputs": [],
   "source": [
    "tags = 'OFF CRI CRI O LOC LOC LOC LOC LOC LOC O LOC LOC LOC O LOC LOC O O O O O DAT O DAT DAT O O O O O O DAT O O O O O LOC LOC O O O O O O O O O O O O O O O O LOC LOC LOC LOC O O O O O O O O O O O LOC LOC O O'\n",
    "tags_list.append(tags)"
   ]
  },
  {
   "cell_type": "code",
   "execution_count": 363,
   "metadata": {},
   "outputs": [
    {
     "data": {
      "text/plain": [
       "[507,\n",
       " 'Из « Матросской тишины » ( московский следственный изолятор № 1 ) сбежал заключенный . Об этом утром во вторник , 7 мая , сообщает РИА Новости со ссылкой на пресс-службу ГУ МВД России по столице . По словам представителя управления , сбежавший мужчина обвиняется в убийстве и незаконном обороте оружия . На поиски беглеца ориентировали весь состав московской полиции . Life news сообщает , что сбежавший — 32-летний уроженец Сочи Олег Топалов . Последний раз о побеге из « Матросской тишины » СМИ сообщали в августе 2009 года . ',\n",
       " '20130507run']"
      ]
     },
     "execution_count": 363,
     "metadata": {},
     "output_type": "execute_result"
    }
   ],
   "source": [
    "to_annotate[5][1] = to_annotate[5][1].replace('  ', ' ')\n",
    "to_annotate[5]"
   ]
  },
  {
   "cell_type": "code",
   "execution_count": 364,
   "metadata": {},
   "outputs": [],
   "source": [
    "tags = 'O O LOC LOC O O LOC LOC LOC LOC LOC O CRI OFF O O O O O DAT O DAT DAT O O O O O O O O O O O O O O O O O O O O O O O O O O O O O O O O O O O O O O O O O O O OFF O O O O OFF OFF O O O O O O O LOC LOC O O O O O O O O'\n",
    "tags_list.append(tags)"
   ]
  },
  {
   "cell_type": "code",
   "execution_count": 365,
   "metadata": {},
   "outputs": [
    {
     "data": {
      "text/plain": [
       "90"
      ]
     },
     "execution_count": 365,
     "metadata": {},
     "output_type": "execute_result"
    }
   ],
   "source": [
    "len(to_annotate[5][1].split())"
   ]
  },
  {
   "cell_type": "code",
   "execution_count": 366,
   "metadata": {},
   "outputs": [
    {
     "data": {
      "text/plain": [
       "90"
      ]
     },
     "execution_count": 366,
     "metadata": {},
     "output_type": "execute_result"
    }
   ],
   "source": [
    "len(tags_list[5].split())"
   ]
  },
  {
   "cell_type": "code",
   "execution_count": 367,
   "metadata": {},
   "outputs": [
    {
     "data": {
      "text/plain": [
       "[538,\n",
       " 'Трое боевиков ликвидированы в ходе спецоперации в Дагестане . Об этом сообщает в четверг , 2 октября ,  « Интерфакс » со ссылкой на источник в правоохранительных органах республики . Спецоперация проводилась в поселке Временный Унцукульского района . В ходе операции ранение получил боец ОМОНа . Ликвидированные боевики , по данным ИТАР-ТАСС , укрывались в укрепленном подвале частного дома . Тело одного из убитых уже извлечено и отправлено на опознание .  « Двое других под завалами дома . Разбор завалов отложен до утра » , — рассказал источник агентства . ',\n",
       " '20141002dagestan']"
      ]
     },
     "execution_count": 367,
     "metadata": {},
     "output_type": "execute_result"
    }
   ],
   "source": [
    "to_annotate[6]\n"
   ]
  },
  {
   "cell_type": "code",
   "execution_count": 368,
   "metadata": {},
   "outputs": [
    {
     "data": {
      "text/plain": [
       "True"
      ]
     },
     "execution_count": 368,
     "metadata": {},
     "output_type": "execute_result"
    }
   ],
   "source": [
    "tags = 'OFF OFF O O O O O LOC O O O O O DAT O DAT DAT O O O O O O O O O O O O O O O O LOC LOC LOC LOC O O O O O O O O O O OFF O O O O O O O O O O O O O O O O O O O O O O O O O O O O O O O O O O O O O O O O O O'\n",
    "tags_list.append(tags)\n",
    "(len(to_annotate[6][1].split())==len(tags_list[6].split()))"
   ]
  },
  {
   "cell_type": "raw",
   "metadata": {},
   "source": [
    "tags = ''\n",
    "tags_list.append(tags)\n",
    "(len(to_annotate[6][1].split())==len(tags_list[6].split()))"
   ]
  },
  {
   "cell_type": "code",
   "execution_count": 369,
   "metadata": {},
   "outputs": [
    {
     "data": {
      "text/plain": [
       "[540,\n",
       " 'В подмосковном городе Железнодорожный убит инспектор ГИБДД . Об этом 3 января сообщает агентство ИТАР-ТАСС . Коллеги погибшего задержали подозреваемого . В ближайшее время на него будет заведено уголовное дело . Утром 3 января в городе столкнулись автомобили « Жигули » и BMW . На место аварии прибыли полицейские . Водитель « Жигулей » напал на одного из полицейских и несколько раз ударил его . Потерпевший скончался на месте . Телеканал НТВ уточняет , что водитель « Жигулей » также швырнул в полицейскую машину гранату . Взорвалась ли она , не сообщается . ',\n",
       " '20140103kill']"
      ]
     },
     "execution_count": 369,
     "metadata": {},
     "output_type": "execute_result"
    }
   ],
   "source": [
    "to_annotate[7]"
   ]
  },
  {
   "cell_type": "code",
   "execution_count": 370,
   "metadata": {},
   "outputs": [],
   "source": [
    "tags = 'O LOC LOC LOC CRI OFF OFF O O O DAT DAT O O O O O O O O O O O O O O O O O O O DAT DAT DAT O O O O O O O O O O O O O O O O OFF O OFF O CRI O O O O O O O O O O O O O O O O O O O O O O O O O CRI O O O CRI O O O O O O O O'\n",
    "tags_list.append(tags)"
   ]
  },
  {
   "cell_type": "code",
   "execution_count": 371,
   "metadata": {},
   "outputs": [
    {
     "data": {
      "text/plain": [
       "True"
      ]
     },
     "execution_count": 371,
     "metadata": {},
     "output_type": "execute_result"
    }
   ],
   "source": [
    "(len(to_annotate[7][1].split())==len(tags_list[7].split()))"
   ]
  },
  {
   "cell_type": "code",
   "execution_count": 372,
   "metadata": {},
   "outputs": [
    {
     "data": {
      "text/plain": [
       "[561,\n",
       " 'В Москве в ходе дорожного конфликта убит человек . Об этом 2 апреля сообщает РИА Новости со ссылкой на источник в правоохранительных органах . По словам собеседника агентства , авария произошла 1 апреля у торгового центра « Новочеркизовский » в Проектируемом проезде 890 . Гражданин Таджикистана на « Форде » врезался в припаркованную « Киа » . После столкновения из « Киа » вышел неизвестный и несколько раз выстрелил в сторону « Форда » . В результате получил ранение пассажир автомобиля . Позднее он скончался в больнице . Стрелок скрылся с места преступления , его разыскивают . ',\n",
       " '20130402shot']"
      ]
     },
     "execution_count": 372,
     "metadata": {},
     "output_type": "execute_result"
    }
   ],
   "source": [
    "to_annotate[8]"
   ]
  },
  {
   "cell_type": "code",
   "execution_count": 373,
   "metadata": {},
   "outputs": [],
   "source": [
    "tags = 'O LOC O O O O O SUF O O O DAT DAT O O O O O O O O O O O O O O O O O O DAT DAT O LOC LOC O LOC O O LOC LOC LOC O O O O O O O O O O O O O O O O O O O O O OFF O O O CRI O O O O O O O O O O SUF SUF O O O O O O O OFF O O O O O O O O'\n",
    "tags_list.append(tags)"
   ]
  },
  {
   "cell_type": "code",
   "execution_count": 374,
   "metadata": {},
   "outputs": [
    {
     "data": {
      "text/plain": [
       "True"
      ]
     },
     "execution_count": 374,
     "metadata": {},
     "output_type": "execute_result"
    }
   ],
   "source": [
    "(len(to_annotate[8][1].split())==len(tags_list[8].split()))"
   ]
  },
  {
   "cell_type": "code",
   "execution_count": 375,
   "metadata": {},
   "outputs": [
    {
     "data": {
      "text/plain": [
       "[567,\n",
       " 'Сетевое издание Lenta . ru разместило фотографию Рязанова А . Н . в статье о Федоре Хорошилове под заголовком « Задержанный за кредиты на 776 миллионов оказался топ-менеджером \" Сибнефти \" » , опубликованной 15 ноября 2013 года на интернет-странице с адресом http://lenta . ru/news/2013/11/15/horoshilov/ . Публикация фотографии Рязанова А . Н . в вышеуказанной статье была произведена ошибочно . Редакция Lenta . ru подтверждает , что изложенный в статье сведения никакого отношения к Рязанову А . Н . не имеют . Редакция Lenta . ru приносит свои извинения за ошибочное размещение фотографии . ',\n",
       " '20140904wearesorry']"
      ]
     },
     "execution_count": 375,
     "metadata": {},
     "output_type": "execute_result"
    }
   ],
   "source": [
    "to_annotate[9]"
   ]
  },
  {
   "cell_type": "code",
   "execution_count": 376,
   "metadata": {},
   "outputs": [
    {
     "data": {
      "text/plain": [
       "True"
      ]
     },
     "execution_count": 376,
     "metadata": {},
     "output_type": "execute_result"
    }
   ],
   "source": [
    "tags = 'O O OFF O OFF O O SUF SUF O SUF O O O O O O O O O O O O O O O O O O O O O O O DAT DAT DAT DAT O O O O O O O O CRI O SUF SUF O SUF O O O O O O O O O OFF O OFF O O O O O O O O O O SUF SUF O SUF O O O O O OFF O OFF O O O O O O O O '\n",
    "tags_list.append(tags)\n",
    "(len(to_annotate[6][1].split())==len(tags_list[6].split()))"
   ]
  },
  {
   "cell_type": "code",
   "execution_count": 377,
   "metadata": {},
   "outputs": [
    {
     "data": {
      "text/plain": [
       "True"
      ]
     },
     "execution_count": 377,
     "metadata": {},
     "output_type": "execute_result"
    }
   ],
   "source": [
    "(len(to_annotate[9][1].split())==len(tags_list[9].split()))"
   ]
  },
  {
   "cell_type": "code",
   "execution_count": 378,
   "metadata": {},
   "outputs": [
    {
     "data": {
      "text/plain": [
       "[583,\n",
       " 'В Чите в доме преподавателя техникума изъяли миллион рублей наличными и оружие . Об этом 3 апреля сообщается на сайте МВД РФ . Обыск в доме 63-летнего преподавателя провели в связи с тем , что его заподозрили во взятке . Читинская ГТРК уточняет , что преподаватель предположительно вымогал деньги у студентов . Полицейские не ожидали обнаружить в шкафах и чемоданах большое количество денег , а также автомат Калашникова , шесть пистолетов ( в том числе два кустарного производства ) и семь боевых гранат . Все оружие направлено на экспертизу . Решается вопрос о возбуждении нового уголовного дела . ',\n",
       " '20130403ptu']"
      ]
     },
     "execution_count": 378,
     "metadata": {},
     "output_type": "execute_result"
    }
   ],
   "source": [
    "to_annotate[10]"
   ]
  },
  {
   "cell_type": "code",
   "execution_count": 379,
   "metadata": {},
   "outputs": [
    {
     "data": {
      "text/plain": [
       "True"
      ]
     },
     "execution_count": 379,
     "metadata": {},
     "output_type": "execute_result"
    }
   ],
   "source": [
    "tags = 'O LOC O O OFF OFF O O O O O O O O O DAT DAT O O O O O O O O O O OFF O O O O O O O O O O CRI O O O O O O OFF O CRI O O SUF O O O O O O O O O O O O O O O O O O O O O O O O O O O O O O O O O O O O O O O O O O O O O O O '\n",
    "tags_list.append(tags)\n",
    "(len(to_annotate[6][1].split())==len(tags_list[6].split()))"
   ]
  },
  {
   "cell_type": "code",
   "execution_count": 380,
   "metadata": {},
   "outputs": [
    {
     "data": {
      "text/plain": [
       "True"
      ]
     },
     "execution_count": 380,
     "metadata": {},
     "output_type": "execute_result"
    }
   ],
   "source": [
    "(len(to_annotate[10][1].split())==len(tags_list[10].split()))"
   ]
  },
  {
   "cell_type": "code",
   "execution_count": 381,
   "metadata": {},
   "outputs": [
    {
     "data": {
      "text/plain": [
       "[604,\n",
       " 'В Стамбуле совершено нападение на ночной клуб , передает Reuters . Материалы по теме11:05 1 января 2017Санта убивающийЧто на данный момент известно о теракте в СтамбулеИнцидент произошел в округе Отракёй . По предварительным данным , в атаке участвовали двое преступников . Как сообщает РИА Новости со ссылкой на эфир местного телевидения , злоумышленники , одетые в костюмы Санта-Клаусов , открыли стрельбу . Множество человек получили ранения . По оценке правоохранительных органов , их число может достигать трех десятков . К месту происшествия направлены усиленные отряды полиции и кареты скорой медицинской помощи . ',\n",
       " '20170101attack']"
      ]
     },
     "execution_count": 381,
     "metadata": {},
     "output_type": "execute_result"
    }
   ],
   "source": [
    "to_annotate[11]"
   ]
  },
  {
   "cell_type": "code",
   "execution_count": 382,
   "metadata": {},
   "outputs": [
    {
     "data": {
      "text/plain": [
       "True"
      ]
     },
     "execution_count": 382,
     "metadata": {},
     "output_type": "execute_result"
    }
   ],
   "source": [
    "tags = 'O LOC O CRI O O O O O O O O O DAT DAT DAT O O O O O O O O LOC O O O LOC LOC O O O O O O O O O O O O O O O O O O O O O O O O O O O O O O CRI CRI O OFF OFF O O O O O O O O O O O O O O O O O O O O O O O O O O O '\n",
    "tags_list.append(tags)\n",
    "(len(to_annotate[6][1].split())==len(tags_list[6].split()))"
   ]
  },
  {
   "cell_type": "code",
   "execution_count": 383,
   "metadata": {},
   "outputs": [
    {
     "data": {
      "text/plain": [
       "True"
      ]
     },
     "execution_count": 383,
     "metadata": {},
     "output_type": "execute_result"
    }
   ],
   "source": [
    "(len(to_annotate[11][1].split())==len(tags_list[11].split()))"
   ]
  },
  {
   "cell_type": "code",
   "execution_count": 384,
   "metadata": {},
   "outputs": [
    {
     "data": {
      "text/plain": [
       "[616,\n",
       " 'В Сергокалинском районе Дагестана взрывотехники обезвредили бомбу , обнаруженную местными жителями . Об этом сообщает ИТАР-ТАСС . Бомба была найдена в лесном массиве в трех километрах от села Аялизимахи . « Недалеко от проселочной дороги местные жители обнаружили подозрительные провода и вызвали силовиков . Прибывшие специалисты установили , что в землю закопано взрывное устройство , дистанционного управления , собранное на основе ресивера ( металлического воздушного баллона ) от КАМАЗа » , — рассказали в оперативном штабе республики . Мощность взрывного устройства составила около восьми килограммов в тротиловом эквиваленте . ',\n",
       " '20140608bomb']"
      ]
     },
     "execution_count": 384,
     "metadata": {},
     "output_type": "execute_result"
    }
   ],
   "source": [
    "to_annotate[12]"
   ]
  },
  {
   "cell_type": "code",
   "execution_count": 385,
   "metadata": {},
   "outputs": [
    {
     "data": {
      "text/plain": [
       "True"
      ]
     },
     "execution_count": 385,
     "metadata": {},
     "output_type": "execute_result"
    }
   ],
   "source": [
    "tags = 'O LOC LOC LOC O O O O O O O O O O O O O O O O O O O O O O O LOC LOC O O O O O O O O O O O O O O O O O O O O O O O O O O O O O O O O O O O O O O O O O O O O O O O O O O O O O O O O O O O O '\n",
    "tags_list.append(tags)\n",
    "(len(to_annotate[6][1].split())==len(tags_list[6].split()))"
   ]
  },
  {
   "cell_type": "code",
   "execution_count": 386,
   "metadata": {},
   "outputs": [
    {
     "data": {
      "text/plain": [
       "True"
      ]
     },
     "execution_count": 386,
     "metadata": {},
     "output_type": "execute_result"
    }
   ],
   "source": [
    "(len(to_annotate[12][1].split())==len(tags_list[12].split()))"
   ]
  },
  {
   "cell_type": "code",
   "execution_count": 387,
   "metadata": {},
   "outputs": [],
   "source": [
    "#вот тут новость класс - ни преступления, ни преступника, ни пострадавших"
   ]
  },
  {
   "cell_type": "code",
   "execution_count": 388,
   "metadata": {},
   "outputs": [
    {
     "data": {
      "text/plain": [
       "[618,\n",
       " 'В Кемерово задержан директор одной из городских автошкол , пользовавшийся поддельными правами . Об этом 3 июня сообщается на сайте МВД РФ . Машина директора автошколы была остановлена для проверки на улице Баумана . Полицейские , воспользовавшись специальным прибором , определили , что права водителя являются фальшивыми . Установлено , что примерно полгода назад директора автошколы лишили прав за управление автомобилем в нетрезвом виде . Поддельное удостоверение , по словам задержанного , он приобрел через интернет . Задержанного поместили под административный арест на семь суток . Решается вопрос о возбуждении уголовного дела . ',\n",
       " '20130603prava']"
      ]
     },
     "execution_count": 388,
     "metadata": {},
     "output_type": "execute_result"
    }
   ],
   "source": [
    "to_annotate[13]"
   ]
  },
  {
   "cell_type": "code",
   "execution_count": 389,
   "metadata": {},
   "outputs": [
    {
     "data": {
      "text/plain": [
       "True"
      ]
     },
     "execution_count": 389,
     "metadata": {},
     "output_type": "execute_result"
    }
   ],
   "source": [
    "tags = 'O LOC O OFF O O O OFF O O O O O O O DAT DAT O O O O O O O OFF OFF O O O O O LOC LOC O O O O O O O O O O O O O O O O O O O O O OFF OFF O O O CRI CRI CRI CRI CRI O O O O O O O O O O O O O O O O O O O O O O O O O O O O O '\n",
    "tags_list.append(tags)\n",
    "(len(to_annotate[6][1].split())==len(tags_list[6].split()))"
   ]
  },
  {
   "cell_type": "code",
   "execution_count": 390,
   "metadata": {},
   "outputs": [
    {
     "data": {
      "text/plain": [
       "True"
      ]
     },
     "execution_count": 390,
     "metadata": {},
     "output_type": "execute_result"
    }
   ],
   "source": [
    "(len(to_annotate[13][1].split())==len(tags_list[13].split()))"
   ]
  },
  {
   "cell_type": "code",
   "execution_count": 391,
   "metadata": {},
   "outputs": [
    {
     "data": {
      "text/plain": [
       "[628,\n",
       " 'Пакет с деньгами на сумму почти четыре миллиона рублей украли у женщины в московском метрополитене , сообщает в субботу РИА Новости со ссылкой на пресс-службу столичной полиции . Пострадавшая является приезжей из Липецка . Как она сама заявила правоохранительным органам , днем в пятницу она ехала от станции « Тимирязевская » до станции « Сокольники » . В ходе поездки в вагоне электропоезда на нее напал неизвестный и похитил из сумки прозрачный полиэтиленовый пакет . В нем находились денежные средства на сумму 3 , 9 миллиона рублей . С какой целью женщина перевозила крупную сумму , не сообщается . Полиция приступила к розыску преступника . ',\n",
       " '20140208metro']"
      ]
     },
     "execution_count": 391,
     "metadata": {},
     "output_type": "execute_result"
    }
   ],
   "source": [
    "to_annotate[14]"
   ]
  },
  {
   "cell_type": "code",
   "execution_count": 392,
   "metadata": {},
   "outputs": [
    {
     "data": {
      "text/plain": [
       "True"
      ]
     },
     "execution_count": 392,
     "metadata": {},
     "output_type": "execute_result"
    }
   ],
   "source": [
    "tags = 'O O O O O O O O O CRI O SUF O LOC LOC O O O DAT O O O O O O O O O O O O O O O O O O O O O O DAT O DAT O O O O O LOC O O O O LOC O O O O O O O O O O CRI OFF O CRI O O O O O O O O O O O O O O O O O O O O O O O O O O O O O O O O O O O O'\n",
    "tags_list.append(tags)\n",
    "(len(to_annotate[6][1].split())==len(tags_list[6].split()))"
   ]
  },
  {
   "cell_type": "code",
   "execution_count": 393,
   "metadata": {},
   "outputs": [
    {
     "data": {
      "text/plain": [
       "True"
      ]
     },
     "execution_count": 393,
     "metadata": {},
     "output_type": "execute_result"
    }
   ],
   "source": [
    "(len(to_annotate[14][1].split())==len(tags_list[14].split()))"
   ]
  },
  {
   "cell_type": "code",
   "execution_count": 394,
   "metadata": {},
   "outputs": [
    {
     "data": {
      "text/plain": [
       "[643,\n",
       " 'Грабители вынесли банкомат одного из коммерческих банков из кафе быстрого питания Subway , расположенного на юго-востоке Москвы по адресу: Новочеркасский бульвар , дом 54 , корпус 1 . Как сообщает « Интерфакс » со ссылкой на источник в правоохранительных органах , ограбление было совершено около 2:00 в ночь на среду , 6 февраля . По данным собеседника агентства , грабители — трое молодых людей .  « Прямо на глазах у посетителей они выломали банкомат из креплений , вынесли его на улицу , погрузили в автомобиль и скрылись . В банкомате находилось несколько миллионов рублей » , — рассказал источник . Для поимки преступников в столице объявлен план « Перехват » . ',\n",
       " '20130206bank']"
      ]
     },
     "execution_count": 394,
     "metadata": {},
     "output_type": "execute_result"
    }
   ],
   "source": [
    "to_annotate[15]"
   ]
  },
  {
   "cell_type": "code",
   "execution_count": 395,
   "metadata": {},
   "outputs": [
    {
     "data": {
      "text/plain": [
       "True"
      ]
     },
     "execution_count": 395,
     "metadata": {},
     "output_type": "execute_result"
    }
   ],
   "source": [
    "tags = 'OFF CRI CRI O O O O O O O O LOC O O O LOC LOC O O LOC LOC O LOC LOC O LOC LOC O O O O O O O O O O O O O O CRI O O O DAT O O O DAT O DAT DAT O O O O O O O O O O O O O O O O O O O O O O O O O O O O O O O O O O O O O O O O O O O O O O O O O O O O O O O O O O '\n",
    "tags_list.append(tags)\n",
    "(len(to_annotate[6][1].split())==len(tags_list[6].split()))"
   ]
  },
  {
   "cell_type": "code",
   "execution_count": 396,
   "metadata": {},
   "outputs": [
    {
     "data": {
      "text/plain": [
       "True"
      ]
     },
     "execution_count": 396,
     "metadata": {},
     "output_type": "execute_result"
    }
   ],
   "source": [
    "(len(to_annotate[15][1].split())==len(tags_list[15].split()))"
   ]
  },
  {
   "cell_type": "code",
   "execution_count": 397,
   "metadata": {},
   "outputs": [
    {
     "data": {
      "text/plain": [
       "[644,\n",
       " 'В ресторане , расположенном в центре Москвы , в ночь на пятницу , 8 февраля , произошла драка со стрельбой . Как сообщает РИА Новости со ссылкой на ГУ МВД РФ по столице , в результате один человек получил огнестрельные ранения . « Ночью в 01 . 15 в ресторане « Олива » , расположенном в доме 3/5 по Смоленскому бульвару , между двумя группами граждан произошел конфликт , в ходе которого было применено огнестрельное оружие » , - рассказали в пресс-службе . Всем участникам драки удалось скрыться до появления полиции . Позднее стало известно , что в больницу поступил мужчина со сквозными ранениями левого и правого бедра . По факту произошедшего проводится проверка . ',\n",
       " '20130208shot']"
      ]
     },
     "execution_count": 397,
     "metadata": {},
     "output_type": "execute_result"
    }
   ],
   "source": [
    "to_annotate[16]"
   ]
  },
  {
   "cell_type": "code",
   "execution_count": 398,
   "metadata": {},
   "outputs": [
    {
     "data": {
      "text/plain": [
       "True"
      ]
     },
     "execution_count": 398,
     "metadata": {},
     "output_type": "execute_result"
    }
   ],
   "source": [
    "tags = 'O LOC O O O LOC LOC O O DAT O DAT O DAT DAT O O CRI O CRI O O O O O O O O O O O O O O O O O O O O O O O DAT O DAT O DAT O LOC O LOC O O O O LOC LOC O LOC LOC O O O O O O O O O O O O O O O O O O O O O O O O O O O O O O O O O O O O O O O O O O O O O O O O O O O O O O'\n",
    "tags_list.append(tags)\n",
    "(len(to_annotate[6][1].split())==len(tags_list[6].split()))"
   ]
  },
  {
   "cell_type": "code",
   "execution_count": 399,
   "metadata": {},
   "outputs": [
    {
     "data": {
      "text/plain": [
       "True"
      ]
     },
     "execution_count": 399,
     "metadata": {},
     "output_type": "execute_result"
    }
   ],
   "source": [
    "(len(to_annotate[16][1].split())==len(tags_list[16].split()))"
   ]
  },
  {
   "cell_type": "code",
   "execution_count": 400,
   "metadata": {},
   "outputs": [
    {
     "data": {
      "text/plain": [
       "[658,\n",
       " 'В польском Белостоке осквернили могилы солдат Красной армии , сообщает ТАСС со ссылкой на пресс-секретаря местной полиции Анджея Барановского . По его словам , вандалы вырвали из земли 26 надгробных плит с Красной звездой . Заявление поступило в полицию 2 декабря . В полиции не уточняют , когда произошел этот акт вандализма и кто обратился в полицию . Городские власти временно перевезли памятные плиты на городское кладбище , пообещав вернуть их обратно , когда улучшатся погодные условия . Военное кладбище в Белостоке было основано в 1944 году . На нем похоронены красноармейцы , освобождавшие Польшу . В ходе этой операции погибли около 600 тысяч солдат Красной армии . ',\n",
       " '20141203defilement']"
      ]
     },
     "execution_count": 400,
     "metadata": {},
     "output_type": "execute_result"
    }
   ],
   "source": [
    "to_annotate[17]"
   ]
  },
  {
   "cell_type": "code",
   "execution_count": 401,
   "metadata": {},
   "outputs": [
    {
     "data": {
      "text/plain": [
       "True"
      ]
     },
     "execution_count": 401,
     "metadata": {},
     "output_type": "execute_result"
    }
   ],
   "source": [
    "tags = 'O LOC LOC CRI SUF O O O O O O O O O O O O O O O O O O O OFF O O O O O O O O O O O O O O DAT DAT O O O O O O O O O O O O O O O O O O O O O O O O O O O O O O O O O O O O O O O O LOC O O O O O O O O O O O O O O O O O O O O O O O O O O'\n",
    "tags_list.append(tags)\n",
    "(len(to_annotate[17][1].split())==len(tags_list[17].split()))"
   ]
  },
  {
   "cell_type": "code",
   "execution_count": 402,
   "metadata": {},
   "outputs": [
    {
     "data": {
      "text/plain": [
       "[674,\n",
       " 'В Пермском крае в отношении учителя начальных классов возбуждено уголовное дело о насильственных действиях сексуального характера в отношении малолетних . Об этом 3 июня сообщается на сайте Следственного комитета РФ . Имя подозреваемого не называется , сообщается лишь , что ему 53 года . Также не раскрывается номер школы , в которой он работал , и название населенного пункта , в котором она расположена . Однако подчеркивается , что педагог уже уволен . По версии следствия , мужчина совершал преступления с 2009 года по апрель 2013 года . От его действий пострадали пять девочек в возрасте от девяти до 12 лет . Суд избрал для подозреваемого меру пресечения в виде заключения под стражу . ',\n",
       " '20130603pedagog']"
      ]
     },
     "execution_count": 402,
     "metadata": {},
     "output_type": "execute_result"
    }
   ],
   "source": [
    "to_annotate[18]"
   ]
  },
  {
   "cell_type": "code",
   "execution_count": 403,
   "metadata": {},
   "outputs": [
    {
     "data": {
      "text/plain": [
       "True"
      ]
     },
     "execution_count": 403,
     "metadata": {},
     "output_type": "execute_result"
    }
   ],
   "source": [
    "tags = 'O LOC LOC O O OFF OFF OFF O O O O CRI CRI CRI CRI O CRI CRI O O O DAT DAT O O O O O O O O O O O O O O O O O O O O O O O O O O O O O O O O O O O O O O O O O O O O O O O O O O O O O O O O DAT DAT O DAT DAT DAT O O O O O SUF SUF O O O O O O O O O O O O O O O O O O O O O'\n",
    "tags_list.append(tags)\n",
    "(len(to_annotate[18][1].split())==len(tags_list[18].split()))"
   ]
  },
  {
   "cell_type": "code",
   "execution_count": 404,
   "metadata": {},
   "outputs": [
    {
     "data": {
      "text/plain": [
       "114"
      ]
     },
     "execution_count": 404,
     "metadata": {},
     "output_type": "execute_result"
    }
   ],
   "source": [
    "len(to_annotate[18][1].split())"
   ]
  },
  {
   "cell_type": "code",
   "execution_count": 405,
   "metadata": {},
   "outputs": [
    {
     "data": {
      "text/plain": [
       "114"
      ]
     },
     "execution_count": 405,
     "metadata": {},
     "output_type": "execute_result"
    }
   ],
   "source": [
    "len(tags_list[18].split())"
   ]
  },
  {
   "cell_type": "code",
   "execution_count": 406,
   "metadata": {},
   "outputs": [
    {
     "data": {
      "text/plain": [
       "[677,\n",
       " 'В ходе массовой драки в городе Нижневартовск Ханты-Мансийского автономного округа погиб один человек . Об этом 3 июня сообщает агентство « Интерфакс » . Драка произошла в подъезде жилого дома , где поссорились две компании молодых людей . Один из участников конфликта открыл стрельбу из травматического пистолета и ранил нескольких противников . В ответ другой участник драки ударил стрелка ножом . Раненый скончался на месте . Возбуждено дело по 108-й статье УК РФ ( убийство , совершённое при превышении пределов необходимой обороны ) . 21-летний подозреваемый задержан . Мотив конфликта пока неизвестен . Сообщается лишь , что все участники драки находились в состоянии алкогольного опьянения . ',\n",
       " '20130603hmao']"
      ]
     },
     "execution_count": 406,
     "metadata": {},
     "output_type": "execute_result"
    }
   ],
   "source": [
    "to_annotate[19]"
   ]
  },
  {
   "cell_type": "code",
   "execution_count": 407,
   "metadata": {},
   "outputs": [
    {
     "data": {
      "text/plain": [
       "True"
      ]
     },
     "execution_count": 407,
     "metadata": {},
     "output_type": "execute_result"
    }
   ],
   "source": [
    "tags = 'O O CRI CRI O LOC LOC LOC LOC LOC O SUF SUF O O O DAT DAT O O O O O O CRI O O O O O O O O O O O O O O O O CRI CRI O O O O O O O O O O O O O O O O O O O O O O O O O O O O O O CRI O O O O O O O O O O O O O O O O O O O O O O O O O O O O O O O O'\n",
    "tags_list.append(tags)\n",
    "(len(to_annotate[19][1].split())==len(tags_list[19].split()))\n",
    "#тут разметка не очень супер"
   ]
  },
  {
   "cell_type": "code",
   "execution_count": 408,
   "metadata": {},
   "outputs": [
    {
     "data": {
      "text/plain": [
       "[677,\n",
       " 'Трое преступников , вооруженных двумя пистолетами и предметом , похожим на бензопилу , ограбили в Москве отделение « Почты России » . Об этом 6 декабря сообщает РИА Новости . Преступники ворвались в почтовое отделение в доме 44 по улице Корнейчука в 10:35 6 декабря . До приезда полиции им удалось скрыться , покинув отделение через окно . Официально ГУ МВД Москвы объявило , что похищена « крупная сумма » . Анонимный источник в правоохранительных органах сказал журналистам , что добычей преступников стали 22 тысячи рублей . Наконец , на почте сообщили , что преступникам не удалось похитить ничего . По словам сотрудников , преступники пытались вскрыть дверь в служебное помещение , но не смогли . ',\n",
       " '20131206post']"
      ]
     },
     "execution_count": 408,
     "metadata": {},
     "output_type": "execute_result"
    }
   ],
   "source": [
    "to_annotate[20]"
   ]
  },
  {
   "cell_type": "code",
   "execution_count": 409,
   "metadata": {},
   "outputs": [
    {
     "data": {
      "text/plain": [
       "True"
      ]
     },
     "execution_count": 409,
     "metadata": {},
     "output_type": "execute_result"
    }
   ],
   "source": [
    "tags = 'O O O O O O O O O O O O O CRI O LOC O O SUF SUF O O O O DAT DAT O O O O O O O O O O LOC LOC O LOC LOC O O DAT DAT O O O O O O O O O O O O O O O O O O O O O O O O O O O O O O O O O O O O O O O O O O O O O O O O O O O O O O O O O O O O O O O O O O O O O O O'\n",
    "tags_list.append(tags)\n",
    "(len(to_annotate[20][1].split())==len(tags_list[20].split()))"
   ]
  },
  {
   "cell_type": "code",
   "execution_count": 413,
   "metadata": {},
   "outputs": [
    {
     "data": {
      "text/plain": [
       "[686,\n",
       " 'В Москве ограбление банка сорвалось из-за того , что преступники сломали ключ в замочной скважине . Об этом 6 марта сообщает агентство « Интерфакс » со ссылкой на пресс-службу городской полиции . Двое грабителей в масках ворвались в банк на Люсиновской улице около 20 часов 5 марта . Угрожая операционисткам предметом , похожим на пистолет , они отобрали у них ключи от кассы . Материалы по теме17:04 13 февраля 2014Силовое возвращение кредита Кто и как грабит банки в РоссииЗаперев сотрудниц в туалете , преступники попытались открыть кассу , однако сломали ключ . После этого им пришлось скрыться без добычи . Возбуждено уголовное дело по 162-й статье УК РФ ( разбой ) . Полиция ведет розыск нападавших . ',\n",
       " '20140306key']"
      ]
     },
     "execution_count": 413,
     "metadata": {},
     "output_type": "execute_result"
    }
   ],
   "source": [
    "idx = 21\n",
    "to_annotate[idx]"
   ]
  },
  {
   "cell_type": "code",
   "execution_count": 414,
   "metadata": {},
   "outputs": [
    {
     "data": {
      "text/plain": [
       "True"
      ]
     },
     "execution_count": 414,
     "metadata": {},
     "output_type": "execute_result"
    }
   ],
   "source": [
    "tags = 'O LOC CRI CRI O O O O O O O O O O O O O O DAT DAT O O O O O O O O O O O O OFF OFF O O O O O O LOC LOC O O O DAT DAT O O O O O O O O O O O O O O O O O O O O O O O O O O O O O O O O O O O O O O O O O O O O O O O O O O O O O O O O O O O O O O O O O O O O O O'\n",
    "tags_list.append(tags)\n",
    "(len(to_annotate[idx][1].split())==len(tags_list[idx].split()))"
   ]
  },
  {
   "cell_type": "code",
   "execution_count": 415,
   "metadata": {},
   "outputs": [
    {
     "data": {
      "text/plain": [
       "[691,\n",
       " 'В Калифорнийском университете в Лос-Анджелесе неизвестный стрелок убил по меньшей мере двух человек . Об этом сообщает Reuters со ссылкой на полицию и местную администрацию . Материалы по теме06:04 20 апреля 2015Право на выстрелЗачем американцам столько оружияИнцидент произошел в среду , 1 июня . Подробностей происшествия нет . Данные о количестве стрелявших и их личностях также отсутствуют . Полиция принимает меры к задержанию преступников . В университетском кампусе введены повышенные меры безопасности , городок блокирован сотрудниками силовых структур , передвижение по территории ограничено . Университет находится в районе Вествуд Лос-Анджелеса . В заведении обучаются более 43 тысяч студентов . ',\n",
       " '20160601univer']"
      ]
     },
     "execution_count": 415,
     "metadata": {},
     "output_type": "execute_result"
    }
   ],
   "source": [
    "idx = 22\n",
    "to_annotate[idx]"
   ]
  },
  {
   "cell_type": "markdown",
   "metadata": {},
   "source": [
    "tags = ''\n",
    "tags_list.append(tags)\n",
    "(len(to_annotate[idx][1].split())==len(tags_list[idx].split()))"
   ]
  },
  {
   "cell_type": "code",
   "execution_count": 418,
   "metadata": {},
   "outputs": [
    {
     "data": {
      "text/plain": [
       "True"
      ]
     },
     "execution_count": 418,
     "metadata": {},
     "output_type": "execute_result"
    }
   ],
   "source": [
    "tags = 'O LOC LOC O LOC OFF OFF CRI O O O O O O O O O O O O O O O O O O O O O O O O O O O O O O O O O DAT DAT O O O O O O O O O O O O O O O O O O O O O O O O O O O O O O O O O O O O O O O O O O O O O LOC LOC O O O O O O O O O'\n",
    "tags_list.append(tags)\n",
    "(len(to_annotate[idx][1].split())==len(tags_list[idx].split()))"
   ]
  },
  {
   "cell_type": "code",
   "execution_count": 424,
   "metadata": {},
   "outputs": [],
   "source": [
    "#del tags_list[-1]"
   ]
  },
  {
   "cell_type": "code",
   "execution_count": 419,
   "metadata": {},
   "outputs": [
    {
     "data": {
      "text/plain": [
       "[703,\n",
       " 'В Уссурийске возбуждено уголовное дело по факту незаконного использования труда воспитанников интерната для трудных подростков . Об этом 6 марта сообщается на сайте прокуратуры Приморского края . По версии следствия , сотрудники учебного заведения « Приморская специальная общеобразовательная школа закрытого типа им . Т . М . Тихого » 5-7 декабря 2013 года отстранили девятерых подростков от учебы и направили их на строительство , осуществляемое ЗАО « Уссурийский комбинат промышленных предприятий » . Дело возбуждено по 286-й статье УК РФ ( превышение должностных полномочий ) . Фигурантов в нем пока не появилось: следователи не выяснили , кто именно из сотрудников отдал распоряжение об использовании труда подростков . ',\n",
       " '20140306primorie']"
      ]
     },
     "execution_count": 419,
     "metadata": {},
     "output_type": "execute_result"
    }
   ],
   "source": [
    "idx = 23\n",
    "to_annotate[idx]"
   ]
  },
  {
   "cell_type": "code",
   "execution_count": 425,
   "metadata": {},
   "outputs": [
    {
     "data": {
      "text/plain": [
       "True"
      ]
     },
     "execution_count": 425,
     "metadata": {},
     "output_type": "execute_result"
    }
   ],
   "source": [
    "tags = 'O LOC O O O O O CRI CRI CRI SUF SUF O O O O O O DAT DAT O O O O O O O O O O O O O O O OFF OFF OFF OFF OFF OFF OFF O O O O O OFF O DAT DAT DAT DAT O O O O O O O O O O O O O O O O O O O O O O O O O O O O O O O O O O O O O O O O O O O O O O O O O O O O O O'\n",
    "tags_list.append(tags)\n",
    "(len(to_annotate[idx][1].split())==len(tags_list[idx].split()))"
   ]
  },
  {
   "cell_type": "code",
   "execution_count": 426,
   "metadata": {},
   "outputs": [
    {
     "data": {
      "text/plain": [
       "[710,\n",
       " 'В Петербурге передано в суд дело бывшего инспектора УФСИН , обвиняемого во взяточничестве и злоупотреблении должностными полномочиями , сообщает Фонтанка . Обвиняемый нес службу в петербургской тюремной больнице имени Гааза . По версии следствия , в июне 2012 года он получил от осужденного , проходящего лечение , телефонные карточки на 2000 рублей . В обмен на телефонные карточки , сотрудник ФСИН должен был передать осужденному MP3-плеер . В уголовном деле содержится описание еще шести подобных эпизодов . Обвиняемого будут судить по статьям УК РФ 285 — « злоупотребление должностными полномочиями » и 290 — « получение взятки » . Диапазон возможных наказаний простирается от штрафа до лишения свободы на срок до семи лет . ',\n",
       " '20140806jail']"
      ]
     },
     "execution_count": 426,
     "metadata": {},
     "output_type": "execute_result"
    }
   ],
   "source": [
    "idx = 24\n",
    "to_annotate[idx]"
   ]
  },
  {
   "cell_type": "code",
   "execution_count": 429,
   "metadata": {},
   "outputs": [
    {
     "data": {
      "text/plain": [
       "True"
      ]
     },
     "execution_count": 429,
     "metadata": {},
     "output_type": "execute_result"
    }
   ],
   "source": [
    "tags = 'O LOC O O O O O OFF OFF O O O CRI O CRI CRI CRI O O O O O O O O O O O O O O O O O O O DAT DAT DAT O O O O O O O O O O O O O O O O O O O O OFF OFF O O O O O O O O O O O O O O O O O O O O O O O O O O CRI CRI CRI O O O O O CRI CRI O O O O O O O O O O O O O O O O O'\n",
    "tags_list.append(tags)\n",
    "(len(to_annotate[idx][1].split())==len(tags_list[idx].split()))"
   ]
  },
  {
   "cell_type": "code",
   "execution_count": 428,
   "metadata": {},
   "outputs": [],
   "source": [
    "#del tags_list[-1]"
   ]
  },
  {
   "cell_type": "code",
   "execution_count": 430,
   "metadata": {},
   "outputs": [
    {
     "data": {
      "text/plain": [
       "[711,\n",
       " 'В городе Олдем в Великобритании 24-летнюю Катажину Гацек ( Katarzyna Gacek ) обвинили в убийстве собственного грудного ребенка . Об этом 3 февраля со ссылкой на данные полиции сообщает BBC News . Кроме того Гацек , а также еще двух мужчин 35 и 26 лет , обвинили в пренебрежении заботой о ребенке . Все они были арестованы . По сведениям The Daily Mail , один из задержанных мужчин был сожителем Гацек , но не отцом ее ребенка . Другой арестованный был их квартиросъемщиком . Мальчика , которому было всего семь недель , госпитализировали 26 января с тяжелой черепно-мозговой травмой . На следующий день ребенок скончался . Результаты вскрытия показали , что травмы мальчик , скорее всего , получил не в результате несчастного случая . ',\n",
       " '20140203sevenweek']"
      ]
     },
     "execution_count": 430,
     "metadata": {},
     "output_type": "execute_result"
    }
   ],
   "source": [
    "idx = 25\n",
    "to_annotate[idx]"
   ]
  },
  {
   "cell_type": "code",
   "execution_count": 431,
   "metadata": {},
   "outputs": [
    {
     "data": {
      "text/plain": [
       "True"
      ]
     },
     "execution_count": 431,
     "metadata": {},
     "output_type": "execute_result"
    }
   ],
   "source": [
    "tags = 'O O LOC O LOC O OFF OFF O OFF OFF O O O CRI SUF SUF SUF O O O DAT DAT O O O O O O O O O O O OFF O O O O OFF OFF O O O O O O O CRI CRI O O O O O O O O O O O O O O O O O O O O OFF O O O O O SUF O O O O O O O SUF O O O O O O O O DAT DAT O O O O O O O O O O O O O O O O O O O O O O O O O O O O O'\n",
    "tags_list.append(tags)\n",
    "(len(to_annotate[idx][1].split())==len(tags_list[idx].split()))"
   ]
  },
  {
   "cell_type": "code",
   "execution_count": 432,
   "metadata": {},
   "outputs": [
    {
     "data": {
      "text/plain": [
       "[712,\n",
       " 'В результате нападения группы мужчин , вооруженных ножами , на одной из крупнейших железнодорожных станций на юго-западе Китая погибли 27 человек , не менее 109 были ранены . Об этом сообщает в ночь на 2 марта агентство « Синьхуа » . По данным полиции , нападение произошло 1 марта на железнодорожном вокзале в городе Куньмин , административном центре провинции Юньнань около 21:00 по местному времени ( 17:00 по Москве ) . Участок железной дороги был оцеплен . Местные власти объявили произошедшее террористическим актом . Как сообщил с места событий корреспондент агентства , полиция задержала нескольких подозреваемых . Информации об их личностях и мотивах не поступало . Ответственности за нападение пока никто на себя не взял . ',\n",
       " '20140301train']"
      ]
     },
     "execution_count": 432,
     "metadata": {},
     "output_type": "execute_result"
    }
   ],
   "source": [
    "idx = 26\n",
    "to_annotate[idx]"
   ]
  },
  {
   "cell_type": "code",
   "execution_count": 437,
   "metadata": {},
   "outputs": [
    {
     "data": {
      "text/plain": [
       "True"
      ]
     },
     "execution_count": 437,
     "metadata": {},
     "output_type": "execute_result"
    }
   ],
   "source": [
    "tags = 'O O O OFF OFF O O O O O O O O O O O LOC LOC O SUF SUF O O O O O O O O O O O O O DAT DAT O O O O O O O O O O O DAT DAT O O O O O LOC O O O O LOC O O O O O O O O O O O O O O O O O O O O O O O O O O O O O O O O O O O O O O O O O O O O O O O O O O O O O O O O '\n",
    "tags_list.append(tags)\n",
    "(len(to_annotate[idx][1].split())==len(tags_list[idx].split()))"
   ]
  },
  {
   "cell_type": "code",
   "execution_count": 438,
   "metadata": {},
   "outputs": [
    {
     "data": {
      "text/plain": [
       "[721,\n",
       " 'По меньшей мере 13 человек пострадали в результате стрельбы на вечеринке в Бруклине , Нью-Йорк . Об этом сообщает телеканал NBC со ссылкой на местную полицию . Инцидент произошел в воскресенье около 02:00 по местному времени ( 09:00 мск ) . Девять человек получили ранения , остальные были госпитализированы с порезами и синяками . Всем пострадавшим — от 19 до 38 лет . Причины стрельбы устанавливаются , преступник пока не задержан . Еще один инцидент со стрельбой произошел около 01:30 в районе Форт-Грин . На месте происшествия было найдено тело 46-летнего мужчины . 25-летний мужчина и 17-летняя девушка получили ранения , они госпитализированы в стабильном состоянии . Преступник также остается на свободе , передает Associated Press . ',\n",
       " '20150803shoot']"
      ]
     },
     "execution_count": 438,
     "metadata": {},
     "output_type": "execute_result"
    }
   ],
   "source": [
    "idx = 27\n",
    "to_annotate[idx]"
   ]
  },
  {
   "cell_type": "code",
   "execution_count": 439,
   "metadata": {},
   "outputs": [
    {
     "data": {
      "text/plain": [
       "True"
      ]
     },
     "execution_count": 439,
     "metadata": {},
     "output_type": "execute_result"
    }
   ],
   "source": [
    "tags = 'O O O SUF SUF O O O CRI O O O LOC O LOC O O O O O O O O O O O O O O O O O O O O O O O O O O SUF SUF O O O O O O O O O O O O O O O O O O O O O O O O OFF O O O O O O O O O O O O O O LOC O O O O O O O SUF SUF O SUF SUF O SUF SUF O O O O O O O O O OFF O O O O O O O O O'\n",
    "tags_list.append(tags)\n",
    "(len(to_annotate[idx][1].split())==len(tags_list[idx].split()))"
   ]
  },
  {
   "cell_type": "code",
   "execution_count": 440,
   "metadata": {},
   "outputs": [
    {
     "data": {
      "text/plain": [
       "[723,\n",
       " 'В Санкт-Петербурге 3 марта по подозрению в незаконном обороте наркотиков задержан полицейский . Об этом сообщается на сайте ГУ МВД по Санкт-Петербургу . При задержании у полицейского была изъята сумка с несколькими килограммами вещества , похожего на гашиш . Подробности дела , в рамках которого было совершено задержание , не разглашаются . Как говорится в сообщении , полицейский был задержан « в ходе оперативной разработки » . Задержанный является оперуполномоченным группы уголовного розыска 32 отдела полиции Невского района города . После выяснения обстоятельств произошедшего полицейский будет уволен со службы в МВД , а его непосредственных руководителей планируется привлечь к дисциплинарной ответственности , сообщили в полиции . ',\n",
       " '20140303hash']"
      ]
     },
     "execution_count": 440,
     "metadata": {},
     "output_type": "execute_result"
    }
   ],
   "source": [
    "idx = 28\n",
    "to_annotate[idx]"
   ]
  },
  {
   "cell_type": "code",
   "execution_count": 443,
   "metadata": {},
   "outputs": [
    {
     "data": {
      "text/plain": [
       "True"
      ]
     },
     "execution_count": 443,
     "metadata": {},
     "output_type": "execute_result"
    }
   ],
   "source": [
    "tags = 'O LOC DAT DAT O O O CRI CRI CRI O OFF O O O O O O O O O O O O O O OFF O O O O O O O O O O O O O O O O O O O O O O O O O O O O O O O OFF O O O O O O O O O OFF O O O O O O O O O O O O O O O O OFF O O O O O O O O O O O O O O O O O O O O'\n",
    "tags_list.append(tags)\n",
    "(len(to_annotate[idx][1].split())==len(tags_list[idx].split()))"
   ]
  },
  {
   "cell_type": "code",
   "execution_count": 444,
   "metadata": {},
   "outputs": [],
   "source": [
    "idx = 29"
   ]
  },
  {
   "cell_type": "code",
   "execution_count": 445,
   "metadata": {},
   "outputs": [
    {
     "data": {
      "text/plain": [
       "[723,\n",
       " 'Сотрудники ФСБ изъяли около 150 килограммов героина в ходе двух спецопераций на территории московского региона , сообщило в среду , 7 мая , РИА Новости со ссылкой на Центр общественных связей ведомства . Силовики в ходе оперативно-розыскных мероприятий установили , что в апреле 2014 года наркодельцы планировали получить крупные партии наркотиков из Средней Азии . Скоординированные действия оперативных подразделений ФСБ в апреле позволили задержать двух членов преступной банды и изъять 15 килограммов героина . Позже , в конце апреля , силовики задержали с поличным четверых активных членов другой преступной группы . Из незаконного оборота было изъято 135 килограммов героина . В отношении задержанных лиц возбудили уголовные дела . ',\n",
       " '20140507drugs']"
      ]
     },
     "execution_count": 445,
     "metadata": {},
     "output_type": "execute_result"
    }
   ],
   "source": [
    "to_annotate[idx]"
   ]
  },
  {
   "cell_type": "code",
   "execution_count": 446,
   "metadata": {},
   "outputs": [
    {
     "data": {
      "text/plain": [
       "True"
      ]
     },
     "execution_count": 446,
     "metadata": {},
     "output_type": "execute_result"
    }
   ],
   "source": [
    "tags = 'O O O O O O O O O O O O O LOC LOC O O O O O DAT DAT O O O O O O O O O O O O O O O O O O O O DAT DAT DAT OFF CRI CRI CRI CRI CRI O O O O O O O O O O DAT O O O O O O O O O O O O O O O O DAT O O O O O O O O O O O O O O O O O O O O O O O O O O O O O'\n",
    "tags_list.append(tags)\n",
    "(len(to_annotate[idx][1].split())==len(tags_list[idx].split()))"
   ]
  },
  {
   "cell_type": "code",
   "execution_count": 447,
   "metadata": {},
   "outputs": [],
   "source": [
    "idx = 30"
   ]
  },
  {
   "cell_type": "code",
   "execution_count": 448,
   "metadata": {},
   "outputs": [
    {
     "data": {
      "text/plain": [
       "[726,\n",
       " 'В московском аэропорту « Шереметьево » изъяли 454 контрабандных иконы из Греции . Об этом 7 февраля сообщает агентство « Новый регион » со ссылкой на пресс-секретаря Шереметьевской таможни Татьяну Соколову . Иконы изъяли у гражданина России 1971 года рождения , который прибыл из Афин с двумя детьми 2000 и 2008 годов рождения . Груз находился как в багаже мужчины , так и в багаже детей . Пассажир заявил , что вез иконы в подарок сослуживцам ко Дню защитника Отечества . Однако таможенники считают , что иконы больше похожи на товарную партию . Изъятые иконы направлены на экспертизу . Минимальное наказание , которое грозит мужчине за контрабанду — штраф от 100 тысяч до 500 тысяч рублей . Максимальное наказание — до двух лет лишения свободы . ',\n",
       " '20140207ikony']"
      ]
     },
     "execution_count": 448,
     "metadata": {},
     "output_type": "execute_result"
    }
   ],
   "source": [
    "to_annotate[idx]"
   ]
  },
  {
   "cell_type": "code",
   "execution_count": 449,
   "metadata": {},
   "outputs": [
    {
     "data": {
      "text/plain": [
       "True"
      ]
     },
     "execution_count": 449,
     "metadata": {},
     "output_type": "execute_result"
    }
   ],
   "source": [
    "tags = 'O LOC LOC O LOC O O O CRI CRI O LOC O O O DAT DAT O O O O O O O O O O O O O O O O O O OFF OFF OFF OFF OFF O O O O LOC O O O O O O O O O O O O O O O O O O O O O O OFF O O O O O O O O O O O O O O O O O O O O O O O O O O O O O O O O O O O O OFF O CRI O O O O O O O O O O O O O O O O O O O'\n",
    "tags_list.append(tags)\n",
    "(len(to_annotate[idx][1].split())==len(tags_list[idx].split()))"
   ]
  },
  {
   "cell_type": "code",
   "execution_count": 450,
   "metadata": {},
   "outputs": [
    {
     "data": {
      "text/plain": [
       "[726,\n",
       " 'На предприятии , расположенном на севере Москвы , в ночь на пятницу , 7 июня , произошла стрельба , в результате которой ранения получили двое охранников . Об этом утром в пятницу сообщает « Интерфакс » со ссылкой на пресс-службу ГУ МВД РФ по столице . Инцидент произошел на территории домостроительного комбината , расположенного по адресу: улица Вагоноремонтная , дом 10А . По данным полиции , примерно в 02:30 на территорию комбината проникли четверо злоумышленников и « вступили в конфликт с сотрудниками охраны предприятия » . Конфликт перерос в драку , в ходе которой незнакомцы открыли стрельбу из травматического оружия . В результате один охранник был ранен в грудь , а второй — в голову . Возбуждено уголовное дело по статье « Хулиганство » . ',\n",
       " '20130607two']"
      ]
     },
     "execution_count": 450,
     "metadata": {},
     "output_type": "execute_result"
    }
   ],
   "source": [
    "idx = 31\n",
    "to_annotate[idx]"
   ]
  },
  {
   "cell_type": "code",
   "execution_count": 451,
   "metadata": {},
   "outputs": [
    {
     "data": {
      "text/plain": [
       "True"
      ]
     },
     "execution_count": 451,
     "metadata": {},
     "output_type": "execute_result"
    }
   ],
   "source": [
    "tags = 'O LOC O O O LOC LOC O O O O O O DAT DAT O O CRI O O O O O O SUF SUF O O O O O O O O O O O O O O O O O O O O O O O O O O O O O O LOC LOC O LOC LOC O O O O O O O O O O O O OFF OFF O O O O O O O O O O O O O O O O O O O O O O O O O O O O O O O O O O O O O O O O O O O O O O O CRI O O '\n",
    "tags_list.append(tags)\n",
    "(len(to_annotate[idx][1].split())==len(tags_list[idx].split()))"
   ]
  },
  {
   "cell_type": "code",
   "execution_count": 452,
   "metadata": {},
   "outputs": [
    {
     "data": {
      "text/plain": [
       "[743,\n",
       " 'Главная военная прокуратура сочла необоснованными крупные выплаты компенсаций уволенным сотрудникам « Воентелекома » и возбудила уголовное дело по статье « Мошенничество , совершенное в особо крупном размере » . Соответствующее сообщение опубликовано на сайте ведомства . « Так , в период с ноября 2012 года по март 2013 года злоумышленники \" задним числом \" изменили условия трудовых договоров таким образом , что в случае увольнения ( причем по любой причине ) менеджерам высшего звена выплачивалась денежная компенсация в размере двенадцатикратного среднемесячного заработка » , — говорится в сообщении . В результате более тридцати уволенных работников , с которыми акционерное общество подписало новые трудовые соглашения , получили свыше 25 миллионов рублей . ',\n",
       " '20140701fraud']"
      ]
     },
     "execution_count": 452,
     "metadata": {},
     "output_type": "execute_result"
    }
   ],
   "source": [
    "idx = 32\n",
    "to_annotate[32]"
   ]
  },
  {
   "cell_type": "code",
   "execution_count": 453,
   "metadata": {},
   "outputs": [
    {
     "data": {
      "text/plain": [
       "True"
      ]
     },
     "execution_count": 453,
     "metadata": {},
     "output_type": "execute_result"
    }
   ],
   "source": [
    "tags = 'O O O O O O CRI CRI O O O OFF O O O O O O O O CRI O O O O O O O O O O O O O O O O O O O O O DAT DAT DAT O DAT DAT DAT OFF O O O O O O O O O O O O O O O O O O O O O O O O O O O O O O O O O O O O O O O O O O O O O O O O O O O O O O O O O O O O O'\n",
    "tags_list.append(tags)\n",
    "(len(to_annotate[idx][1].split())==len(tags_list[idx].split()))"
   ]
  },
  {
   "cell_type": "code",
   "execution_count": 454,
   "metadata": {},
   "outputs": [
    {
     "data": {
      "text/plain": [
       "[746,\n",
       " 'Утром 8 августа в Махачкале застрелили замначальника городского отдела ГИБДД Тамерлана Салихова . Об этом сообщает « Интерфакс » со ссылкой на собственные источники . В правоохранительных органах республики подтвердили факт убийства полицейского , однако его имя называть не стали . Нападение на полицейского произошло возле его дома на проспекте Акушинского .  « Преступники поджидали его на машине , обстреляли и скрылись . Полицейский скончался на месте . Проводятся необходимые мероприятия по установлению подозреваемых в этом преступлении » , — рассказали в пресс-службе МВД Республики Дагестан . В следственном управлении СКР по Дагестану сообщили о возбуждении уголовного дела по статьям « Посягательство на жизнь полицейского » и « Незаконный оборот оружия » . ',\n",
       " '20140808salikhov']"
      ]
     },
     "execution_count": 454,
     "metadata": {},
     "output_type": "execute_result"
    }
   ],
   "source": [
    "idx = 33\n",
    "to_annotate[33]"
   ]
  },
  {
   "cell_type": "code",
   "execution_count": 457,
   "metadata": {},
   "outputs": [
    {
     "data": {
      "text/plain": [
       "True"
      ]
     },
     "execution_count": 457,
     "metadata": {},
     "output_type": "execute_result"
    }
   ],
   "source": [
    "tags = 'O DAT DAT O LOC CRI O O O O SUF SUF O O O O O O O O O O O O O O O O O O O CRI O O O O O O O O O O O O O O O O O O LOC O O O O O O O O O O O O O O O O O O O O O O O O O O O O O O O O O O O O O O O O O O O O O O O O O O O O O O O O O O O O O O '\n",
    "tags_list.append(tags)\n",
    "(len(to_annotate[idx][1].split())==len(tags_list[idx].split()))"
   ]
  },
  {
   "cell_type": "code",
   "execution_count": 458,
   "metadata": {},
   "outputs": [
    {
     "data": {
      "text/plain": [
       "[747,\n",
       " 'В городе Тында Амурской области убили главу крупной лесозаготовительной компании « Туранлес » Сергея Сарнавского . Об этом 4 сентября сообщает агентство ИТАР-ТАСС . Преступники ворвались в дом 49-летнего бизнесмена в 23 часа 3 сентября . Они нанесли Сарнавскому многочисленные колото-резаные ранения и скрылись . Раненый скончался на месте . В момент убийства в доме находились жена , малолетние дети и теща бизнесмена . Их преступники не тронули . Возбуждено уголовное дело по 105-й статье УК РФ ( убийство ) . Семья Сарнавских известна в Тынде . Отец Сергея Николай Сарнавский считается инициатором внедрения безотходных технологий в лесной промышленности Приамурья . По состоянию на 2008 год Сарнавский-старший являлся председателем совета директоров « Туранлеса » . ',\n",
       " '20130904forest']"
      ]
     },
     "execution_count": 458,
     "metadata": {},
     "output_type": "execute_result"
    }
   ],
   "source": [
    "idx = 34\n",
    "to_annotate[idx]"
   ]
  },
  {
   "cell_type": "code",
   "execution_count": 459,
   "metadata": {},
   "outputs": [
    {
     "data": {
      "text/plain": [
       "True"
      ]
     },
     "execution_count": 459,
     "metadata": {},
     "output_type": "execute_result"
    }
   ],
   "source": [
    "tags = 'O O LOC LOC LOC CRI O O O O O O O SUF SUF O O O DAT DAT O O O O O O O O O O O O O DAT DAT O O O SUF O O O O O O O O O O O O O O O O O O O O O O O O O O O O O O O O O O O O O O O O O O O SUF O O LOC O O SUF O O O O O O O O O O O O O O O O O O O O O O O O O O'\n",
    "tags_list.append(tags)\n",
    "(len(to_annotate[idx][1].split())==len(tags_list[idx].split()))"
   ]
  },
  {
   "cell_type": "code",
   "execution_count": 460,
   "metadata": {},
   "outputs": [
    {
     "data": {
      "text/plain": [
       "[748,\n",
       " 'Двоих ЛГБТ-активистов — Николая Алексеева и Ярослава Евтушенко — впервые в российской истории оштрафовали по федеральному закону о запрете пропаганды нетрадиционных сексуальных отношений . Об этом сообщает « Интерфакс » . 3 декабря активисты были оштрафованы на 4 тысячи рублей каждый . Свою вину они не признали и будут обжаловать решение в Октябрьском районном суде Архангельска в течение десяти ближайших суток . Ранее штрафы за гей-пропаганду выписывались только на основании местных законов . Так , например , Алексеев в мае 2012 года был оштрафован на 5 тысяч рублей судом в Петербурге за одиночный пикет . Закон о запрете пропаганды нетрадиционных сексуальных отношений среди несовершеннолетних на федеральном уровне был принят в России в июне 2013 года . ',\n",
       " '20131203propaganda']"
      ]
     },
     "execution_count": 460,
     "metadata": {},
     "output_type": "execute_result"
    }
   ],
   "source": [
    "idx = 35\n",
    "to_annotate[35]"
   ]
  },
  {
   "cell_type": "code",
   "execution_count": 461,
   "metadata": {},
   "outputs": [
    {
     "data": {
      "text/plain": [
       "True"
      ]
     },
     "execution_count": 461,
     "metadata": {},
     "output_type": "execute_result"
    }
   ],
   "source": [
    "tags = 'O O O OFF OFF O OFF OFF O O O O O O O O O O O CRI O O O O O O O O O O O DAT DAT O O O O O O O O O O O O O O O O O O O O O O LOC O O O O O O O O O O O O O O O O O O O O O OFF O DAT DAT DAT O O O O O O O O LOC O O O O O O O CRI O O O O O O O O O O O O O O O O O'\n",
    "tags_list.append(tags)\n",
    "(len(to_annotate[idx][1].split())==len(tags_list[idx].split()))"
   ]
  },
  {
   "cell_type": "code",
   "execution_count": 462,
   "metadata": {},
   "outputs": [
    {
     "data": {
      "text/plain": [
       "[750,\n",
       " 'В столице Афганистана Кабуле террористы атаковали отель Northgate , передает Reuters . Нападение произошло в ночь на понедельник , 1 августа . Перед гостиницей был взорван грузовик , после чего четверо боевиков открыли стрельбу . Отель Northgate , в котором живут преимущественно представители иностранных военных и гражданских организаций , представляет собой защищенный комплекс . Ответственность за нападение взяла на себя экстремистская группировка « Талибан » . 24 июля в результате взрыва , который устроил смертник на демонстрации национального меньшинства хазарейцев в Кабуле , погибли 80 человек , еще 231 пострадал . Ответственность за теракт взяла на себя террористическая группировка « Исламское государство »  ( ИГ ) ИГ и « Талибан » запрещены на территории России . ',\n",
       " '20160801kabul']"
      ]
     },
     "execution_count": 462,
     "metadata": {},
     "output_type": "execute_result"
    }
   ],
   "source": [
    "idx = 36\n",
    "to_annotate[36]"
   ]
  },
  {
   "cell_type": "code",
   "execution_count": 463,
   "metadata": {},
   "outputs": [
    {
     "data": {
      "text/plain": [
       "True"
      ]
     },
     "execution_count": 463,
     "metadata": {},
     "output_type": "execute_result"
    }
   ],
   "source": [
    "tags = 'O O LOC LOC OFF CRI O SUF O O O O O O O O O O O DAT DAT O O O O O O O O O O O O O O O SUF O O O O O O O O O O O O O O O O O O O O O O O O O O OFF O O DAT DAT O O O O O O O O O O O O O LOC O O SUF SUF O O O O O O O O O O O O O O OFF OFF O O OFF O OFF O O OFF O O O O O O'\n",
    "tags_list.append(tags)\n",
    "(len(to_annotate[idx][1].split())==len(tags_list[idx].split()))"
   ]
  },
  {
   "cell_type": "code",
   "execution_count": 464,
   "metadata": {},
   "outputs": [
    {
     "data": {
      "text/plain": [
       "[759,\n",
       " 'Старший тренер бойцовского клуба « Горец » и один из его основателей Мусаил Алаудинов был убит в ночь на вторник на трассе Махачкала - Каспийск , передает агентство « Интерфакс » со ссылкой на представителя пресс-службы МВД по Дагестану . По данным собеседника агентства , около 0:30 неизвестные обстреляли автомобиль Алаудинова « Тойота Камри » из автоматического оружия . В дагестанском МВД не стали говорить о мотивах преступления , отметив лишь , что проводят оперативно-розыскные мероприятия . 35-летний Алаудинов был серебряным призером чемпионата мира по боевому самбо , чемпионом России по панкратиону и обладателем кубка мира по миксфайту , напоминает « Интерфакс » . Его клуб « Горец » является одним из ведущих в России центров по подготовке бойцов смешанных единоборств . ',\n",
       " '20130709gorets']"
      ]
     },
     "execution_count": 464,
     "metadata": {},
     "output_type": "execute_result"
    }
   ],
   "source": [
    "idx = 37\n",
    "to_annotate[idx]"
   ]
  },
  {
   "cell_type": "code",
   "execution_count": 465,
   "metadata": {},
   "outputs": [
    {
     "data": {
      "text/plain": [
       "True"
      ]
     },
     "execution_count": 465,
     "metadata": {},
     "output_type": "execute_result"
    }
   ],
   "source": [
    "tags = 'O O O O O O O O O O O O SUF SUF O CRI O O O O O O LOC LOC LOC O O O O O O O O O O O O O O O O O O O O O O O O O SUF O O O O O O O O O O O O O O O O O O O O O O O O O O O SUF O O O O O O O O O O O O O O O O O O O O O O O O O O O O O O O O O O O O O O O O O O O'\n",
    "tags_list.append(tags)\n",
    "(len(to_annotate[idx][1].split())==len(tags_list[idx].split()))"
   ]
  },
  {
   "cell_type": "code",
   "execution_count": 466,
   "metadata": {},
   "outputs": [
    {
     "data": {
      "text/plain": [
       "[760,\n",
       " 'Во время захвата автобуса на западе Норвегии погибли три человека , передает в понедельник , 4 ноября , местный телеканал TV2 . Инцидент произошел на трассе в коммуне Ордал , когда автобус следовал с популярного горнолыжного курорта Вальдрес в столицу Осло . По предварительным данным , погибшие получили тяжелые ножевые ранения . О количестве раненых информации пока нет , также не ясно , сколько всего человек находились в автобусе . Нападавший , мужчина в возрасте около 50 лет , задержан и доставлен в больницу . Сообщается , что он не является коренным норвежцем . О возможных мотивах преступления полиция ничего не рассказала . Как добавляют норвежские СМИ , вооруженный мужчина был задержан спасателями , которые прибыли на место происшествия после сообщений о возможном ДТП . ',\n",
       " '20131104hilack']"
      ]
     },
     "execution_count": 466,
     "metadata": {},
     "output_type": "execute_result"
    }
   ],
   "source": [
    "idx = 38\n",
    "to_annotate[idx]"
   ]
  },
  {
   "cell_type": "code",
   "execution_count": 467,
   "metadata": {},
   "outputs": [
    {
     "data": {
      "text/plain": [
       "True"
      ]
     },
     "execution_count": 467,
     "metadata": {},
     "output_type": "execute_result"
    }
   ],
   "source": [
    "tags = 'O O CRI CRI O LOC LOC O SUF SUF O O O O O DAT DAT O O O O O O O O O O O LOC O O O O O O O O O O O O O O O O O SUF O O O O O O O O O O O O O O O O O O O O O O O O O OFF O O O O O O O O O O O O O O O O O O O O O O O O O O O O O O O O O O O O O O O O O O O O O O O O O O O O'\n",
    "tags_list.append(tags)\n",
    "(len(to_annotate[idx][1].split())==len(tags_list[idx].split()))"
   ]
  },
  {
   "cell_type": "code",
   "execution_count": 468,
   "metadata": {},
   "outputs": [
    {
     "data": {
      "text/plain": [
       "[767,\n",
       " 'Двое злоумышленников отобрали у безработного в Москве автомобиль с огурцами и помидорами , сообщает РИА Новости в понедельник , 8 июля , со ссылкой на пресс-службу ГУ МВД РФ по городу . 7 июля на 104-м километре МКАД двое злоумышленников , угрожая предметом , похожим на пистолет , отобрали у безработного автомобиль ГАЗ-3302 ( газель-тент ) , в кузове которого находился груз огурцов и помидоров , и скрылись , сообщили сотрудники пресс-службы ГУ МВД России по Москве . Позже машина была найдена на Амурской улице , примерно в 5 километрах от места угона , но уже без овощей . Потерпевший оценил ущерб в 90 тысяч рублей . По факту преступления возбуждено уголовное дело по статье « Разбой , совершенный группой лиц » , предусматривающей максимальное наказание в виде 10 лет лишения свободы . ',\n",
       " '20130708tomato']"
      ]
     },
     "execution_count": 468,
     "metadata": {},
     "output_type": "execute_result"
    }
   ],
   "source": [
    "idx = 39\n",
    "to_annotate[idx]"
   ]
  },
  {
   "cell_type": "code",
   "execution_count": 471,
   "metadata": {},
   "outputs": [
    {
     "data": {
      "text/plain": [
       "True"
      ]
     },
     "execution_count": 471,
     "metadata": {},
     "output_type": "execute_result"
    }
   ],
   "source": [
    "tags = 'OFF OFF CRI O SUF O LOC O O O O O O O O O O O O DAT DAT O O O O O O O O O O O DAT DAT O LOC LOC LOC OFF OFF O O O O O O O O O O SUF O O O O O O O O O O O O O O O O O O O O O O O O O O O O O O O O LOC LOC O O O O O O O O O O O O O O O O O O O O O O O O O O O O O O O CRI O O O O O O O O O O O O O O O O'\n",
    "tags_list.append(tags)\n",
    "(len(to_annotate[idx][1].split())==len(tags_list[idx].split()))"
   ]
  },
  {
   "cell_type": "code",
   "execution_count": 470,
   "metadata": {},
   "outputs": [],
   "source": [
    "#del tags_list[-1]"
   ]
  },
  {
   "cell_type": "code",
   "execution_count": 473,
   "metadata": {},
   "outputs": [
    {
     "data": {
      "text/plain": [
       "[777,\n",
       " 'Нападению суннитских боевиков в пакистанском городе Тафтан ( провинция Белуджистан ) подверглись около 300 паломников-шиитов , 22 человека погибли и десятки ранены . Об этом в понедельник , 9 июня , пишет местная газета Dawn . В нападении участвовали четыре суннитских боевика . Пока никакая группировка не взяла на себя ответственность за теракт . По словам министра внутренних дел Белуджистана Акбара Дуррани , инцидент произошел недалеко от границы с Ираном — в месте , где пакистанские паломники-шииты обычно останавливаются на ночевку после посещения святынь . Десять автобусов с паломниками остановились в Тафтане у двух отелей , когда раздались два взрыва и началась интенсивная стрельба . В нейтрализации нападавших участвовали пограничники и таможенники , которые также понесли потери . ',\n",
       " '20140609pakistan']"
      ]
     },
     "execution_count": 473,
     "metadata": {},
     "output_type": "execute_result"
    }
   ],
   "source": [
    "idx =40\n",
    "to_annotate[idx]"
   ]
  },
  {
   "cell_type": "code",
   "execution_count": 474,
   "metadata": {},
   "outputs": [
    {
     "data": {
      "text/plain": [
       "True"
      ]
     },
     "execution_count": 474,
     "metadata": {},
     "output_type": "execute_result"
    }
   ],
   "source": [
    "tags = 'O OFF OFF O LOC LOC LOC O LOC LOC O O O SUF SUF O O O O O O O O O O O O O DAT DAT O O O O O O O O O O OFF OFF O O O O O O O O O O O O O O O O O O O O O O O O O O O O O O O O O O O O O O O O O O O O O O O O O LOC O O O O O O O O O O O O O O O O O O O O O O O O O O'\n",
    "tags_list.append(tags)\n",
    "(len(to_annotate[idx][1].split())==len(tags_list[idx].split()))"
   ]
  },
  {
   "cell_type": "code",
   "execution_count": 475,
   "metadata": {},
   "outputs": [
    {
     "data": {
      "text/plain": [
       "[781,\n",
       " 'На улице Новый Арбат в Москве закрыта букмекерская контора , где проводились подпольные петушиные бои , бега крыс и тараканов . Об этом 3 декабря сообщается на сайте ГУ МВД Москвы . Обыск в офисе букмекерской конторы проводился в рамках дела о мошенничестве . Оперативники обнаружили в компьютерах информацию о проведении незаконных азартных игр . Затем в подвале были найдены клетки с петухами , крысами и инсектарии с тараканами . Выяснилось , что там же в антисанитарных условиях проживали сотрудники заведения . Информация о состоянии подвала передана в Роспотребнадзор . О возбуждении дополнительного дела по статье « незаконные организация и проведение азартных игр » пока не сообщается . Также не разглашаются подробности о мошенничестве , в котором изначально подозревали владельцев конторы . ',\n",
       " '20131203cock']"
      ]
     },
     "execution_count": 475,
     "metadata": {},
     "output_type": "execute_result"
    }
   ],
   "source": [
    "idx = 41\n",
    "to_annotate[41]"
   ]
  },
  {
   "cell_type": "code",
   "execution_count": 476,
   "metadata": {},
   "outputs": [
    {
     "data": {
      "text/plain": [
       "True"
      ]
     },
     "execution_count": 476,
     "metadata": {},
     "output_type": "execute_result"
    }
   ],
   "source": [
    "tags = 'O O LOC LOC O LOC O OFF OFF O O O CRI CRI CRI O CRI CRI O CRI O O O DAT DAT O O O O O O O O O O OFF OFF O O O O O O O O O O O O O O CRI CRI CRI O O O O O O O O O O O O O O O O O O O O O O O O O O O O O O O O O O O O O O O O O O O O O O O O O O O O O O O O O O O O O O O O O O O O'\n",
    "tags_list.append(tags)\n",
    "(len(to_annotate[idx][1].split())==len(tags_list[idx].split()))"
   ]
  },
  {
   "cell_type": "code",
   "execution_count": 477,
   "metadata": {},
   "outputs": [
    {
     "data": {
      "text/plain": [
       "[782,\n",
       " 'В Москве группа злоумышленников с помощью микроавтобуса похитила банкомат из аптеки , сообщает РИА Новости со ссылкой на пресс-службу столичной полиции . В банкомате находилось около девяти миллионов рублей . По данным правоохранительных органов , которые приводит агентство , кража банкомата была совершена в ночь на вторник , 1 октября . Между тем ИТАР-ТАСС отмечает , что преступление произошло рано утром в понедельник , 30 сентября . Трое злоумышленников накинули трос на банкомат , стоявший в холле аптеки по адресу проспект Мира , до 182 , корпус 2 , другой конец троса привязали к микроавтобусу и с помощью автомобиля выволокли банкомат из помещения . После этого преступники погрузили банкомат в микроавтобус и скрылись с места преступления . По факту преступления возбуждено уголовное дело . ',\n",
       " '20131002lasso']"
      ]
     },
     "execution_count": 477,
     "metadata": {},
     "output_type": "execute_result"
    }
   ],
   "source": [
    "idx = 42\n",
    "to_annotate[42]"
   ]
  },
  {
   "cell_type": "code",
   "execution_count": 480,
   "metadata": {},
   "outputs": [
    {
     "data": {
      "text/plain": [
       "True"
      ]
     },
     "execution_count": 480,
     "metadata": {},
     "output_type": "execute_result"
    }
   ],
   "source": [
    "tags = 'O LOC OFF OFF O O O CRI CRI O O O O O O O O O O O O O O O O O O O O O O O O O O O O O O O O O O O O O O O DAT DAT O O O O O O O O O O O O O O DAT DAT O O O O O O O O O O O O O O LOC LOC O O LOC O LOC LOC O O O O O O O O O O O O O O O O O O OFF O O O O O O O O O O O O O O O O O'\n",
    "tags_list.append(tags)\n",
    "(len(to_annotate[idx][1].split())==len(tags_list[idx].split()))"
   ]
  },
  {
   "cell_type": "code",
   "execution_count": 479,
   "metadata": {},
   "outputs": [],
   "source": [
    "#del tags_list[-1]"
   ]
  },
  {
   "cell_type": "code",
   "execution_count": 481,
   "metadata": {},
   "outputs": [
    {
     "data": {
      "text/plain": [
       "[782,\n",
       " 'Журналист общественно-политического еженедельника « Новое дело » Ахмеднаби Ахмеднабиев убит утром во вторник в пригороде Махачкалы . Об этом агентству « Интерфакс » рассказали в пресс-службе МВД по Дагестану . Согласно информации полицейских , машину Ахмеднаби Ахмеднабиева обстреляли в 50 метрах от его дома в поселке Семендер . Связано ли убийство с профессиональной деятельностью жертвы , не сообщается . На месте работает оперативно-следственная бригада , отметили в пресс-службе . Между тем источник РИА Новости в правоохранительных органах Дагестана рассказал , что ранее на Ахмеднабиева уже было два покушения . Как сообщается на сайте еженедельника « Новое дело » , он выходит с августа 1991 года . Ахмеднабиев работал первым заместителем главного редактора издания и руководил отделом политики . ',\n",
       " '20130709semender']"
      ]
     },
     "execution_count": 481,
     "metadata": {},
     "output_type": "execute_result"
    }
   ],
   "source": [
    "idx = 43\n",
    "to_annotate[43]"
   ]
  },
  {
   "cell_type": "code",
   "execution_count": 482,
   "metadata": {},
   "outputs": [
    {
     "data": {
      "text/plain": [
       "True"
      ]
     },
     "execution_count": 482,
     "metadata": {},
     "output_type": "execute_result"
    }
   ],
   "source": [
    "tags = 'O O O O O O O SUF SUF O O O O O LOC LOC O O O O O O O O O O O O O O O O O O O SUF SUF O O O O O O O O LOC LOC O O O O O O O O O O O O O O O O O O O O O O O O O O O O O O O O O O O O SUF O O O O O O O O O O O O O O O O O O O O O O SUF O O O O O O O O O O O'\n",
    "tags_list.append(tags)\n",
    "(len(to_annotate[idx][1].split())==len(tags_list[idx].split()))"
   ]
  },
  {
   "cell_type": "code",
   "execution_count": 483,
   "metadata": {},
   "outputs": [
    {
     "data": {
      "text/plain": [
       "[783,\n",
       " 'В московском аэропорту « Шереметьево » задержан мужчина , попытавшийся на внедорожнике въехать на летное поле . Об этом 1 мая сообщает агентство « Интерфакс » . Примерно в 20 часов 30 апреля нетрезвый мужчина на Nissan Pathfinder пристроился за автомобилем ремонтной фирмы , подъехавшем к КПП ремонтируемого перрона аэропорта . У самого КПП внедорожник резко обогнал ремонтный автомобиль и на несколько метров проехал вглубь охраняемой территории . Сотрудники службы безопасности почти сразу остановили автомобиль и задержали водителя . Мужчина вел себя агрессивно , нецензурно ругался и пытался убежать на летное поле . При обыске у мужчины не нашли никаких документов , в том числе водительских прав . Внедорожник обследовали взрывотехники , но взрывных устройств и взрывчатых веществ там не нашлось . ',\n",
       " '20130501debosh']"
      ]
     },
     "execution_count": 483,
     "metadata": {},
     "output_type": "execute_result"
    }
   ],
   "source": [
    "idx = 44\n",
    "to_annotate[44]"
   ]
  },
  {
   "cell_type": "code",
   "execution_count": 484,
   "metadata": {},
   "outputs": [
    {
     "data": {
      "text/plain": [
       "True"
      ]
     },
     "execution_count": 484,
     "metadata": {},
     "output_type": "execute_result"
    }
   ],
   "source": [
    "tags = 'O LOC LOC O LOC O O OFF O O O O O O O O O O O DAT DAT O O O O O O O O O O DAT DAT O OFF O O O O O O O O O O O O O O O O O O O O O O O O O O O O O O O O O O O O O O O O O O O O OFF O O O O O O O O O O O O O O O O OFF O O O O O O O O O O O O O O O O O O O O O O O O O'\n",
    "tags_list.append(tags)\n",
    "(len(to_annotate[idx][1].split())==len(tags_list[idx].split()))"
   ]
  },
  {
   "cell_type": "code",
   "execution_count": 485,
   "metadata": {},
   "outputs": [
    {
     "data": {
      "text/plain": [
       "[786,\n",
       " 'В Лондоне в результате нападения преступника погиб один человек , еще пять получили ножевые ранения , передает BBC News . Инцидент произошел на Рассел-Сквер , в центре британской столицы , поздно вечером в среду , 3 августа . Сообщение о вооруженном ножом мужчине и получивших ранения людях поступило в экстренные службы в 22:33 ( 01:33 мск 4 августа ) . На месте были найдены шесть пострадавших , спустя короткое время врачи констатировали смерть женщины . Четыре мужчины и женщина получили ранения различной степени тяжести . 19-летний мужчина , подозреваемый в совершении этого преступления , был задержан в 22:39 . Один из полицейских применил против него тазер . По предварительным данным , нападавший страдает психическим расстройством . При этом в качестве возможного мотива рассматривается и терроризм . ',\n",
       " '20160804london']"
      ]
     },
     "execution_count": 485,
     "metadata": {},
     "output_type": "execute_result"
    }
   ],
   "source": [
    "idx = 45\n",
    "to_annotate[idx]"
   ]
  },
  {
   "cell_type": "code",
   "execution_count": 488,
   "metadata": {},
   "outputs": [
    {
     "data": {
      "text/plain": [
       "True"
      ]
     },
     "execution_count": 488,
     "metadata": {},
     "output_type": "execute_result"
    }
   ],
   "source": [
    "tags = 'O LOC O O CRI OFF O SUF SUF O O O O O O O O O O O O O O LOC O O O O O O O O O O O DAT DAT O O O O O OFF O O O SUF O O O O O O O O DAT DAT DAT O O O O O O O O O O O O O O O O O SUF SUF O SUF O O O O O O OFF OFF O O O O O O O O O O O O O O O O O O O O O O O O O O O O O O O O O O O O O O O '\n",
    "tags_list.append(tags)\n",
    "(len(to_annotate[idx][1].split())==len(tags_list[idx].split()))"
   ]
  },
  {
   "cell_type": "code",
   "execution_count": 493,
   "metadata": {},
   "outputs": [],
   "source": [
    "#del tags_list[-1]"
   ]
  },
  {
   "cell_type": "code",
   "execution_count": 489,
   "metadata": {},
   "outputs": [
    {
     "data": {
      "text/plain": [
       "[786,\n",
       " 'Чемпион США по боксу среди юниоров 5 сентября скончался в больнице после избиения . Об этом сообщает Associated Press . 17-летний боксер Алексис Урбина был доставлен в больницу 5 сентября после того , как сотрудники полиции обнаружили его около 13:30 лежащим на полу в крови и без сознания в одной из комнат в доме своих родителей в городе Феникс , штат Аризона . Кто вызвал полицию , не сообщается . Члены семьи Урбина рассказали о пропаже некоторых памятных вещей , связанных с боксом . О каких предметах идет речь , в сообщении не говорится . Следов взлома сотрудники правоохранительных органов не обнаружили . В качестве одной из версий случившегося следователи рассматривают грабеж . Алексис Урбина стал чемпионом США по боксу среди юниоров в весовой категории до 64 килограммов в апреле 2013 года . ',\n",
       " '20130906boxer']"
      ]
     },
     "execution_count": 489,
     "metadata": {},
     "output_type": "execute_result"
    }
   ],
   "source": [
    "idx = 46\n",
    "to_annotate[idx]"
   ]
  },
  {
   "cell_type": "code",
   "execution_count": 490,
   "metadata": {},
   "outputs": [
    {
     "data": {
      "text/plain": [
       "True"
      ]
     },
     "execution_count": 490,
     "metadata": {},
     "output_type": "execute_result"
    }
   ],
   "source": [
    "tags = 'O O O O O O DAT DAT O O O O CRI O O O O O O O O O SUF SUF O O O O DAT DAT O O O O O O O O O O O O O O O O O O O O O O O O O O O LOC LOC O O O O O O O O O O O O O SUF O O O O O O O O O O O O O O O O O O O O O O O O O O O O O O O O O O O O O O O O SUF SUF O O O O O O O O O O O O O O O O O O'\n",
    "tags_list.append(tags)\n",
    "(len(to_annotate[idx][1].split())==len(tags_list[idx].split()))"
   ]
  },
  {
   "cell_type": "code",
   "execution_count": 491,
   "metadata": {},
   "outputs": [
    {
     "data": {
      "text/plain": [
       "[788,\n",
       " 'В подмосковном Подольске задержан мужчина , которого подозревают в вымогательстве денег у продавцов продуктовых магазинов . Об этом 2 октября сообщается на сайте областного ГУ МВД . По версии следствия , 30-летний ранее судимый житель Серпухова предлагал подольским школьникам по две тысячи рублей за участие в мошеннической схеме . Дети приходили в магазин и уговаривали продавца продать им спиртное или сигареты . Если продавец соглашался , мошенник подходил к кассе и представлялся сотрудником Федеральной налоговой службы . Он утверждал , что может инициировать возбуждение уголовного дела . В обмен на снятие претензий мужчина требовал от 20 до 50 тысяч рублей . Возбуждено дело по 159-й статье УК РФ ( мошенничество ) . Следователи определяют круг потерпевших . Суд поместил подозреваемого под арест . ',\n",
       " '20131002children']"
      ]
     },
     "execution_count": 491,
     "metadata": {},
     "output_type": "execute_result"
    }
   ],
   "source": [
    "idx =47\n",
    "to_annotate[idx]"
   ]
  },
  {
   "cell_type": "code",
   "execution_count": 494,
   "metadata": {},
   "outputs": [
    {
     "data": {
      "text/plain": [
       "True"
      ]
     },
     "execution_count": 494,
     "metadata": {},
     "output_type": "execute_result"
    }
   ],
   "source": [
    "tags = 'O LOC LOC O OFF O O O O CRI CRI O SUF O O O O O DAT DAT O O O O O O O O O O O O O O O O O O O O O O O O O O O O O O O O O O O O O O O O O O O O O O O O O O O O O O O O O O O O O O O O O O O O O O O O O O O O O O O O O O O O O O O O O O O O O O O O O O O O O O O'\n",
    "tags_list.append(tags)\n",
    "(len(to_annotate[idx][1].split())==len(tags_list[idx].split()))"
   ]
  },
  {
   "cell_type": "code",
   "execution_count": 495,
   "metadata": {},
   "outputs": [
    {
     "data": {
      "text/plain": [
       "[788,\n",
       " 'Преступники украли пять картин из музея Левитана в Ивановской области за четыре минуты . Об этом сообщает « Интерфакс » со ссылкой на пресс-центр МВД России . По словам представителей ведомства , похитители проникли в музей в Плесе в 03:08 . Сотрудники полиции прибыли сразу после срабатывания сигнализации — в 03:12 . Однако к этому времени злоумышленники успели скрыться . Оперативники выяснили , что преступников было двое . Сначала они залили две камеры видеонаблюдения краской из аэрозольного баллончика , а потом кувалдами разбили бронированное стекло . Из Дома-музея Исаака Левитана они вынесли пять полотен Левитана: « Розы » ,  « Овраг за забором » ,  « Тихая речка » ,  « Полустанок » и « Речная заводь » . Это пятая часть коллекции музея . По предварительным данным , ущерб составляет около 77 миллионов рублей . ',\n",
       " '20140806four']"
      ]
     },
     "execution_count": 495,
     "metadata": {},
     "output_type": "execute_result"
    }
   ],
   "source": [
    "idx = 48\n",
    "to_annotate[idx]"
   ]
  },
  {
   "cell_type": "code",
   "execution_count": 496,
   "metadata": {},
   "outputs": [
    {
     "data": {
      "text/plain": [
       "True"
      ]
     },
     "execution_count": 496,
     "metadata": {},
     "output_type": "execute_result"
    }
   ],
   "source": [
    "tags = 'OFF CRI O O O LOC LOC O LOC LOC O O O O O O O O O O O O O O O O O O O O O O O O O O O LOC O O O O O O O O O O O O O O O O O O OFF O O O O O O O OFF O OFF O O O O O O O O O O O O O O O O O O O O LOF LOF LOF O O O O O O O O O O O O O O O O O O O O O O O O O O O O O O O O O SUF O O O O O O O O O O O O'\n",
    "tags_list.append(tags)\n",
    "(len(to_annotate[idx][1].split())==len(tags_list[idx].split()))"
   ]
  },
  {
   "cell_type": "code",
   "execution_count": 497,
   "metadata": {},
   "outputs": [
    {
     "data": {
      "text/plain": [
       "[788,\n",
       " 'Угонщик не смог похитить автомобиль « Бентли » в центре столицы на глазах у хозяина машины . Причиной неудачи стали другие автомобили , которые « заперли » дорогостоящую иномарку . В результате злоумышленник прихватил лишь ключи от машины , сообщает « Интерфакс » со ссылкой на пресс-службу управления МВД по Москве . Инцидент произошел в ночь на понедельник , 2 июня , на улице Большая Якиманка . Выяснилось , что когда владелец дорогостоящей иномарки садился в автомобиль , к нему подошел неизвестный и , угрожая физической расправой , потребовал ключи от машины . Затем , угонщик сел за руль и попытался скрыться , однако сделать это не получилось , поскольку « Бентли » оказалась заблокирована другими автомобилями . В результате злоумышленник сбежал , прихватив ключи от иномарки . Ведется розыск подозреваемого . ',\n",
       " '20140603crime1']"
      ]
     },
     "execution_count": 497,
     "metadata": {},
     "output_type": "execute_result"
    }
   ],
   "source": [
    "idx = 49\n",
    "to_annotate[idx]"
   ]
  },
  {
   "cell_type": "code",
   "execution_count": 498,
   "metadata": {},
   "outputs": [
    {
     "data": {
      "text/plain": [
       "True"
      ]
     },
     "execution_count": 498,
     "metadata": {},
     "output_type": "execute_result"
    }
   ],
   "source": [
    "tags = 'OFF O O O O O O O O LOC LOC O O O O O O O O O O O O O O O O O O O O O OFF O O O O O O O O O O O O O O O O O O O O O O O O O O DAT DAT O O LOC LOC LOC O O O O O O O O O O O O O O O O O O O O O O O O O O O O O OFF O O O O O O O O O O O O O O O O O O O O O O O O OFF O O O O O O O O O O O'\n",
    "tags_list.append(tags)\n",
    "(len(to_annotate[idx][1].split())==len(tags_list[idx].split()))"
   ]
  },
  {
   "cell_type": "code",
   "execution_count": 500,
   "metadata": {},
   "outputs": [
    {
     "data": {
      "text/plain": [
       "[790,\n",
       " 'В Москве по подозрению в вымогательстве двух миллионов долларов у банка « Тинькофф » задержан разработчик компьютерных игр . Об этом в субботу , 2 ноября , сообщает телеканал НТВ . Сейчас подозреваемый содержится под стражей . Он частично признал вину . По статье о вымогательстве ему грозит до 15 лет колонии . По данным телеканала , Петр Головин утверждал , что завладел базой данных на всех клиентов банка , и угрожал передать ее третьим лицам . Сотрудники банка согласились заплатить за эту базу 600 тысяч долларов . При получении денег Головина задержали полицейские . Ни подтверждения , ни опровержения информации о получении Головиным доступа к базе данных банка в сообщении не приводится . Подробной информации о личности подозреваемого пока также нет . Известно только , что Головин родился в 1980 году . ',\n",
       " '20131102tinkoff']"
      ]
     },
     "execution_count": 500,
     "metadata": {},
     "output_type": "execute_result"
    }
   ],
   "source": [
    "idx = 50\n",
    "to_annotate[idx]"
   ]
  },
  {
   "cell_type": "code",
   "execution_count": 501,
   "metadata": {},
   "outputs": [
    {
     "data": {
      "text/plain": [
       "True"
      ]
     },
     "execution_count": 501,
     "metadata": {},
     "output_type": "execute_result"
    }
   ],
   "source": [
    "tags = 'O LOC O O O CRI O O O O SUF O SUF O O O O O O O O O O O DAT DAT O O O O O O O O O O O O O O O O O O O CRI O O O O O O O O O O O OFF OFF O O O O O O O O O O O O O O O O O O O O O O O O O O O O O O O O OFF O O O O O O O O O O O OFF O O O O O O O O O O O O O O O O O O O O O O O OFF O O O O O'\n",
    "tags_list.append(tags)\n",
    "(len(to_annotate[idx][1].split())==len(tags_list[idx].split()))"
   ]
  },
  {
   "cell_type": "code",
   "execution_count": 502,
   "metadata": {},
   "outputs": [
    {
     "data": {
      "text/plain": [
       "[795,\n",
       " 'Внедорожник , в котором спали двое детей , угнали на северо-востоке Москвы вечером в субботу , 8 февраля . Об этом сообщает агентство « Интерфакс » со ссылкой на начальника управления информации и общественных связей ГУ МВД России по Москве Андрея Галиакберова . Автомобиль Land Rover был припаркован около одного из домов на Абрамцевской улице , рассказал Галиакберов . Как предположили в полиции , угонщик сначала не заметил детей , а затем , обнаружив их , бросил машину на Угличской улице недалеко от места угона . Детям , оказавшимся в машине на заднем сиденье , 5 и 10 лет , уточняет интернет-издание Life News . Почему они спали в машине и где были взрослые , не поясняется . Несовершеннолетние не пострадали и уже переданы родителям . Полиция разыскивает злоумышленника , заверил представитель ГУ МВД по Москве . ',\n",
       " '20140208kids']"
      ]
     },
     "execution_count": 502,
     "metadata": {},
     "output_type": "execute_result"
    }
   ],
   "source": [
    "idx = 51\n",
    "to_annotate[idx]"
   ]
  },
  {
   "cell_type": "code",
   "execution_count": 503,
   "metadata": {},
   "outputs": [
    {
     "data": {
      "text/plain": [
       "True"
      ]
     },
     "execution_count": 503,
     "metadata": {},
     "output_type": "execute_result"
    }
   ],
   "source": [
    "tags = 'O O O O O O O O CRI O LOC LOC O O O O DAT DAT O O O O O O O O O O O O O O O O O O O O O O O O O O O O O O O O O O O LOC LOC O O O O O O O O O OFF O O O O O O O O O O O O O O LOC LOC O O O O O O O O O O O O O O O O O O O O O O O O O O O O O O O O O O O O O O O O O O O O O O O O O O O O O O O O '\n",
    "tags_list.append(tags)\n",
    "(len(to_annotate[idx][1].split())==len(tags_list[idx].split()))"
   ]
  },
  {
   "cell_type": "code",
   "execution_count": 504,
   "metadata": {},
   "outputs": [
    {
     "data": {
      "text/plain": [
       "[798,\n",
       " 'В результате стрельбы в школе 263 в московском районе Отрадное погибли один сотрудник полиции и учитель . Об этом сообщает РИА Новости со ссылкой на МВД . Еще один полицейский получил ранения . Все дети , находившиеся в помещении , куда проник стрелявший , были освобождены , никто из них не пострадал . Ранее в ведомстве сообщили , что напавший на школу был обезврежен , не уточнив при этом подробностей . Стрелком оказался один из учеников старших классов . Никаких требований стрелявший не выдвигал . Мотивы его действий пока не ясны . Как ранее сообщалось , днем 3 февраля вооруженный преступник проник в школу 263 в Отрадном: угрожая охраннику оружием , он проник в кабинет биологии , где в это время шел урок у десятого класса . Когда на место происшествия прибыли полицейские , стрелок открыл по ним огонь из окна . ',\n",
       " '20140203teacher']"
      ]
     },
     "execution_count": 504,
     "metadata": {},
     "output_type": "execute_result"
    }
   ],
   "source": [
    "idx = 52\n",
    "to_annotate[idx]"
   ]
  },
  {
   "cell_type": "code",
   "execution_count": 505,
   "metadata": {},
   "outputs": [
    {
     "data": {
      "text/plain": [
       "True"
      ]
     },
     "execution_count": 505,
     "metadata": {},
     "output_type": "execute_result"
    }
   ],
   "source": [
    "tags = 'O O CRI O LOC LOC O LOC LOC LOC O SUF SUF SUF O SUF O O O O O O O O O O O O O O O O O O O O O O O O O O OFF O O O O O O O O O O O O O O O O O O O O O O O O O O O O OFF O OFF OFF OFF OFF OFF O  O O O O O O O O O O O O O O O O O O DAT DAT O O O O O LOC O LOC O O O O O O O O O O O O O O O O O O O O O O O O O O O O O O O O O O O'\n",
    "tags_list.append(tags)\n",
    "(len(to_annotate[idx][1].split())==len(tags_list[idx].split()))"
   ]
  },
  {
   "cell_type": "code",
   "execution_count": 506,
   "metadata": {},
   "outputs": [
    {
     "data": {
      "text/plain": [
       "[803,\n",
       " 'По факту гибели двух школьниц из Новосибирска , покончивших с собой 2 февраля , возбуждено уголовное дело о доведении до самоубийства . Об этом сообщается на сайте Следственного управления СК РФ по Новосибирской области . Тела двух девушек были обнаружены в Горском жилмассиве Ленинского района Новосибирска вечером 2 февраля . В ходе проверки выяснилось , что 14-летняя и 17-летняя школьницы прыгнули с 14 этажа жилого дома . Как уточняется , девушки были представительницами готической субкультуры . У одной из них найден уцелевший мобильный телефон , на котором сохранилась видеозапись прощания самоубийц с друзьями и родственниками . Также в личных вещах погибших обнаружена предсмертная записка . Дело возбуждено по статье 110 УК РФ ( доведение до самоубийства ) . Полиция выясняет мотивы суицида несовершеннолетних . ',\n",
       " '20130203twogirls']"
      ]
     },
     "execution_count": 506,
     "metadata": {},
     "output_type": "execute_result"
    }
   ],
   "source": [
    "idx = 53\n",
    "to_annotate[53]"
   ]
  },
  {
   "cell_type": "code",
   "execution_count": 507,
   "metadata": {},
   "outputs": [
    {
     "data": {
      "text/plain": [
       "True"
      ]
     },
     "execution_count": 507,
     "metadata": {},
     "output_type": "execute_result"
    }
   ],
   "source": [
    "tags = 'O O O SUF SUF O LOC O CRI CRI CRI DAT DAT O O O O O CRI CRI CRI O O O O O O O O O O O O O O O SUF SUF O O O LOC LOC LOC LOC LOC O DAT DAT O O O O O O O O O O SUF O O O O O O O O O O SUF O O O O O O O O O O O O O O O O O O O O O O O O O O O O O O O O O O O O O O O O O O CRI CRI CRI O O O O O O O O'\n",
    "tags_list.append(tags)\n",
    "(len(to_annotate[idx][1].split())==len(tags_list[idx].split()))"
   ]
  },
  {
   "cell_type": "code",
   "execution_count": 508,
   "metadata": {},
   "outputs": [
    {
     "data": {
      "text/plain": [
       "[810,\n",
       " 'Сотрудник полиции погиб в результате обстрела его автомобиля на окраине Хасавюрта . Об этом пишет « Российская газета » со ссылкой на пресс-службу МВД по Республике Дагестан . Нападавшие перегородили путь машине полицейского и открыли огонь из автоматического оружия . Сотрудник правоохранительных органов , находившийся за рулем , умер от полученных ранений . Также пострадал проходящий мимо мужчина , он был госпитализирован . « Сотрудник городской полиции получил тяжелое огнестрельное ранение и скончался по дороге в больницу . В результате беспорядочной стрельбы бандитов получил касательное ранение и прохожий . Его доставили в городскую клиническую больницу » , — рассказали в правоохранительных органах . В настоящий момент на месте происшествия работает оперативно-следственная группа . В городе объявлен план « Перехват » . ',\n",
       " '20140709dagestan']"
      ]
     },
     "execution_count": 508,
     "metadata": {},
     "output_type": "execute_result"
    }
   ],
   "source": [
    "idx = 54\n",
    "to_annotate[54]"
   ]
  },
  {
   "cell_type": "code",
   "execution_count": 509,
   "metadata": {},
   "outputs": [
    {
     "data": {
      "text/plain": [
       "True"
      ]
     },
     "execution_count": 509,
     "metadata": {},
     "output_type": "execute_result"
    }
   ],
   "source": [
    "tags = 'SUF SUF O O O CRI O O O LOC LOC O O O O O O O O O O O O O O O O O O O O O O O O O O O O O SUF SUF SUF O O O O O O O O O O O O SUF SUF SUF O O O O O O SUF SUF SYF O O O O O O O O O O O O O O O OFF O O O O SUF O O O O O O O O O O O O O O O O O O O O O O O O O O O O O O O O O'\n",
    "tags_list.append(tags)\n",
    "(len(to_annotate[idx][1].split())==len(tags_list[idx].split()))"
   ]
  },
  {
   "cell_type": "code",
   "execution_count": 510,
   "metadata": {},
   "outputs": [
    {
     "data": {
      "text/plain": [
       "[813,\n",
       " 'Предполагаемый мошенник , похитивший более 300 миллионов рублей у футболиста петербургского « Зенита » Александра Кержакова , задержан в Воронеже . Об этом сообщил в среду , 2 апреля , Следственный комитет России . Задержанный 36-летний Михаил Сурин доставлен в Санкт-Петербург , решается вопрос о его аресте . Если суд признает вину Сурина , ему грозит до 10 лет тюрьмы . По версии следствия , в период с февраля 2011-го по октябрь 2012 года Сурин и его сообщники мошенническим путем выманили у спортсмена свыше 329 миллионов рублей . Деньги они обещали выгодно вложить в строительство нефтеперерабатывающего завода в Воронежской области , однако в действительности просто присвоили . Александр Кержаков входит в состав российской сборной , а также является лучшим бомбардиром « Зенита »  ( 155 голов ) . Всего же на его счету 211 мячей . . ',\n",
       " '20140402kerzhakov']"
      ]
     },
     "execution_count": 510,
     "metadata": {},
     "output_type": "execute_result"
    }
   ],
   "source": [
    "idx = 55\n",
    "to_annotate[55]"
   ]
  },
  {
   "cell_type": "code",
   "execution_count": 511,
   "metadata": {},
   "outputs": [
    {
     "data": {
      "text/plain": [
       "True"
      ]
     },
     "execution_count": 511,
     "metadata": {},
     "output_type": "execute_result"
    }
   ],
   "source": [
    "tags = 'O OFF O O O O O O O O O O O O SUF SUF O O O LOC O O O O O O O DAT DAT O O O O O O O OFF OFF O O LOC O O O O O O O O O O O OFF O O O O O O O O O O O O O O O DAT DAT O DAT DAT DAT OFF O O OFF O O O O O O O O O O O O O O O O O O O O O O O O O O O O O SUF SUF O O O O O O O O O O O O O O O O O O O O O O O O O O O O'\n",
    "tags_list.append(tags)\n",
    "(len(to_annotate[idx][1].split())==len(tags_list[idx].split()))"
   ]
  },
  {
   "cell_type": "code",
   "execution_count": 512,
   "metadata": {},
   "outputs": [
    {
     "data": {
      "text/plain": [
       "[818,\n",
       " 'В США трое вооруженных людей ограбили грузовую фуру с золотом , сообщает Reuters . Цена похищенного составляет 4 миллиона долларов . Инцидент произошел 1 марта на автомагистрали I-95 в Северной Каролине . Фура , груженая золотом и серебром , двигалась из Майами в Массачусетс . Водителю автомобиля из-за технических неполадок пришлось остановиться на обочине в 50 километрах к востоку от города Роли . В этот момент к грузовику подъехал белый фургон , из которого вышли трое вооруженных людей . Они заставили всех лечь на землю и связали руки . Затем злоумышленники под угрозой оружия загнали двоих охранников в лес , а сами забрали несколько золотых слитков и скрылись . Джей Родригез , исполнительный директор транспортной компании TransValue , которой принадлежит грузовик , пообещал 50 тысяч долларов за помощь в аресте преступников . ',\n",
       " '20150302rob_the_caravans']"
      ]
     },
     "execution_count": 512,
     "metadata": {},
     "output_type": "execute_result"
    }
   ],
   "source": [
    "idx = 56\n",
    "to_annotate[idx]"
   ]
  },
  {
   "cell_type": "code",
   "execution_count": 515,
   "metadata": {},
   "outputs": [
    {
     "data": {
      "text/plain": [
       "True"
      ]
     },
     "execution_count": 515,
     "metadata": {},
     "output_type": "execute_result"
    }
   ],
   "source": [
    "tags = 'O LOC OFF OFF OFF CRI O O O O O O O O O O O O O O O O O DAT DAT O LOC LOC O LOC LOC O O O O O O O O O O LOC O LOC O O O O O O O O O O O O O O O O LOC O O O O O O O O O O O O O OFF OFF OFF O O O O O O O O O O O O OFF O O O O O O O O O O O O O O O O O O SUF SUF O O O O O SUF O O O O O O O O O O O O O O O O'\n",
    "tags_list.append(tags)\n",
    "(len(to_annotate[idx][1].split())==len(tags_list[idx].split()))"
   ]
  },
  {
   "cell_type": "code",
   "execution_count": 516,
   "metadata": {},
   "outputs": [
    {
     "data": {
      "text/plain": [
       "[821,\n",
       " 'В Москве при перевозке совершили побег три особо опасных рецидивиста . Об этом 8 августа сообщает агентство « Интерфакс » со ссылкой на источник в правоохранительных органах . Рецидивистов везли в автозаке в изолятор « Щелково » , расположенный в Зеленограде . На 85-м километре внешнего кольца МКАД машине пришлось остановиться из-за поломки . Во время ремонта рецидивисты , закованные в наручники , сумели сбежать . По одной версии , конвойные допустили халатность . По другой версии , они находились в сговоре с беглецами . Какой статус имели беглецы ( задержанные или арестованные , подозреваемые или обвиняемые ) , источник « Интерфакса » не сообщил . Позднее в пресс-службе ГУ МВД Московской области заявили , что беглецы — молодые люди 1990 , 1991 и 1992 годов рождения . Двое из них проходят по делу о наркоторговле , а один — по делу о краже . ',\n",
       " '20130808escape']"
      ]
     },
     "execution_count": 516,
     "metadata": {},
     "output_type": "execute_result"
    }
   ],
   "source": [
    "idx = 57\n",
    "to_annotate[57]"
   ]
  },
  {
   "cell_type": "code",
   "execution_count": 517,
   "metadata": {},
   "outputs": [
    {
     "data": {
      "text/plain": [
       "True"
      ]
     },
     "execution_count": 517,
     "metadata": {},
     "output_type": "execute_result"
    }
   ],
   "source": [
    "tags = 'O LOC O O CRI CRI OFF OFF OFF OFF O O O DAT DAT O O O O O O O O O O O O O OFF O O O O O O O O O O O O O O LOC LOC LOC LOC LOC O O O O O O O O O OFF O O O O O O O O O O O O O O O O O O O O O O O O O O O O O O O O O O O O O O O O O O O O O O O O O O O O O O O O O O O O O O O O O O O O O O O O O O O O O O O O O O O O O O O'\n",
    "tags_list.append(tags)\n",
    "(len(to_annotate[idx][1].split())==len(tags_list[idx].split()))"
   ]
  },
  {
   "cell_type": "code",
   "execution_count": 518,
   "metadata": {},
   "outputs": [
    {
     "data": {
      "text/plain": [
       "[821,\n",
       " 'В городе Бийск Алтайского края с выставки « Кунсткамера » украли две колбы с сиамскими близнецами . Об этом 9 декабря сообщается на сайте МВД РФ . По подозрению в краже задержана 32-летняя местная жительница . По версии следствия , она пришла на выставку в качестве посетительницы . Когда смотрительница отвлеклась , женщина сунула колбы под куртку и покинула музей . Подозреваемую задержали через день после совершения кражи , экспонаты уже возвращены на выставку . По информации издания Vip-Barnaul , женщина признала свою вину , однако не смогла дать внятного ответа о мотиве преступления . По информации открытых источников , выставка « Кунсткамера » со 2 до 15 декабря проходит в Краеведческом музее имени Виталия Бианки . Организаторы выставки утверждают , что их цель — продемонстрировать гражданам последствия алкоголизма и наркомании . ',\n",
       " '20131209siam']"
      ]
     },
     "execution_count": 518,
     "metadata": {},
     "output_type": "execute_result"
    }
   ],
   "source": [
    "idx = 58\n",
    "to_annotate[58]"
   ]
  },
  {
   "cell_type": "code",
   "execution_count": 519,
   "metadata": {},
   "outputs": [
    {
     "data": {
      "text/plain": [
       "True"
      ]
     },
     "execution_count": 519,
     "metadata": {},
     "output_type": "execute_result"
    }
   ],
   "source": [
    "tags = 'O O LOC LOC LOC O O O LOC O CRI O O O O O O O O DAT DAT O O O O O O O O O CRI O O OFF OFF O O O O O O O O O O O O O O O O O OFF O O O O O O O O O O O O O O O O O O O O O O O O O O O OFF O O O O O O O O O O O O O O O O O O O O O LOC O O O O O O O O LOC LOC LOC LOC LOC O SUF SUF O O O O O O O O O O O O O'\n",
    "tags_list.append(tags)\n",
    "(len(to_annotate[idx][1].split())==len(tags_list[idx].split()))"
   ]
  },
  {
   "cell_type": "code",
   "execution_count": 520,
   "metadata": {},
   "outputs": [
    {
     "data": {
      "text/plain": [
       "[826,\n",
       " 'Во Владивостоке по подозрению в вымогательстве 60 тысяч долларов помещен под арест спортсмен , неформальный лидер дагестанской диаспоры . Об этом 5 августа сообщается на сайте УМВД Приморского края . По информации РИА Новости , арестованного зовут Багама Никабагамаев . МВД называет подозреваемого « чемпионом по боксу » , но РИА Новости сообщает , что он является чемпионом Дальнего Востока по вольной борьбе . По версии следствия , Никабагамаев требовал 60 тысяч долларов от бизнесмена . Газета « Коммерсантъ » сообщает , что спортсмен заставлял предпринимателя вернуть несуществующий долг . Потерпевший обратился в полицию , и 22 июля подозреваемого задержали . По каким причинам затянулось решение вопроса об аресте , не уточняется . В прошлом Никабагамаев уже не раз был судим за вымогательство . В последний раз он вышел на свободу в 2009 году . ',\n",
       " '20130805box']"
      ]
     },
     "execution_count": 520,
     "metadata": {},
     "output_type": "execute_result"
    }
   ],
   "source": [
    "idx = 59\n",
    "to_annotate[59]"
   ]
  },
  {
   "cell_type": "code",
   "execution_count": 521,
   "metadata": {},
   "outputs": [
    {
     "data": {
      "text/plain": [
       "True"
      ]
     },
     "execution_count": 521,
     "metadata": {},
     "output_type": "execute_result"
    }
   ],
   "source": [
    "tags = 'O LOC O O O CRI O O O O O O O O O O O O O O O DAT DAT O O O O O O O O O O O O O O OFF OFF O O O O O O O O O O O O O O O O O O O O O O O O O O O O O OFF O O O O O SUF O O O O O O O O O O O O O O O O O O O O O DAT DAT O O O O O O O O O O O O O O O O O OFF O O O O O O O O O O O O O O O O O O O'\n",
    "tags_list.append(tags)\n",
    "(len(to_annotate[idx][1].split())==len(tags_list[idx].split()))"
   ]
  },
  {
   "cell_type": "code",
   "execution_count": 522,
   "metadata": {},
   "outputs": [
    {
     "data": {
      "text/plain": [
       "[828,\n",
       " 'В Ставрополе произошла массовая драка между студентами Северо-Кавказского федерального университета . Об этом 1 апреля сообщает РИА Новости . В конфликте , произошедшем вечером 31 марта около Дворца культуры и спорта профсоюзов , участвовали до сорока человек . По информации агентства « Интерфакс » , среди них уроженцы Ингушетии и Карачаево-Черкесии . Один молодой человек стрелял из травматического пистолета . Ранения в ходе драки получили три человека . Все они были доставлены в больницу , но врачи оставили в стационаре только одного . В полицию доставили 23 человека , на 17 из них составили административные протоколы . Возбуждено уголовное дело по 213-й статье УК РФ ( хулиганство ) . Университет проводит в связи с инцидентом внутреннюю проверку . По предварительным данным , ссора между двумя группами студентов произошла на бытовой почве . ',\n",
       " '20130401univer']"
      ]
     },
     "execution_count": 522,
     "metadata": {},
     "output_type": "execute_result"
    }
   ],
   "source": [
    "idx = 60\n",
    "to_annotate[60]"
   ]
  },
  {
   "cell_type": "code",
   "execution_count": 523,
   "metadata": {},
   "outputs": [
    {
     "data": {
      "text/plain": [
       "True"
      ]
     },
     "execution_count": 523,
     "metadata": {},
     "output_type": "execute_result"
    }
   ],
   "source": [
    "tags = 'O LOC O O CRI O O O O O O O O DAT DAT O O O O O O O O O DAT DAT O LOC LOC O LOC LOC O O O O O O O O O O O O O O O O O O O O O O O O O O O O O O O O O SUF SUF O O O O O O O O O O O O O O O O O O O O O O O O O O O O O O O O O O O O O O O CRI O O O O O O O O O O O O O O O O O O OFF OFF O O O O O'\n",
    "tags_list.append(tags)\n",
    "(len(to_annotate[idx][1].split())==len(tags_list[idx].split()))"
   ]
  },
  {
   "cell_type": "code",
   "execution_count": 524,
   "metadata": {},
   "outputs": [
    {
     "data": {
      "text/plain": [
       "[841,\n",
       " 'В афганском городе Джалалабад у здания консульства Индии террористы-смертники подорвали заминированный автомобиль , сообщает Agence France-Presse . По предварительным данным , погибли 8 человек , еще более 20 получили различные травмы . Заминированный автомобиль с тремя смертниками врезался в ограду рядом с консульством , в результате взрыва пострадали близлежащие магазины . Сведений о пострадавших и погибших среди сотрудников консульства Индии нет . По словам представителя полиции Джалалабада , которые приводит Reuters , после взрыва , который произошел утром в субботу , 3 августа , завязалась перестрелка . Сведений о том , кто из действующих на территории Афганистана террористических группировок взял на себя ответственность за теракт , не поступало . Associated Press отмечает , что боевики движения « Талибан » уже отвергли свою причастность к взрыву . ',\n",
       " '20130803explosion']"
      ]
     },
     "execution_count": 524,
     "metadata": {},
     "output_type": "execute_result"
    }
   ],
   "source": [
    "idx = 61\n",
    "to_annotate[61]"
   ]
  },
  {
   "cell_type": "code",
   "execution_count": 525,
   "metadata": {},
   "outputs": [
    {
     "data": {
      "text/plain": [
       "True"
      ]
     },
     "execution_count": 525,
     "metadata": {},
     "output_type": "execute_result"
    }
   ],
   "source": [
    "tags = 'O O O LOC O LOC LOC LOC OFF CRI O O O O O O O O O O O O SUF SUF O O O O O O O O O O O O OFF O O O O O LOC O O O O O O O O O O O O O O O O O O O O O O O LOC O O O O O O O O O O O O O O DAT DAT O O O O O O O O O O O O O LOC O O O O O O O O O O O O O O O O O O O O O O O O O O O O O'\n",
    "tags_list.append(tags)\n",
    "(len(to_annotate[idx][1].split())==len(tags_list[idx].split()))"
   ]
  },
  {
   "cell_type": "code",
   "execution_count": 526,
   "metadata": {},
   "outputs": [
    {
     "data": {
      "text/plain": [
       "[844,\n",
       " 'В Ульяновске задержаны трое жителей Краснодарского края , подозреваемые в попытке продать годовалого ребенка . Об этом 4 июня сообщается на сайте Следственного комитета РФ . По версии следствия , матерью ребенка являлась одна из задержанных . Она вместе с двумя своими знакомыми предложила некоей жительнице Ульяновска купить ребенка за 1 миллион 200 тысяч рублей . 30 мая покупательница для вида согласилась на сделку , но на самом деле обратилась в полицию . 31 мая при осуществлении сделки подозреваемых задержали . Вскоре было установлено , что к преступлению причастен еще один человек . Его разыскивают в Краснодарском крае . Фигурантам дела предъявлены обвинения по статьям УК РФ 30 , 127 . 1 часть 3 пункт « в »  ( покушение на куплю-продажу человека , в отношении несовершеннолетнего , находящегося в беспомощном состоянии , совершенное организованной группой ) . ',\n",
       " '20130604child']"
      ]
     },
     "execution_count": 526,
     "metadata": {},
     "output_type": "execute_result"
    }
   ],
   "source": [
    "idx = 62\n",
    "to_annotate[62]"
   ]
  },
  {
   "cell_type": "code",
   "execution_count": 527,
   "metadata": {},
   "outputs": [
    {
     "data": {
      "text/plain": [
       "True"
      ]
     },
     "execution_count": 527,
     "metadata": {},
     "output_type": "execute_result"
    }
   ],
   "source": [
    "tags = 'O LOC O OFF OFF OFF OFF O O O O CRI CRI CRI O O O DAT DAT O O O O O O O O O O O O O O O O O O O O O O O O O O O LOC O O O O O O O O O DAT DAT O O O O O O O O O O O O O O O DAT DAT O O O OFF O O O O O O O O O O O O O O O O O LOC LOC O O O O O O O O O O O O O O O O O O O O O O O O O O O O O O O O O O O O O O O O'\n",
    "tags_list.append(tags)\n",
    "(len(to_annotate[idx][1].split())==len(tags_list[idx].split()))"
   ]
  },
  {
   "cell_type": "code",
   "execution_count": 528,
   "metadata": {},
   "outputs": [
    {
     "data": {
      "text/plain": [
       "[844,\n",
       " 'На Международном банковском конгрессе в Санкт-Петербурге украден портфель помощника председателя комитета по энергетике Госдумы РФ Михаила Курячева . Об этом 5 июня сообщает издание « Фонтанка . ру » . Преступление было совершено примерно в 20 часов 4 июня . Курячев оставил портфель со служебными документами и айпадом у входа на вторую сцену Мариинского театра . Когда он вернулся , портфеля на месте не было . Полицейским удалось найти свидетелей , которые описали внешность вора . Это мужчина в черной футболке и черных шортах . Его разыскивают . XXII Международный банковский конгресс проходит в Петербурге 4-7 июня . Тема мероприятия — « Финансовая устойчивость: микро- и макроаспекты » . 4 июня участники конгресса побывали на экскурсии в Кронштадте , затем в Юсуповском дворце , а в 20 часов прибыли в Мариинский театр на гала-концерт солистов оперы и балета . ',\n",
       " '20130605duma']"
      ]
     },
     "execution_count": 528,
     "metadata": {},
     "output_type": "execute_result"
    }
   ],
   "source": [
    "idx = 63\n",
    "to_annotate[idx]"
   ]
  },
  {
   "cell_type": "code",
   "execution_count": 529,
   "metadata": {},
   "outputs": [
    {
     "data": {
      "text/plain": [
       "True"
      ]
     },
     "execution_count": 529,
     "metadata": {},
     "output_type": "execute_result"
    }
   ],
   "source": [
    "tags = 'O LOC LOC LOC O LOC CRI CRI O O O O O O O SUF SUF O O O DAT DAT O O O O O O O O O O O O O O O DAT DAT O SUF O O O O O O O O O O O O LOC LOC O O O O O O O O O O O O O O O O O O O O O O O O O O O O O O O O O O O O O O O LOC O O O O O O O O O O O O O O O O O O O O O O O O O O O O O O O O O O O LOC LOC O O O O O O O'\n",
    "tags_list.append(tags)\n",
    "(len(to_annotate[idx][1].split())==len(tags_list[idx].split()))"
   ]
  },
  {
   "cell_type": "code",
   "execution_count": 530,
   "metadata": {},
   "outputs": [
    {
     "data": {
      "text/plain": [
       "[855,\n",
       " 'Житель поселка Лебединое в Челябинской области расстрелял семью брата , а затем попытался покончить с собой , сообщает в воскресенье пресс-служба ГУ МВД России по региону . В ночь на воскресенье пенсионер по инвалидности 1948 года рождения в пьяном виде пришел к брату , с которым у него давно сложились неприязненные отношения . В ходе очередной ссоры мужчина выстрелил в брата , его жену , их дочь , а также в своего зятя . Затем он выстрелил себе в грудь , рассказали в полиции . Брат 1953 года рождения , его жена 1957 года рождения и зять 1981 года рождения скончались на месте , а сам стрелявший и его племянница 1981 года рождения доставлены в больницу . Пенсионер использовал собственное охотничье нарезное оружие калибра 7 , 62 миллиметра , добавили в полиции . Как следует из сообщения пресс-службы , процессуальное решение по факту тройного убийства пока не принято . ',\n",
       " '20130505oldman']"
      ]
     },
     "execution_count": 530,
     "metadata": {},
     "output_type": "execute_result"
    }
   ],
   "source": [
    "idx = 64\n",
    "to_annotate[idx]"
   ]
  },
  {
   "cell_type": "code",
   "execution_count": 531,
   "metadata": {},
   "outputs": [
    {
     "data": {
      "text/plain": [
       "True"
      ]
     },
     "execution_count": 531,
     "metadata": {},
     "output_type": "execute_result"
    }
   ],
   "source": [
    "tags = 'OFF OFF LOC O LOC LOC CRI SUF SUF O O O O O O O O O O O O O O O O O O O O O O O O O O O O O O O O O SUF O O O O O O O O O O O O O O OFF O O SUF O O SUF O O SUF O O O O O SUF O O O O O O O O O O O O SUF O O O O O SUF O O O O O SUF O O O O O O O O O O O O SUF O O O O O O O O O O O O O O O O O O O O O O O O O O O O O O O O O CRI CRI O O O '\n",
    "tags_list.append(tags)\n",
    "(len(to_annotate[idx][1].split())==len(tags_list[idx].split()))"
   ]
  },
  {
   "cell_type": "code",
   "execution_count": 532,
   "metadata": {},
   "outputs": [
    {
     "data": {
      "text/plain": [
       "[856,\n",
       " 'Подозреваемый в организации взрывов у здания комитета коммунистической партии провинции Шаньси в городе Тайюань задержан , передает в пятницу , 8 ноября , агентство Associated Press . Как сообщили местные власти , 41-летний Фэн Чжицзюнь уже признался в подготовке серии взрывов . Выяснилось , что мужчина ранее был приговорен к девяти годам заключения за кражу . В квартире у Фэна Чжицзюня нашли компоненты взрывных устройств и другие доказательства причастности к терактам . О возможных мотивах задержанного ничего не сообщается . Взрывы в Тайюане произошли 6 ноября около 7:40 утра по местному времени ( 3:40 по Москве ) . В результате терактов один человек погиб и восемь получили ранения , причем один ранен тяжело . По словам очевидцев , они слышали не менее семи взрывов . Взрывные устройства были начинены поражающими элементами и несколько из них находились в клумбах . ',\n",
       " '20131108shanxi']"
      ]
     },
     "execution_count": 532,
     "metadata": {},
     "output_type": "execute_result"
    }
   ],
   "source": [
    "idx = 65\n",
    "to_annotate[idx]"
   ]
  },
  {
   "cell_type": "code",
   "execution_count": 533,
   "metadata": {},
   "outputs": [
    {
     "data": {
      "text/plain": [
       "True"
      ]
     },
     "execution_count": 533,
     "metadata": {},
     "output_type": "execute_result"
    }
   ],
   "source": [
    "tags = 'O O O O O O O O O O LOC O O LOC O O O O O O DAT DAT O O O O O O O O O O O OFF OFF O O O O O O O O O O O O O O O O O O O O O O O O OFF OFF O O O O O O O O O O O O O O O O O O O O O LOC O DAT DAT O O O O O O O O O O O O O O CRI O O O O O O O O O O O O O O O O O O O O O O O O O O O O O O O O O O O O O O'\n",
    "tags_list.append(tags)\n",
    "(len(to_annotate[idx][1].split())==len(tags_list[idx].split()))"
   ]
  },
  {
   "cell_type": "code",
   "execution_count": 534,
   "metadata": {},
   "outputs": [
    {
     "data": {
      "text/plain": [
       "[858,\n",
       " 'Начальник московского ГУ МВД Анатолий Якунин распорядился создать специальную оперативную группу для расследования сожжения Корана . Об этом 9 января сообщает РИА Новости . Опергруппе поручено в кратчайшие сроки разыскать организаторов акции , видеозапись которой была размещена в интернете 5 января . На записи видно , как фанаты футбольного клуба ЦСКА сначала сжигают Коран , а затем требуют от пассажира метро неславянской внешности отречься от Аллаха . О возбуждении уголовного дела в отношении авторов ролика пока не сообщается . Неизвестно , какие обвинения будут им предъявлены . В интернете можно найти большое количество роликов , на которых сжигают Коран или призывают его сжигать . ВКонтакте этому виду протеста посвящена специальная группа . Священными в исламе считаются только экземпляры Корана на арабском языке . Переводы книги не считаются собственно Кораном . ',\n",
       " '20140109koran']"
      ]
     },
     "execution_count": 534,
     "metadata": {},
     "output_type": "execute_result"
    }
   ],
   "source": [
    "idx = 66\n",
    "to_annotate[idx]"
   ]
  },
  {
   "cell_type": "code",
   "execution_count": 535,
   "metadata": {},
   "outputs": [
    {
     "data": {
      "text/plain": [
       "True"
      ]
     },
     "execution_count": 535,
     "metadata": {},
     "output_type": "execute_result"
    }
   ],
   "source": [
    "tags = 'O O O O O O O O O O O O O CRI CRI O O O DAT DAT O O O O O O O O O O O O O O O O O O O DAT DAT O O O O O O OFF OFF OFF OFF O CRI CRI O O O O O SUF SUF SUF SUF O O O O O O O O O O O O O O O O O O O O O O O O O O O O O O O O O O CRI CRI O O O O O O O O O O O O O O O O O O O O O O O O O O O O O O O'\n",
    "tags_list.append(tags)\n",
    "(len(to_annotate[idx][1].split())==len(tags_list[idx].split()))"
   ]
  },
  {
   "cell_type": "code",
   "execution_count": 537,
   "metadata": {},
   "outputs": [
    {
     "data": {
      "text/plain": [
       "[861,\n",
       " 'Двое заместителей префекта Южного административного округа Москвы задержаны по подозрению в мошенничестве на сумму 5 миллионов рублей . Об этом сообщается на сайте МВД России . Заместители префекта Наталья Баташова и Владимир Гилев , а также генеральный директор ООО « Группа компаний ’Здоровая нация’ » Максим Громов подозреваются в том , что потребовали деньги у директора коммерческой фирмы , заключившей контракт на обустройство детских спортивных площадок ЮАО Москвы . Чиновников задержали с поличным в ходе « оперативного эксперимента » . На момент написания новости имена Баташовой и Гилева удалены из списка заместителей префекта ЮАО на сайте правительства Москвы . Однако их упоминания сохранились в копии , доступной через кэш « Яндекса » . По инциденту возбуждено уголовное дело о мошенничестве ( статья 159 УК РФ ) . Материалы дела переданы в Следственный комитет МВД РФ . ',\n",
       " '20130306zamprefect']"
      ]
     },
     "execution_count": 537,
     "metadata": {},
     "output_type": "execute_result"
    }
   ],
   "source": [
    "idx = 67\n",
    "to_annotate[idx]"
   ]
  },
  {
   "cell_type": "code",
   "execution_count": 538,
   "metadata": {},
   "outputs": [
    {
     "data": {
      "text/plain": [
       "True"
      ]
     },
     "execution_count": 538,
     "metadata": {},
     "output_type": "execute_result"
    }
   ],
   "source": [
    "tags = 'OFF OFF OFF LOC LOC LOC LOC O O O O CRI O O O O O O O O O O O O O O O O OFF OFF O OFF OFF O O O O O O O O O O O O OFF OFF O O O O O O O O O O O O O O O O O O O O O O O O O O O O O O O O O O O O O O OFF O OFF O O O O O O O O O O O O O O O O O O O O O O O O O O O O O O O CRI O O O O O O O O O O O O O O O O'\n",
    "tags_list.append(tags)\n",
    "(len(to_annotate[idx][1].split())==len(tags_list[idx].split()))"
   ]
  },
  {
   "cell_type": "code",
   "execution_count": 539,
   "metadata": {},
   "outputs": [
    {
     "data": {
      "text/plain": [
       "[865,\n",
       " 'В Таджикистане декана факультета иностранных языков Худжандского госуниверситета , профессора М . Зикрияеву заподозрили в содержании притона и сводничестве . Эту информацию распространила « Авеста » . По утверждению ресурса , который ссылается на « информированный источник в правоохранительном ведомстве Согдийской области » , в отношении Зикрияевой возбуждено уголовное дело по соответствующей статье Уголовного кодекса республики . Она помещена под подписку о невыезде . Источник « Авесты » утверждает , что следователи уже собрали доказательства вины декана и передали дело в суд . Подробности этого дела неизвестны ( нет , в частности , информации о том , причастны ли к этому другие представители вуза ) . По словам источника , детали будут обнародованы лишь после приговора суда . Подтверждения или опровержения информации о данном уголовном деле из других источников пока не поступало . ',\n",
       " '20130402suspect']"
      ]
     },
     "execution_count": 539,
     "metadata": {},
     "output_type": "execute_result"
    }
   ],
   "source": [
    "idx = 68\n",
    "to_annotate[idx]"
   ]
  },
  {
   "cell_type": "code",
   "execution_count": 542,
   "metadata": {},
   "outputs": [
    {
     "data": {
      "text/plain": [
       "True"
      ]
     },
     "execution_count": 542,
     "metadata": {},
     "output_type": "execute_result"
    }
   ],
   "source": [
    "tags = 'O LOC O O O O O O O O OFF O OFF O O CRI CRI O CRI O O O O O O O O O O O O O O O O O O O O O LOC LOC O O O O OFF O O O O O O O O O O O O O O O O O O O O O O O O O O O O O O O O O O O O O O O O O O O O O O O O O O O O O O O O O O O O O O O O O O O O O O O O O O O O O O O O O O O O O O'\n",
    "tags_list.append(tags)\n",
    "(len(to_annotate[idx][1].split())==len(tags_list[idx].split()))"
   ]
  },
  {
   "cell_type": "code",
   "execution_count": 543,
   "metadata": {},
   "outputs": [
    {
     "data": {
      "text/plain": [
       "[868,\n",
       " 'Сообщение о заложенном устройстве в аэропорту Внуково оказалось ложным , сообщает « Интерфакс » . Терминалы аэропорта обследовали сотрудники транспортной полиции и кинологи с собаками , однако предметов , схожих со взрывными устройствами обнаружено не было . Ранее стало известно , что после анонимного сообщения о бомбе в аэропорту была объявлена частичная эвакуация . Ложные сообщения о « минировании » аэропортов поступают нередко . Так , 13 августа , водитель такси из Красноярска сообщил в полицию о якобы заложенной бомбе в аэропорту Емельяново . Свой поступок 21-летний правонарушитель объяснил тем , что повздорил с таксистами , работавшими у здания аэровокзала , и таким образом хотел навредить им . Несколькими днями позже , 24 августа , поступил телефонный звонок о взрывном устройстве в аэропорту Ростова-на-Дону . Информация также оказалась ложной , звонившего разыскивает полиция . ',\n",
       " '20140904vnukovonobomb']"
      ]
     },
     "execution_count": 543,
     "metadata": {},
     "output_type": "execute_result"
    }
   ],
   "source": [
    "idx = 69\n",
    "to_annotate[idx]"
   ]
  },
  {
   "cell_type": "code",
   "execution_count": 546,
   "metadata": {},
   "outputs": [
    {
     "data": {
      "text/plain": [
       "True"
      ]
     },
     "execution_count": 546,
     "metadata": {},
     "output_type": "execute_result"
    }
   ],
   "source": [
    "tags = 'O O O O O LOC LOC O O O O O O O O O O O O O O O O O O O O O O O O O O O O O O O O O O O O O O O O O O O O O O O O O O O O O O O O O O O DAT DAT O OFF OFF O LOC O O O O O O CRI O LOC LOC O O O O O O O O O O O O O O O O O O O O O O O O O O O O O DAT DAT O O O O O O O LOC LOC O O O O O O O O O O O'\n",
    "tags_list.append(tags)\n",
    "(len(to_annotate[idx][1].split())==len(tags_list[idx].split()))"
   ]
  },
  {
   "cell_type": "code",
   "execution_count": 545,
   "metadata": {},
   "outputs": [],
   "source": [
    "#del tags_list[-1]"
   ]
  },
  {
   "cell_type": "code",
   "execution_count": 547,
   "metadata": {},
   "outputs": [
    {
     "data": {
      "text/plain": [
       "[870,\n",
       " 'В колледже Lone Star в городе Сайпресс , штат Техас , два человека , вооруженных ножами , совершили нападение на студентов учебного заведения . Об этом сообщает Fox News . В результате инцидента , по данным полиции , ранения получили 14 человек , 12 из ним потребовалась госпитализация . Некоторые из раненых , отмечает Fox News , находятся в критическом состоянии . В полиции сообщили о задержании одного из предполагаемых преступников ; его сообщник в настоящее время продолжает оставаться на свободе . Администрация колледжа через официальный сайт призвала всех учащихся и преподавателей по возможности укрыться в безопасном месте . В январе 2013 года в другом техасском колледже , входящем в систему Lone Star , 22-летний Карлтон Берри открыл стрельбу , в результате которой получили ранения два человека . Позже Берри были предъявлены обвинения в нападении при отягчающих обстоятельствах . ',\n",
       " '20130409texas']"
      ]
     },
     "execution_count": 547,
     "metadata": {},
     "output_type": "execute_result"
    }
   ],
   "source": [
    "idx = 70\n",
    "to_annotate[idx]"
   ]
  },
  {
   "cell_type": "code",
   "execution_count": 548,
   "metadata": {},
   "outputs": [
    {
     "data": {
      "text/plain": [
       "True"
      ]
     },
     "execution_count": 548,
     "metadata": {},
     "output_type": "execute_result"
    }
   ],
   "source": [
    "tags = 'O LOC LOC LOC O O LOC O LOC LOC O OFF OFF O O O O O O O SUF O O O O O O O O O O O O O O O O O O O SUF SUF O O O O O O O O O O O O O O O O O O O O O O O O O O O O O O O O O O O O O O O O O O O O O O O O O O O O O O O O O O DAT DAT DAT O O LOC LOC O O O O LOC LOC O O OFF OF O CRI O O O O O O SUF SUF O O OFF O O O O O O O O O'\n",
    "tags_list.append(tags)\n",
    "(len(to_annotate[idx][1].split())==len(tags_list[idx].split()))"
   ]
  },
  {
   "cell_type": "code",
   "execution_count": 549,
   "metadata": {},
   "outputs": [
    {
     "data": {
      "text/plain": [
       "[871,\n",
       " 'В Москве задержали гражданина Узбекистана , разыскиваемого на родине за работорговлю , сообщает РИА Новости со ссылкой на источник в правоохранительных органах . Мужчину задержали на улице Генерала Кузнецова в Жулебино в ночь на 1 июня , спустя два дня после его объявления в федеральный розыск . Полицейские уже сообщили об этом коллегам из Узбекистана . По данным портала Lifenews , подозреваемого зовут Кахромон Одинаев , в ближайшее время его планируют экстрадировать на родину . Факт задержания агентству подтвердили в столичном управлении МВД . При этом подробности о подозреваемом и вменяемых ему преступлениях в полиции не сообщили . В Москве неоднократно задерживали мигрантов по подозрению в работорговле . В частности , в мае 2012 года у кинотеатра « Ашхабад » задержали выходца из Узбекистана и уроженку Киргизии , пытавшихся продать свою новорожденную дочь за 150 тысяч рублей . ',\n",
       " '20130602slavedriver']"
      ]
     },
     "execution_count": 549,
     "metadata": {},
     "output_type": "execute_result"
    }
   ],
   "source": [
    "idx = 71\n",
    "to_annotate[71]"
   ]
  },
  {
   "cell_type": "code",
   "execution_count": 550,
   "metadata": {},
   "outputs": [
    {
     "data": {
      "text/plain": [
       "True"
      ]
     },
     "execution_count": 550,
     "metadata": {},
     "output_type": "execute_result"
    }
   ],
   "source": [
    "tags = 'O LOC O OFF OFF O O O O O CRI O O O O O O O O O O O O OFF O O LOC LOC LOC O LOC O O O DAT DAT O O O O O O O O O O O O O O O O O O O O O O O O O O O OFF OFF O O O O O O O O O O O O O O O O O O O O O O O O O O O O O O O O O O LOC O O O O O O CRI O O O O O DAT DAT DAT O O O LOC O O O O O O O O O O O O O O O O O O O'\n",
    "tags_list.append(tags)\n",
    "(len(to_annotate[idx][1].split())==len(tags_list[idx].split()))"
   ]
  },
  {
   "cell_type": "code",
   "execution_count": 551,
   "metadata": {},
   "outputs": [
    {
     "data": {
      "text/plain": [
       "[871,\n",
       " 'В ходе контртеррористической операции в селении Далаково Назрановского района Ингушетии погиб командир роты спецназа внутренних войск МВД РФ . Об этом 8 апреля сообщает РИА Новости со ссылкой на источник в силовых структурах . По словам собеседника агентства , в настоящее время операция продолжается . Агентству « Интерфакс » в пресс-службе республиканского управления ФСБ сообщили , что один боевик засел в подвале и отстреливается . Ранее сообщалось , что в ходе КТО в Далаково были уничтожены три боевика . Сейчас источник РИА Новостей уточнил , что двое боевиков были убиты по одному адресу , а один — по другому . Командира роты убили по второму адресу . По информации Национального антитеррористического комитета , двое ликвидированных боевиков — братья Оздоевы , которых считают организаторами теракта на посту ДПС в октябре 2012 года . В результате взрыва погибли трое полицейских . ',\n",
       " '20130408kill']"
      ]
     },
     "execution_count": 551,
     "metadata": {},
     "output_type": "execute_result"
    }
   ],
   "source": [
    "idx = 72\n",
    "to_annotate[72]"
   ]
  },
  {
   "cell_type": "code",
   "execution_count": 552,
   "metadata": {},
   "outputs": [
    {
     "data": {
      "text/plain": [
       "True"
      ]
     },
     "execution_count": 552,
     "metadata": {},
     "output_type": "execute_result"
    }
   ],
   "source": [
    "tags = 'O O O O O LOC LOC LOC LOC LOC O SUF SUF SUF O O O O O O O DAT DAT O O O O O O O O O O O O O O O O O O O O O O O O O O O O O O O O O O O O O O O O O O O O O O O O O O LOC O O O OFF O O O O O O O O O OFF O O O O O O O O O O O O SUF SUF O O O O O O O O O O O O O OFF O O OFF O O O O O O O O O DAT DAT DAT O O O O O O O O'\n",
    "tags_list.append(tags)\n",
    "(len(to_annotate[idx][1].split())==len(tags_list[idx].split()))"
   ]
  },
  {
   "cell_type": "code",
   "execution_count": 553,
   "metadata": {},
   "outputs": [
    {
     "data": {
      "text/plain": [
       "[873,\n",
       " 'Правоохранительные органы Ставропольского края опровергли информацию о взрыве в пригородном электропоезде в Ессентуках .  « Вероятнее всего , это слухи » , — заявили агентству « Интерфакс » в силовых структурах региона . Представитель главного управления МВД по Ставропольскому краю сообщил РИА Новости , что полиция совместно с МЧС проверила оперативную информацию о происшествиях на железной дороге и никаких данных о взрыве не обнаружила . В следственном управлении СК РФ по Ессентукам не смогли подтвердить информацию о взрыве . В пресс-службе Северо-Кавказской железной дороги предположили , что речь идет о « недобросовестной работе некоторых журналистов » . Ранее о взрыве , произошедшем в электричке в Ессентуках , сообщил « Интерфакс » со ссылкой на источник , близкий к правоохранительным органам Ставропольского края . Никаких сведений об обстоятельствах инцидента при этом не поступало . ',\n",
       " '20140108noblast']"
      ]
     },
     "execution_count": 553,
     "metadata": {},
     "output_type": "execute_result"
    }
   ],
   "source": [
    "idx = 73\n",
    "to_annotate[idx]"
   ]
  },
  {
   "cell_type": "code",
   "execution_count": 554,
   "metadata": {},
   "outputs": [
    {
     "data": {
      "text/plain": [
       "True"
      ]
     },
     "execution_count": 554,
     "metadata": {},
     "output_type": "execute_result"
    }
   ],
   "source": [
    "tags = 'O O LOC LOC O O O O O O O O LOC O O O O O O O O O O O O O O O O O O O O O O O O O O O O O O O O O O O O O O O O O O O O O O O O O O O O O O O O O O LOC O O O O O O O O O O O O O O O O O O O O O O O O O O O O O O O O O LOC O O O O O O O O O O O O O O LOC LOC O O O O O O O O O O O'\n",
    "tags_list.append(tags)\n",
    "(len(to_annotate[idx][1].split())==len(tags_list[idx].split()))"
   ]
  },
  {
   "cell_type": "code",
   "execution_count": 555,
   "metadata": {},
   "outputs": [
    {
     "data": {
      "text/plain": [
       "[873,\n",
       " 'Сотрудники ФСКН изъяли около 100 килограммов героина в ходе спецоперации в Москве , сообщает 5 ноября ИТАР-ТАСС со ссылкой на главу ведомства Виктора Иванова . « Нами реализована очередная операция по пресечению поставки героина в московский регион » , — цитирует Иванова агентство . По словам руководителя Госнаркоконтроля , оценка объемов изъятого наркотика является предварительной , так как обыски в возможных местах хранения героина еще продолжаются . Других подробностей об операции не сообщается . 4 октября стало известно , что ФСКН совместно с наркополицейскими из стран-членов ОДКБ изъяла 12 тонн наркотиков в ходе операции « Канал-Кавказ » . Летом Госнаркоконтроль отчитался о нескольких крупных операциях в Подмосковье: в июле там было изъято 150 килограммов афганского героина , а в конце августа — 13 тонн « грязного » мака , которого хватило бы на изготовление полумиллиона доз . ',\n",
       " '20131105hundred']"
      ]
     },
     "execution_count": 555,
     "metadata": {},
     "output_type": "execute_result"
    }
   ],
   "source": [
    "idx = 74\n",
    "to_annotate[idx]"
   ]
  },
  {
   "cell_type": "code",
   "execution_count": 558,
   "metadata": {},
   "outputs": [
    {
     "data": {
      "text/plain": [
       "True"
      ]
     },
     "execution_count": 558,
     "metadata": {},
     "output_type": "execute_result"
    }
   ],
   "source": [
    "tags = 'O O O O O O O O O O O LOC O O DAT DAT O O O O O O O O O O O O O O O O CRI CRI O LOC LOC O O O O O O O O O O O O O O O O O O O O O O O O O O CRI O O O O O O O O O O DAT DAT O O O O O O O O O O O O O O O O O O O O O O O O O O O O O LOC O DAT O O O O O O O O O O O DAT O O O O O O O O O O O O O O O O O'\n",
    "tags_list.append(tags)\n",
    "(len(to_annotate[idx][1].split())==len(tags_list[idx].split()))"
   ]
  },
  {
   "cell_type": "code",
   "execution_count": 579,
   "metadata": {},
   "outputs": [],
   "source": [
    "del tags_list[-1]"
   ]
  },
  {
   "cell_type": "code",
   "execution_count": 559,
   "metadata": {},
   "outputs": [
    {
     "data": {
      "text/plain": [
       "[875,\n",
       " 'Австрийская полиция задержала британского солдата по подозрению в изнасиловании шестилетней девочки в федеральной земле Тироль , сообщает Heute . Как передает Reuters , его задержали 29 ноября около дома предполагаемой жертвы . Подозреваемый помещен в следственный изолятор , где он пробудет , по меньшей мере , две недели . Солдату может грозить до 15 лет тюрьмы . Прокуратура уже поставила об этом в известность британское консульство . Пресс-секретарь британской армии отказался комментировать произошедшее , сославшись на то , что это дело находится в компетенции австрийских властей . Седьмой парашютный полк Королевской конной артиллерии , в котором служит подозреваемый , находился на военных учениях в Альпах . По информации австрийского издания , солдат проник в дом через окно и зашел в детскую . Отец девочки проснулся и , обнаружив в ее комнате нарушителя , задержал его и вызвал полицию . ',\n",
       " '20141204british_suspected_rapist']"
      ]
     },
     "execution_count": 559,
     "metadata": {},
     "output_type": "execute_result"
    }
   ],
   "source": [
    "idx = 75\n",
    "to_annotate[75]"
   ]
  },
  {
   "cell_type": "code",
   "execution_count": 560,
   "metadata": {},
   "outputs": [
    {
     "data": {
      "text/plain": [
       "True"
      ]
     },
     "execution_count": 560,
     "metadata": {},
     "output_type": "execute_result"
    }
   ],
   "source": [
    "tags = 'O O O OFF OFF O O O CRI O O O O O LOC O O O O O O O O O O DAT DAT O O O O O O O O O O O O O O O O O O O O O O OFF O O O O O O O O O O O O O O O O O O O O O O O O O O O O O O O O O O O O O O O O O O O O O O O O O O O O O O LOC O O O O O O O O O O O O O O O O O O O O O O O O O O O O O O O O O O'\n",
    "tags_list.append(tags)\n",
    "(len(to_annotate[idx][1].split())==len(tags_list[idx].split()))"
   ]
  },
  {
   "cell_type": "code",
   "execution_count": 561,
   "metadata": {},
   "outputs": [
    {
     "data": {
      "text/plain": [
       "[876,\n",
       " 'В Москве возбуждено уголовное дело по факту смерти девочки-подростка в шахте лифта . Об этом 8 апреля сообщается на сайте Следственного комитета РФ . Дело возбудили по пункту « в » второй части 238-й статьи УК РФ ( выполнение работ или оказание услуг , не отвечающих требованиям безопасности , повлекшее по неосторожности смерть человека ) . Подозреваемых в деле пока не появилось . По информации следствия , 7 апреля 14-летние девочка и мальчик застряли в грузовом лифте одного из домов на Рублевском шоссе . Кабина находилась между 12 и 13 этажами . Подростки связались с диспетчером , им пообещали прислать аварийную бригаду . Однако затем мальчик и девочка решили , не дожидаясь рабочих , самостоятельно покинуть лифт . Издание Life News уточняет , что подросткам помогла подруга , находившаяся снаружи: она отжала дверь . Девочка начала первой спускаться вниз по шахте , сорвалась вниз и погибла . ',\n",
       " '20130408lift']"
      ]
     },
     "execution_count": 561,
     "metadata": {},
     "output_type": "execute_result"
    }
   ],
   "source": [
    "idx = 76\n",
    "to_annotate[idx]"
   ]
  },
  {
   "cell_type": "code",
   "execution_count": 566,
   "metadata": {},
   "outputs": [
    {
     "data": {
      "text/plain": [
       "True"
      ]
     },
     "execution_count": 566,
     "metadata": {},
     "output_type": "execute_result"
    }
   ],
   "source": [
    "tags = 'O LOC O O O O O O SUF O O O O O O DAT DAT O O O O O O O O O O O O O O O O O O O O O O O O O O O O O O O O O O O CRI CRI O O O O O O O O O O O O O DAT DAT SUF SUF O SUF O O O O O O O O LOC LOC O O O O O O O O O SUF O O O O O O O O O O O O SUF O SUF O O O O O O O O O O O O O O O O SUF O O O O O O O O O SUF O O O O O O O O O O O O'\n",
    "tags_list.append(tags)\n",
    "(len(to_annotate[idx][1].split())==len(tags_list[idx].split()))"
   ]
  },
  {
   "cell_type": "code",
   "execution_count": 567,
   "metadata": {},
   "outputs": [
    {
     "data": {
      "text/plain": [
       "[885,\n",
       " 'Глава Комитета по контролю и управлению государственным имуществом при Государственном совете КНР попал под следствие , сообщает в воскресенье , 1 сентября , агентство « Синьхуа » со ссылкой на источник в Центральной комиссии КПК по проверке дисциплины . 59-летний Цзян Цземинь ( Jiang Jiemin ) подозревается в « серьезных дисциплинарных нарушениях » , однако в чем они состоят , пока не разъясняется . Цземинь занял пост главы ведомства в марте 2013 года , а до того был гендиректором Китайской национальной нефтяной компании . Связано ли расследование с его нынешним или прежним местом работы , также неизвестно . Центральная комиссия КПК по проверке дисциплины была создана в 1978 году для борьбы с коррупцией и злоупотреблениями в рядах китайской компартии . Как отмечает агентство Reuters , расследование в отношении Цземиня может быть частью антикоррупционной кампании , начатой китайским руководством . ',\n",
       " '20130901jiemin']"
      ]
     },
     "execution_count": 567,
     "metadata": {},
     "output_type": "execute_result"
    }
   ],
   "source": [
    "idx = 77\n",
    "to_annotate[idx]"
   ]
  },
  {
   "cell_type": "code",
   "execution_count": 568,
   "metadata": {},
   "outputs": [
    {
     "data": {
      "text/plain": [
       "True"
      ]
     },
     "execution_count": 568,
     "metadata": {},
     "output_type": "execute_result"
    }
   ],
   "source": [
    "tags = 'O O O O O O O O O O O O O O O O O O O O DAT DAT O O O O O O O O O O O O O O O O O O OFF OFF O OFF OFF O O O O O CRI CRI O O O O O O O O O O O O OFF O O O O O O O O O O O O O O O O O O O O O O O O O O O O O O O O O O O O O O O O O O O O O O O O O O O O O O O O O O O O O O O OFF O O O O O O O O O O'\n",
    "tags_list.append(tags)\n",
    "(len(to_annotate[idx][1].split())==len(tags_list[idx].split()))"
   ]
  },
  {
   "cell_type": "code",
   "execution_count": 569,
   "metadata": {},
   "outputs": [
    {
     "data": {
      "text/plain": [
       "[888,\n",
       " 'Пять человек погибли , множество получили травмы в результате ДТП в американском штате Вермонт . Об этом сообщает в воскресенье , 9 октября , Burlington Free Press . По информации издания , серия аварий произошла вечером 8 октября на федеральной трассе номер 85 . Первоначально водитель пикапа Toyota Tundra столкнулся на шоссе с автомобилем Volkswagen Jetta , машина виновника ДТП при этом загорелась . Пока прибывшие патрульные доставали людей из Volkswagen , мужчина сел за руль полицейского автомобиля и попытался скрыться с места происшествия . Стражи порядка организовали погоню , во время которой злоумышленник на высокой скорости врезался еще в семь машин . В конце концов полицейским удалось остановить мужчину . Водителем Toyota оказался 36-летний местный житель Стивен Боургойн . Его доставили в больницу с незначительными травмами . Полиция в настоящее время устанавливает личности пострадавших . ',\n",
       " '20161009policedtp']"
      ]
     },
     "execution_count": 569,
     "metadata": {},
     "output_type": "execute_result"
    }
   ],
   "source": [
    "idx = 78\n",
    "to_annotate[idx]"
   ]
  },
  {
   "cell_type": "code",
   "execution_count": 570,
   "metadata": {},
   "outputs": [
    {
     "data": {
      "text/plain": [
       "True"
      ]
     },
     "execution_count": 570,
     "metadata": {},
     "output_type": "execute_result"
    }
   ],
   "source": [
    "tags = 'SUF SUF O O O O O O O O O O O LOC O O O O O O O DAT DAT O O O O O O O O O O O O O DAT DAT O LOC LOC LOC LOC O O O O O O O O O O O O O O O O O O O O O O O O O O O O O O O O O O O O O O O O O O O O O O O O O O OFF O O O O O O O O O O O O O O O OFF O O O O O O O OFF OFF O O O O O O O O O O O O O O O O O'\n",
    "tags_list.append(tags)\n",
    "(len(to_annotate[idx][1].split())==len(tags_list[idx].split()))"
   ]
  },
  {
   "cell_type": "code",
   "execution_count": 571,
   "metadata": {},
   "outputs": [
    {
     "data": {
      "text/plain": [
       "[897,\n",
       " 'Жителя Тюмени приговорили к четырем годам условного срока за хищение акций ОАО « Газпром » . Об этом 4 октября сообщается на сайте областной прокуратуры . 28-летний Александр Дробышев признан виновным по 158-й статье УК РФ ( кража ) . Суд учел раскаяние обвиняемого , а также мнение потерпевшего , который не настаивал на лишении Дробышева свободы . Установлено , что до августа 2008 года Дробышев работал в ООО « Финам-Тюмень » , где изучил порядок совершения сделок на фондовом рынке . В 2010 году , приехав по делам в город Грозный , он по паролю ООО « Финам-Тюмень » подключился к серверу ЗАО « ФИНАМ » . Используя сведения брокерского счета одного из клиентов « ФИНАМ » , он от его имени выставил на продажу 50 тысяч акций « Газпрома » . В тот же день акции были куплены за 7 , 7 миллиона рублей . Потерпевший обнаружил пропажу акций месяц спустя . Установить личность преступника удалось после просмотра журнала подключений . ',\n",
       " '20131004gazprom']"
      ]
     },
     "execution_count": 571,
     "metadata": {},
     "output_type": "execute_result"
    }
   ],
   "source": [
    "idx = 79\n",
    "to_annotate[idx]"
   ]
  },
  {
   "cell_type": "code",
   "execution_count": 574,
   "metadata": {},
   "outputs": [
    {
     "data": {
      "text/plain": [
       "True"
      ]
     },
     "execution_count": 574,
     "metadata": {},
     "output_type": "execute_result"
    }
   ],
   "source": [
    "tags = 'O LOC O O O O O O O CRI CRI O O O O O O O DAT DAT O O O O O O O OFF OFF O O O O O O O O CRI O O O O O O O O O O O O O O O O O OFF O O O O O O DAT DAT OFF O O O O O O O O O O O O O O O O O DAT DAT O O O O O O LOC O O O O O O O O O O O O O O O O O O O O O O O O O O O O O O O O O O O O O O O O O O O O O O O O O O O O O O O O O O O O O O O O O O O O O O O O '\n",
    "tags_list.append(tags)\n",
    "(len(to_annotate[idx][1].split())==len(tags_list[idx].split()))"
   ]
  },
  {
   "cell_type": "code",
   "execution_count": 575,
   "metadata": {},
   "outputs": [
    {
     "data": {
      "text/plain": [
       "[899,\n",
       " 'Два сотрудника полиции погибли в американском городе Палм-Спрингс ( штат Калифорния ) , пытаясь уладить семейную ссору , еще один получил ранения и был доставлен в больницу . Об этом сообщает Fox News в воскресенье , 9 октября . Инцидент произошел 8 октября в спальном районе города . В полицию позвонила женщина и заявила , что ее сын ведет себя буйно и нарушает спокойствие в доме . Прибывшие по вызову сотрудники правопорядка попробовали поговорить с мужчиной , но он внезапно начал по ним стрелять . На место происшествия был направлен отряд полицейского спецназа , дом оцепили , а стрелявшего в итоге задержали . Соседи отмечают , что мужчина раньше был судим и отбывал наказание в тюрьме , но после освобождения вел себя вежливо и вполне дружелюбно . Погибшие полицейские — 27-летняя Лесли Зеребни ( Lesley Zerebny ) , мать четырехмесячной дочери , и 63-летний Гил Вега ( Gil Vega ) , у которого остался восьмилетний сын . ',\n",
       " '20161009police']"
      ]
     },
     "execution_count": 575,
     "metadata": {},
     "output_type": "execute_result"
    }
   ],
   "source": [
    "idx = 80\n",
    "to_annotate[idx]"
   ]
  },
  {
   "cell_type": "code",
   "execution_count": 580,
   "metadata": {},
   "outputs": [
    {
     "data": {
      "text/plain": [
       "True"
      ]
     },
     "execution_count": 580,
     "metadata": {},
     "output_type": "execute_result"
    }
   ],
   "source": [
    "tags = 'O O O O O LOC LOC LOC O LOC LOC O O O O O O O O O O O O O O O O O O O O O O O O O DAT DAT O O O DAT DAT O O O O O O O O O O O O O O O O O O O O O O O O O O O O O O O O OFF O O O O O O O CRI O O O O O O O O O O O O O O O O O O O O O O O OFF O O O O O O O O O O O O O O O O O O O O O O O SUF SUF O SUF SUF O O O O O O O O SUF SUF O SUF SUF O O O O O O O O'\n",
    "tags_list.append(tags)\n",
    "(len(to_annotate[idx][1].split())==len(tags_list[idx].split()))"
   ]
  },
  {
   "cell_type": "code",
   "execution_count": 581,
   "metadata": {},
   "outputs": [
    {
     "data": {
      "text/plain": [
       "[902,\n",
       " 'Три миллиона рублей и золотые украшения похищены из квартиры на западе Москвы в субботу , 8 июня , сообщает РИА Новости со ссылкой на пресс-службу ГУ МВД РФ по городу . В квартиру на третьем этаже в одном из домов на улице Багрицкого вор проник через балкон , забравшись на него по встроенной металлической лестнице . Отжав балконную дверь , он украл из квартиры золотые украшения и три миллиона рублей . С места преступления вору удалось скрыться . Стоимость похищенных украшений в ГУ МВД РФ по Москве не уточнили . Еще одна крупная кража была совершена 8 июня на юге Москвы в Россошанском проезде . Воры проникли в квартиру взломав дверные замки , вскрыли металлический сейф , забрав оттуда 1 , 6 миллиона рублей и 10 тысяч долларов . Задержать воров пока также не удалось . По факту обоих преступлений возбуждены уголовные дела по статье « Кража » , ведется розыск преступников , заявили представители ГУ МВД РФ по Москве . ',\n",
       " '20130609robbery']"
      ]
     },
     "execution_count": 581,
     "metadata": {},
     "output_type": "execute_result"
    }
   ],
   "source": [
    "idx = 81\n",
    "to_annotate[idx]"
   ]
  },
  {
   "cell_type": "code",
   "execution_count": 588,
   "metadata": {},
   "outputs": [
    {
     "data": {
      "text/plain": [
       "True"
      ]
     },
     "execution_count": 588,
     "metadata": {},
     "output_type": "execute_result"
    }
   ],
   "source": [
    "tags = 'O O O O O O O O O O LOC LOC O O O DAT DAT O O O O O O O O O O O O O O O O O O O O O O O O LOC LOC OFF O O O O O O O O O O O O O O O O O O O O O O O O O O O O O O OFF O O O O O O O O O O O O O O O O O O CRI O O DAT DAT O LOC LOC O LOC LOC O OFF O O O O O O O O O O O O O O O O O O O O O O O O O O O O O O O O O O O O O O O O CRI O O O O O O O O O O O O O O '\n",
    "tags_list.append(tags)\n",
    "(len(to_annotate[idx][1].split())==len(tags_list[idx].split()))"
   ]
  },
  {
   "cell_type": "code",
   "execution_count": 589,
   "metadata": {},
   "outputs": [
    {
     "data": {
      "text/plain": [
       "[905,\n",
       " 'В Майами застрелен сын канадского генконсула Роксаны Дюбе ( Roxanne Dube ) — 17-летний Жан Вабафьебазу ( Jean Wabafiyebazu ) . Об этом сообщает The Miami Herald . В полиции полагают , что убийство произошло в ходе криминальной разборки , связанной с торговлей наркотиками . У правоохранительных органов пока нет данных о том , кто мог выстрелить в Вабафьебазу . Кроме того , полицейские , прибывшие на место происшествия , арестовали еще одного сына генконсула — 15-летнего Марка Вабафьебазу . По информации издания , он подозревается в убийстве , подробности не приводятся . The Miami Herald со ссылкой на свой источник пишет , что сыновья Дюбе подъехали к месту , где должна была пройти сделка , на черном BMW с дипломатическими номерами . Молодые люди были вооружены . Источник заявил , что речь шла о продаже наркотиков на сумму в пять тысяч долларов . Расследованием произошедшего занимаются американские и канадские следователи . ',\n",
       " '20150401killed_son']"
      ]
     },
     "execution_count": 589,
     "metadata": {},
     "output_type": "execute_result"
    }
   ],
   "source": [
    "idx = 82\n",
    "to_annotate[82]"
   ]
  },
  {
   "cell_type": "code",
   "execution_count": 592,
   "metadata": {},
   "outputs": [
    {
     "data": {
      "text/plain": [
       "True"
      ]
     },
     "execution_count": 592,
     "metadata": {},
     "output_type": "execute_result"
    }
   ],
   "source": [
    "tags = 'O LOC O O O O O O O O O O O O SUF SUF O SUF SUF O O O O O O O O O O O O O O CRI O O O O O O O O O O O O O O O O O O O O O O O O SUF O O O O O O O O O O O O O O O O O O OFF OFF O O O O O O O O CRI O O O O O O O O O O O O O O O O O O O O O O O O O O O O O O O O O O O O O O O O O O O O O O O O O O O O O O O O O O O O O O O O'\n",
    "tags_list.append(tags)\n",
    "(len(to_annotate[idx][1].split())==len(tags_list[idx].split()))"
   ]
  },
  {
   "cell_type": "code",
   "execution_count": 591,
   "metadata": {},
   "outputs": [],
   "source": [
    "#del tags_list[-1]"
   ]
  },
  {
   "cell_type": "code",
   "execution_count": 593,
   "metadata": {},
   "outputs": [
    {
     "data": {
      "text/plain": [
       "[912,\n",
       " 'В Улан-Удэ возбуждено уголовное дело по факту взрыва сувенирной гранаты . Об этом 3 марта сообщается на сайте МВД Бурятии . 1 марта жительница Усть-Илимска Иркутской области купила в одном из магазинов Улан-Удэ сувенирную « Ф-1 » в подарок мужу . Когда покупательница села в машину , запал гранаты взорвался . Женщина была доставлена в городскую клиническую больницу скорой медицинской помощи . По информации газеты « Комсомольская правда » , она получила травму руки и другие осколочные ранения . Уголовное дело возбуждено по 222-й статье УК РФ ( незаконные приобретение , передача , сбыт , хранение , перевозка или ношение оружия , его основных частей , боеприпасов , взрывчатых веществ и взрывных устройств ) . Полицейские выяснили , что граната поступила в магазин из Ижевска . Продавцы заявили , что заказывали товар с пометкой « сувенирный » . Сколько подобных гранат было поставлено в магазин и изъяты ли они из продажи , не уточняется . ',\n",
       " '20140303granata']"
      ]
     },
     "execution_count": 593,
     "metadata": {},
     "output_type": "execute_result"
    }
   ],
   "source": [
    "idx = 83\n",
    "to_annotate[83]"
   ]
  },
  {
   "cell_type": "code",
   "execution_count": 594,
   "metadata": {},
   "outputs": [
    {
     "data": {
      "text/plain": [
       "True"
      ]
     },
     "execution_count": 594,
     "metadata": {},
     "output_type": "execute_result"
    }
   ],
   "source": [
    "tags = 'O LOC O O O O O CRI CRI CRI O O O DAT DAT O O O O O O DAT DAT SUF SUF LOC LOC O O O O O LOC O O O O O O O O O SUF O O O O O O O O SUF O O O O O O O O O O O O O O O O O O O O O O O O O O O O O O O O O O O O O O O O O O O O O O O O O O O O O O O O O O O O O O O O O O O O O O O O O O O O O O O O O O O O O O O O O O O O O O O O O O O O O O O'\n",
    "tags_list.append(tags)\n",
    "(len(to_annotate[idx][1].split())==len(tags_list[idx].split()))"
   ]
  },
  {
   "cell_type": "code",
   "execution_count": 595,
   "metadata": {},
   "outputs": [
    {
     "data": {
      "text/plain": [
       "[917,\n",
       " 'Высший суд Глазго вынес приговор повару , который убил свою подругу , отказавшуюся ужинать . Убийца получил пожизненное заключение . Об этом сообщает BBC News . Как рассказал сам повар Питер Камминг в признательных показаниях , в день убийства он и его подруга Линда Браун пригласили на ужин двух друзей . Когда пара вернулась из похода за продуктами , женщина сказала , что не голодна и поэтому не будет есть . Отказ разъярил повара , и он ударил подругу несколько раз ножом в спину . Браун упала , но успела позвонить в службу спасения , прежде чем Камминг нанес ей смертельный удар в шею , перебив артерию . Полиция прибыла на место происшествия через восемь минут после звонка . Вынесший пожизненный приговор судья мотивировал свое решение тем , что 63-летняя Браун была полностью беззащитна , а повод для убийства был надуманным . По решению суда 58-летний Питер Камминг сможет рассчитывать на помилование в лучшем случае через 14 лет . ',\n",
       " '20130206chef']"
      ]
     },
     "execution_count": 595,
     "metadata": {},
     "output_type": "execute_result"
    }
   ],
   "source": [
    "idx = 84\n",
    "to_annotate[84]"
   ]
  },
  {
   "cell_type": "code",
   "execution_count": 596,
   "metadata": {},
   "outputs": [
    {
     "data": {
      "text/plain": [
       "True"
      ]
     },
     "execution_count": 596,
     "metadata": {},
     "output_type": "execute_result"
    }
   ],
   "source": [
    "tags = 'O O LOC O O O O O O O O O O O O O O O O O O O O O O O O O O O OFF OFF O O O O O O O O O O O SUF SUF O O O O O O O O O O O O O O O O O O O O O O O O O O O O O O O O O O O O O O O O SUF O O O O O O O O O O O OFF O O O O O O O O O O O O O O O O O O O O O O O O O O O O O O O O SUF O O O O O O O O O O O O O O O OFF OFF O O O O O O O O O O O'\n",
    "tags_list.append(tags)\n",
    "(len(to_annotate[idx][1].split())==len(tags_list[idx].split()))"
   ]
  },
  {
   "cell_type": "code",
   "execution_count": 597,
   "metadata": {},
   "outputs": [
    {
     "data": {
      "text/plain": [
       "[919,\n",
       " 'Двое сотрудников Управления ООН по наркотикам и преступности ( UNODC ) застрелены в понедельник , 7 апреля , в аэропорту сомалийского города Галькайо . По данным Agence France-Presse , в результате нападения погибли граждане Франции и Великобритании . Как сообщили в местной полиции , убийство произошло в тот момент , когда сотрудники Объединенных Наций выходили из самолета . По некоторым данным , стрелявший был одет в полицейскую форму . Один из ооновцев скончался в аэропорту , второй умер в больнице , куда был доставлен после инцидента . Специальный представитель ООН в Сомали Николас Кей ( Nicholas Kay ) заявил , что убийствам сотрудников всемирной организации нет оправдания , и потребовал провести тщательное расследование преступления . Представители ООН прибыли в Сомали предположительно для встреч с местными властями . Разговор должен был пойти о неофициальной системе денежных переводов , заменяющих в стране банковскую систему . ',\n",
       " '20140407somali']"
      ]
     },
     "execution_count": 597,
     "metadata": {},
     "output_type": "execute_result"
    }
   ],
   "source": [
    "idx = 85\n",
    "to_annotate[idx]"
   ]
  },
  {
   "cell_type": "code",
   "execution_count": 598,
   "metadata": {},
   "outputs": [
    {
     "data": {
      "text/plain": [
       "True"
      ]
     },
     "execution_count": 598,
     "metadata": {},
     "output_type": "execute_result"
    }
   ],
   "source": [
    "tags = 'O O O O O O O O O O O O O O O DAT DAT O O LOC LOC LOC LOC O O O O O O O O O O O O O O O O O O O O O CRI O O O O O O O O O O O O O O O O O O O O O O O O O O O O O O O O O O O O O O O O O O O O O O O O O O O O O O O O O O O O O O O O O O O O O O SUF SUF O O LOC O O O O O O O O O O O O O O O O O O O O O O O'\n",
    "tags_list.append(tags)\n",
    "(len(to_annotate[idx][1].split())==len(tags_list[idx].split()))"
   ]
  },
  {
   "cell_type": "code",
   "execution_count": 599,
   "metadata": {},
   "outputs": [
    {
     "data": {
      "text/plain": [
       "[920,\n",
       " 'В субботу около четырех часов дня в петербургском метрополитене на станции « Площадь Мужества » произошла стычка между двумя группами молодых людей примерно по 15 человек с каждой стороны , сообщает « Фонтанка . Ру » . Драка продлилась полторы - две минуты , после чего все участники быстро скрылись . Управление полиции на метрополитене Санкт-Петербурга подтвердило эту информацию , пишет « Интерфакс » . Как отметили в МВД , судя по записям видеокамер , с большой долей вероятности речь идет о заранее запланированной встрече . Так , полицейские обратили внимание , что перед стычкой участники продемонстрировали друг другу , что в руках у них нет оружия , сама драка была на кулаках , в ходе инцидента никакие спецсредства не использовались . Никаких заявлений или телефонограмм из медицинских учреждений по факту драки в полицию пока не поступило . Тем не менее правоохранительные органы уже пытаются установить личности участников инцидента . ',\n",
       " '20130406metro']"
      ]
     },
     "execution_count": 599,
     "metadata": {},
     "output_type": "execute_result"
    }
   ],
   "source": [
    "idx = 86\n",
    "to_annotate[idx]"
   ]
  },
  {
   "cell_type": "code",
   "execution_count": 600,
   "metadata": {},
   "outputs": [
    {
     "data": {
      "text/plain": [
       "True"
      ]
     },
     "execution_count": 600,
     "metadata": {},
     "output_type": "execute_result"
    }
   ],
   "source": [
    "tags = 'O O O O O O O LOC LOC O LOC O LOC LOC O O O O OFF OFF OFF OFF O O O O O O O O O O O O O O O CRI O O O O O O O O O O O O O O O O O LOC O O O O O O O O O O O O O O O O O O O O O O O O O O O O O O O O O O O O O O O O O O O O O O O O O O O O O O O O O O O O O O O O O O O O O O O O O O O O O O O O O O O O O O O O O O O O O O'\n",
    "tags_list.append(tags)\n",
    "(len(to_annotate[idx][1].split())==len(tags_list[idx].split()))"
   ]
  },
  {
   "cell_type": "code",
   "execution_count": 601,
   "metadata": {},
   "outputs": [
    {
     "data": {
      "text/plain": [
       "[921,\n",
       " 'Полиция задержала в ночь на 2 декабря тринадцать жителей города Уссурийск после погони со стрельбой . Об этом сообщается на официальном сайте УМВД России по Приморскому краю . Перестрелка началась после того , как инспекторы патрульно-постовой службы обнаружили у магазина на улице Пушкина группу людей , которые избивали двух человек . После того , как полицейские потребовали прекратить драку , один из нападавших достал из салона автомобиля оружие и открыл стрельбу , ранив одного из инспекторов в кисть и в ногу . О его состоянии не сообщается . После этого нападавшие попытались уехать с места происшествия на нескольких автомобилях , но были задержаны после того , как один из инспекторов прострелил колеса автомобилю Toyota Land Cruiser . Использование табельного оружия позже было признано правомерным , отмечается в сообщении . В ходе обыска в двух внедорожниках был обнаружен магазин гладкоствольного карабина и стреляные гильзы . ',\n",
       " '20131202police']"
      ]
     },
     "execution_count": 601,
     "metadata": {},
     "output_type": "execute_result"
    }
   ],
   "source": [
    "idx = 87\n",
    "to_annotate[idx]"
   ]
  },
  {
   "cell_type": "code",
   "execution_count": 602,
   "metadata": {},
   "outputs": [
    {
     "data": {
      "text/plain": [
       "True"
      ]
     },
     "execution_count": 602,
     "metadata": {},
     "output_type": "execute_result"
    }
   ],
   "source": [
    "tags = 'O O O O O DAT DAT OFF OFF LOC LOC O O O O O O O O O O O O O O O O O O O O O O O O O O O O O O LOC LOC O O O O CRI SUF SUF O O O O O O O O O O O O O O O O O O O O O O O O O SUF O O O O O O O O O O O O O O O O O O O O O O O O O O O O O O O O O O O O O O O O O O O O O O O O O O O O O O O O O O O O O O O O O O O O'\n",
    "tags_list.append(tags)\n",
    "(len(to_annotate[idx][1].split())==len(tags_list[idx].split()))"
   ]
  },
  {
   "cell_type": "code",
   "execution_count": 603,
   "metadata": {},
   "outputs": [
    {
     "data": {
      "text/plain": [
       "[925,\n",
       " 'Полиция Лос-Анджелеса 4 августа арестовала мужчину , намеренно наехавшего на своем автомобиле на пешеходов на набережной города . Об этом сообщает Associated Press . 38-летний Натан Кэмпбелл ( Nathan Campbell ) был взят под стражу в своем доме , куда он приехал через несколько часов после происшествия на набережной . Суд назначил ему залог в размере 1 миллиона долларов . Как сообщили в полиции , 4 августа Натан Кэмпбелл на своей машине наехал на толпу гулявших на набережной . В результате погибла 32-летняя итальянка . По данным Associated Press , она приехала в Калифорнию на медовый месяц . Кроме того , не менее 11 человек получили ранения . Состояние одного из них оценивают как критическое , еще двое находятся в серьезном состоянии . По словам свидетелей , водитель наехал на толпу людей намеренно . Телеканал ABC выпустил видео , на котором видно , как автомобиль врезается в толпу людей . Мотивы поступка Натан Кэмпбелла пока не известны . ',\n",
       " '20130805campbell']"
      ]
     },
     "execution_count": 603,
     "metadata": {},
     "output_type": "execute_result"
    }
   ],
   "source": [
    "idx = 88\n",
    "to_annotate[idx]"
   ]
  },
  {
   "cell_type": "code",
   "execution_count": 604,
   "metadata": {},
   "outputs": [
    {
     "data": {
      "text/plain": [
       "True"
      ]
     },
     "execution_count": 604,
     "metadata": {},
     "output_type": "execute_result"
    }
   ],
   "source": [
    "tags = 'O LOC DAT DAT O O O O O O O O O O O LOC LOC O O O O O O O O OFF OFF O OFF OFF O O O O O O O O O O O O O O O O O O O O O O O O O O O O O O O O O O O DAT DAT OFF OFF O O O O O O O O LOC O O O O O O O O O O O O O O O O O O O O O O O O O O O O O O O O O O O O O O O O O O O O O O O O O O O O O O O O O O O O O O O O O O O O O O O O O O OFF OFF O O O O'\n",
    "tags_list.append(tags)\n",
    "(len(to_annotate[idx][1].split())==len(tags_list[idx].split()))"
   ]
  },
  {
   "cell_type": "code",
   "execution_count": 605,
   "metadata": {},
   "outputs": [
    {
     "data": {
      "text/plain": [
       "[931,\n",
       " 'Взрыв , в результате которого в Махачкале погибли два или три человека , устроили бандиты , стремящиеся запугать предпринимателя . Об этом 1 мая сообщает « Южный федеральный » канал . Как стало известно следователям , бандиты давно пытаются обложить данью владельца магазина стройматериалов на улице Ирчи Козака . Три месяца назад ко входу в магазин уже подкидывали бомбу , но ее удалось вовремя обезвредить . Взрыв произошел утром 1 мая . Двое подростков 14 и 15 лет попытались развернуть пакет , лежавший у дверей магазина . В результате подростки погибли , а двое других прохожих , мужчины 1966 и 1973 годов рождения , получили ранения . По неподтвержденным данным , один из раненых позднее скончался в больнице . Следственный комитет РФ возбудил в связи с взрывом дело по статьям « убийство двух или более лиц , совершенное общеопасным способом » ,  « незаконный оборот оружия » ,  « незаконное изготовление оружия » и « умышленное повреждение чужого имущества » . ',\n",
       " '20130501blast']"
      ]
     },
     "execution_count": 605,
     "metadata": {},
     "output_type": "execute_result"
    }
   ],
   "source": [
    "idx = 89\n",
    "to_annotate[idx]"
   ]
  },
  {
   "cell_type": "code",
   "execution_count": 608,
   "metadata": {},
   "outputs": [
    {
     "data": {
      "text/plain": [
       "True"
      ]
     },
     "execution_count": 608,
     "metadata": {},
     "output_type": "execute_result"
    }
   ],
   "source": [
    "tags = 'CRI O O O O O LOC O O O SUF SUF O O OFF O O O O O O O DAT DAT O O O O O O O O O O O O OFF O O O O O O O O LOC LOC LOC O O O O O O O O O O O O O O O O O O O O O DAT DAT O O O O O O O O O O O O O O O O O O O O O O O O O O O O O O O O O O O O O O O O O O O O O O O O O O O O O O O O O O O O O O O O O O O O O O O O O O O O O O O O O O O O O O O O O O '\n",
    "tags_list.append(tags)\n",
    "(len(to_annotate[idx][1].split())==len(tags_list[idx].split()))"
   ]
  },
  {
   "cell_type": "code",
   "execution_count": 609,
   "metadata": {},
   "outputs": [
    {
     "data": {
      "text/plain": [
       "[931,\n",
       " 'На 31-м километре МКАД утром 5 апреля « Тойота-Камри » врезалась в припаркованную фуру . В результате между водителями завязалась драка со стрельбой из травматического пистолета . Об этом сообщает « Интерфакс » со ссылкой на пресс-службу московского управления МВД . Кто именно из водителей устроил стрельбу , в полиции не уточнили . Собеседник агентства лишь отметил , что во время потасовки « водитель иномарки » отнял у своего противника пистолет и вместе со своим пассажиром попытался скрыться с места происшествия . Через 500 метров водителя задержали , при этом его спутнику удалось сбежать . « При осмотре на кузове автомобиля обнаружены повреждения , характерные для ДТП . В багажном отделении найдены травматический и , предположительно , боевой пистолеты » , — сообщили агентству в пресс-службе полиции . О том , пострадал ли кто-нибудь во время драки , в МВД не уточнили . В ведомстве добавили , что сейчас на месте происшествия работают следователи . ',\n",
       " '20130405dtp']"
      ]
     },
     "execution_count": 609,
     "metadata": {},
     "output_type": "execute_result"
    }
   ],
   "source": [
    "idx = 90\n",
    "to_annotate[idx]"
   ]
  },
  {
   "cell_type": "code",
   "execution_count": 616,
   "metadata": {},
   "outputs": [
    {
     "data": {
      "text/plain": [
       "True"
      ]
     },
     "execution_count": 616,
     "metadata": {},
     "output_type": "execute_result"
    }
   ],
   "source": [
    "tags = 'O LOC LOC LOC O DAT DAT O O O O O O O O O O O O O CRI O CRI O O O O O O O O O O O O O O O O O O O O O O O O O O O O O O O O O O O O O O O O O O O O O O O O O O O O O O O O O O O O O O O O O O O O O O O O O O O O O O O O O O O O O O O O O O O O O O O O O O O O O O O O O O O O O O O O O O O O O O O O O O O O O O O O O O O O'\n",
    "tags_list.append(tags)\n",
    "(len(to_annotate[idx][1].split())==len(tags_list[idx].split()))"
   ]
  },
  {
   "cell_type": "code",
   "execution_count": 621,
   "metadata": {},
   "outputs": [],
   "source": [
    "#del tags_list[-1]"
   ]
  },
  {
   "cell_type": "code",
   "execution_count": 617,
   "metadata": {},
   "outputs": [
    {
     "data": {
      "text/plain": [
       "[932,\n",
       " 'В Смоленске из банка похитили 980 тысяч рублей . Об этом 9 сентября сообщается на сайте областного УМВД . По словам кассира банка , название которого не раскрывается , в конце рабочего дня к ней подошел странный мужчина . Он представился директором торгового дома , в котором располагается филиал банка . Мужчина сказал , что хочет забрать « деньги за аренду терминала » . Кассир утверждает , что в этот момент почувствовала на себе действие гипноза . Не поинтересовавшись конкретной суммой « арендной платы » , она открыла кассу и отдала мужчине все деньги , которые там лежали . После этого мужчина ушел . Судя по записи камер видеонаблюдения , его визит занял три минуты . Спустя некоторое время кассир заподозрила , что стала жертвой мошенничества . Она позвонила администратору торгового дома и спросила , получали ли они « деньги за аренду терминала » . Администратор сказала , что ничего не слышала о таком платеже . После этого кассир обратилась в полицию . ',\n",
       " '20130909smolensk']"
      ]
     },
     "execution_count": 617,
     "metadata": {},
     "output_type": "execute_result"
    }
   ],
   "source": [
    "idx = 91\n",
    "to_annotate[idx]"
   ]
  },
  {
   "cell_type": "code",
   "execution_count": 618,
   "metadata": {},
   "outputs": [
    {
     "data": {
      "text/plain": [
       "True"
      ]
     },
     "execution_count": 618,
     "metadata": {},
     "output_type": "execute_result"
    }
   ],
   "source": [
    "tags = 'O LOC O O CRI O O O O O O DAT DAT O O O O O O O O O O O O O O O O O O O O O O O O O O O O O O O O O O O O O O OFF O O O O O O O O O O O O O O O O O O O O O O O O O O O O O O O O O O O O O O O OFF O O O O O O O O O OFF O O O O O O O O O O O O O O O O O O O O O O O O O O O O O O O O O O O O O O O O O O O O O O O O O O O O O O O O O O O O O'\n",
    "tags_list.append(tags)\n",
    "(len(to_annotate[idx][1].split())==len(tags_list[idx].split()))"
   ]
  },
  {
   "cell_type": "code",
   "execution_count": 619,
   "metadata": {},
   "outputs": [
    {
     "data": {
      "text/plain": [
       "[933,\n",
       " 'В Ставропольском крае произошел взрыв около автомобиля , в салоне которого полиция обнаружила труп мужчины . Об этом 8 января сообщает « Интерфакс » со ссылкой на источник в правоохранительных органах . Автомобиль находился возле озера Тамбукан . Взрыв произошел , когда сотрудники полиции проводили следственные действия . В результате взрыва автомобиль получил повреждения . Среди полицейских никто не пострадал . В пресс-службе МВД позднее заявили агентству , что возле машины с трупом раздался хлопок , о природе которого пока ничего неизвестно . Личность мужчины , которого нашли в салоне машины , не установлена . Также полицейские пока ничего не говорят о предположительной причине его смерти . Полиция Ставропольского края накануне обнаружила еще два автомобиля с трупами . Их нашли в станице Зольской Кировского района . В салонах ВАЗ-2105 и ВАЗ-2107 находились два местных жителя 1984 и 1987 года рождения . От чего они скончались , не сообщается . ',\n",
       " '20140108car']"
      ]
     },
     "execution_count": 619,
     "metadata": {},
     "output_type": "execute_result"
    }
   ],
   "source": [
    "idx = 92\n",
    "to_annotate[idx]"
   ]
  },
  {
   "cell_type": "code",
   "execution_count": 622,
   "metadata": {},
   "outputs": [
    {
     "data": {
      "text/plain": [
       "True"
      ]
     },
     "execution_count": 622,
     "metadata": {},
     "output_type": "execute_result"
    }
   ],
   "source": [
    "tags = 'O LOC LOC O CRI O O O O O O O O O O O O O DAT DAT O O O O O O O O O O O O O O O O LOC O O O O O O O O O O O O O O O O O O O O O O O O O O O O O O O O O O O O O O O O O O O O O O O O O O O O O O O O O O O O O O O O O O O O O O LOC LOC O O O O O O O O O O O LOC LOC LOC LOC O O O O O O O O O O O O O O O O O O O O O O O O O'\n",
    "tags_list.append(tags)\n",
    "(len(to_annotate[idx][1].split())==len(tags_list[idx].split()))"
   ]
  },
  {
   "cell_type": "code",
   "execution_count": 623,
   "metadata": {},
   "outputs": [
    {
     "data": {
      "text/plain": [
       "[940,\n",
       " 'В Новокузнецке в ходе обыска покончил с собой артист гастролирующего цирка . Об этом 6 августа сообщается на сайте Следственного комитета РФ . Обыск в комнате 27-летнего артиста проводился 5 июля . В какой-то момент мужчина выпрыгнул с пятого этажа . Участники обыска вызвали скорую помощь , но медики не смогли спасти артиста . По информации « Газеты Кемерова » , обыск проводился в рамках дела об убийстве хозяина частного дома на Магнитогорской улице . В комнате присутствовали оперативники , следователь , администратор гостиницы « Дом артистов цирка » и двое понятых . Перед суицидом артист в течение часа молчал и курил . Издание « Сiбдепо » сообщает , что погибший работал в цирке « Империя львиц » помощником дрессировщика медведей . Анонсируя гастроли цирковой группы , телеканал « Ново-ТВ » передавал: « Волшебное цирковое шоу с гимнастами , акробатами , велофигуристами и экзотическими дрессированными животными приехало с гастролями в южную столицу Кузбасса » . ',\n",
       " '20130806cirk']"
      ]
     },
     "execution_count": 623,
     "metadata": {},
     "output_type": "execute_result"
    }
   ],
   "source": [
    "idx = 93\n",
    "to_annotate[idx]"
   ]
  },
  {
   "cell_type": "code",
   "execution_count": 624,
   "metadata": {},
   "outputs": [
    {
     "data": {
      "text/plain": [
       "True"
      ]
     },
     "execution_count": 624,
     "metadata": {},
     "output_type": "execute_result"
    }
   ],
   "source": [
    "tags = 'O LOC O O O O O O O O O O O O DAT DAT O O O O O O O O O O O O O DAT DAT O O O O O O O O O O O O O O O O O O O O O O O O O O O O O O O O O O O O O O O O O LOC LOC O O O O O O O O O O O O O O O O O O O O O OFF O O O O O O O O O O O O O O O O O O O O O O O O O O O O O O O O O O O O O O O O O O O O O O O O O O O O O O O O O O O'\n",
    "tags_list.append(tags)\n",
    "(len(to_annotate[idx][1].split())==len(tags_list[idx].split()))"
   ]
  },
  {
   "cell_type": "code",
   "execution_count": 625,
   "metadata": {},
   "outputs": [
    {
     "data": {
      "text/plain": [
       "[940,\n",
       " 'Полиция Чехии обнаружила в грузе бананов рекордную партию кокаина — более 100 килограммов наркотика . Об этом сообщает Associated Press . Фрукты предназначались для одного из местных супермаркетов . По словам представителя отдела полиции по борьбе с наркомафией Барборы Кудлаковой ( Barbora Kudlackova ) , на черном рынке стоимость изъятого наркотика составила бы около 40 миллионов долларов . Из какой страны были доставлены бананы , не уточняется . Другие подробности операции сотрудники полиции также отказались сообщать . Кудлакова добавила , что эта партия побила прежний рекорд . В 1999 году обнаружили 117 килограммов кокаина . За последние несколько лет большие партии кокаина в фруктах неоднократно обнаруживали в Дании и Германии . В январе 2014 года в магазинах торговой сети Aldi обнаружили около 140 килограммов этого наркотика в ящиках из-под бананов . Стоимость кокаина оценивалась в пять миллионов евро . Его ввезли в Германию из Южной Америки . ',\n",
       " '20150403banana_cocaine']"
      ]
     },
     "execution_count": 625,
     "metadata": {},
     "output_type": "execute_result"
    }
   ],
   "source": [
    "idx = 94\n",
    "to_annotate[94]"
   ]
  },
  {
   "cell_type": "code",
   "execution_count": 626,
   "metadata": {},
   "outputs": [
    {
     "data": {
      "text/plain": [
       "True"
      ]
     },
     "execution_count": 626,
     "metadata": {},
     "output_type": "execute_result"
    }
   ],
   "source": [
    "tags = 'O LOC O O O O O O CRI O O O O O O O O O O O O O O O O O O O O O O O O O O O O O O O O O O O O O O O O O O O O O O O O O O O O O O O O O O O O O O O O O O O O O O O O O O O O O O O O O O O O O O O O O O O O O O O O O O LOC O LOC O O DAT DAT DAT O O O O LOC O O O O O O O O O O O O CRI O O O O O O O O O LOC O LOC LOC O'\n",
    "tags_list.append(tags)\n",
    "(len(to_annotate[idx][1].split())==len(tags_list[idx].split()))"
   ]
  },
  {
   "cell_type": "code",
   "execution_count": 627,
   "metadata": {},
   "outputs": [
    {
     "data": {
      "text/plain": [
       "[943,\n",
       " 'Директор детского сада в Кельне , которого захватил в заложники вооруженный ножом мужчина , освобожден . Об этом в пятницу сообщают немецкие СМИ . Осада детского учреждения в районе Корвайлер на севере города длилась почти весь день . Мужчина ворвался в детсад рано утром , и только около 19:00 по местному времени ( 21:00 по московскому ) полиция штурмовала здание , ранила злоумышленника и вывела заложника . Он получил незначительные травмы . Мужчина требовал деньги и машину , на которой мог бы скрыться , рассказали в полиции . При этом о какой сумме шла речь , не уточнялось . Мотивы преступления пока не ясны . По некоторым данным , мужчина не смог устроить в сад своего ребенка . Издание Bild пишет , что 51-летнего директора в заложники захватил 47-летний житель Кельна Мехмет Д . Никто из воспитанников детского сада не пострадал . В связи с пасхальными каникулами в заведении находились лишь 17 детей вместо обычных 80 . Воспитатели быстро вывели их на улицу . ',\n",
       " '20130406cologne']"
      ]
     },
     "execution_count": 627,
     "metadata": {},
     "output_type": "execute_result"
    }
   ],
   "source": [
    "idx = 95\n",
    "to_annotate[95]"
   ]
  },
  {
   "cell_type": "code",
   "execution_count": 628,
   "metadata": {},
   "outputs": [
    {
     "data": {
      "text/plain": [
       "True"
      ]
     },
     "execution_count": 628,
     "metadata": {},
     "output_type": "execute_result"
    }
   ],
   "source": [
    "tags = 'O O O O LOC O O O O O O O O O O O O O O O O O O O O O O O O LOC O LOC LOC O O O O O OFF O O O O O O O O O O O O O O O O O O O O O O O O O O O O O O O O O OFF O O O O O O O O O O O O O O O O O O O O O O O O O O O O O O O O O O O O O O O O O O O O O O O O O O O O O O O O O LOC OFF OFF O O O O O O O O O O O O O O O O O O O O O O O O O O O O O O O'\n",
    "tags_list.append(tags)\n",
    "(len(to_annotate[idx][1].split())==len(tags_list[idx].split()))"
   ]
  },
  {
   "cell_type": "code",
   "execution_count": 629,
   "metadata": {},
   "outputs": [
    {
     "data": {
      "text/plain": [
       "[947,\n",
       " 'Московская полиция при поддержке ОМОН проводит обыски в офисах Смоленского банка . Об этом 5 ноября сообщается на сайте Главного управления МВД по Москве . Обыски связаны с расследованием уголовного дела о незаконной банковской деятельности ( статья 172 УК РФ ) . Как уточняют в полиции , речь идет о незаконном обналичивании средств через расчетные счета фиктивных организаций « за определенный процент от суммы перевода » . В ходе обысков планируется выяснить , причастны ли сотрудники банка к совершению этого преступления . Дело было возбуждено против неустановленных лиц в октябре 2013 года . Статья 172 УК РФ ( незаконная банковская деятельность ) предусматривает лишение свободы сроком до семи лет и штраф в размере до одного миллиона рублей . Смоленский банк был основан в 1992 году . Первый филиал в Москве открылся три года спустя . По данным « Интерфакса » , по итогам трех кварталов 2013 года Смоленский банк занимает 125-е место в России по размеру активов . ',\n",
       " '20131105smolensky']"
      ]
     },
     "execution_count": 629,
     "metadata": {},
     "output_type": "execute_result"
    }
   ],
   "source": [
    "idx = 96\n",
    "to_annotate[idx]"
   ]
  },
  {
   "cell_type": "code",
   "execution_count": 634,
   "metadata": {},
   "outputs": [
    {
     "data": {
      "text/plain": [
       "True"
      ]
     },
     "execution_count": 634,
     "metadata": {},
     "output_type": "execute_result"
    }
   ],
   "source": [
    "tags = 'O O O O O O O O O OFF OFF O O O DAT DAT O O O O O O O LOC O O O O O O O O CRI CRI CRI O O O O O O O O O O O O O O O CRI CRI CRI O O O O O O O O O O O O O O O O O O O O O O O O O O O O O O O O O O O O DAT DAT O O O O O O O O O O O O O O O O O O O O O O O O O O O OFF OFF O O O O O O O O O LOC O O O O O O O O O O O O O O O DAT TDA OFF OFF O O O O O O O O O'\n",
    "tags_list.append(tags)\n",
    "(len(to_annotate[idx][1].split())==len(tags_list[idx].split()))"
   ]
  },
  {
   "cell_type": "code",
   "execution_count": 633,
   "metadata": {},
   "outputs": [],
   "source": [
    "del tags_list[-1]"
   ]
  },
  {
   "cell_type": "code",
   "execution_count": 635,
   "metadata": {},
   "outputs": [
    {
     "data": {
      "text/plain": [
       "[950,\n",
       " 'Один из участников массовой драки , которая произошла в рабочем поселке Тугулым Свердловской области в ночь на воскресенье , бросил в оппонентов ручную осколочную наступательную гранату РГД-5 . В результате инцидента пострадали 14 человек , сообщается на сайте Следственного комитета РФ . Конфликт между двумя группами молодых людей начался в кафе « Каспий » на улице Ленина и продолжился на улице . Точное число граждан , находившихся в кафе и участвовавших в драке , как и ее причины , пока не известны . Кто именно из дерущихся применил гранату , также пока не установлено . По данным « Интерфакса » , ссылающегося на представителя пресс-службы местного управления МВД , семеро из 14 пострадавших – женщины . Трое раненых находятся в тяжелом состоянии . Что касается материального ущерба , – ударной волной выбиты стекла в кафе . Следствие рассматривает две версии случившегося – хулиганский мотив либо внезапно возникший конфликт в ходе ссоры на почве распития спиртного . ',\n",
       " '20140309rgd5']"
      ]
     },
     "execution_count": 635,
     "metadata": {},
     "output_type": "execute_result"
    }
   ],
   "source": [
    "idx = 97\n",
    "to_annotate[idx]"
   ]
  },
  {
   "cell_type": "code",
   "execution_count": 636,
   "metadata": {},
   "outputs": [
    {
     "data": {
      "text/plain": [
       "True"
      ]
     },
     "execution_count": 636,
     "metadata": {},
     "output_type": "execute_result"
    }
   ],
   "source": [
    "tags = 'O O O CRI CRI O O O O O O LOC LOC LOC O O O O O O O O O O O O O O O O O O SUF SUF O O O O O O O O O O O O O O O O O O O O O O LOC LOC O O O O O O O O O O O O O O O O O O O O O O O O O O O O O O O O O O O O O O O O O O O O O O O O O O O O O O O O O O O O O O O O O O O O O O O O O O O O O O O  O O O O O O O O O O O O O O O O O O O'\n",
    "tags_list.append(tags)\n",
    "(len(to_annotate[idx][1].split())==len(tags_list[idx].split()))"
   ]
  },
  {
   "cell_type": "code",
   "execution_count": 637,
   "metadata": {},
   "outputs": [
    {
     "data": {
      "text/plain": [
       "[954,\n",
       " 'Подмосковная полиция возбудила уголовное дело по факту обнаружения наркотиков , изъятых при задержании « вора в законе » Джемала Микиладзе по кличке « Джемо » , сообщает РИА Новости . Микиладзе был задержан 1 февраля в частном доме в деревне Солослово Одинцовского района Подмосковья . Операция проводилась местными полицейскими совместно с ФСБ . Среди прочего в помещении были две гранаты РГД , а также 4-5 граммов порошка бурого цвета . По словам источника агентства в правоохранительных органах , экспертиза установила , что в указанном веществе находилось 0 , 37 грамма кокаина . В связи с этим было возбуждено уголовное дело за незаконное приобретение и хранение наркотических средств . Джемал Микиладзе , уроженец Южной Осетии , 1975 года рождения , считается одним из врагов « вора в законе » Аслана Усояна ( « Деда Хасана » ) . Усоян был убит 16 января на выходе из ресторана в центре Москвы . По одной из версии СМИ , заказчиком убийства Деда Хасана мог выступить именно Джемо . ',\n",
       " '20130202jamo']"
      ]
     },
     "execution_count": 637,
     "metadata": {},
     "output_type": "execute_result"
    }
   ],
   "source": [
    "idx = 98\n",
    "to_annotate[98]"
   ]
  },
  {
   "cell_type": "code",
   "execution_count": 638,
   "metadata": {},
   "outputs": [
    {
     "data": {
      "text/plain": [
       "True"
      ]
     },
     "execution_count": 638,
     "metadata": {},
     "output_type": "execute_result"
    }
   ],
   "source": [
    "tags = 'O O O O O O O O O O O O O O O O O O OFF OFF O O O OFF O O O O O O OFF O O DAT DAT O O O O LOC LOC LOC LOC LOC O O O O O O O O O O O O O O O O O O O O O O O O O O O O O O O O O O O O O O O O O O O O O O O O O O O O O O O O O CRI CRI O CRI CRI CRI O OFF OFF O O O O O O O O O O O O O O O O O O O O O O O O O O O O O O O O O O O O O O O O O O O O O O O O SUF SUF O O O OFF O'\n",
    "tags_list.append(tags)\n",
    "(len(to_annotate[idx][1].split())==len(tags_list[idx].split()))"
   ]
  },
  {
   "cell_type": "code",
   "execution_count": 639,
   "metadata": {},
   "outputs": [
    {
     "data": {
      "text/plain": [
       "[957,\n",
       " 'В отношении бывшего замгубернатора Краснодарского края Эдуарда Кутыгина возбудили дело о хищении девяти миллионов рублей . Об этом 4 апреля сообщает РИА Новости . По версии следствия , Кутыгин совершил хищение , когда был директором ульяновского филиала Россельхозбанка . Он с февраля 2009 года по июнь 2010 года выдавал одному из сотрудников премии , которые затем отбирал и присваивал . Ранее фигурантом уголовного дела стал Сергей Давыдов , возглавивший ульяновский филиал Россельхозбанка после Кутыгина , а затем тоже перешедший на работу в Краснодарский край . Давыдова подозревают в хищении двух миллионов рублей . Кутыгин занимал должность заместителя губернатора — министра сельского хозяйства и перерабатывающей промышленности до 20 марта 2012 года . Первые сообщения о том , что против него возбудили дело , появились в СМИ 2 апреля . Однако тогда подробности дела не раскрывались , и журналисты предполагали , что Кутыгин просто стал вторым фигурантом дела Давыдова . ',\n",
       " '20130404kutigin']"
      ]
     },
     "execution_count": 639,
     "metadata": {},
     "output_type": "execute_result"
    }
   ],
   "source": [
    "idx = 99\n",
    "to_annotate[idx]"
   ]
  },
  {
   "cell_type": "code",
   "execution_count": 675,
   "metadata": {},
   "outputs": [
    {
     "data": {
      "text/plain": [
       "True"
      ]
     },
     "execution_count": 675,
     "metadata": {},
     "output_type": "execute_result"
    }
   ],
   "source": [
    "tags = 'O O O O LOC LOC OFF OFF O O O CRI O O O O O O DAT DAT O O O O O O O O OFF O CRI O O O O O O O O O DAT DAT DAT O DAT DAT DAT O O O O O O O O O O O O O O O O O OFF OFF O O O O O O OFF O O O O O O O O LOC LOC O OFF O O CRI O O O O OFF O O O O O O O O O O O O DAT DAT DAT DAT O O O O O O O O O O O O O O O O O O O O O O O O O O O O O O O OFF O O O O O OFF O'\n",
    "tags_list.append(tags)\n",
    "(len(to_annotate[idx][1].split())==len(tags_list[idx].split()))"
   ]
  },
  {
   "cell_type": "code",
   "execution_count": 678,
   "metadata": {},
   "outputs": [],
   "source": [
    "tagged_data = to_annotate + tags_list"
   ]
  },
  {
   "cell_type": "code",
   "execution_count": 687,
   "metadata": {},
   "outputs": [],
   "source": [
    "tagged_data = []\n",
    "for i in range(0, len(to_annotate)):\n",
    "    tagged_data.append([to_annotate[i][2], to_annotate[i][1], tags_list[i]])"
   ]
  },
  {
   "cell_type": "code",
   "execution_count": 688,
   "metadata": {},
   "outputs": [
    {
     "data": {
      "text/plain": [
       "['20140108blast',\n",
       " 'В Ессентуках в пригородном электропоезде произошел взрыв . Об этом сообщает агентство « Интерфакс » со ссылкой на источник , близкий к правоохранительным органам Ставропольского края . Официального подтверждения этой информации не поступало . Сведений о пострадавших в результате взрыва нет . ',\n",
       " 'O LOC O O O O CRI O O O O O O O O O O O O O O O O O O O O O O O O O O O O O O O O CRI SUF O']"
      ]
     },
     "execution_count": 688,
     "metadata": {},
     "output_type": "execute_result"
    }
   ],
   "source": [
    "tagged_data[0]"
   ]
  },
  {
   "cell_type": "code",
   "execution_count": 689,
   "metadata": {},
   "outputs": [],
   "source": [
    "df = pd.DataFrame(tagged_data, columns=['txt_id', 'text', 'tags'])"
   ]
  },
  {
   "cell_type": "code",
   "execution_count": 690,
   "metadata": {},
   "outputs": [
    {
     "data": {
      "text/html": [
       "<div>\n",
       "<style scoped>\n",
       "    .dataframe tbody tr th:only-of-type {\n",
       "        vertical-align: middle;\n",
       "    }\n",
       "\n",
       "    .dataframe tbody tr th {\n",
       "        vertical-align: top;\n",
       "    }\n",
       "\n",
       "    .dataframe thead th {\n",
       "        text-align: right;\n",
       "    }\n",
       "</style>\n",
       "<table border=\"1\" class=\"dataframe\">\n",
       "  <thead>\n",
       "    <tr style=\"text-align: right;\">\n",
       "      <th></th>\n",
       "      <th>txt_id</th>\n",
       "      <th>text</th>\n",
       "      <th>tags</th>\n",
       "    </tr>\n",
       "  </thead>\n",
       "  <tbody>\n",
       "    <tr>\n",
       "      <th>0</th>\n",
       "      <td>20140108blast</td>\n",
       "      <td>В Ессентуках в пригородном электропоезде произ...</td>\n",
       "      <td>O LOC O O O O CRI O O O O O O O O O O O O O O ...</td>\n",
       "    </tr>\n",
       "    <tr>\n",
       "      <th>1</th>\n",
       "      <td>20130607lexus</td>\n",
       "      <td>На Трубной улице в Москве произошла перестрелк...</td>\n",
       "      <td>O LOC LOC O LOC O CRI O OFF O O O DAT DAT O O ...</td>\n",
       "    </tr>\n",
       "    <tr>\n",
       "      <th>2</th>\n",
       "      <td>20130607pray</td>\n",
       "      <td>Во время рейда в молельной комнате в московско...</td>\n",
       "      <td>O O O O O O O LOC LOC LOC O O OFF OFF O O O DA...</td>\n",
       "    </tr>\n",
       "    <tr>\n",
       "      <th>3</th>\n",
       "      <td>20130805veernaya</td>\n",
       "      <td>В Москве неизвестные злоумышленники отобрали у...</td>\n",
       "      <td>O LOC OFF OFF CRI O SUF O O O O O O O DAT DAT ...</td>\n",
       "    </tr>\n",
       "    <tr>\n",
       "      <th>4</th>\n",
       "      <td>20131105mall</td>\n",
       "      <td>Преступник открыл огонь в торговом центре West...</td>\n",
       "      <td>OFF CRI CRI O LOC LOC LOC LOC LOC LOC O LOC LO...</td>\n",
       "    </tr>\n",
       "  </tbody>\n",
       "</table>\n",
       "</div>"
      ],
      "text/plain": [
       "             txt_id                                               text  \\\n",
       "0     20140108blast  В Ессентуках в пригородном электропоезде произ...   \n",
       "1     20130607lexus  На Трубной улице в Москве произошла перестрелк...   \n",
       "2      20130607pray  Во время рейда в молельной комнате в московско...   \n",
       "3  20130805veernaya  В Москве неизвестные злоумышленники отобрали у...   \n",
       "4      20131105mall  Преступник открыл огонь в торговом центре West...   \n",
       "\n",
       "                                                tags  \n",
       "0  O LOC O O O O CRI O O O O O O O O O O O O O O ...  \n",
       "1  O LOC LOC O LOC O CRI O OFF O O O DAT DAT O O ...  \n",
       "2  O O O O O O O LOC LOC LOC O O OFF OFF O O O DA...  \n",
       "3  O LOC OFF OFF CRI O SUF O O O O O O O DAT DAT ...  \n",
       "4  OFF CRI CRI O LOC LOC LOC LOC LOC LOC O LOC LO...  "
      ]
     },
     "execution_count": 690,
     "metadata": {},
     "output_type": "execute_result"
    }
   ],
   "source": [
    "df.head()"
   ]
  },
  {
   "cell_type": "code",
   "execution_count": 692,
   "metadata": {},
   "outputs": [],
   "source": [
    "df.to_csv('data\\Lenta_Crimes_Tagged.csv')"
   ]
  },
  {
   "cell_type": "code",
   "execution_count": null,
   "metadata": {},
   "outputs": [],
   "source": []
  }
 ],
 "metadata": {
  "kernelspec": {
   "display_name": "Python 3",
   "language": "python",
   "name": "python3"
  },
  "language_info": {
   "codemirror_mode": {
    "name": "ipython",
    "version": 3
   },
   "file_extension": ".py",
   "mimetype": "text/x-python",
   "name": "python",
   "nbconvert_exporter": "python",
   "pygments_lexer": "ipython3",
   "version": "3.6.7"
  }
 },
 "nbformat": 4,
 "nbformat_minor": 2
}
