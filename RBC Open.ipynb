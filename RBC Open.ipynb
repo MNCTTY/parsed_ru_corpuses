{
 "cells": [
  {
   "cell_type": "code",
   "execution_count": 9,
   "metadata": {},
   "outputs": [],
   "source": [
    "def tokenize(the_list, idx):\n",
    "    for i in range(0,len(the_list)):\n",
    "        the_list[i][idx] = the_list[i][idx].replace('\\n', ' ')\n",
    "        the_list[i][idx] = the_list[i][idx].replace(';', ' ; ')\n",
    "        the_list[i][idx] = the_list[i][idx].replace(',', ' , ')\n",
    "        the_list[i][idx] = the_list[i][idx].replace('.', ' . ')\n",
    "        the_list[i][idx] = the_list[i][idx].replace('\"', '')\n",
    "        the_list[i][idx] = the_list[i][idx].replace('«', '')\n",
    "        the_list[i][idx] = the_list[i][idx].replace('»', '')\n",
    "        the_list[i][idx] = the_list[i][idx].replace(')', ' ) ')\n",
    "        the_list[i][idx] = the_list[i][idx].replace('(', ' ( ')\n",
    "        the_list[i][idx] = the_list[i][idx].replace('  ', ' ')\n",
    "        the_list[i][idx] = the_list[i][idx].replace('   ', ' ')\n",
    "        the_list[i][idx] = the_list[i][idx].replace('    ', ' ')"
   ]
  },
  {
   "cell_type": "markdown",
   "metadata": {},
   "source": [
    "## imports"
   ]
  },
  {
   "cell_type": "code",
   "execution_count": 1,
   "metadata": {},
   "outputs": [],
   "source": [
    "import pandas as pd\n",
    "import os\n",
    "import json"
   ]
  },
  {
   "cell_type": "markdown",
   "metadata": {},
   "source": [
    "## files reading"
   ]
  },
  {
   "cell_type": "code",
   "execution_count": 2,
   "metadata": {},
   "outputs": [],
   "source": [
    "dir_path = 'DATASETS/rbc'"
   ]
  },
  {
   "cell_type": "code",
   "execution_count": 3,
   "metadata": {},
   "outputs": [],
   "source": [
    "file_pathes = []\n",
    "for top, dirs, files in os.walk(dir_path):\n",
    "    for nm in files:\n",
    "        file_pathes.append(os.path.join(top, nm))"
   ]
  },
  {
   "cell_type": "code",
   "execution_count": 4,
   "metadata": {},
   "outputs": [
    {
     "data": {
      "text/plain": [
       "2185"
      ]
     },
     "execution_count": 4,
     "metadata": {},
     "output_type": "execute_result"
    }
   ],
   "source": [
    "files = []\n",
    "for i in range(0, len(file_pathes)):\n",
    "    if os.path.splitext(file_pathes[i])[1] == '.json':\n",
    "        #files.append(os.path.basename(file_pathes[i]))\n",
    "        files.append(file_pathes[i])\n",
    "len(files)\n"
   ]
  },
  {
   "cell_type": "markdown",
   "metadata": {},
   "source": [
    "## data reading"
   ]
  },
  {
   "cell_type": "code",
   "execution_count": 5,
   "metadata": {},
   "outputs": [
    {
     "name": "stdout",
     "output_type": "stream",
     "text": [
      "Wall time: 22.3 s\n"
     ]
    }
   ],
   "source": [
    "%%time\n",
    "the_list = []\n",
    "for file in files:\n",
    "    raw_data = []\n",
    "    for line in open(file, 'r', encoding='utf-8'):\n",
    "        raw_data.append(json.loads(line))\n",
    "        all_texts = []\n",
    "        all_titles = []\n",
    "        all_ids = []\n",
    "        for d in raw_data:\n",
    "            for k, v in d.items():\n",
    "                if k == 'Paragraphs':\n",
    "                    all_texts.append(v)\n",
    "                if k == 'Header':\n",
    "                    all_titles.append(v)\n",
    "                if k == 'Id':\n",
    "                    all_ids.append(v)\n",
    "        \n",
    "        for i in range(0, len(all_texts)):\n",
    "            the_list.append([all_texts[i], all_titles[i], all_ids[i]])"
   ]
  },
  {
   "cell_type": "code",
   "execution_count": 6,
   "metadata": {},
   "outputs": [
    {
     "data": {
      "text/plain": [
       "2185"
      ]
     },
     "execution_count": 6,
     "metadata": {},
     "output_type": "execute_result"
    }
   ],
   "source": [
    "len(the_list)"
   ]
  },
  {
   "cell_type": "code",
   "execution_count": 7,
   "metadata": {},
   "outputs": [],
   "source": [
    "the_list = the_list[1:]"
   ]
  },
  {
   "cell_type": "code",
   "execution_count": 8,
   "metadata": {},
   "outputs": [],
   "source": [
    "for i in range(0, len(the_list)):\n",
    "    the_list[i][0] = ' '.join(the_list[i][0])"
   ]
  },
  {
   "cell_type": "code",
   "execution_count": 10,
   "metadata": {},
   "outputs": [
    {
     "name": "stdout",
     "output_type": "stream",
     "text": [
      "Wall time: 136 ms\n"
     ]
    }
   ],
   "source": [
    "%%time\n",
    "tokenize(the_list, idx = 0)"
   ]
  },
  {
   "cell_type": "markdown",
   "metadata": {},
   "source": [
    "## raw data in df"
   ]
  },
  {
   "cell_type": "code",
   "execution_count": 11,
   "metadata": {},
   "outputs": [],
   "source": [
    "df = pd.DataFrame(the_list, columns=['Text', 'Title', 'id'])"
   ]
  },
  {
   "cell_type": "code",
   "execution_count": 12,
   "metadata": {},
   "outputs": [
    {
     "data": {
      "text/html": [
       "<div>\n",
       "<style scoped>\n",
       "    .dataframe tbody tr th:only-of-type {\n",
       "        vertical-align: middle;\n",
       "    }\n",
       "\n",
       "    .dataframe tbody tr th {\n",
       "        vertical-align: top;\n",
       "    }\n",
       "\n",
       "    .dataframe thead th {\n",
       "        text-align: right;\n",
       "    }\n",
       "</style>\n",
       "<table border=\"1\" class=\"dataframe\">\n",
       "  <thead>\n",
       "    <tr style=\"text-align: right;\">\n",
       "      <th></th>\n",
       "      <th>Text</th>\n",
       "      <th>Title</th>\n",
       "      <th>id</th>\n",
       "    </tr>\n",
       "  </thead>\n",
       "  <tbody>\n",
       "    <tr>\n",
       "      <th>0</th>\n",
       "      <td>Федеральное налоговое ведомство США по итогам ...</td>\n",
       "      <td>Компанию Coca-Cola обвинили в неуплате налогов...</td>\n",
       "      <td>55fcbbcf9a7947804181c2bc</td>\n",
       "    </tr>\n",
       "    <tr>\n",
       "      <th>1</th>\n",
       "      <td>Приволжское следственное управление на транспо...</td>\n",
       "      <td>Два уголовных дела возбуждены по факту неуплат...</td>\n",
       "      <td>56c1b3049a79477d0605a808</td>\n",
       "    </tr>\n",
       "    <tr>\n",
       "      <th>2</th>\n",
       "      <td>Уголовное дело , фигурантом которого был генер...</td>\n",
       "      <td>Уголовное дело против главы СУ-155 прекратили ...</td>\n",
       "      <td>56c5aec19a79479c62a688fc</td>\n",
       "    </tr>\n",
       "    <tr>\n",
       "      <th>3</th>\n",
       "      <td>Московская налоговая инспекция проводит новую ...</td>\n",
       "      <td>СМИ сообщили о новой проверке о неуплате налог...</td>\n",
       "      <td>56c68ab19a79475ef96ee710</td>\n",
       "    </tr>\n",
       "    <tr>\n",
       "      <th>4</th>\n",
       "      <td>Российское следствие объявило украинского бизн...</td>\n",
       "      <td>Украинского бизнесмена объявили в розыск из-за...</td>\n",
       "      <td>570e606f9a7947b8ace4ae94</td>\n",
       "    </tr>\n",
       "  </tbody>\n",
       "</table>\n",
       "</div>"
      ],
      "text/plain": [
       "                                                Text  \\\n",
       "0  Федеральное налоговое ведомство США по итогам ...   \n",
       "1  Приволжское следственное управление на транспо...   \n",
       "2  Уголовное дело , фигурантом которого был генер...   \n",
       "3  Московская налоговая инспекция проводит новую ...   \n",
       "4  Российское следствие объявило украинского бизн...   \n",
       "\n",
       "                                               Title                        id  \n",
       "0  Компанию Coca-Cola обвинили в неуплате налогов...  55fcbbcf9a7947804181c2bc  \n",
       "1  Два уголовных дела возбуждены по факту неуплат...  56c1b3049a79477d0605a808  \n",
       "2  Уголовное дело против главы СУ-155 прекратили ...  56c5aec19a79479c62a688fc  \n",
       "3  СМИ сообщили о новой проверке о неуплате налог...  56c68ab19a79475ef96ee710  \n",
       "4  Украинского бизнесмена объявили в розыск из-за...  570e606f9a7947b8ace4ae94  "
      ]
     },
     "execution_count": 12,
     "metadata": {},
     "output_type": "execute_result"
    }
   ],
   "source": [
    "df.head()"
   ]
  },
  {
   "cell_type": "markdown",
   "metadata": {},
   "source": [
    "## get only unique values in df"
   ]
  },
  {
   "cell_type": "code",
   "execution_count": 13,
   "metadata": {},
   "outputs": [
    {
     "data": {
      "text/plain": [
       "2090"
      ]
     },
     "execution_count": 13,
     "metadata": {},
     "output_type": "execute_result"
    }
   ],
   "source": [
    "len(pd.unique(df['id']))"
   ]
  },
  {
   "cell_type": "code",
   "execution_count": 14,
   "metadata": {},
   "outputs": [],
   "source": [
    "df_unique = df.drop_duplicates()"
   ]
  },
  {
   "cell_type": "code",
   "execution_count": 15,
   "metadata": {},
   "outputs": [
    {
     "data": {
      "text/plain": [
       "2091"
      ]
     },
     "execution_count": 15,
     "metadata": {},
     "output_type": "execute_result"
    }
   ],
   "source": [
    "len(df_unique)"
   ]
  },
  {
   "cell_type": "code",
   "execution_count": 16,
   "metadata": {},
   "outputs": [
    {
     "data": {
      "text/html": [
       "<div>\n",
       "<style scoped>\n",
       "    .dataframe tbody tr th:only-of-type {\n",
       "        vertical-align: middle;\n",
       "    }\n",
       "\n",
       "    .dataframe tbody tr th {\n",
       "        vertical-align: top;\n",
       "    }\n",
       "\n",
       "    .dataframe thead th {\n",
       "        text-align: right;\n",
       "    }\n",
       "</style>\n",
       "<table border=\"1\" class=\"dataframe\">\n",
       "  <thead>\n",
       "    <tr style=\"text-align: right;\">\n",
       "      <th></th>\n",
       "      <th>Text</th>\n",
       "      <th>Title</th>\n",
       "      <th>id</th>\n",
       "    </tr>\n",
       "  </thead>\n",
       "  <tbody>\n",
       "    <tr>\n",
       "      <th>0</th>\n",
       "      <td>Федеральное налоговое ведомство США по итогам ...</td>\n",
       "      <td>Компанию Coca-Cola обвинили в неуплате налогов...</td>\n",
       "      <td>55fcbbcf9a7947804181c2bc</td>\n",
       "    </tr>\n",
       "    <tr>\n",
       "      <th>1</th>\n",
       "      <td>Приволжское следственное управление на транспо...</td>\n",
       "      <td>Два уголовных дела возбуждены по факту неуплат...</td>\n",
       "      <td>56c1b3049a79477d0605a808</td>\n",
       "    </tr>\n",
       "    <tr>\n",
       "      <th>2</th>\n",
       "      <td>Уголовное дело , фигурантом которого был генер...</td>\n",
       "      <td>Уголовное дело против главы СУ-155 прекратили ...</td>\n",
       "      <td>56c5aec19a79479c62a688fc</td>\n",
       "    </tr>\n",
       "    <tr>\n",
       "      <th>3</th>\n",
       "      <td>Московская налоговая инспекция проводит новую ...</td>\n",
       "      <td>СМИ сообщили о новой проверке о неуплате налог...</td>\n",
       "      <td>56c68ab19a79475ef96ee710</td>\n",
       "    </tr>\n",
       "    <tr>\n",
       "      <th>4</th>\n",
       "      <td>Российское следствие объявило украинского бизн...</td>\n",
       "      <td>Украинского бизнесмена объявили в розыск из-за...</td>\n",
       "      <td>570e606f9a7947b8ace4ae94</td>\n",
       "    </tr>\n",
       "  </tbody>\n",
       "</table>\n",
       "</div>"
      ],
      "text/plain": [
       "                                                Text  \\\n",
       "0  Федеральное налоговое ведомство США по итогам ...   \n",
       "1  Приволжское следственное управление на транспо...   \n",
       "2  Уголовное дело , фигурантом которого был генер...   \n",
       "3  Московская налоговая инспекция проводит новую ...   \n",
       "4  Российское следствие объявило украинского бизн...   \n",
       "\n",
       "                                               Title                        id  \n",
       "0  Компанию Coca-Cola обвинили в неуплате налогов...  55fcbbcf9a7947804181c2bc  \n",
       "1  Два уголовных дела возбуждены по факту неуплат...  56c1b3049a79477d0605a808  \n",
       "2  Уголовное дело против главы СУ-155 прекратили ...  56c5aec19a79479c62a688fc  \n",
       "3  СМИ сообщили о новой проверке о неуплате налог...  56c68ab19a79475ef96ee710  \n",
       "4  Украинского бизнесмена объявили в розыск из-за...  570e606f9a7947b8ace4ae94  "
      ]
     },
     "execution_count": 16,
     "metadata": {},
     "output_type": "execute_result"
    }
   ],
   "source": [
    "df_unique.head()"
   ]
  },
  {
   "cell_type": "code",
   "execution_count": 37,
   "metadata": {},
   "outputs": [],
   "source": [
    "df_unique.to_csv('RBC_corpus.csv')"
   ]
  },
  {
   "cell_type": "markdown",
   "metadata": {},
   "source": [
    "## df with texts only"
   ]
  },
  {
   "cell_type": "code",
   "execution_count": 17,
   "metadata": {},
   "outputs": [],
   "source": [
    "df_to_tag = df_unique['Text']"
   ]
  },
  {
   "cell_type": "code",
   "execution_count": 27,
   "metadata": {},
   "outputs": [
    {
     "data": {
      "text/plain": [
       "str"
      ]
     },
     "execution_count": 27,
     "metadata": {},
     "output_type": "execute_result"
    }
   ],
   "source": [
    "type(df_to_tag[0])\n",
    "#len(df_to_tag)"
   ]
  },
  {
   "cell_type": "code",
   "execution_count": 33,
   "metadata": {},
   "outputs": [
    {
     "data": {
      "text/plain": [
       "'Федеральное налоговое ведомство США по итогам аудита обвинило американскую корпорацию Coca-Cola в неуплате налогов на $3 , 3 млрд с 2007 по 2009 годы , сообщает Bloomberg . Пока ведомство не предложило наложить на гиганта рынка штраф . Компания в свою очередь отвергла обвинения и заявила , что намерена искать справедливости в суде . Мы планируем воспользоваться административными и правовыми средствами , которые необходимы для решения вопроса , — говорится в официальном сообщении Coca-Cola . Пресс-служба корпорации подчеркивает , что в течение почти 30 лет следует одной и той же методологии при определении облагаемой налогами части доходов . '"
      ]
     },
     "execution_count": 33,
     "metadata": {},
     "output_type": "execute_result"
    }
   ],
   "source": [
    "the_list[0][0]"
   ]
  },
  {
   "cell_type": "markdown",
   "metadata": {},
   "source": [
    "## test tsv for toloka :("
   ]
  },
  {
   "cell_type": "code",
   "execution_count": 42,
   "metadata": {},
   "outputs": [],
   "source": [
    "f = open('RBC_onlytexts_10_for_learning.tsv', 'w', encoding='utf-8')\n",
    "f.write('INPUT:query')\n",
    "f.write('\\n')\n",
    "for i in range(0, 10):\n",
    "    #f.write(df_to_tag[i])\n",
    "    f.write(the_list[i][0])\n",
    "    f.write('\\n')\n",
    "    f.write('\\n')\n",
    "    f.write('\\n')\n",
    "f.close()    "
   ]
  },
  {
   "cell_type": "code",
   "execution_count": 43,
   "metadata": {},
   "outputs": [],
   "source": [
    "f = open('RBC_onlytexts_100_for_pool_with_honeypots.tsv', 'w', encoding='utf-8')\n",
    "f.write('INPUT:query')\n",
    "f.write('\\n')\n",
    "for i in range(0, 100):\n",
    "    #f.write(df_to_tag[i])\n",
    "    f.write(the_list[i][0])\n",
    "    f.write('\\n')\n",
    "    f.write('\\n')\n",
    "    f.write('\\n')\n",
    "f.close()    "
   ]
  },
  {
   "cell_type": "code",
   "execution_count": null,
   "metadata": {},
   "outputs": [],
   "source": []
  }
 ],
 "metadata": {
  "kernelspec": {
   "display_name": "Python 3",
   "language": "python",
   "name": "python3"
  },
  "language_info": {
   "codemirror_mode": {
    "name": "ipython",
    "version": 3
   },
   "file_extension": ".py",
   "mimetype": "text/x-python",
   "name": "python",
   "nbconvert_exporter": "python",
   "pygments_lexer": "ipython3",
   "version": "3.6.7"
  }
 },
 "nbformat": 4,
 "nbformat_minor": 2
}
