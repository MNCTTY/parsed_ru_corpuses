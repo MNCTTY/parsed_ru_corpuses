{
 "cells": [
  {
   "cell_type": "code",
   "execution_count": 35,
   "metadata": {},
   "outputs": [],
   "source": [
    "from PIL import Image \n",
    "import pytesseract \n",
    "import sys \n",
    "from pdf2image import convert_from_path \n",
    "import os \n",
    "import glob"
   ]
  },
  {
   "cell_type": "code",
   "execution_count": 38,
   "metadata": {},
   "outputs": [],
   "source": [
    "path = 'ГПН_all/Образцы корреспонденции/pdf/'"
   ]
  },
  {
   "cell_type": "code",
   "execution_count": 41,
   "metadata": {},
   "outputs": [
    {
     "data": {
      "text/plain": [
       "26"
      ]
     },
     "execution_count": 41,
     "metadata": {},
     "output_type": "execute_result"
    }
   ],
   "source": [
    "len(glob.glob(path[:-1] + '*/**/*.pdf'))"
   ]
  },
  {
   "cell_type": "code",
   "execution_count": 42,
   "metadata": {},
   "outputs": [
    {
     "data": {
      "text/plain": [
       "11"
      ]
     },
     "execution_count": 42,
     "metadata": {},
     "output_type": "execute_result"
    }
   ],
   "source": [
    "len(glob.glob(path + '*.pdf'))"
   ]
  },
  {
   "cell_type": "code",
   "execution_count": 34,
   "metadata": {},
   "outputs": [],
   "source": [
    "path = 'ГПН_all/Образцы корреспонденции/pdf'\n",
    "all_pdfs = glob.glob(path + '*/**/*.pdf')\n",
    "extra = glob.glob(path + '/' + '*.pdf')\n",
    "all_pdfs = all_pdfs + extra\n",
    "len(all_pdfs)\n",
    "\n",
    "#создать общую папку для сканов\n",
    "output_dir = path+'_jpged'\n",
    "try:\n",
    "    os.mkdir(output_dir)\n",
    "except FileExistsError:\n",
    "    print('done')"
   ]
  },
  {
   "cell_type": "code",
   "execution_count": 43,
   "metadata": {},
   "outputs": [],
   "source": [
    "path = 'ГПН_all/Образцы корреспонденции/pdf'\n",
    "all_pdfs = glob.glob(path + '*/**/*.PDF')\n",
    "extra = glob.glob(path + '/' + '*.PDF')\n",
    "all_pdfs = all_pdfs + extra\n",
    "len(all_pdfs)\n",
    "\n",
    "#создать общую папку для сканов\n",
    "output_dir = path+'_jpged2'\n",
    "try:\n",
    "    os.mkdir(output_dir)\n",
    "except FileExistsError:\n",
    "    print('done')"
   ]
  },
  {
   "cell_type": "code",
   "execution_count": 44,
   "metadata": {},
   "outputs": [
    {
     "data": {
      "text/plain": [
       "['ГПН_all/Образцы корреспонденции/pdf/Переуступка Договора/1_№17-419 от 03.07.2019 переуступка прав по Договору.PDF',\n",
       " 'ГПН_all/Образцы корреспонденции/pdf/заключение Наряд-заказаов/!КХМ_исх. №17-030 от 21.01.2020г_отказ от аванса январь-2020_Н-З№1.PDF',\n",
       " 'ГПН_all/Образцы корреспонденции/pdf/заключение Наряд-заказаов/исх №17-673 от 01.10.2019 направление БГДИ для Изм к Н-з №1.PDF',\n",
       " 'ГПН_all/Образцы корреспонденции/pdf/От КХМ_отказ от БГ/!КХМ_исх. №17-030 от 21.01.2020г_отказ от аванса январь-2020_Н-З№1.PDF',\n",
       " 'ГПН_all/Образцы корреспонденции/pdf/От КХМ_отказ от БГ/09828 от 30.08_О согласовании БГДИ к Н-з№1.PDF',\n",
       " 'ГПН_all/Образцы корреспонденции/pdf/От КХМ/!КХМ_исх. №17-030 от 21.01.2020г_отказ от аванса январь-2020_Н-З№1.PDF',\n",
       " 'ГПН_all/Образцы корреспонденции/pdf/От КХМ/09828 от 30.08_О согласовании БГДИ к Н-з№1.PDF',\n",
       " 'ГПН_all/Образцы корреспонденции/pdf/!!Соглашение с КХМ о перемене лиц в обязательств.PDF']"
      ]
     },
     "execution_count": 44,
     "metadata": {},
     "output_type": "execute_result"
    }
   ],
   "source": [
    "all_pdfs"
   ]
  },
  {
   "cell_type": "code",
   "execution_count": 45,
   "metadata": {},
   "outputs": [
    {
     "name": "stdout",
     "output_type": "stream",
     "text": [
      "nah\n",
      "nah\n",
      "nah\n",
      "CPU times: user 9.3 s, sys: 2.59 s, total: 11.9 s\n",
      "Wall time: 35.9 s\n"
     ]
    }
   ],
   "source": [
    "%%time\n",
    "for pdf in all_pdfs:\n",
    "    foldername = '_'.join('.'.join(pdf.split('/')[-1].split('.')[:-1]).split(' '))\n",
    "    pages = convert_from_path(pdf, 500) \n",
    "    image_counter = 1\n",
    "    try:\n",
    "        os.mkdir(output_dir + '/' + foldername)\n",
    "    except FileExistsError:\n",
    "        print('nah')\n",
    "    for page in pages: \n",
    "        filename = output_dir + '/' + foldername + '/page_'+str(image_counter)+'.jpg'\n",
    "        page.save(filename, 'JPEG') \n",
    "        image_counter += 1"
   ]
  },
  {
   "cell_type": "code",
   "execution_count": 46,
   "metadata": {},
   "outputs": [],
   "source": [
    "all_dirs = glob.glob(output_dir + '/**')\n",
    "all_dirs\n",
    "\n",
    "texted_dir = path+'_texted2'\n",
    "try:\n",
    "    os.mkdir(texted_dir)\n",
    "except FileExistsError:\n",
    "    print('done')"
   ]
  },
  {
   "cell_type": "code",
   "execution_count": 47,
   "metadata": {},
   "outputs": [
    {
     "name": "stdout",
     "output_type": "stream",
     "text": [
      "\n",
      "ГПН_all/Образцы корреспонденции/pdf_jpged2/!КХМ_исх._№17-030_от_21.01.2020г_отказ_от_аванса_январь-2020_Н-З№1\n",
      "\n",
      "['ГПН_all/Образцы корреспонденции/pdf_jpged2/!КХМ_исх._№17-030_от_21.01.2020г_отказ_от_аванса_январь-2020_Н-З№1/page_1.jpg']\n",
      "\n",
      "ГПН_all/Образцы корреспонденции/pdf_jpged2/1_№17-419_от_03.07.2019_переуступка_прав_по_Договору\n",
      "\n",
      "['ГПН_all/Образцы корреспонденции/pdf_jpged2/1_№17-419_от_03.07.2019_переуступка_прав_по_Договору/page_1.jpg']\n",
      "\n",
      "ГПН_all/Образцы корреспонденции/pdf_jpged2/!!Соглашение_с_КХМ_о_перемене_лиц_в_обязательств\n",
      "\n",
      "['ГПН_all/Образцы корреспонденции/pdf_jpged2/!!Соглашение_с_КХМ_о_перемене_лиц_в_обязательств/page_3.jpg', 'ГПН_all/Образцы корреспонденции/pdf_jpged2/!!Соглашение_с_КХМ_о_перемене_лиц_в_обязательств/page_1.jpg', 'ГПН_all/Образцы корреспонденции/pdf_jpged2/!!Соглашение_с_КХМ_о_перемене_лиц_в_обязательств/page_2.jpg']\n",
      "\n",
      "ГПН_all/Образцы корреспонденции/pdf_jpged2/исх_№17-673_от_01.10.2019_направление_БГДИ_для_Изм_к_Н-з_№1\n",
      "\n",
      "['ГПН_all/Образцы корреспонденции/pdf_jpged2/исх_№17-673_от_01.10.2019_направление_БГДИ_для_Изм_к_Н-з_№1/page_5.jpg', 'ГПН_all/Образцы корреспонденции/pdf_jpged2/исх_№17-673_от_01.10.2019_направление_БГДИ_для_Изм_к_Н-з_№1/page_4.jpg', 'ГПН_all/Образцы корреспонденции/pdf_jpged2/исх_№17-673_от_01.10.2019_направление_БГДИ_для_Изм_к_Н-з_№1/page_7.jpg', 'ГПН_all/Образцы корреспонденции/pdf_jpged2/исх_№17-673_от_01.10.2019_направление_БГДИ_для_Изм_к_Н-з_№1/page_3.jpg', 'ГПН_all/Образцы корреспонденции/pdf_jpged2/исх_№17-673_от_01.10.2019_направление_БГДИ_для_Изм_к_Н-з_№1/page_1.jpg', 'ГПН_all/Образцы корреспонденции/pdf_jpged2/исх_№17-673_от_01.10.2019_направление_БГДИ_для_Изм_к_Н-з_№1/page_6.jpg', 'ГПН_all/Образцы корреспонденции/pdf_jpged2/исх_№17-673_от_01.10.2019_направление_БГДИ_для_Изм_к_Н-з_№1/page_2.jpg']\n",
      "\n",
      "ГПН_all/Образцы корреспонденции/pdf_jpged2/09828_от_30.08_О_согласовании_БГДИ_к_Н-з№1\n",
      "\n",
      "['ГПН_all/Образцы корреспонденции/pdf_jpged2/09828_от_30.08_О_согласовании_БГДИ_к_Н-з№1/page_1.jpg']\n",
      "CPU times: user 9.36 s, sys: 900 ms, total: 10.3 s\n",
      "Wall time: 1min 27s\n"
     ]
    }
   ],
   "source": [
    "%%time\n",
    "for dir_ in all_dirs:\n",
    "    print('\\n' + dir_ + '\\n')\n",
    "    files = glob.glob(dir_ + '/*')\n",
    "    texted_file = texted_dir + '/' + dir_.split('/')[-1] + \"_texted.txt\"\n",
    "    f = open(texted_file, \"a\") \n",
    "    for file in files:\n",
    "        text = str(((pytesseract.image_to_string(Image.open(file), lang=\"rus+eng\"))))\n",
    "        #text = text.replace('\\n', '')\n",
    "        f.write(text)\n",
    "    f.close()\n",
    "    print(files)"
   ]
  },
  {
   "cell_type": "code",
   "execution_count": null,
   "metadata": {},
   "outputs": [],
   "source": []
  },
  {
   "cell_type": "code",
   "execution_count": null,
   "metadata": {},
   "outputs": [],
   "source": []
  }
 ],
 "metadata": {
  "kernelspec": {
   "display_name": "Python 3",
   "language": "python",
   "name": "python3"
  },
  "language_info": {
   "codemirror_mode": {
    "name": "ipython",
    "version": 3
   },
   "file_extension": ".py",
   "mimetype": "text/x-python",
   "name": "python",
   "nbconvert_exporter": "python",
   "pygments_lexer": "ipython3",
   "version": "3.6.8"
  }
 },
 "nbformat": 4,
 "nbformat_minor": 4
}
