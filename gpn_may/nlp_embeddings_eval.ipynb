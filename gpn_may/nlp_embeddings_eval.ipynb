{
 "cells": [
  {
   "cell_type": "code",
   "execution_count": 1,
   "metadata": {},
   "outputs": [
    {
     "name": "stderr",
     "output_type": "stream",
     "text": [
      "[nltk_data] Downloading package punkt to /home/julia/nltk_data...\n",
      "[nltk_data]   Package punkt is already up-to-date!\n",
      "[nltk_data] Downloading package stopwords to /home/julia/nltk_data...\n",
      "[nltk_data]   Package stopwords is already up-to-date!\n",
      "[nltk_data] Downloading package perluniprops to\n",
      "[nltk_data]     /home/julia/nltk_data...\n",
      "[nltk_data]   Package perluniprops is already up-to-date!\n",
      "[nltk_data] Downloading package nonbreaking_prefixes to\n",
      "[nltk_data]     /home/julia/nltk_data...\n",
      "[nltk_data]   Package nonbreaking_prefixes is already up-to-date!\n",
      "[nltk_data] Downloading package stopwords to /home/julia/nltk_data...\n",
      "[nltk_data]   Package stopwords is already up-to-date!\n"
     ]
    },
    {
     "data": {
      "text/plain": [
       "True"
      ]
     },
     "execution_count": 1,
     "metadata": {},
     "output_type": "execute_result"
    }
   ],
   "source": [
    "import pandas as pd\n",
    "import re\n",
    "import os\n",
    "from rusenttokenize import ru_sent_tokenize\n",
    "import itertools\n",
    "from pymorphy2 import MorphAnalyzer\n",
    "import collections\n",
    "from collections import Counter, defaultdict\n",
    "import numpy as np\n",
    "from string import punctuation\n",
    "from nltk.tokenize import WordPunctTokenizer\n",
    "from nltk.corpus import stopwords\n",
    "import nltk\n",
    "import pickle\n",
    "import configparser\n",
    "from deeppavlov.models.embedders.elmo_embedder import ELMoEmbedder\n",
    "\n",
    "from tqdm import tqdm\n",
    "from copy import deepcopy\n",
    "from PIL import Image \n",
    "import pytesseract \n",
    "import sys \n",
    "from pdf2image import convert_from_path \n",
    "import glob\n",
    "\n",
    "morph = MorphAnalyzer()\n",
    "nltk.download('stopwords')"
   ]
  },
  {
   "cell_type": "code",
   "execution_count": 11,
   "metadata": {},
   "outputs": [],
   "source": [
    "class ContractRelation:\n",
    "    def __init__(self):\n",
    "        self.elmo = ELMoEmbedder(\"http://files.deeppavlov.ai/deeppavlov_data/elmo_ru-news_wmt11-16_1.5M_steps.tar.gz\")\n",
    "\n",
    "        # pickle_path = './dog_data'\n",
    "        pickle_path = './'\n",
    "        \n",
    "        dog_file = open(os.path.join(pickle_path, 'dog_articles.pkl'), 'rb')\n",
    "        self.index2article = pickle.load(dog_file)\n",
    "        dog_file.close()\n",
    "        \n",
    "        emb_file = open(os.path.join(pickle_path, 'dog_embs_elmo.pkl'), 'rb')\n",
    "        self.index2emb = pickle.load(emb_file)\n",
    "        emb_file.close()\n",
    "    \n",
    "    @staticmethod\n",
    "    def normalize(text):\n",
    "        stops = set(stopwords.words('russian'))\n",
    "        normalized_text = text.replace('\\n', ' ')\n",
    "        normalized_text = re.sub('(?:(?:https?):\\/\\/)?[\\w/\\-?=%.]+\\.[\\w/\\-?=%.]+', '', normalized_text)\n",
    "        wordpunct_tokenize = WordPunctTokenizer().tokenize\n",
    "        normalized_text = wordpunct_tokenize(normalized_text)\n",
    "        normalized_text = [word.replace('№', '') for word in normalized_text]\n",
    "        normalized_text = [re.sub(r'\\d+(?:\\.\\d+)?', '', word)  for word in normalized_text]\n",
    "        normalized_text = [morph.parse(word.lower())[0].normal_form for word \\\n",
    "                                            in normalized_text if word not in punctuation+'«»']\n",
    "        normalized_text = [word.strip(punctuation) for word in normalized_text if word not in stops]\n",
    "        normalized_text = ' '.join(normalized_text)\n",
    "        normalized_text = re.sub(' +', ' ', normalized_text)\n",
    "\n",
    "        return normalized_text\n",
    "    \n",
    "    def predict(self, text):\n",
    "        text = self.normalize(text)\n",
    "        emb_tgt = self.elmo([text.split()])\n",
    "        \n",
    "        dic = {}\n",
    "        for key, value in self.index2emb.items():\n",
    "            score = np.inner(value, emb_tgt) / (\n",
    "                        np.linalg.norm(value) * (np.linalg.norm(emb_tgt)))\n",
    "            dic.update({score[0][0]: key})\n",
    "        od = collections.OrderedDict(sorted(dic.items(), reverse=True))\n",
    "        if list(od.keys())[0] > 0.7:\n",
    "            label = list(od.values())[0]\n",
    "            return self.index2article[label][0][0]\n",
    "        else:\n",
    "            return None"
   ]
  },
  {
   "cell_type": "markdown",
   "metadata": {},
   "source": [
    "## Test"
   ]
  },
  {
   "cell_type": "code",
   "execution_count": 3,
   "metadata": {},
   "outputs": [],
   "source": [
    "# %%time\n",
    "# pages = convert_from_path('./correspondencesemanticanalysis/sample.pdf', 500) \n",
    "# # pages = convert_from_path('sample.pdf', 500)\n",
    "# image_counter = 1\n",
    "# text_full = []\n",
    "\n",
    "# for page in pages: \n",
    "#     text = str(((pytesseract.image_to_string(page, lang=\"rus+eng\"))))\n",
    "#     image_counter += 1\n",
    "#     text_full.append(text)"
   ]
  },
  {
   "cell_type": "code",
   "execution_count": 4,
   "metadata": {},
   "outputs": [],
   "source": [
    "# text = ' '.join(text_full)\n",
    "# text"
   ]
  },
  {
   "cell_type": "code",
   "execution_count": 5,
   "metadata": {},
   "outputs": [],
   "source": [
    "# start = 'Уважаемый'\n",
    "# end = 'С уважением'\n",
    "# start_i = text.find(start)\n",
    "# end_i = text.find(end)\n",
    "# text = text[start_i:end_i]\n",
    "# text"
   ]
  },
  {
   "cell_type": "code",
   "execution_count": 4,
   "metadata": {},
   "outputs": [
    {
     "data": {
      "text/html": [
       "<div>\n",
       "<style scoped>\n",
       "    .dataframe tbody tr th:only-of-type {\n",
       "        vertical-align: middle;\n",
       "    }\n",
       "\n",
       "    .dataframe tbody tr th {\n",
       "        vertical-align: top;\n",
       "    }\n",
       "\n",
       "    .dataframe thead th {\n",
       "        text-align: right;\n",
       "    }\n",
       "</style>\n",
       "<table border=\"1\" class=\"dataframe\">\n",
       "  <thead>\n",
       "    <tr style=\"text-align: right;\">\n",
       "      <th></th>\n",
       "      <th>id</th>\n",
       "      <th>markups</th>\n",
       "    </tr>\n",
       "  </thead>\n",
       "  <tbody>\n",
       "    <tr>\n",
       "      <th>0</th>\n",
       "      <td>накладная_на_передачу_19.06.2019_06_55_09_texted</td>\n",
       "      <td>[{'markup_id': 2145, 'user': '5Maria_Denisova'...</td>\n",
       "    </tr>\n",
       "    <tr>\n",
       "      <th>1</th>\n",
       "      <td>!!Аккредитованные_МО_texted</td>\n",
       "      <td>[{'markup_id': 2061, 'user': '5Maria_Denisova'...</td>\n",
       "    </tr>\n",
       "    <tr>\n",
       "      <th>2</th>\n",
       "      <td>14_6120_от_25.12.19_в_КХМ_Бланк_письма_БГП_о_с...</td>\n",
       "      <td>[{'markup_id': 2055, 'user': '5Maria_Denisova'...</td>\n",
       "    </tr>\n",
       "    <tr>\n",
       "      <th>3</th>\n",
       "      <td>14-3443_от_22.08.2019_texted</td>\n",
       "      <td>[{'markup_id': 2051, 'user': '5Maria_Denisova'...</td>\n",
       "    </tr>\n",
       "    <tr>\n",
       "      <th>4</th>\n",
       "      <td>14-05-8736_от_05.08.19_о_Согласовании_Субподря...</td>\n",
       "      <td>[{'markup_id': 2049, 'user': '5Maria_Denisova'...</td>\n",
       "    </tr>\n",
       "  </tbody>\n",
       "</table>\n",
       "</div>"
      ],
      "text/plain": [
       "                                                  id  \\\n",
       "0   накладная_на_передачу_19.06.2019_06_55_09_texted   \n",
       "1                        !!Аккредитованные_МО_texted   \n",
       "2  14_6120_от_25.12.19_в_КХМ_Бланк_письма_БГП_о_с...   \n",
       "3                       14-3443_от_22.08.2019_texted   \n",
       "4  14-05-8736_от_05.08.19_о_Согласовании_Субподря...   \n",
       "\n",
       "                                             markups  \n",
       "0  [{'markup_id': 2145, 'user': '5Maria_Denisova'...  \n",
       "1  [{'markup_id': 2061, 'user': '5Maria_Denisova'...  \n",
       "2  [{'markup_id': 2055, 'user': '5Maria_Denisova'...  \n",
       "3  [{'markup_id': 2051, 'user': '5Maria_Denisova'...  \n",
       "4  [{'markup_id': 2049, 'user': '5Maria_Denisova'...  "
      ]
     },
     "execution_count": 4,
     "metadata": {},
     "output_type": "execute_result"
    }
   ],
   "source": [
    "annotated = pd.read_json('annotation.json')\n",
    "annotated.head()"
   ]
  },
  {
   "cell_type": "code",
   "execution_count": 5,
   "metadata": {
    "scrolled": true
   },
   "outputs": [
    {
     "data": {
      "text/plain": [
       "[{'markup_id': 2158,\n",
       "  'user': '5Maria_Denisova',\n",
       "  'escape': [{'text': '23.02.2020', 'tags': ['1сроки']},\n",
       "   {'text': 'Приложение 1: исполнительная геодезическая схема №2 фактической отсыпки площадки',\n",
       "    'tags': ['34  ПРИЛОЖЕНИЯ К ДОГОВОРУ']}]}]"
      ]
     },
     "execution_count": 5,
     "metadata": {},
     "output_type": "execute_result"
    }
   ],
   "source": [
    "annotated['markups'][10]"
   ]
  },
  {
   "cell_type": "code",
   "execution_count": 12,
   "metadata": {},
   "outputs": [
    {
     "name": "stdout",
     "output_type": "stream",
     "text": [
      "INFO:tensorflow:Saver not created because there are no variables in the graph to restore\n"
     ]
    },
    {
     "name": "stderr",
     "output_type": "stream",
     "text": [
      "INFO:tensorflow:Saver not created because there are no variables in the graph to restore\n"
     ]
    }
   ],
   "source": [
    "clf = ContractRelation()"
   ]
  },
  {
   "cell_type": "code",
   "execution_count": 21,
   "metadata": {},
   "outputs": [
    {
     "name": "stdout",
     "output_type": "stream",
     "text": [
      "------------------------------------------------------------------------------------------\n",
      "тел.:---- (звонок по России бесплатный)     СПЕЦСВЯЗЬ № накладной |  экспресс Федеральное государственное унитарное предприятие Дата \"Главный центр специальной связи\" заполнения --    Заполняется отправителем ( -слойный бланк, пишите с нажимом)  говор № ООО  .\n",
      "------------------------------------------------------------------------------------------\n",
      "ПУНКТ ДОГОВОРА:  СТАТЬЯ 13. ОБЩИЕ УСЛОВИЯ ПРОИЗВОДСТВА РАБОТ. НАРЯД-ДОПУСКИ ( п.п. 13.1 13.4)\n",
      "\n",
      "------------------------------------------------------------------------------------------\n",
      "[ Оплата наличными [|]   ОТПРАВЛЕНИЙ  _ Ро [roms Время   О ВРУЧЕНИИ ОТПРАВЛЕНИЯ                     Способ вручения: LJ лично L через доверенное лицо     Служебные отметки:  Документы, подтверждающие личность представителя получателя, проверены  рт Время  A подтверждаю, что отправление принято в закрытом виде, отсутствуют внешние повреждения упаковки, перевязи, печатей, пломб, вес отправлениясоответствует весу, определенному при приеме.\n",
      "------------------------------------------------------------------------------------------\n",
      "ПУНКТ ДОГОВОРА:  СТАТЬЯ 5. ПОРЯДОК И УСЛОВИЯ ПЛАТЕЖЕЙ ( п.п. 5.1 5.20)\n",
      "\n",
      "------------------------------------------------------------------------------------------\n",
      "Согласен на обработку персональных данных  ЭКЗЕМПЛЯР ОТПРАВИТЕЛЯ     СПЕЦСВЯЗЬ № накладной |  экспресс Федеральное государственное унитарное предприятие Дата \"Главный центр специальной связи\" заполнения --  тел.:---- (звонок по России бесплатный)   Заполняется отправителем ( -слойный бланк, пишите с нажимом)  Договор № тирании | от [иво Дм  .\n",
      "------------------------------------------------------------------------------------------\n",
      "ПУНКТ ДОГОВОРА:  СТАТЬЯ 9. ОБЯЗАТЕЛЬСТВА ЗАКАЗЧИКА ( п.п. 9.1 9.15)\n",
      "\n",
      "------------------------------------------------------------------------------------------\n",
      "| Оплата наличными [   ОТПРАВЛЕНИЙ  _ ыы Время   О ВРУЧЕНИИ ОТПРАВЛЕНИЯ                     Способ вручения: [ лично [ через доверенное лицо  Служебные отметки:  Документы, подтверждающие личность представителя получателя, проверены  A подтверждаю, что отправление принято в закрытом виде, отсутствуют внешние повреждения упаковки, перевязи, печатей, пломб, вес отправлениясоответствует весу, определенному при приеме.\n",
      "------------------------------------------------------------------------------------------\n",
      "ПУНКТ ДОГОВОРА:  СТАТЬЯ 5. ПОРЯДОК И УСЛОВИЯ ПЛАТЕЖЕЙ ( п.п. 5.1 5.20)\n",
      "\n",
      "------------------------------------------------------------------------------------------\n",
      "Согласен на обработку персональных данных  ЭКЗЕМПЛЯР УСС-ОТПРАВИТЕЛЯтел.:---- (звонок по России бесплатный)     СПЕЦСВЯЗЬ № накладной |  экспресс Федеральное государственное унитарное предприятие Дата \"Главный центр специальной связи\" заполнения --    Заполняется отправителем ( -слойный бланк, пишите с нажимом)  говор № ООО  .\n",
      "------------------------------------------------------------------------------------------\n",
      "ПУНКТ ДОГОВОРА:  СТАТЬЯ 9. ОБЯЗАТЕЛЬСТВА ЗАКАЗЧИКА ( п.п. 9.1 9.15)\n",
      "\n",
      "------------------------------------------------------------------------------------------\n",
      "[ Оплата наличными [|]   ОТПРАВЛЕНИЙ  _ Ро [roms Время   О ВРУЧЕНИИ ОТПРАВЛЕНИЯ                     Способ вручения: LJ лично L через доверенное лицо     Служебные отметки:  Документы, подтверждающие личность представителя получателя, проверены  A подтверждаю, что отправление принято в закрытом виде, отсутствуют внешние повреждения упаковки, перевязи, печатей, пломб, вес отправлениясоответствует весу, определенному при приеме.\n",
      "------------------------------------------------------------------------------------------\n",
      "ПУНКТ ДОГОВОРА:  СТАТЬЯ 5. ПОРЯДОК И УСЛОВИЯ ПЛАТЕЖЕЙ ( п.п. 5.1 5.20)\n",
      "\n",
      "------------------------------------------------------------------------------------------\n",
      "Согласен на обработку персональных данных  к = ш - < т > Е О = a K = = = ш ( м ©     СПЕЦСВЯЗЬ № накладной |  экспресс Федеральное государственное унитарное предприятие Дата \"Главный центр специальной связи\" заполнения --    Заполняется отправителем ( -слойный бланк, пишите с нажимом)   лет Октября ул, д.  Договор № [Область (край, республика)  .\n",
      "------------------------------------------------------------------------------------------\n",
      "ПУНКТ ДОГОВОРА:  СТАТЬЯ 15. МОТИВАЦИЯ СОБЛЮДЕНИЯ ПОЛОЖЕНИЙ ДОГОВОРА В ОБЛАСТИ ПБ ( п.п. 15.1 15.18)\n",
      "\n",
      "------------------------------------------------------------------------------------------\n",
      "[ Оплата наличными [   ОТПРАВЛЕНИЙ  _ ет | ИНЬ Время   О ВРУЧЕНИИ ОТПРАВЛЕНИЯ                     Способ вручения: [ лично L через доверенное лицо     Служебные отметки:  Документы, подтверждающие личность представителя получателя, проверены  A подтверждаю, что отправление принято в закрытом виде, отсутствуют внешние повреждения упаковки, перевязи, печатей, пломб, вес отправлениясоответствует весу, определенному при приеме.\n",
      "------------------------------------------------------------------------------------------\n",
      "ПУНКТ ДОГОВОРА:  СТАТЬЯ 5. ПОРЯДОК И УСЛОВИЯ ПЛАТЕЖЕЙ ( п.п. 5.1 5.20)\n",
      "\n"
     ]
    },
    {
     "name": "stderr",
     "output_type": "stream",
     "text": [
      "WARNING:root:Something went wrong while tokenizing\n"
     ]
    },
    {
     "name": "stdout",
     "output_type": "stream",
     "text": [
      "[]\n",
      "================================================================================\n",
      "[{'text': 'Об аккредитации МО', 'tags': ['2 предмет договора']}]\n",
      "[]\n",
      "================================================================================\n",
      "------------------------------------------------------------------------------------------\n",
      "После подписания Сторонами Соглашения о перемене лиц (переуступка Заказчика от ООО «ГПН-Ямала» в ООО «ГПН-Развитие») по Договору № ГНЯ- ///Р/-ОЗ/ГНР-///Р/ от  на строительство объекта: «Комплекса объектов по компримированию и подготовке газа и конденсата Новопортовского нефтегазоконденсатного месторождения» в адрес АО «ТРЕСТ КХМ» был направлен (исх.№ / от ) проект дополнительного соглашения в части внесения изменений в «Соглашение в области ПЭТ, ОТ и ГЗ» (Приложение № к Договору).\n",
      "------------------------------------------------------------------------------------------\n",
      "ПУНКТ ДОГОВОРА:  СТАТЬЯ 14. ТРЕБОВАНИЯ В ОБЛАСТИ ПРОМЫШЛЕННОЙ И ЭКОЛОГИЧЕСКОЙ БЕЗОПАСНОСТИ, ОХРАНЫ ТРУДА И ГРАЖДАНСКОЙ ЗАЩИТЫ (ПЭБ, ОТ и ГЗ) ПРИ ВЫПОЛНЕНИИ РАБОТ НА ОБЪЕКТАХ ЗАКАЗЧИКА ( п.п. 14.1 14.6)\n",
      "\n"
     ]
    },
    {
     "name": "stderr",
     "output_type": "stream",
     "text": [
      "WARNING:root:Something went wrong while tokenizing\n"
     ]
    },
    {
     "name": "stdout",
     "output_type": "stream",
     "text": [
      "[{'text': '(Приложение №13 к Договору).', 'tags': ['34  ПРИЛОЖЕНИЯ К ДОГОВОРУ']}, {'text': '«Соглашение в области ПЭТ, ОТ и ГЗ»', 'tags': ['14  ТРЕБОВАНИЯ В ОБЛАСТИ ПРОМЫШЛЕННОЙ И ЭКОЛОГИЧЕСКОЙ БЕЗОПАСНОСТИ, ОХРАНЫ ТРУДА И ГРАЖДАНСКОЙ ЗАЩИТЫ (ПЭБ, ОТ и ГЗ) ПРИ ВЫПОЛНЕНИИ РАБОТ НА ОБЪЕКТАХ ЗАКАЗЧИКА']}, {'text': 'Просим сообщить сроки принятия решения или направить в наш адрес проект Соглашения, подписанного с Вашей стороны.', 'tags': ['6 сроки действия договора и сроки выполнения работ']}, {'text': 'В рабочем порядке неоднократно запрашивались и переносились сроки рассмотрения.', 'tags': ['6 сроки действия договора и сроки выполнения работ']}, {'text': '22.08.2019', 'tags': ['1сроки']}, {'text': '05.06.2019', 'tags': ['1сроки']}, {'text': 'О сроках рассмотрения Дополнительного соглашения', 'tags': ['2 предмет договора']}]\n",
      "================================================================================\n",
      "------------------------------------------------------------------------------------------\n",
      "Направляем Вам проект дополнительного соглашения №  к договору №ГНЯ- ///Р/-//\\№ГНР-///Р/ от  Данное соглашение подготовлено ввиду изменения требований Компании в области промышленной безопасности.\n",
      "------------------------------------------------------------------------------------------\n",
      "ПУНКТ ДОГОВОРА:  СТАТЬЯ 2. Предмет договора ( п.п. 2.1 2.8)\n",
      "\n",
      "------------------------------------------------------------------------------------------\n",
      "Прошу подтвердить ваше согласие с подписанием приложенного проекта дополнительного соглашения с приложениями и ответным письмом направить подписанную доверенным лицом с правом подписи скан-копию приложенного соглашения с приложениями.\n",
      "------------------------------------------------------------------------------------------\n",
      "ПУНКТ ДОГОВОРА:  СТАТЬЯ 31. РАБОЧАЯ ДОКУМЕНТАЦИЯ. ВНЕСЕНИЕ ИЗМЕНЕНИЙ В РАБОЧУЮ ДОКУМЕНТАЦИЮ ( п.п. 31.1 31.8)\n",
      "\n"
     ]
    },
    {
     "name": "stderr",
     "output_type": "stream",
     "text": [
      "WARNING:root:Something went wrong while tokenizing\n"
     ]
    },
    {
     "name": "stdout",
     "output_type": "stream",
     "text": [
      "[{'text': 'О направлении проекта дополнительного соглашения №1', 'tags': ['2 предмет договора']}, {'text': '05.06.2019', 'tags': ['1сроки']}]\n",
      "[{'text': 'Проект дополнительного соглашения № 1', 'tags': ['34  ПРИЛОЖЕНИЯ К ДОГОВОРУ']}, {'text': 'О направлении проекта дополнительного соглашения №1', 'tags': ['2 предмет договора']}]\n",
      "[{'text': 'Соглашение в области производственной безопасности', 'tags': ['15МОТИВАЦИЯ СОБЛЮДЕНИЯ ПОЛОЖЕНИЙ ДОГОВОРА В ОБЛАСТИ ПБ']}, {'text': 'Перечень нарушений и штрафных санкций', 'tags': ['7 заверения об обстоятельствах, имеющих значение для заключения, исполнения или прекращения договора']}, {'text': 'изменения требований Компании в области промышленной безопасности', 'tags': ['15МОТИВАЦИЯ СОБЛЮДЕНИЯ ПОЛОЖЕНИЙ ДОГОВОРА В ОБЛАСТИ ПБ']}]\n",
      "================================================================================\n",
      "------------------------------------------------------------------------------------------\n",
      "Рассмотрев направленные Вами материалы в отношении ООО \"СПЕКТР- ЭЛЕКТРО\", ИНН , сообщаем, что в рамках договора № ГНЯ-///Р/-  от  на выполнение строительно-монтажных работ на Новопортовском НГКМ, заключенного с АО «ТРЕСТ КОКСОХИММОНТАЖ», привлечение указанного юридического лица в качестве субподрядчика согласовано.\n",
      "------------------------------------------------------------------------------------------\n",
      "ПУНКТ ДОГОВОРА:  СТАТЬЯ 9. ОБЯЗАТЕЛЬСТВА ЗАКАЗЧИКА ( п.п. 9.1 9.15)\n",
      "\n",
      "[{'text': 'на выполнение строительно-монтажных работ на Новопортовском НГКМ, заключенного с АО «ТРЕСТ КОКСОХИММОНТАЖ», привлечение указанного юридического лица в качестве субподрядчика согласовано.', 'tags': ['17 ПРИВЛЕЧЕНИЕ СУБПОДРЯДЧИКОВ']}, {'text': '05.06.2019', 'tags': ['1сроки']}, {'text': 'О согласовании Субподрядчика', 'tags': ['17 ПРИВЛЕЧЕНИЕ СУБПОДРЯДЧИКОВ']}]\n",
      "[{'text': 'О согласовании Субподрядчика', 'tags': ['2 предмет договора']}]\n",
      "[{'text': 'на выполнение строительно-монтажных работ на Новопортовском НГКМ', 'tags': ['2 предмет договора']}, {'text': ' О согласовании Субподрядчика', 'tags': ['17 ПРИВЛЕЧЕНИЕ СУБПОДРЯДЧИКОВ']}]\n",
      "================================================================================\n",
      "------------------------------------------------------------------------------------------\n",
      "В ответ на Ваше обращение исх.№/ от , об авансировании Наряд-Заказа №, информируем Вас, что по объекту «Комплекс объектов по компримированию и подготовке газа и конденсата (УКПГ) Новопортовского нефтегазоконденсатного месторождения», в январе г авансирование на мобилизацию не требуется.\n",
      "------------------------------------------------------------------------------------------\n",
      "ПУНКТ ДОГОВОРА:  СТАТЬЯ 13. ОБЩИЕ УСЛОВИЯ ПРОИЗВОДСТВА РАБОТ. НАРЯД-ДОПУСКИ ( п.п. 13.1 13.4)\n",
      "\n"
     ]
    },
    {
     "name": "stderr",
     "output_type": "stream",
     "text": [
      "WARNING:root:Something went wrong while tokenizing\n"
     ]
    },
    {
     "name": "stdout",
     "output_type": "stream",
     "text": [
      "[{'text': 'в январе 2020г', 'tags': ['1сроки']}, {'text': '14.01.2020г', 'tags': ['1сроки']}, {'text': 'качества', 'tags': ['1качество']}]\n",
      "[{'text': 'по объекту «Комплекс объектов по компримированию и подготовке газа и конденсата (УКПГ) Новопортовского нефтегазоконденсатного месторождения», в январе 2020г авансирование на мобилизацию не требуется. ', 'tags': ['2 предмет договора']}]\n",
      "================================================================================\n",
      "------------------------------------------------------------------------------------------\n",
      "Направляем подписанный Обществом Договор №ГНЯ-///Р/- от  на выполнение работ по строительству объекта: «Комплекса объектов по компримированию и подготовке газа и конденсата (УКПГ) Новопортовского нефтегазоконденсатного месторождения».\n",
      "------------------------------------------------------------------------------------------\n",
      "ПУНКТ ДОГОВОРА:  СТАТЬЯ 11. РИСКИ СЛУЧАЙНОЙ ГИБЕЛИ ИЛИ ПОВРЕЖДЕНИЯ ОБЪЕКТА ( п.п. 11.1 11.1)\n",
      "\n",
      "[{'text': '05.06.2019 г.', 'tags': ['1сроки']}, {'text': 'Приложение: Договор № ГНЯ-19/11024/00865/Р/9-03 от 05.06.2019 г. в2 экз.', 'tags': ['34  ПРИЛОЖЕНИЯ К ДОГОВОРУ']}, {'text': '05.06.2019', 'tags': ['1сроки']}]\n",
      "[{'text': 'Договор № ГНЯ-19/11024/00865/Р/9-03 от 05.06.2019 г. в2 экз.', 'tags': ['34  ПРИЛОЖЕНИЯ К ДОГОВОРУ']}, {'text': 'выполнение работ по строительству объекта: «Комплекса объектов по компримированию и подготовке газа и конденсата (УКПГ) Новопортовского нефтегазоконденсатного месторождения».', 'tags': ['2 предмет договора']}]\n",
      "[{'text': 'Приложение: Договор № ГНЯ-19/11024/00865/Р/9-03 от 05.06.2019 г', 'tags': ['34  ПРИЛОЖЕНИЯ К ДОГОВОРУ']}, {'text': 'в десятидневный срок.', 'tags': ['1сроки']}, {'text': 'Просим рассмотреть, подписать, скрепить печатью и один экземпляр оригинала Договора направить в наш адрес в десятидневный срок.', 'tags': ['7 заверения об обстоятельствах, имеющих значение для заключения, исполнения или прекращения договора']}, {'text': 'на выполнение работ по строительству объекта: «Комплекса объектов по компримированию и подготовке газа и конденсата (УКПГ) Новопортовского нефтегазоконденсатного месторождения»', 'tags': ['2 предмет договора']}, {'text': ' 05.06.2019', 'tags': ['1сроки']}]\n",
      "================================================================================\n"
     ]
    },
    {
     "ename": "KeyboardInterrupt",
     "evalue": "",
     "output_type": "error",
     "traceback": [
      "\u001b[0;31m---------------------------------------------------------------------------\u001b[0m",
      "\u001b[0;31mKeyboardInterrupt\u001b[0m                         Traceback (most recent call last)",
      "\u001b[0;32m<ipython-input-21-12b8564a7939>\u001b[0m in \u001b[0;36m<module>\u001b[0;34m\u001b[0m\n\u001b[1;32m     14\u001b[0m     \u001b[0msentences\u001b[0m \u001b[0;34m=\u001b[0m \u001b[0mru_sent_tokenize\u001b[0m\u001b[0;34m(\u001b[0m\u001b[0mnormalized_text\u001b[0m\u001b[0;34m)\u001b[0m\u001b[0;34m\u001b[0m\u001b[0;34m\u001b[0m\u001b[0m\n\u001b[1;32m     15\u001b[0m     \u001b[0;32mfor\u001b[0m \u001b[0msentence\u001b[0m \u001b[0;32min\u001b[0m \u001b[0msentences\u001b[0m\u001b[0;34m:\u001b[0m\u001b[0;34m\u001b[0m\u001b[0;34m\u001b[0m\u001b[0m\n\u001b[0;32m---> 16\u001b[0;31m         \u001b[0mlabel\u001b[0m \u001b[0;34m=\u001b[0m \u001b[0mclf\u001b[0m\u001b[0;34m.\u001b[0m\u001b[0mpredict\u001b[0m\u001b[0;34m(\u001b[0m\u001b[0msentence\u001b[0m\u001b[0;34m)\u001b[0m\u001b[0;34m\u001b[0m\u001b[0;34m\u001b[0m\u001b[0m\n\u001b[0m\u001b[1;32m     17\u001b[0m         \u001b[0;32mif\u001b[0m \u001b[0mlabel\u001b[0m \u001b[0;34m!=\u001b[0m \u001b[0;32mNone\u001b[0m\u001b[0;34m:\u001b[0m\u001b[0;34m\u001b[0m\u001b[0;34m\u001b[0m\u001b[0m\n\u001b[1;32m     18\u001b[0m             \u001b[0mprint\u001b[0m\u001b[0;34m(\u001b[0m\u001b[0;34m'-'\u001b[0m\u001b[0;34m*\u001b[0m\u001b[0;36m90\u001b[0m\u001b[0;34m)\u001b[0m\u001b[0;34m\u001b[0m\u001b[0;34m\u001b[0m\u001b[0m\n",
      "\u001b[0;32m<ipython-input-11-1b856cbfd6a1>\u001b[0m in \u001b[0;36mpredict\u001b[0;34m(self, text)\u001b[0m\n\u001b[1;32m     33\u001b[0m     \u001b[0;32mdef\u001b[0m \u001b[0mpredict\u001b[0m\u001b[0;34m(\u001b[0m\u001b[0mself\u001b[0m\u001b[0;34m,\u001b[0m \u001b[0mtext\u001b[0m\u001b[0;34m)\u001b[0m\u001b[0;34m:\u001b[0m\u001b[0;34m\u001b[0m\u001b[0;34m\u001b[0m\u001b[0m\n\u001b[1;32m     34\u001b[0m         \u001b[0mtext\u001b[0m \u001b[0;34m=\u001b[0m \u001b[0mself\u001b[0m\u001b[0;34m.\u001b[0m\u001b[0mnormalize\u001b[0m\u001b[0;34m(\u001b[0m\u001b[0mtext\u001b[0m\u001b[0;34m)\u001b[0m\u001b[0;34m\u001b[0m\u001b[0;34m\u001b[0m\u001b[0m\n\u001b[0;32m---> 35\u001b[0;31m         \u001b[0memb_tgt\u001b[0m \u001b[0;34m=\u001b[0m \u001b[0mself\u001b[0m\u001b[0;34m.\u001b[0m\u001b[0melmo\u001b[0m\u001b[0;34m(\u001b[0m\u001b[0;34m[\u001b[0m\u001b[0mtext\u001b[0m\u001b[0;34m.\u001b[0m\u001b[0msplit\u001b[0m\u001b[0;34m(\u001b[0m\u001b[0;34m)\u001b[0m\u001b[0;34m]\u001b[0m\u001b[0;34m)\u001b[0m\u001b[0;34m\u001b[0m\u001b[0;34m\u001b[0m\u001b[0m\n\u001b[0m\u001b[1;32m     36\u001b[0m \u001b[0;34m\u001b[0m\u001b[0m\n\u001b[1;32m     37\u001b[0m         \u001b[0mdic\u001b[0m \u001b[0;34m=\u001b[0m \u001b[0;34m{\u001b[0m\u001b[0;34m}\u001b[0m\u001b[0;34m\u001b[0m\u001b[0;34m\u001b[0m\u001b[0m\n",
      "\u001b[0;32m~/.local/lib/python3.7/site-packages/deeppavlov/models/embedders/elmo_embedder.py\u001b[0m in \u001b[0;36m__call__\u001b[0;34m(self, batch, *args, **kwargs)\u001b[0m\n\u001b[1;32m    290\u001b[0m                 \u001b[0melmo_output_values\u001b[0m\u001b[0;34m.\u001b[0m\u001b[0mextend\u001b[0m\u001b[0;34m(\u001b[0m\u001b[0mmini_batch_out\u001b[0m\u001b[0;34m)\u001b[0m\u001b[0;34m\u001b[0m\u001b[0;34m\u001b[0m\u001b[0m\n\u001b[1;32m    291\u001b[0m         \u001b[0;32melse\u001b[0m\u001b[0;34m:\u001b[0m\u001b[0;34m\u001b[0m\u001b[0;34m\u001b[0m\u001b[0m\n\u001b[0;32m--> 292\u001b[0;31m             \u001b[0melmo_output_values\u001b[0m \u001b[0;34m=\u001b[0m \u001b[0mself\u001b[0m\u001b[0;34m.\u001b[0m\u001b[0m_mini_batch_fit\u001b[0m\u001b[0;34m(\u001b[0m\u001b[0mbatch\u001b[0m\u001b[0;34m,\u001b[0m \u001b[0;34m*\u001b[0m\u001b[0margs\u001b[0m\u001b[0;34m,\u001b[0m \u001b[0;34m**\u001b[0m\u001b[0mkwargs\u001b[0m\u001b[0;34m)\u001b[0m\u001b[0;34m\u001b[0m\u001b[0;34m\u001b[0m\u001b[0m\n\u001b[0m\u001b[1;32m    293\u001b[0m \u001b[0;34m\u001b[0m\u001b[0m\n\u001b[1;32m    294\u001b[0m         \u001b[0;32mif\u001b[0m \u001b[0mself\u001b[0m\u001b[0;34m.\u001b[0m\u001b[0mpad_zero\u001b[0m\u001b[0;34m:\u001b[0m\u001b[0;34m\u001b[0m\u001b[0;34m\u001b[0m\u001b[0m\n",
      "\u001b[0;32m~/.local/lib/python3.7/site-packages/deeppavlov/core/models/tf_backend.py\u001b[0m in \u001b[0;36m_wrapped\u001b[0;34m(*args, **kwargs)\u001b[0m\n\u001b[1;32m     26\u001b[0m     \u001b[0;32mdef\u001b[0m \u001b[0m_wrapped\u001b[0m\u001b[0;34m(\u001b[0m\u001b[0;34m*\u001b[0m\u001b[0margs\u001b[0m\u001b[0;34m,\u001b[0m \u001b[0;34m**\u001b[0m\u001b[0mkwargs\u001b[0m\u001b[0;34m)\u001b[0m\u001b[0;34m:\u001b[0m\u001b[0;34m\u001b[0m\u001b[0;34m\u001b[0m\u001b[0m\n\u001b[1;32m     27\u001b[0m         \u001b[0;32mwith\u001b[0m \u001b[0mgraph\u001b[0m\u001b[0;34m.\u001b[0m\u001b[0mas_default\u001b[0m\u001b[0;34m(\u001b[0m\u001b[0;34m)\u001b[0m\u001b[0;34m:\u001b[0m\u001b[0;34m\u001b[0m\u001b[0;34m\u001b[0m\u001b[0m\n\u001b[0;32m---> 28\u001b[0;31m             \u001b[0;32mreturn\u001b[0m \u001b[0mfunc\u001b[0m\u001b[0;34m(\u001b[0m\u001b[0;34m*\u001b[0m\u001b[0margs\u001b[0m\u001b[0;34m,\u001b[0m \u001b[0;34m**\u001b[0m\u001b[0mkwargs\u001b[0m\u001b[0;34m)\u001b[0m\u001b[0;34m\u001b[0m\u001b[0;34m\u001b[0m\u001b[0m\n\u001b[0m\u001b[1;32m     29\u001b[0m \u001b[0;34m\u001b[0m\u001b[0m\n\u001b[1;32m     30\u001b[0m     \u001b[0;32mreturn\u001b[0m \u001b[0m_wrapped\u001b[0m\u001b[0;34m\u001b[0m\u001b[0;34m\u001b[0m\u001b[0m\n",
      "\u001b[0;32m~/.local/lib/python3.7/site-packages/deeppavlov/models/embedders/elmo_embedder.py\u001b[0m in \u001b[0;36m_mini_batch_fit\u001b[0;34m(self, batch, *args, **kwargs)\u001b[0m\n\u001b[1;32m    244\u001b[0m         elmo_outputs = self.sess.run(self.elmo_outputs,\n\u001b[1;32m    245\u001b[0m                                      feed_dict={self.tokens_ph: batch,\n\u001b[0;32m--> 246\u001b[0;31m                                                 self.tokens_length_ph: tokens_length})\n\u001b[0m\u001b[1;32m    247\u001b[0m \u001b[0;34m\u001b[0m\u001b[0m\n\u001b[1;32m    248\u001b[0m         \u001b[0;32mif\u001b[0m \u001b[0;34m'default'\u001b[0m \u001b[0;32min\u001b[0m \u001b[0mself\u001b[0m\u001b[0;34m.\u001b[0m\u001b[0melmo_output_names\u001b[0m\u001b[0;34m:\u001b[0m\u001b[0;34m\u001b[0m\u001b[0;34m\u001b[0m\u001b[0m\n",
      "\u001b[0;32m~/.local/lib/python3.7/site-packages/tensorflow_core/python/client/session.py\u001b[0m in \u001b[0;36mrun\u001b[0;34m(self, fetches, feed_dict, options, run_metadata)\u001b[0m\n\u001b[1;32m    954\u001b[0m     \u001b[0;32mtry\u001b[0m\u001b[0;34m:\u001b[0m\u001b[0;34m\u001b[0m\u001b[0;34m\u001b[0m\u001b[0m\n\u001b[1;32m    955\u001b[0m       result = self._run(None, fetches, feed_dict, options_ptr,\n\u001b[0;32m--> 956\u001b[0;31m                          run_metadata_ptr)\n\u001b[0m\u001b[1;32m    957\u001b[0m       \u001b[0;32mif\u001b[0m \u001b[0mrun_metadata\u001b[0m\u001b[0;34m:\u001b[0m\u001b[0;34m\u001b[0m\u001b[0;34m\u001b[0m\u001b[0m\n\u001b[1;32m    958\u001b[0m         \u001b[0mproto_data\u001b[0m \u001b[0;34m=\u001b[0m \u001b[0mtf_session\u001b[0m\u001b[0;34m.\u001b[0m\u001b[0mTF_GetBuffer\u001b[0m\u001b[0;34m(\u001b[0m\u001b[0mrun_metadata_ptr\u001b[0m\u001b[0;34m)\u001b[0m\u001b[0;34m\u001b[0m\u001b[0;34m\u001b[0m\u001b[0m\n",
      "\u001b[0;32m~/.local/lib/python3.7/site-packages/tensorflow_core/python/client/session.py\u001b[0m in \u001b[0;36m_run\u001b[0;34m(self, handle, fetches, feed_dict, options, run_metadata)\u001b[0m\n\u001b[1;32m   1178\u001b[0m     \u001b[0;32mif\u001b[0m \u001b[0mfinal_fetches\u001b[0m \u001b[0;32mor\u001b[0m \u001b[0mfinal_targets\u001b[0m \u001b[0;32mor\u001b[0m \u001b[0;34m(\u001b[0m\u001b[0mhandle\u001b[0m \u001b[0;32mand\u001b[0m \u001b[0mfeed_dict_tensor\u001b[0m\u001b[0;34m)\u001b[0m\u001b[0;34m:\u001b[0m\u001b[0;34m\u001b[0m\u001b[0;34m\u001b[0m\u001b[0m\n\u001b[1;32m   1179\u001b[0m       results = self._do_run(handle, final_targets, final_fetches,\n\u001b[0;32m-> 1180\u001b[0;31m                              feed_dict_tensor, options, run_metadata)\n\u001b[0m\u001b[1;32m   1181\u001b[0m     \u001b[0;32melse\u001b[0m\u001b[0;34m:\u001b[0m\u001b[0;34m\u001b[0m\u001b[0;34m\u001b[0m\u001b[0m\n\u001b[1;32m   1182\u001b[0m       \u001b[0mresults\u001b[0m \u001b[0;34m=\u001b[0m \u001b[0;34m[\u001b[0m\u001b[0;34m]\u001b[0m\u001b[0;34m\u001b[0m\u001b[0;34m\u001b[0m\u001b[0m\n",
      "\u001b[0;32m~/.local/lib/python3.7/site-packages/tensorflow_core/python/client/session.py\u001b[0m in \u001b[0;36m_do_run\u001b[0;34m(self, handle, target_list, fetch_list, feed_dict, options, run_metadata)\u001b[0m\n\u001b[1;32m   1357\u001b[0m     \u001b[0;32mif\u001b[0m \u001b[0mhandle\u001b[0m \u001b[0;32mis\u001b[0m \u001b[0;32mNone\u001b[0m\u001b[0;34m:\u001b[0m\u001b[0;34m\u001b[0m\u001b[0;34m\u001b[0m\u001b[0m\n\u001b[1;32m   1358\u001b[0m       return self._do_call(_run_fn, feeds, fetches, targets, options,\n\u001b[0;32m-> 1359\u001b[0;31m                            run_metadata)\n\u001b[0m\u001b[1;32m   1360\u001b[0m     \u001b[0;32melse\u001b[0m\u001b[0;34m:\u001b[0m\u001b[0;34m\u001b[0m\u001b[0;34m\u001b[0m\u001b[0m\n\u001b[1;32m   1361\u001b[0m       \u001b[0;32mreturn\u001b[0m \u001b[0mself\u001b[0m\u001b[0;34m.\u001b[0m\u001b[0m_do_call\u001b[0m\u001b[0;34m(\u001b[0m\u001b[0m_prun_fn\u001b[0m\u001b[0;34m,\u001b[0m \u001b[0mhandle\u001b[0m\u001b[0;34m,\u001b[0m \u001b[0mfeeds\u001b[0m\u001b[0;34m,\u001b[0m \u001b[0mfetches\u001b[0m\u001b[0;34m)\u001b[0m\u001b[0;34m\u001b[0m\u001b[0;34m\u001b[0m\u001b[0m\n",
      "\u001b[0;32m~/.local/lib/python3.7/site-packages/tensorflow_core/python/client/session.py\u001b[0m in \u001b[0;36m_do_call\u001b[0;34m(self, fn, *args)\u001b[0m\n\u001b[1;32m   1363\u001b[0m   \u001b[0;32mdef\u001b[0m \u001b[0m_do_call\u001b[0m\u001b[0;34m(\u001b[0m\u001b[0mself\u001b[0m\u001b[0;34m,\u001b[0m \u001b[0mfn\u001b[0m\u001b[0;34m,\u001b[0m \u001b[0;34m*\u001b[0m\u001b[0margs\u001b[0m\u001b[0;34m)\u001b[0m\u001b[0;34m:\u001b[0m\u001b[0;34m\u001b[0m\u001b[0;34m\u001b[0m\u001b[0m\n\u001b[1;32m   1364\u001b[0m     \u001b[0;32mtry\u001b[0m\u001b[0;34m:\u001b[0m\u001b[0;34m\u001b[0m\u001b[0;34m\u001b[0m\u001b[0m\n\u001b[0;32m-> 1365\u001b[0;31m       \u001b[0;32mreturn\u001b[0m \u001b[0mfn\u001b[0m\u001b[0;34m(\u001b[0m\u001b[0;34m*\u001b[0m\u001b[0margs\u001b[0m\u001b[0;34m)\u001b[0m\u001b[0;34m\u001b[0m\u001b[0;34m\u001b[0m\u001b[0m\n\u001b[0m\u001b[1;32m   1366\u001b[0m     \u001b[0;32mexcept\u001b[0m \u001b[0merrors\u001b[0m\u001b[0;34m.\u001b[0m\u001b[0mOpError\u001b[0m \u001b[0;32mas\u001b[0m \u001b[0me\u001b[0m\u001b[0;34m:\u001b[0m\u001b[0;34m\u001b[0m\u001b[0;34m\u001b[0m\u001b[0m\n\u001b[1;32m   1367\u001b[0m       \u001b[0mmessage\u001b[0m \u001b[0;34m=\u001b[0m \u001b[0mcompat\u001b[0m\u001b[0;34m.\u001b[0m\u001b[0mas_text\u001b[0m\u001b[0;34m(\u001b[0m\u001b[0me\u001b[0m\u001b[0;34m.\u001b[0m\u001b[0mmessage\u001b[0m\u001b[0;34m)\u001b[0m\u001b[0;34m\u001b[0m\u001b[0;34m\u001b[0m\u001b[0m\n",
      "\u001b[0;32m~/.local/lib/python3.7/site-packages/tensorflow_core/python/client/session.py\u001b[0m in \u001b[0;36m_run_fn\u001b[0;34m(feed_dict, fetch_list, target_list, options, run_metadata)\u001b[0m\n\u001b[1;32m   1348\u001b[0m       \u001b[0mself\u001b[0m\u001b[0;34m.\u001b[0m\u001b[0m_extend_graph\u001b[0m\u001b[0;34m(\u001b[0m\u001b[0;34m)\u001b[0m\u001b[0;34m\u001b[0m\u001b[0;34m\u001b[0m\u001b[0m\n\u001b[1;32m   1349\u001b[0m       return self._call_tf_sessionrun(options, feed_dict, fetch_list,\n\u001b[0;32m-> 1350\u001b[0;31m                                       target_list, run_metadata)\n\u001b[0m\u001b[1;32m   1351\u001b[0m \u001b[0;34m\u001b[0m\u001b[0m\n\u001b[1;32m   1352\u001b[0m     \u001b[0;32mdef\u001b[0m \u001b[0m_prun_fn\u001b[0m\u001b[0;34m(\u001b[0m\u001b[0mhandle\u001b[0m\u001b[0;34m,\u001b[0m \u001b[0mfeed_dict\u001b[0m\u001b[0;34m,\u001b[0m \u001b[0mfetch_list\u001b[0m\u001b[0;34m)\u001b[0m\u001b[0;34m:\u001b[0m\u001b[0;34m\u001b[0m\u001b[0;34m\u001b[0m\u001b[0m\n",
      "\u001b[0;32m~/.local/lib/python3.7/site-packages/tensorflow_core/python/client/session.py\u001b[0m in \u001b[0;36m_call_tf_sessionrun\u001b[0;34m(self, options, feed_dict, fetch_list, target_list, run_metadata)\u001b[0m\n\u001b[1;32m   1441\u001b[0m     return tf_session.TF_SessionRun_wrapper(self._session, options, feed_dict,\n\u001b[1;32m   1442\u001b[0m                                             \u001b[0mfetch_list\u001b[0m\u001b[0;34m,\u001b[0m \u001b[0mtarget_list\u001b[0m\u001b[0;34m,\u001b[0m\u001b[0;34m\u001b[0m\u001b[0;34m\u001b[0m\u001b[0m\n\u001b[0;32m-> 1443\u001b[0;31m                                             run_metadata)\n\u001b[0m\u001b[1;32m   1444\u001b[0m \u001b[0;34m\u001b[0m\u001b[0m\n\u001b[1;32m   1445\u001b[0m   \u001b[0;32mdef\u001b[0m \u001b[0m_call_tf_sessionprun\u001b[0m\u001b[0;34m(\u001b[0m\u001b[0mself\u001b[0m\u001b[0;34m,\u001b[0m \u001b[0mhandle\u001b[0m\u001b[0;34m,\u001b[0m \u001b[0mfeed_dict\u001b[0m\u001b[0;34m,\u001b[0m \u001b[0mfetch_list\u001b[0m\u001b[0;34m)\u001b[0m\u001b[0;34m:\u001b[0m\u001b[0;34m\u001b[0m\u001b[0;34m\u001b[0m\u001b[0m\n",
      "\u001b[0;31mKeyboardInterrupt\u001b[0m: "
     ]
    }
   ],
   "source": [
    "for pair in zip(annotated['id'].tolist(), annotated['markups'].tolist()):\n",
    "    file = open('./pdf_texted/'+pair[0]+'.txt', 'r')\n",
    "    text = file.read()\n",
    "    if 'Уважаемый' in text:\n",
    "        start = 'Уважаемый'\n",
    "        end = 'С уважением'\n",
    "        start_i = text.find(start)\n",
    "        end_i = text.find(end)\n",
    "        text = text[start_i:end_i]\n",
    "    # print(text)\n",
    "    text = text.replace('\\n', ' ')\n",
    "    normalized_text = re.sub('(?:(?:https?):\\/\\/)?[\\w/\\-?=%.]+\\.[\\w/\\-?=%.]+', '', text)\n",
    "    normalized_text = re.sub(r'\\d+(?:\\.\\d+)?', '', normalized_text)\n",
    "    sentences = ru_sent_tokenize(normalized_text)\n",
    "    for sentence in sentences:\n",
    "        label = clf.predict(sentence)\n",
    "        if label != None:\n",
    "            print('-'*90)\n",
    "            print(sentence)\n",
    "            print('-'*90)\n",
    "            print('ПУНКТ ДОГОВОРА: ', label)\n",
    "            print()\n",
    "    dics = pair[1]\n",
    "    for dic in dics:\n",
    "        print(dic['escape'])\n",
    "    print('='*80)"
   ]
  },
  {
   "cell_type": "code",
   "execution_count": 8,
   "metadata": {
    "scrolled": true
   },
   "outputs": [
    {
     "name": "stdout",
     "output_type": "stream",
     "text": [
      "INFO:tensorflow:Saver not created because there are no variables in the graph to restore\n"
     ]
    },
    {
     "name": "stderr",
     "output_type": "stream",
     "text": [
      "INFO:tensorflow:Saver not created because there are no variables in the graph to restore\n"
     ]
    }
   ],
   "source": []
  },
  {
   "cell_type": "code",
   "execution_count": 9,
   "metadata": {},
   "outputs": [
    {
     "data": {
      "text/plain": [
       "'СТАТЬЯ 15. МОТИВАЦИЯ СОБЛЮДЕНИЯ ПОЛОЖЕНИЙ ДОГОВОРА В ОБЛАСТИ ПБ ( п.п. 15.1 15.18)'"
      ]
     },
     "execution_count": 9,
     "metadata": {},
     "output_type": "execute_result"
    }
   ],
   "source": [
    "clf.predict(text)"
   ]
  },
  {
   "cell_type": "code",
   "execution_count": null,
   "metadata": {},
   "outputs": [],
   "source": []
  }
 ],
 "metadata": {
  "kernelspec": {
   "display_name": "Python 3",
   "language": "python",
   "name": "python3"
  },
  "language_info": {
   "codemirror_mode": {
    "name": "ipython",
    "version": 3
   },
   "file_extension": ".py",
   "mimetype": "text/x-python",
   "name": "python",
   "nbconvert_exporter": "python",
   "pygments_lexer": "ipython3",
   "version": "3.7.5"
  }
 },
 "nbformat": 4,
 "nbformat_minor": 4
}
