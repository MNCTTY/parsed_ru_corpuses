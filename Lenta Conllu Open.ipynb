{
 "cells": [
  {
   "cell_type": "code",
   "execution_count": 1,
   "metadata": {},
   "outputs": [],
   "source": [
    "import os"
   ]
  },
  {
   "cell_type": "code",
   "execution_count": 4,
   "metadata": {},
   "outputs": [
    {
     "name": "stdout",
     "output_type": "stream",
     "text": [
      "Collecting conllu\n",
      "  Using cached https://files.pythonhosted.org/packages/81/21/7d25cb06cf0318ca7014af3e732610eed28b8b8aad4c7479d1326f27f2b6/conllu-1.2.2-py2.py3-none-any.whl\n",
      "Installing collected packages: conllu\n",
      "Successfully installed conllu-1.2.2\n"
     ]
    }
   ],
   "source": [
    "from io import open\n",
    "!pip install conllu\n",
    "from conllu import parse_incr\n",
    "import pandas as pd"
   ]
  },
  {
   "cell_type": "code",
   "execution_count": null,
   "metadata": {},
   "outputs": [],
   "source": [
    "# do the same for KP and Interfax"
   ]
  },
  {
   "cell_type": "code",
   "execution_count": 12,
   "metadata": {},
   "outputs": [],
   "source": [
    "Lenta_tagged_base_path = r'Lenta/texts_tagged'\n",
    "Lenta_tagged_pathes = []\n",
    "for top, dirs, files in os.walk(Lenta_tagged_base_path):\n",
    "    for nm in files:       \n",
    "        Lenta_tagged_pathes.append(os.path.join(top, nm))"
   ]
  },
  {
   "cell_type": "code",
   "execution_count": 13,
   "metadata": {},
   "outputs": [
    {
     "name": "stdout",
     "output_type": "stream",
     "text": [
      "CPU times: user 4min 52s, sys: 11.3 s, total: 5min 4s\n",
      "Wall time: 6min 5s\n"
     ]
    }
   ],
   "source": [
    "%%time\n",
    "all_files_df = []\n",
    "for path in Lenta_tagged_pathes:\n",
    "    one_file_sentences = []\n",
    "    with open(path, \"r\", encoding='utf-8') as data_file:\n",
    "        for tokenlist in parse_incr(data_file):\n",
    "            one_file_sentences.append(tokenlist)\n",
    "\n",
    "    one_file_df = []\n",
    "    for j in range(0, len(one_file_sentences)):\n",
    "        sentence = one_file_sentences[j]\n",
    "        for i in range(0, len(sentence)):\n",
    "            token = sentence[i]\n",
    "            one_file_df.append(token)\n",
    "            \n",
    "    all_files_df += one_file_df\n",
    "\n",
    "df = pd.DataFrame(all_files_df)"
   ]
  },
  {
   "cell_type": "code",
   "execution_count": 14,
   "metadata": {},
   "outputs": [],
   "source": [
    "df.to_csv(r'data/NLU_Lenta.csv')"
   ]
  }
 ],
 "metadata": {
  "kernelspec": {
   "display_name": "Python 3",
   "language": "python",
   "name": "python3"
  },
  "language_info": {
   "codemirror_mode": {
    "name": "ipython",
    "version": 3
   },
   "file_extension": ".py",
   "mimetype": "text/x-python",
   "name": "python",
   "nbconvert_exporter": "python",
   "pygments_lexer": "ipython3",
   "version": "3.6.7"
  }
 },
 "nbformat": 4,
 "nbformat_minor": 2
}
