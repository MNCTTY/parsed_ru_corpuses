{
 "cells": [
  {
   "cell_type": "code",
   "execution_count": 141,
   "metadata": {},
   "outputs": [],
   "source": [
    "def tokenize(the_list):\n",
    "    for i in range(0,len(the_list)):\n",
    "        #the_list[i] = the_list[i].replace('\\n', ' ')\n",
    "        the_list[i] = the_list[i].replace(';', ' ; ')\n",
    "        the_list[i] = the_list[i].replace(',', ' , ')\n",
    "        the_list[i] = the_list[i].replace('.', ' . ')\n",
    "        the_list[i] = the_list[i].replace('\"', '')\n",
    "        the_list[i] = the_list[i].replace('«', '')\n",
    "        the_list[i] = the_list[i].replace('»', '')\n",
    "        the_list[i] = the_list[i].replace(')', ' ) ')\n",
    "        the_list[i] = the_list[i].replace('(', ' ( ')\n",
    "        the_list[i] = the_list[i].replace('  ', ' ')\n",
    "        the_list[i] = the_list[i].replace('   ', ' ')\n",
    "        the_list[i] = the_list[i].replace('    ', ' ')"
   ]
  },
  {
   "cell_type": "markdown",
   "metadata": {},
   "source": [
    "## imports"
   ]
  },
  {
   "cell_type": "code",
   "execution_count": 2,
   "metadata": {},
   "outputs": [],
   "source": [
    "import pandas as pd\n",
    "import os\n",
    "import copy\n",
    "import re"
   ]
  },
  {
   "cell_type": "markdown",
   "metadata": {},
   "source": [
    "## files reading"
   ]
  },
  {
   "cell_type": "code",
   "execution_count": 165,
   "metadata": {},
   "outputs": [],
   "source": [
    "dir_path = 'Collection3'"
   ]
  },
  {
   "cell_type": "code",
   "execution_count": 166,
   "metadata": {},
   "outputs": [],
   "source": [
    "file_pathes = []\n",
    "for top, dirs, files in os.walk(dir_path):\n",
    "    for nm in files:\n",
    "        file_pathes.append(os.path.join(top, nm))"
   ]
  },
  {
   "cell_type": "code",
   "execution_count": 181,
   "metadata": {},
   "outputs": [
    {
     "data": {
      "text/plain": [
       "1000"
      ]
     },
     "execution_count": 181,
     "metadata": {},
     "output_type": "execute_result"
    }
   ],
   "source": [
    "files = []\n",
    "for i in range(0, len(file_pathes)):\n",
    "    files.append(os.path.basename(file_pathes[i]))\n",
    "len(files)\n",
    "\n",
    "names = []\n",
    "names.append(' ')\n",
    "for file in files:\n",
    "    name, ext = os.path.splitext(file)\n",
    "    if name == names[-1]:\n",
    "        del names[-1]\n",
    "    names.append(name)\n",
    "names = names[1:]\n",
    "len(names)"
   ]
  },
  {
   "cell_type": "markdown",
   "metadata": {},
   "source": [
    "## data reading (loop over all files)"
   ]
  },
  {
   "cell_type": "code",
   "execution_count": 188,
   "metadata": {},
   "outputs": [
    {
     "name": "stdout",
     "output_type": "stream",
     "text": [
      "Wall time: 0 ns\n"
     ]
    }
   ],
   "source": [
    "%time\n",
    "data = []\n",
    "for name in names:\n",
    "    raw_data = []\n",
    "    for line in open(dir_path+ '//'+ name + '.ann', 'r', encoding='utf-8'):\n",
    "        raw_data.append(line)\n",
    "        tags = []\n",
    "        starts = []\n",
    "        ends = []\n",
    "        for i in range(0, len(raw_data)):\n",
    "            s = raw_data[i]\n",
    "            parts = s.split('\\t') \n",
    "            s1 = parts[1]\n",
    "            parties = s1.split(' ')\n",
    "            tags.append(parties[0])\n",
    "            starts.append(parties[1])\n",
    "            ends.append(parties[2])\n",
    "     \n",
    "    content = []\n",
    "    for line in open(dir_path+ '//'+ name + '.txt', 'r', encoding='utf-8'):\n",
    "        content.append(line)\n",
    "    #tokenize(content)\n",
    "    content = ' '.join(content)\n",
    "    #content = re.sub(r' +', ' ', content)\n",
    "    \n",
    "\n",
    "    tagged_content = copy.copy(content)\n",
    "    \n",
    "    list_content = list(tagged_content)\n",
    "\n",
    "    for i in range(0, len(list_content)):\n",
    "        if list_content[i] != ' ' and list_content[i] != '#' and list_content[i] != '\\n':\n",
    "            list_content[i] = 'O'\n",
    "\n",
    "    tagged_content = \"\".join(list_content)\n",
    "    \n",
    "\n",
    "    for i in range(0, len(tags)):\n",
    "        for j in range(int(starts[i]), int(ends[i])):\n",
    "            if content[j] == ' ':\n",
    "                list_content[j] = ' '\n",
    "            else:\n",
    "                list_content[j] = tags[i]\n",
    "\n",
    "    tagged_content2 = \"\".join(list_content)\n",
    "    \n",
    "    \n",
    "    tagged_content2 = re.sub(r'PER+', 'P', tagged_content2)\n",
    "    tagged_content2 = re.sub(r'P+', 'PER', tagged_content2)\n",
    "    tagged_content2 = re.sub(r'LOC+', 'L', tagged_content2)\n",
    "    tagged_content2 = re.sub(r'L+', 'LOC', tagged_content2)\n",
    "    tagged_content2 = re.sub(r'DAT+', 'D', tagged_content2)\n",
    "    tagged_content2 = re.sub(r'D+', 'DAT', tagged_content2)\n",
    "    tagged_content2 = re.sub(r'O+', 'O', tagged_content2)\n",
    "    tagged_content2 = re.sub(r'ORG+', 'O', tagged_content2)\n",
    "    tagged_content2 = re.sub(r'OO+', 'ORG', tagged_content2)\n",
    "\n",
    "    \n",
    "    #так как мы используем хорошие эмбеддинги, которые не рассматривают слово как неделимую штуку, мы можем не отделять запятые и прочее как отдельные токены\n",
    "    #поэтому артефакты от значимых тегов - просто уберем\n",
    "    tagged_content2 = re.sub(r'OPER', 'PER', tagged_content2)\n",
    "    tagged_content2 = re.sub(r'PERO', 'PER', tagged_content2)\n",
    "    tagged_content2 = re.sub(r'OLOC', 'LOC', tagged_content2)\n",
    "    tagged_content2 = re.sub(r'LOCO', 'LOC', tagged_content2)\n",
    "    tagged_content2 = re.sub(r'ODAT', 'DAT', tagged_content2)\n",
    "    tagged_content2 = re.sub(r'DATO', 'DAT', tagged_content2)\n",
    "    tagged_content2 = re.sub(r'OORG', 'ORG', tagged_content2)\n",
    "    tagged_content2 = re.sub(r'ORGO', 'ORG', tagged_content2)\n",
    "\n",
    "\n",
    "    tagged_content2 = re.sub(r'\\n', '', tagged_content2)\n",
    "    content = re.sub(r'\\n', '', content)\n",
    "\n",
    "    data.append([tagged_content2, content])\n",
    "\n",
    "df = pd.DataFrame(data, columns=['tags', 'texts'])\n",
    "df.to_csv('Collection3.csv', index = False)"
   ]
  },
  {
   "cell_type": "code",
   "execution_count": null,
   "metadata": {},
   "outputs": [],
   "source": []
  },
  {
   "cell_type": "markdown",
   "metadata": {},
   "source": [
    "# NOT LOOP ## with output to look on data"
   ]
  },
  {
   "cell_type": "code",
   "execution_count": 4,
   "metadata": {},
   "outputs": [
    {
     "data": {
      "text/plain": [
       "['T1\\tLOC 0 6\\tРоссия\\n',\n",
       " 'T2\\tLOC 50 53\\tСША\\n',\n",
       " 'T3\\tLOC 57 63\\tГрузию\\n',\n",
       " 'T4\\tLOC 87 93\\tМОСКВА\\n',\n",
       " 'T5\\tORG 103 114\\tРИА Новости\\n',\n",
       " 'T6\\tLOC 116 122\\tРоссия\\n',\n",
       " 'T7\\tLOC 141 144\\tСША\\n',\n",
       " 'T8\\tLOC 161 168\\tТбилиси\\n',\n",
       " 'T9\\tLOC 301 307\\tРоссии\\n',\n",
       " 'T10\\tPER 308 324\\tГригорий Карасин\\n',\n",
       " 'T11\\tLOC 383 386\\tСША\\n',\n",
       " 'T12\\tPER 387 402\\tДэниэлом Фридом\\n',\n",
       " 'T13\\tLOC 505 517\\tЮжной Осетии\\n',\n",
       " 'T14\\tLOC 703 709\\tРоссия\\n',\n",
       " 'T15\\tLOC 723 730\\tТбилиси\\n',\n",
       " 'T16\\tLOC 815 825\\tВашингтона\\n',\n",
       " 'T17\\tORG 838 841\\tМИД\\n',\n",
       " 'T18\\tLOC 842 848\\tРоссии\\n']"
      ]
     },
     "execution_count": 4,
     "metadata": {},
     "output_type": "execute_result"
    }
   ],
   "source": [
    "raw_data = []\n",
    "for line in open('001.ann', 'r', encoding='utf-8'):\n",
    "    raw_data.append(line)\n",
    "raw_data\n"
   ]
  },
  {
   "cell_type": "code",
   "execution_count": 140,
   "metadata": {},
   "outputs": [],
   "source": [
    "tags = []\n",
    "starts = []\n",
    "ends = []\n",
    "for i in range(0, len(raw_data)):\n",
    "    s = raw_data[i]\n",
    "    parts = s.split('\\t') \n",
    "    s1 = parts[1]\n",
    "    parties = s1.split(' ')\n",
    "    tags.append(parties[0])\n",
    "    starts.append(parties[1])\n",
    "    ends.append(parties[2])"
   ]
  },
  {
   "cell_type": "code",
   "execution_count": 142,
   "metadata": {},
   "outputs": [
    {
     "data": {
      "text/plain": [
       "'Россия рассчитывает на конструктивное воздействие США на Грузию\\n \\n 04/08/2008 12:08\\n \\n МОСКВА, 4 авг - РИА Новости. Россия рассчитывает, что США воздействуют на Тбилиси в связи с обострением ситуации в зоне грузино-осетинского конфликта. Об этом статс-секретарь - заместитель министра иностранных дел России Григорий Карасин заявил в телефонном разговоре с заместителем госсекретаря США Дэниэлом Фридом.\\n \\n \"С российской стороны выражена глубокая озабоченность в связи с новым витком напряженности вокруг Южной Осетии, противозаконными действиями грузинской стороны по наращиванию своих вооруженных сил в регионе, бесконтрольным строительством фортификационных сооружений\", - говорится в сообщении.\\n \\n \"Россия уже призвала Тбилиси к ответственной линии и рассчитывает также на конструктивное воздействие со стороны Вашингтона\", - сообщил МИД России. '"
      ]
     },
     "execution_count": 142,
     "metadata": {},
     "output_type": "execute_result"
    }
   ],
   "source": [
    "content = []\n",
    "for line in open('001.txt', 'r', encoding='utf-8'):\n",
    "    content.append(line)\n",
    "#tokenize(content)\n",
    "content = ' '.join(content)\n",
    "#content = re.sub(r' +', ' ', content)\n",
    "content"
   ]
  },
  {
   "cell_type": "code",
   "execution_count": 143,
   "metadata": {},
   "outputs": [
    {
     "data": {
      "text/plain": [
       "'Россия рассчитывает на конструктивное воздействие США на Грузию\\n \\n 04/08/2008 12:08\\n \\n МОСКВА, 4 авг - РИА Новости. Россия рассчитывает, что США воздействуют на Тбилиси в связи с обострением ситуации в зоне грузино-осетинского конфликта. Об этом статс-секретарь - заместитель министра иностранных дел России Григорий Карасин заявил в телефонном разговоре с заместителем госсекретаря США Дэниэлом Фридом.\\n \\n \"С российской стороны выражена глубокая озабоченность в связи с новым витком напряженности вокруг Южной Осетии, противозаконными действиями грузинской стороны по наращиванию своих вооруженных сил в регионе, бесконтрольным строительством фортификационных сооружений\", - говорится в сообщении.\\n \\n \"Россия уже призвала Тбилиси к ответственной линии и рассчитывает также на конструктивное воздействие со стороны Вашингтона\", - сообщил МИД России. '"
      ]
     },
     "execution_count": 143,
     "metadata": {},
     "output_type": "execute_result"
    }
   ],
   "source": [
    "tagged_content = copy.copy(content)\n",
    "tagged_content"
   ]
  },
  {
   "cell_type": "code",
   "execution_count": 144,
   "metadata": {},
   "outputs": [
    {
     "data": {
      "text/plain": [
       "True"
      ]
     },
     "execution_count": 144,
     "metadata": {},
     "output_type": "execute_result"
    }
   ],
   "source": [
    "len(tagged_content) == len(content)"
   ]
  },
  {
   "cell_type": "code",
   "execution_count": 145,
   "metadata": {},
   "outputs": [],
   "source": [
    "list_content = list(tagged_content)\n",
    "\n",
    "for i in range(0, len(list_content)):\n",
    "    if list_content[i] != ' ' and list_content[i] != '#' and list_content[i] != '\\n':\n",
    "        list_content[i] = 'O'\n",
    "        \n",
    "tagged_content = \"\".join(list_content)"
   ]
  },
  {
   "cell_type": "code",
   "execution_count": 146,
   "metadata": {},
   "outputs": [
    {
     "data": {
      "text/plain": [
       "True"
      ]
     },
     "execution_count": 146,
     "metadata": {},
     "output_type": "execute_result"
    }
   ],
   "source": [
    "len(tagged_content) == len(content)"
   ]
  },
  {
   "cell_type": "code",
   "execution_count": 147,
   "metadata": {},
   "outputs": [],
   "source": [
    "#list_content = list(tagged_content[0])\n",
    "\n",
    "for i in range(0, len(tags)):\n",
    "    for j in range(int(starts[i]), int(ends[i])):\n",
    "        if content[j] == ' ':\n",
    "            list_content[j] = ' '\n",
    "        else:\n",
    "            list_content[j] = tags[i]\n",
    "        \n",
    "tagged_content2 = \"\".join(list_content)"
   ]
  },
  {
   "cell_type": "code",
   "execution_count": 148,
   "metadata": {},
   "outputs": [
    {
     "data": {
      "text/plain": [
       "'LOCLOCLOCLOCLOCLOC OOOOOOOOOOOO OO OOOOOOOOOOOOOO OOOOOOOOOOO LOCLOCLOC OO LOCLOCLOCLOCLOCLOC\\n \\n OOOOOOOOOO OOOOO\\n \\n LOCLOCLOCLOCLOCLOCO O OOO O ORGORGORG ORGORGORGORGORGORGORGO LOCLOCLOCLOCLOCLOC OOOOOOOOOOOOO OOO LOCLOCLOC OOOOOOOOOOOO OO LOCLOCLOCLOCLOCLOCLOC O OOOOO O OOOOOOOOOOO OOOOOOOO O OOOO OOOOOOOOOOOOOOOOOOO OOOOOOOOOO OO OOOO OOOOOOOOOOOOOOO O OOOOOOOOOOO OOOOOOOO OOOOOOOOOOO OOO LOCLOCLOCLOCLOCLOC PERPERPERPERPERPERPERPER PERPERPERPERPERPERPER OOOOOO O OOOOOOOOOO OOOOOOOOO O OOOOOOOOOOOO OOOOOOOOOOOO LOCLOCLOC PERPERPERPERPERPERPERPER PERPERPERPERPERPERO\\n \\n OO OOOOOOOOOO OOOOOOO OOOOOOOO OOOOOOOO OOOOOOOOOOOOO O OOOOO O OOOOO OOOOOO OOOOOOOOOOOOO OOOOOO LOCLOCLOCLOCLOC LOCLOCLOCLOCLOCLOCO OOOOOOOOOOOOOOOO OOOOOOOOOO OOOOOOOOOO OOOOOOO OO OOOOOOOOOOO OOOOO OOOOOOOOOOO OOO O OOOOOOOO OOOOOOOOOOOOOO OOOOOOOOOOOOOO OOOOOOOOOOOOOOOO OOOOOOOOOOOO O OOOOOOOOO O OOOOOOOOOO\\n \\n OLOCLOCLOCLOCLOCLOC OOO OOOOOOOO LOCLOCLOCLOCLOCLOCLOC O OOOOOOOOOOOOO OOOOO O OOOOOOOOOOOO OOOOO OO OOOOOOOOOOOOOO OOOOOOOOOOO OO OOOOOOO LOCLOCLOCLOCLOCLOCLOCLOCLOCLOCOO O OOOOOOO ORGORGORG LOCLOCLOCLOCLOCLOCO '"
      ]
     },
     "execution_count": 148,
     "metadata": {},
     "output_type": "execute_result"
    }
   ],
   "source": [
    "tagged_content2"
   ]
  },
  {
   "cell_type": "code",
   "execution_count": 149,
   "metadata": {},
   "outputs": [
    {
     "data": {
      "text/plain": [
       "'LOC O O O O LOC O LOC\\n \\n O O\\n \\n LOCO O O O ORG ORG LOC O O LOC O O LOC O O O O O O O O O O O O O O O O O LOC PER PER O O O O O O O LOC PER PERO\\n \\n O O O O O O O O O O O O O LOC LOCO O O O O O O O O O O O O O O O O O O O\\n \\n OLOC O O LOC O O O O O O O O O O O LOCO O O ORG LOCO '"
      ]
     },
     "execution_count": 149,
     "metadata": {},
     "output_type": "execute_result"
    }
   ],
   "source": [
    "tagged_content2 = re.sub(r'PER+', 'P', tagged_content2)\n",
    "tagged_content2 = re.sub(r'P+', 'PER', tagged_content2)\n",
    "tagged_content2 = re.sub(r'LOC+', 'L', tagged_content2)\n",
    "tagged_content2 = re.sub(r'L+', 'LOC', tagged_content2)\n",
    "tagged_content2 = re.sub(r'DAT+', 'D', tagged_content2)\n",
    "tagged_content2 = re.sub(r'D+', 'DAT', tagged_content2)\n",
    "tagged_content2 = re.sub(r'O+', 'O', tagged_content2)\n",
    "tagged_content2 = re.sub(r'ORG+', 'O', tagged_content2)\n",
    "tagged_content2 = re.sub(r'OO+', 'ORG', tagged_content2)\n",
    "tagged_content2"
   ]
  },
  {
   "cell_type": "code",
   "execution_count": 154,
   "metadata": {},
   "outputs": [],
   "source": [
    "#так как мы используем хорошие эмбеддинги, которые не рассматривают слово как неделимую штуку, мы можем не отделять запятые и прочее как отдельные токены\n",
    "#поэтому артефакты от значимых тегов - просто уберем\n",
    "tagged_content2 = re.sub(r'OPER', 'PER', tagged_content2)\n",
    "tagged_content2 = re.sub(r'PERO', 'PER', tagged_content2)\n",
    "tagged_content2 = re.sub(r'OLOC', 'LOC', tagged_content2)\n",
    "tagged_content2 = re.sub(r'LOCO', 'LOC', tagged_content2)\n",
    "tagged_content2 = re.sub(r'ODAT', 'DAT', tagged_content2)\n",
    "tagged_content2 = re.sub(r'DATO', 'DAT', tagged_content2)\n",
    "tagged_content2 = re.sub(r'OORG', 'ORG', tagged_content2)\n",
    "tagged_content2 = re.sub(r'ORGO', 'ORG', tagged_content2)"
   ]
  },
  {
   "cell_type": "code",
   "execution_count": 160,
   "metadata": {},
   "outputs": [],
   "source": [
    "tagged_content2 = re.sub(r'\\n', '', tagged_content2)\n",
    "content = re.sub(r'\\n', '', content)"
   ]
  },
  {
   "cell_type": "code",
   "execution_count": 161,
   "metadata": {},
   "outputs": [
    {
     "data": {
      "text/plain": [
       "'Россия рассчитывает на конструктивное воздействие США на Грузию  04/08/2008 12:08  МОСКВА, 4 авг - РИА Новости. Россия рассчитывает, что США воздействуют на Тбилиси в связи с обострением ситуации в зоне грузино-осетинского конфликта. Об этом статс-секретарь - заместитель министра иностранных дел России Григорий Карасин заявил в телефонном разговоре с заместителем госсекретаря США Дэниэлом Фридом.  \"С российской стороны выражена глубокая озабоченность в связи с новым витком напряженности вокруг Южной Осетии, противозаконными действиями грузинской стороны по наращиванию своих вооруженных сил в регионе, бесконтрольным строительством фортификационных сооружений\", - говорится в сообщении.  \"Россия уже призвала Тбилиси к ответственной линии и рассчитывает также на конструктивное воздействие со стороны Вашингтона\", - сообщил МИД России. '"
      ]
     },
     "execution_count": 161,
     "metadata": {},
     "output_type": "execute_result"
    }
   ],
   "source": [
    "content"
   ]
  },
  {
   "cell_type": "markdown",
   "metadata": {},
   "source": [
    "## if you need split strings, and check a concurrency of tokens (words) and tags"
   ]
  },
  {
   "cell_type": "code",
   "execution_count": 162,
   "metadata": {},
   "outputs": [],
   "source": [
    "words = content.split(' ')\n",
    "tags = tagged_content2.split(' ')"
   ]
  },
  {
   "cell_type": "code",
   "execution_count": 163,
   "metadata": {},
   "outputs": [
    {
     "data": {
      "text/plain": [
       "True"
      ]
     },
     "execution_count": 163,
     "metadata": {},
     "output_type": "execute_result"
    }
   ],
   "source": [
    "len(tags)==len(words)"
   ]
  },
  {
   "cell_type": "code",
   "execution_count": 164,
   "metadata": {},
   "outputs": [
    {
     "name": "stdout",
     "output_type": "stream",
     "text": [
      "word  Россия\n",
      "tag  LOC\n",
      "\n",
      "\n",
      "word  рассчитывает\n",
      "tag  O\n",
      "\n",
      "\n",
      "word  на\n",
      "tag  O\n",
      "\n",
      "\n",
      "word  конструктивное\n",
      "tag  O\n",
      "\n",
      "\n",
      "word  воздействие\n",
      "tag  O\n",
      "\n",
      "\n",
      "word  США\n",
      "tag  LOC\n",
      "\n",
      "\n",
      "word  на\n",
      "tag  O\n",
      "\n",
      "\n",
      "word  Грузию\n",
      "tag  LOC\n",
      "\n",
      "\n",
      "word  \n",
      "tag  \n",
      "\n",
      "\n",
      "word  04/08/2008\n",
      "tag  O\n",
      "\n",
      "\n",
      "word  12:08\n",
      "tag  O\n",
      "\n",
      "\n",
      "word  \n",
      "tag  \n",
      "\n",
      "\n",
      "word  МОСКВА,\n",
      "tag  LOC\n",
      "\n",
      "\n",
      "word  4\n",
      "tag  O\n",
      "\n",
      "\n",
      "word  авг\n",
      "tag  O\n",
      "\n",
      "\n",
      "word  -\n",
      "tag  O\n",
      "\n",
      "\n",
      "word  РИА\n",
      "tag  ORG\n",
      "\n",
      "\n",
      "word  Новости.\n",
      "tag  ORG\n",
      "\n",
      "\n",
      "word  Россия\n",
      "tag  LOC\n",
      "\n",
      "\n",
      "word  рассчитывает,\n",
      "tag  O\n",
      "\n",
      "\n",
      "word  что\n",
      "tag  O\n",
      "\n",
      "\n",
      "word  США\n",
      "tag  LOC\n",
      "\n",
      "\n",
      "word  воздействуют\n",
      "tag  O\n",
      "\n",
      "\n",
      "word  на\n",
      "tag  O\n",
      "\n",
      "\n",
      "word  Тбилиси\n",
      "tag  LOC\n",
      "\n",
      "\n",
      "word  в\n",
      "tag  O\n",
      "\n",
      "\n",
      "word  связи\n",
      "tag  O\n",
      "\n",
      "\n",
      "word  с\n",
      "tag  O\n",
      "\n",
      "\n",
      "word  обострением\n",
      "tag  O\n",
      "\n",
      "\n",
      "word  ситуации\n",
      "tag  O\n",
      "\n",
      "\n",
      "word  в\n",
      "tag  O\n",
      "\n",
      "\n",
      "word  зоне\n",
      "tag  O\n",
      "\n",
      "\n",
      "word  грузино-осетинского\n",
      "tag  O\n",
      "\n",
      "\n",
      "word  конфликта.\n",
      "tag  O\n",
      "\n",
      "\n",
      "word  Об\n",
      "tag  O\n",
      "\n",
      "\n",
      "word  этом\n",
      "tag  O\n",
      "\n",
      "\n",
      "word  статс-секретарь\n",
      "tag  O\n",
      "\n",
      "\n",
      "word  -\n",
      "tag  O\n",
      "\n",
      "\n",
      "word  заместитель\n",
      "tag  O\n",
      "\n",
      "\n",
      "word  министра\n",
      "tag  O\n",
      "\n",
      "\n",
      "word  иностранных\n",
      "tag  O\n",
      "\n",
      "\n",
      "word  дел\n",
      "tag  O\n",
      "\n",
      "\n",
      "word  России\n",
      "tag  LOC\n",
      "\n",
      "\n",
      "word  Григорий\n",
      "tag  PER\n",
      "\n",
      "\n",
      "word  Карасин\n",
      "tag  PER\n",
      "\n",
      "\n",
      "word  заявил\n",
      "tag  O\n",
      "\n",
      "\n",
      "word  в\n",
      "tag  O\n",
      "\n",
      "\n",
      "word  телефонном\n",
      "tag  O\n",
      "\n",
      "\n",
      "word  разговоре\n",
      "tag  O\n",
      "\n",
      "\n",
      "word  с\n",
      "tag  O\n",
      "\n",
      "\n",
      "word  заместителем\n",
      "tag  O\n",
      "\n",
      "\n",
      "word  госсекретаря\n",
      "tag  O\n",
      "\n",
      "\n",
      "word  США\n",
      "tag  LOC\n",
      "\n",
      "\n",
      "word  Дэниэлом\n",
      "tag  PER\n",
      "\n",
      "\n",
      "word  Фридом.\n",
      "tag  PER\n",
      "\n",
      "\n",
      "word  \n",
      "tag  \n",
      "\n",
      "\n",
      "word  \"С\n",
      "tag  O\n",
      "\n",
      "\n",
      "word  российской\n",
      "tag  O\n",
      "\n",
      "\n",
      "word  стороны\n",
      "tag  O\n",
      "\n",
      "\n",
      "word  выражена\n",
      "tag  O\n",
      "\n",
      "\n",
      "word  глубокая\n",
      "tag  O\n",
      "\n",
      "\n",
      "word  озабоченность\n",
      "tag  O\n",
      "\n",
      "\n",
      "word  в\n",
      "tag  O\n",
      "\n",
      "\n",
      "word  связи\n",
      "tag  O\n",
      "\n",
      "\n",
      "word  с\n",
      "tag  O\n",
      "\n",
      "\n",
      "word  новым\n",
      "tag  O\n",
      "\n",
      "\n",
      "word  витком\n",
      "tag  O\n",
      "\n",
      "\n",
      "word  напряженности\n",
      "tag  O\n",
      "\n",
      "\n",
      "word  вокруг\n",
      "tag  O\n",
      "\n",
      "\n",
      "word  Южной\n",
      "tag  LOC\n",
      "\n",
      "\n",
      "word  Осетии,\n",
      "tag  LOC\n",
      "\n",
      "\n",
      "word  противозаконными\n",
      "tag  O\n",
      "\n",
      "\n",
      "word  действиями\n",
      "tag  O\n",
      "\n",
      "\n",
      "word  грузинской\n",
      "tag  O\n",
      "\n",
      "\n",
      "word  стороны\n",
      "tag  O\n",
      "\n",
      "\n",
      "word  по\n",
      "tag  O\n",
      "\n",
      "\n",
      "word  наращиванию\n",
      "tag  O\n",
      "\n",
      "\n",
      "word  своих\n",
      "tag  O\n",
      "\n",
      "\n",
      "word  вооруженных\n",
      "tag  O\n",
      "\n",
      "\n",
      "word  сил\n",
      "tag  O\n",
      "\n",
      "\n",
      "word  в\n",
      "tag  O\n",
      "\n",
      "\n",
      "word  регионе,\n",
      "tag  O\n",
      "\n",
      "\n",
      "word  бесконтрольным\n",
      "tag  O\n",
      "\n",
      "\n",
      "word  строительством\n",
      "tag  O\n",
      "\n",
      "\n",
      "word  фортификационных\n",
      "tag  O\n",
      "\n",
      "\n",
      "word  сооружений\",\n",
      "tag  O\n",
      "\n",
      "\n",
      "word  -\n",
      "tag  O\n",
      "\n",
      "\n",
      "word  говорится\n",
      "tag  O\n",
      "\n",
      "\n",
      "word  в\n",
      "tag  O\n",
      "\n",
      "\n",
      "word  сообщении.\n",
      "tag  O\n",
      "\n",
      "\n",
      "word  \n",
      "tag  \n",
      "\n",
      "\n",
      "word  \"Россия\n",
      "tag  LOC\n",
      "\n",
      "\n",
      "word  уже\n",
      "tag  O\n",
      "\n",
      "\n",
      "word  призвала\n",
      "tag  O\n",
      "\n",
      "\n",
      "word  Тбилиси\n",
      "tag  LOC\n",
      "\n",
      "\n",
      "word  к\n",
      "tag  O\n",
      "\n",
      "\n",
      "word  ответственной\n",
      "tag  O\n",
      "\n",
      "\n",
      "word  линии\n",
      "tag  O\n",
      "\n",
      "\n",
      "word  и\n",
      "tag  O\n",
      "\n",
      "\n",
      "word  рассчитывает\n",
      "tag  O\n",
      "\n",
      "\n",
      "word  также\n",
      "tag  O\n",
      "\n",
      "\n",
      "word  на\n",
      "tag  O\n",
      "\n",
      "\n",
      "word  конструктивное\n",
      "tag  O\n",
      "\n",
      "\n",
      "word  воздействие\n",
      "tag  O\n",
      "\n",
      "\n",
      "word  со\n",
      "tag  O\n",
      "\n",
      "\n",
      "word  стороны\n",
      "tag  O\n",
      "\n",
      "\n",
      "word  Вашингтона\",\n",
      "tag  LOC\n",
      "\n",
      "\n",
      "word  -\n",
      "tag  O\n",
      "\n",
      "\n",
      "word  сообщил\n",
      "tag  O\n",
      "\n",
      "\n",
      "word  МИД\n",
      "tag  ORG\n",
      "\n",
      "\n",
      "word  России.\n",
      "tag  LOC\n",
      "\n",
      "\n",
      "word  \n",
      "tag  \n",
      "\n",
      "\n"
     ]
    }
   ],
   "source": [
    "for i in range(len(words)):\n",
    "    print('word ', words[i])\n",
    "    print('tag ', tags[i])\n",
    "    print('\\n')"
   ]
  },
  {
   "cell_type": "code",
   "execution_count": null,
   "metadata": {},
   "outputs": [],
   "source": []
  }
 ],
 "metadata": {
  "kernelspec": {
   "display_name": "Python 3",
   "language": "python",
   "name": "python3"
  },
  "language_info": {
   "codemirror_mode": {
    "name": "ipython",
    "version": 3
   },
   "file_extension": ".py",
   "mimetype": "text/x-python",
   "name": "python",
   "nbconvert_exporter": "python",
   "pygments_lexer": "ipython3",
   "version": "3.6.7"
  }
 },
 "nbformat": 4,
 "nbformat_minor": 2
}
