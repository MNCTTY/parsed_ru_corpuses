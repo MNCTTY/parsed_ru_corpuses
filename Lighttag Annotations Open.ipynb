{
 "cells": [
  {
   "cell_type": "markdown",
   "metadata": {},
   "source": [
    "## imports"
   ]
  },
  {
   "cell_type": "code",
   "execution_count": 1,
   "metadata": {},
   "outputs": [],
   "source": [
    "import pandas as pd\n",
    "import os\n",
    "import json"
   ]
  },
  {
   "cell_type": "code",
   "execution_count": 2,
   "metadata": {},
   "outputs": [],
   "source": [
    "import re\n",
    "import copy"
   ]
  },
  {
   "cell_type": "code",
   "execution_count": 3,
   "metadata": {},
   "outputs": [],
   "source": [
    "#find \"#old style\" for other type of texts separators"
   ]
  },
  {
   "cell_type": "markdown",
   "metadata": {},
   "source": [
    "## READ THE FILE"
   ]
  },
  {
   "cell_type": "code",
   "execution_count": 259,
   "metadata": {},
   "outputs": [
    {
     "name": "stdout",
     "output_type": "stream",
     "text": [
      "lighttag_annotations6\n",
      ".json\n"
     ]
    }
   ],
   "source": [
    "path = 'lighttag_annotations6.json'\n",
    "filename, file_extension = os.path.splitext(path)\n",
    "print(filename)\n",
    "print(file_extension)"
   ]
  },
  {
   "cell_type": "code",
   "execution_count": 260,
   "metadata": {},
   "outputs": [],
   "source": [
    "raw_data = []\n",
    "for line in open(path, 'r', encoding='utf-8'):\n",
    "    raw_data.append(json.loads(line))\n",
    "    annotations_and_examples = []\n",
    "    relations = []\n",
    "    #у нас джейсон в одну линию записан, поэтому по сути annannotations_and_examples и relations не обнуляются, и накапливают всю\n",
    "    #инфу, которую надо\n",
    "    for d in raw_data:\n",
    "        for k, v in d.items():\n",
    "            if k == 'annotations_and_examples':\n",
    "                annotations_and_examples.append(v)\n",
    "            if k == 'relations':\n",
    "                relations.append(v)\n",
    "                \n",
    "#we have no relations in our task, so we need not them to append, so we need not the_list\n"
   ]
  },
  {
   "cell_type": "code",
   "execution_count": 261,
   "metadata": {},
   "outputs": [],
   "source": [
    "#annotations_and_examples contains:\n",
    "\n",
    "# content\n",
    "# metadata\n",
    "# annotations \n",
    "# classifications\n"
   ]
  },
  {
   "cell_type": "code",
   "execution_count": 262,
   "metadata": {},
   "outputs": [],
   "source": [
    "raw_data = []\n",
    "for line in annotations_and_examples[0]:\n",
    "    raw_data.append((line))\n",
    "    content = []\n",
    "    metadata = []\n",
    "    annotations = []\n",
    "    classifications = []\n",
    "    for d in raw_data:\n",
    "        for k, v in d.items():\n",
    "            if k == 'content':\n",
    "                content.append(v)\n",
    "            if k == 'metadata':\n",
    "                metadata.append(v)\n",
    "            if k == 'annotations':\n",
    "                annotations.append(v)\n",
    "            if k == 'classifications':\n",
    "                classifications.append(v)"
   ]
  },
  {
   "cell_type": "code",
   "execution_count": 263,
   "metadata": {},
   "outputs": [
    {
     "name": "stdout",
     "output_type": "stream",
     "text": [
      "1\n"
     ]
    }
   ],
   "source": [
    "#size = 1\n",
    "size = len(content)\n",
    "print(size)"
   ]
  },
  {
   "cell_type": "code",
   "execution_count": 264,
   "metadata": {},
   "outputs": [
    {
     "data": {
      "text/plain": [
       "{'start': 25, 'end': 48, 'tag': 'м'}"
      ]
     },
     "execution_count": 264,
     "metadata": {},
     "output_type": "execute_result"
    }
   ],
   "source": [
    "annotations[0][0]"
   ]
  },
  {
   "cell_type": "code",
   "execution_count": 265,
   "metadata": {},
   "outputs": [
    {
     "data": {
      "text/plain": [
       "{'start': 25, 'end': 48, 'tag': 'м'}"
      ]
     },
     "execution_count": 265,
     "metadata": {},
     "output_type": "execute_result"
    }
   ],
   "source": [
    "annotations[size-1][0]\n",
    "#annotations[3][0]"
   ]
  },
  {
   "cell_type": "code",
   "execution_count": 266,
   "metadata": {},
   "outputs": [
    {
     "data": {
      "text/plain": [
       "\"'\\\\n############\\\\n2861,Суд в Новгородской области арестовал начальника управления экономической безопасности и противодействия коррупции ( УЭБиПК ) УМВД России по региону за присвоение выплат ветеранам боевых действий на протяжении десяти лет . Об этом сообщается на сайте следственного управления СКР по Новгородской области . Суд отправил сотрудника полиции под домашний арест . Он обвиняется по ч . 3 ст . 159 . 2 УК РФ ( мошенничество при получении выплат ) и ч . 1 ст . 285 УК РФ ( злоупотребление должностными полномочиями ) . По версии следствия , обвиняемый в течении десяти лет незаконно получал ежемесячные денежные выплаты , полагающиеся ветеранам боевых действий . В результате им были похищены бюджетные денежные средства в размере около 250 тыс . руб . , — говорится в сообщении . Кроме того , как отметили в СК , полицейскому вменяется злоупотребление должностными полномочиями при выделении ему на безвозмездной основе участка земли на озере Селигер . ,В Новгородской области обвинили полицейского в присвоении денег ветеранов,5ac8c5679a7947f2aeeef7ac',\\n '\\\\n############\\\\n2863,Бывшего начальника якутского авиационного спортклуба ДОСААФ России заподозрили в растрате 37 млн руб . Об этом агентству Интерфакс сообщили в Главной военной прокуратуре . В течение полутора лет руководитель аэроклуба предоставлял вверенную ему авиационную технику коммерческим организациям для безлицензионной перевозки грузов , — сказал представитель надзорного ведомства . Как сообщает источник агентства , главой учебного спортклуба был Александр Долженков . На основании прокурорских материалов возбуждено уголовное дело по ч . 4 ст . 160 УК РФ ( присвоение или растрата , совершенные в особо крупном размере ) . ,Экс-главу авиационного спортклуба в Якутии заподозрили в растрате ₽37 млн,5acadd099a7947608eeef7aa',\\n '\\\\n############\\\\n2865,В Карелии возбуждено уголовное дело по факту злоупотребления полномочиями бывшими руководителями одного из лечебно-оздоровительных учреждений республики . Они подозреваются в хищении на общую сумму 15 млн руб . Об этом говорится в сообщении главного управления республиканского МВД . По данным полиции , региональному правительству принадлежит 51% уставного капитала учреждения . Против этих лиц возбуждены уголовные дела по ч . 1 ст . 201 ( злоупотребление служебными полномочиями ) и по ч . 4 ст . 159 ( мошенничество , которое было совершено организованной группой либо в особо крупном размере ) УК РФ . Один из фигурантов заключен под стражу , второй находится под подпиской о невыезде . Сотрудники управления экономической безопасности и противодействия коррупции установили , что подозреваемый заключил с двумя организациями договоры о продаже путевок в лечебно-профилактическое учреждение . Фирмы , которые фактически принадлежали ему , получали процент от выручки . Далее он со своим подчиненным организовал работу таким образом , что желающие лечиться в знаменитом минеральном источнике обращались не в медучреждение , а в принадлежащие ему фирмы . Сумма ущерба от этой деятельности управляющего составила не менее 10 млн руб . Второй фигурант похитил более 5 млн руб . , которые должны были поступить на счета фирм в качестве оплаты за путевки . Речь идет о хищениях в санатории Марциальные Воды , в организации которых подозревается бывший директор заведения Александр Матиешин . Второй фигурант — нынешний заместитель директора санатория Илья Филиппенко . Об этом сообщает Интерфакс со ссылкой на МВД Карелии . Матиешину , который возглавлял санаторий с 2012 по 2017 год , принадлежит 51% компании , владеющей этим заведением . Марциальные Воды — старейший в России бальнеологический и грязевой курорт . Открыт по указу Петра I в первой четверти XVIII века на железистом источнике , расположен недалеко от города Кондопога в Карелии . ,Возбуждено дело о мошенничестве в карельском санатории «Марциальные Воды»,5ad06e549a794700da5fa038',\\n '\\\\n############\\\\n2867,Бывшему заместителю премьер-министра Татарстана министру транспорта и дорожного хозяйства Владимиру Швецову вызвали скорую в зал суда . Об этом заявил РБК источник в правоохранительных органах . По его словам , после суда бывший чиновник почувствовал себя плохо . После суда ему вызывали скорую , — добавил собеседник РБК . О том , что Владимир Швецов , который стал фигурантом уголовных дел о мошенничестве , госпитализирован после суда , сообщил Интерфакс со ссылкой на информированный источник . В пресс-службе следственного управления СК России по Республике Татарстан отказались прокомментировать информацию о госпитализации Владимира Швецова . Не комментируем , — заявили в пресс-службе . По данным РБК Татарстан , 30 января сотрудники СУ СКР по Татарстану задержали Владимира Швецова в рамах уголовного дела о мошенничестве с залоговым имуществом ЗАО ПАК на 60 млн руб . Другими фигурантами по этому делу являются его сын — Владимир Швецов-младший и главбух ЗАО Авангард Наталья Устинова . По данным следствия , дело было возбуждено в 2017 году . Швецов-младший причастен к махинациям с залоговым имуществом республиканского холдинга ПАО Пассажирский автотранспортный комбинат на 60 млн руб . На следующий день после задержания Владимира Швецова источник РБК Татарстан , знакомый с ходом расследования , заявил , что бывший чиновник лечится в РКБ-2 , куда его госпитализировали 29 января после допроса в СУ СКР Татарстана . В апреле республиканское СУ СК направило в Советский районный суд Казани ходатайство о взятии под стражу Владимира Швецова . ,Бывшему зампремьера Татарстана Швецову вызвали скорую в зал суда,5ad24eb19a7947217a5fa03c',\\n '\\\\n############\\\\n2869,Басманный суд Москвы принял решение продлить до 23 мая срок домашнего ареста бывшему главному бухгалтеру АНО Седьмая студия Нине Масляевой , которую обвиняют в хищении бюджетных средств . Об этом сообщает ТАСС . Как отметил в суде представитель СК , Масляевой предъявлено обвинение в окончательной редакции , на прошлой неделе она начала ознакомление с материалами дела , которое состоит из 258 томов . Срок предварительного следствия по делу продлен до 19 июля , отметил следователь . Масляева является фигурантом дела о хищении 133 млн руб . , выделенных Седьмой студии , руководителем которой является режиссер Кирилл Серебренников . Средства были выданы Минкультом на популяризацию культуры . Как полагает следствие , руководство этой продюсерской компании выводило деньги на счета фирм-однодневок и обналичивало .  На данный момент Серебренников находится под домашним арестом . Сам он заявляет , что бухгалтер Седьмой студии оговорила его и с помощью этого вымолила себе возможно минимальное наказание .  ,Суд продлил домашний арест бывшему бухгалтеру «Седьмой студии»,5ad4b7c99a79473abd5fa040',\\n '\\\\n############\\\\n2871,Бывший директор подведомственного Росатому АО НПК Дедал Сергей Федяев находится под арестом по обвинению в хищении средств , выделенных на обеспечение безопасности космодрома Восточный . Об этом пишет во вторник газета Коммерсантъ со ссылкой на свои источники . По информации издания , вместе с Федяевым по делу проходит Сергей Марков — глава компании Базальт-плюс , которая выступала субподрядчиком контрактов Дедала . Поводом для возбуждения уголовного дела послужила внутриведомственная проверка , проведенная весной 2016 года в АО НПК Дедал госкорпорацией Росатом , в структуру которой входит данное предприятие . По результатам было заведено несколько уголовных дел по статье о мошенничестве в особо крупном размере в отношении неустановленных лиц , Федяева тогда отстранили от должности . Один из эпизодов касался договора о поставке комплектующих для охраны периметра ряда объектов строящегося космодрома Восточный между Дедалом и компанией Базальт-плюс , которая позже была переименована в Промэлектропроект . Тогда была предпринята попытка хищения порядка 92 млн руб . Позднее были заведены еще два уголовных дела: одно — о превышении должностных полномочий , другое — о мошенничестве , также связанное с космодромом Восточный . В последнем случае речь шла о контракте 2013 года между Дедалом и компанией Маском , которая выступала одним из подрядчиков по обеспечению объектов космодрома системами безопасности . Дедал к выполнению контракта привлек субподрядчика — ту же компанию Базальт-плюс во главе с Марковым . Как считают следователи , после проведения работ часть имущества Маскома была похищена . После проверки , проведенной Росатомом в 2016 году , по данным Коммерсанта , Федяев ушел с предприятия по мировому соглашению , получив соответствующее вознаграждение . По собственному желанию тогда же уволились и двое его сыновей , которые работали конструкторами в Дедале . В настоящее время Федяевы-младшие проходят по делу в качестве свидетелей . ,СМИ узнали об аресте экс-главы подведомственного «Росатому» предприятия,5ad5628e9a794769e85fa036',\\n '\\\\n############\\\\n2873,Полиция Камбоджи задержала в столице страны Пномпене 119 китайцев по подозрению в мошенничестве . Об этом сообщает Reuters . Подозреваемых задержали по двум адресам 22 апреля . Представители силовиков уточнили , что это было сделано по запросу китайских спецслужб . Детали мошеннической схемы агентство не уточняет . Reuters отмечает только , что жертвами мошенничества становились граждане КНР и что расследование длилось несколько месяцев . По данным иммиграционной полиции , китайцы приехали в Камбоджу по туристическим визам . В августе 2017 года Reuters сообщало об аресте 400 граждан Китая и Тайваня по аналогичному обвинению . ,Полиция Камбоджи задержала 119 китайцев за мошенничество,5add7f769a7947509be1027a'\""
      ]
     },
     "execution_count": 266,
     "metadata": {},
     "output_type": "execute_result"
    }
   ],
   "source": [
    "content[size-1]"
   ]
  },
  {
   "cell_type": "markdown",
   "metadata": {},
   "source": [
    "## READ THE DATA"
   ]
  },
  {
   "cell_type": "markdown",
   "metadata": {},
   "source": [
    "## TAGS"
   ]
  },
  {
   "cell_type": "code",
   "execution_count": 267,
   "metadata": {},
   "outputs": [
    {
     "data": {
      "text/plain": [
       "1"
      ]
     },
     "execution_count": 267,
     "metadata": {},
     "output_type": "execute_result"
    }
   ],
   "source": [
    "starts = []\n",
    "ends = []\n",
    "tags = []\n",
    "\n",
    "for i in range(len(annotations)):\n",
    "    raw_data = []\n",
    "    for line in annotations[i]:\n",
    "        raw_data.append((line))\n",
    "        st = []\n",
    "        en = []\n",
    "        tg = []\n",
    "        for d in raw_data:\n",
    "            for k, v in d.items():\n",
    "                if k == 'start':\n",
    "                    st.append(v)\n",
    "                if k == 'end':\n",
    "                    en.append(v)\n",
    "                if k == 'tag':\n",
    "                    tg.append(v)\n",
    "    starts.append(st)\n",
    "    ends.append(en)\n",
    "    tags.append(tg)\n",
    "\n",
    "len(starts)"
   ]
  },
  {
   "cell_type": "code",
   "execution_count": 268,
   "metadata": {},
   "outputs": [
    {
     "data": {
      "text/plain": [
       "59"
      ]
     },
     "execution_count": 268,
     "metadata": {},
     "output_type": "execute_result"
    }
   ],
   "source": [
    "len(starts[size-1])"
   ]
  },
  {
   "cell_type": "code",
   "execution_count": 269,
   "metadata": {},
   "outputs": [
    {
     "data": {
      "text/plain": [
       "'Татарстану '"
      ]
     },
     "execution_count": 269,
     "metadata": {},
     "output_type": "execute_result"
    }
   ],
   "source": [
    "content[size-1][starts[size-1][15]:ends[size-1][15]]"
   ]
  },
  {
   "cell_type": "code",
   "execution_count": 270,
   "metadata": {},
   "outputs": [
    {
     "data": {
      "text/plain": [
       "59"
      ]
     },
     "execution_count": 270,
     "metadata": {},
     "output_type": "execute_result"
    }
   ],
   "source": [
    "len(tags[0])"
   ]
  },
  {
   "cell_type": "markdown",
   "metadata": {},
   "source": [
    "###  пустышка, заполняем нулями"
   ]
  },
  {
   "cell_type": "code",
   "execution_count": 271,
   "metadata": {},
   "outputs": [],
   "source": [
    "tagged_content = copy.copy(content)"
   ]
  },
  {
   "cell_type": "code",
   "execution_count": 272,
   "metadata": {},
   "outputs": [
    {
     "name": "stdout",
     "output_type": "stream",
     "text": [
      "True \n",
      "\n",
      "True\n"
     ]
    }
   ],
   "source": [
    "print(len(tagged_content) == len(content), '\\n')\n",
    "\n",
    "for i in range(0, size):\n",
    "    print(len(tagged_content[i])==len(content[i]))"
   ]
  },
  {
   "cell_type": "code",
   "execution_count": 273,
   "metadata": {},
   "outputs": [],
   "source": [
    "for j in range(0, size):\n",
    "    list_content = list(tagged_content[j])\n",
    "\n",
    "    for i in range(0, len(list_content)):\n",
    "        #old style\n",
    "        #if list_content[i] != ' ' and list_content[i] != '#' and list_content[i] != '\\n':\n",
    "        if list_content[i] != ' ' and list_content[i] != '#' and list_content[i] != 'n' and list_content[i] != '\\\\':\n",
    "            list_content[i] = 'O'\n",
    "\n",
    "    tagged_content[j] = \"\".join(list_content)"
   ]
  },
  {
   "cell_type": "code",
   "execution_count": 274,
   "metadata": {},
   "outputs": [
    {
     "name": "stdout",
     "output_type": "stream",
     "text": [
      "True \n",
      "\n",
      "True\n"
     ]
    }
   ],
   "source": [
    "print(len(tagged_content) == len(content), '\\n')\n",
    "\n",
    "for i in range(0, size):\n",
    "    print(len(tagged_content[i])==len(content[i]))"
   ]
  },
  {
   "cell_type": "markdown",
   "metadata": {},
   "source": [
    "## Избегаем схлопывания многословных тегов: все, что в промежутке тега, заполняем его индикатором, но если этот промежуток совпал с пробелом в оригинальном контенте - тут тоже пробел"
   ]
  },
  {
   "cell_type": "code",
   "execution_count": 275,
   "metadata": {},
   "outputs": [],
   "source": [
    "for q in range(0, size):\n",
    "    list_content = list(tagged_content[q])\n",
    "\n",
    "    for i in range(0, len(tags[q])):\n",
    "        for j in range(starts[q][i], ends[q][i]):\n",
    "            if content[q][j] == ' ':\n",
    "                list_content[j] = ' '\n",
    "            else:\n",
    "                list_content[j] = tags[q][i]\n",
    "\n",
    "    tagged_content[q] = \"\".join(list_content)"
   ]
  },
  {
   "cell_type": "code",
   "execution_count": 276,
   "metadata": {},
   "outputs": [
    {
     "name": "stdout",
     "output_type": "stream",
     "text": [
      "True \n",
      "\n",
      "True\n"
     ]
    }
   ],
   "source": [
    "print(len(tagged_content) == len(content), '\\n')\n",
    "\n",
    "for i in range(0, size):\n",
    "    print(len(tagged_content[i])==len(content[i]))"
   ]
  },
  {
   "cell_type": "markdown",
   "metadata": {},
   "source": [
    "## хлопаем получившиеся посхедовательности до одного символа"
   ]
  },
  {
   "cell_type": "code",
   "execution_count": 277,
   "metadata": {},
   "outputs": [],
   "source": [
    "for i in range(0, len(tagged_content)):\n",
    "    tagged_content[i] = re.sub(r'O+', 'O', tagged_content[i])\n",
    "    tagged_content[i] = re.sub(r'ж+', 'ж', tagged_content[i])\n",
    "    tagged_content[i] = re.sub(r'п+', 'п', tagged_content[i])\n",
    "    tagged_content[i] = re.sub(r'д+', 'д', tagged_content[i])\n",
    "    tagged_content[i] = re.sub(r'м+', 'м', tagged_content[i])"
   ]
  },
  {
   "cell_type": "code",
   "execution_count": 278,
   "metadata": {},
   "outputs": [
    {
     "name": "stdout",
     "output_type": "stream",
     "text": [
      "True \n",
      "\n"
     ]
    }
   ],
   "source": [
    "for i in range(0, size):\n",
    "    bull = (len(tagged_content[i].split(' ')) == len(content[i].split(' ')))\n",
    "    print(bull, '\\n')"
   ]
  },
  {
   "cell_type": "markdown",
   "metadata": {},
   "source": [
    "## TAGS AND TEXT BOTH"
   ]
  },
  {
   "cell_type": "markdown",
   "metadata": {},
   "source": [
    "## Разделяем на тексты и теги к текстам"
   ]
  },
  {
   "cell_type": "code",
   "execution_count": 279,
   "metadata": {},
   "outputs": [],
   "source": [
    "list_of_tags = []\n",
    "sub_list_of_tags = []\n",
    "for i in range(0, len(tagged_content)):\n",
    "    sub_list_of_tags.append(tagged_content[i].split('\\\\n############\\\\n'))\n",
    "    #old style\n",
    "    #sub_list_of_tags.append(tagged_content[i].split('\\n############\\n'))\n",
    "\n",
    "for i in range(0, size):\n",
    "    list_of_tags+=sub_list_of_tags[i]"
   ]
  },
  {
   "cell_type": "code",
   "execution_count": 280,
   "metadata": {},
   "outputs": [],
   "source": [
    "list_of_texts = []\n",
    "sub_list_of_texts = []\n",
    "for i in range(0, len(content)):\n",
    "    sub_list_of_texts.append(content[i].split('\\\\n############\\\\n'))\n",
    "    #old style\n",
    "    #sub_list_of_texts.append(content[i].split('\\n############\\n'))\n",
    "\n",
    "    \n",
    "for i in range(0, size):\n",
    "    list_of_texts+=sub_list_of_texts[i]"
   ]
  },
  {
   "cell_type": "code",
   "execution_count": 281,
   "metadata": {},
   "outputs": [
    {
     "name": "stdout",
     "output_type": "stream",
     "text": [
      "8\n",
      "8\n"
     ]
    }
   ],
   "source": [
    "print(len(list_of_texts))\n",
    "print(len(list_of_tags))\n",
    "#список со всеми текстами и список со всеми текстами тегов, элемент - один текст строкой или один текст тегов строкой"
   ]
  },
  {
   "cell_type": "code",
   "execution_count": 282,
   "metadata": {},
   "outputs": [],
   "source": [
    "list_of_text_tokens = []\n",
    "for i in range(0, len(list_of_texts)):\n",
    "    list_of_text_tokens.append([list_of_texts[i].split(' ')])"
   ]
  },
  {
   "cell_type": "code",
   "execution_count": 283,
   "metadata": {},
   "outputs": [],
   "source": [
    "list_of_tags_tokens = []\n",
    "for i in range(0, len(list_of_tags)):\n",
    "    list_of_tags_tokens.append([list_of_tags[i].split(' ')])"
   ]
  },
  {
   "cell_type": "code",
   "execution_count": 284,
   "metadata": {},
   "outputs": [],
   "source": [
    "# в целом те же самые списки, только теперь элемент - список токенов или список тегов (строки разбили на отдельные элементы)"
   ]
  },
  {
   "cell_type": "markdown",
   "metadata": {},
   "source": [
    "## Проверка совпадения количество тегов - токенов"
   ]
  },
  {
   "cell_type": "code",
   "execution_count": 285,
   "metadata": {},
   "outputs": [],
   "source": [
    "for i in range(0, len(list_of_text_tokens)):\n",
    "    if len(list_of_tags_tokens[i][0])!=len(list_of_text_tokens[i][0]):\n",
    "        print('idx ', i)\n",
    "        print(len(list_of_tags_tokens[i][0]))\n",
    "        print(len(list_of_text_tokens[i][0]))\n",
    "        print('\\n')"
   ]
  },
  {
   "cell_type": "markdown",
   "metadata": {},
   "source": [
    "## Проверка соответствия тегов токенам"
   ]
  },
  {
   "cell_type": "code",
   "execution_count": 286,
   "metadata": {},
   "outputs": [
    {
     "name": "stdout",
     "output_type": "stream",
     "text": [
      "слово  Татарстана\n",
      "тег  м\n",
      "\n",
      "\n",
      "слово  Владимиру\n",
      "тег  п\n",
      "\n",
      "\n",
      "слово  Швецову\n",
      "тег  п\n",
      "\n",
      "\n",
      "слово  Владимир\n",
      "тег  п\n",
      "\n",
      "\n",
      "слово  Швецов\n",
      "тег  п\n",
      "\n",
      "\n",
      "слово  Татарстан\n",
      "тег  м\n",
      "\n",
      "\n",
      "слово  Владимира\n",
      "тег  п\n",
      "\n",
      "\n",
      "слово  Швецова\n",
      "тег  п\n",
      "\n",
      "\n",
      "слово  Татарстан\n",
      "тег  м\n",
      "\n",
      "\n",
      "слово  Татарстану\n",
      "тег  м\n",
      "\n",
      "\n",
      "слово  Владимира\n",
      "тег  п\n",
      "\n",
      "\n",
      "слово  Швецова\n",
      "тег  п\n",
      "\n",
      "\n",
      "слово  Владимир\n",
      "тег  п\n",
      "\n",
      "\n",
      "слово  Швецов-младший\n",
      "тег  пO\n",
      "\n",
      "\n",
      "слово  Наталья\n",
      "тег  п\n",
      "\n",
      "\n",
      "слово  Устинова\n",
      "тег  п\n",
      "\n",
      "\n",
      "слово  Швецов-младший\n",
      "тег  пO\n",
      "\n",
      "\n",
      "слово  Владимира\n",
      "тег  п\n",
      "\n",
      "\n",
      "слово  Швецова\n",
      "тег  п\n",
      "\n",
      "\n",
      "слово  Владимира\n",
      "тег  п\n",
      "\n",
      "\n",
      "слово  Швецова\n",
      "тег  п\n",
      "\n",
      "\n",
      "слово  Швецову\n",
      "тег  п\n",
      "\n",
      "\n"
     ]
    }
   ],
   "source": [
    "#проверяем по-токеново idx-й текст\n",
    "idx = 4\n",
    "for i in range(0, len((list_of_text_tokens[idx][0]))):\n",
    "    if list_of_tags_tokens[idx][0][i] !='O':\n",
    "        print('слово ',list_of_text_tokens[idx][0][i])\n",
    "        print('тег ',list_of_tags_tokens[idx][0][i])\n",
    "        print('\\n')"
   ]
  },
  {
   "cell_type": "markdown",
   "metadata": {},
   "source": [
    "## Переворачиваем в нормальные теги"
   ]
  },
  {
   "cell_type": "code",
   "execution_count": 287,
   "metadata": {},
   "outputs": [],
   "source": [
    "final_list_of_tags_tokens = []\n",
    "for i in range(0, len(list_of_tags_tokens)):\n",
    "    sublist = []\n",
    "    for j in range(0, len(list_of_tags_tokens[i][0])):\n",
    "        if list_of_tags_tokens[i][0][j] == 'п':\n",
    "            sublist.append('OFF')\n",
    "        elif list_of_tags_tokens[i][0][j] == 'ж':\n",
    "            sublist.append('SUF')\n",
    "        elif list_of_tags_tokens[i][0][j] == 'д':\n",
    "            sublist.append('DAT')\n",
    "        elif list_of_tags_tokens[i][0][j] == 'м':\n",
    "            sublist.append('LOC')\n",
    "        else:\n",
    "            sublist.append('O')\n",
    "    final_list_of_tags_tokens.append(sublist)\n",
    "    "
   ]
  },
  {
   "cell_type": "code",
   "execution_count": 288,
   "metadata": {},
   "outputs": [
    {
     "data": {
      "text/plain": [
       "8"
      ]
     },
     "execution_count": 288,
     "metadata": {},
     "output_type": "execute_result"
    }
   ],
   "source": [
    "len(final_list_of_tags_tokens)"
   ]
  },
  {
   "cell_type": "code",
   "execution_count": 289,
   "metadata": {},
   "outputs": [
    {
     "data": {
      "text/plain": [
       "1"
      ]
     },
     "execution_count": 289,
     "metadata": {},
     "output_type": "execute_result"
    }
   ],
   "source": [
    "len(final_list_of_tags_tokens[0])"
   ]
  },
  {
   "cell_type": "code",
   "execution_count": 290,
   "metadata": {},
   "outputs": [
    {
     "data": {
      "text/plain": [
       "1"
      ]
     },
     "execution_count": 290,
     "metadata": {},
     "output_type": "execute_result"
    }
   ],
   "source": [
    "len(list_of_tags_tokens[0][0])"
   ]
  },
  {
   "cell_type": "markdown",
   "metadata": {},
   "source": [
    "## Заносим все в один датафрейм, подтягиваем столб с оригинальной датой, сохр csv"
   ]
  },
  {
   "cell_type": "code",
   "execution_count": 291,
   "metadata": {},
   "outputs": [],
   "source": [
    "final = []\n",
    "for i in range(0, len(list_of_text_tokens)):\n",
    "    final.append([list_of_text_tokens[i][0], final_list_of_tags_tokens[i]])"
   ]
  },
  {
   "cell_type": "code",
   "execution_count": 292,
   "metadata": {},
   "outputs": [
    {
     "data": {
      "text/plain": [
       "'O LOC LOC LOC O O O O O O O O O O O O O O O O O O O O O O O O O O O O O O O O O O LOC LOC LOC O O O O O O O O O O O O O O O O O O O O O O O O O O O O O O O O O O O O O O O O O O O O O O O O O O O O O O O O O O O O O O O O O O O O O O O O O O O O O O O O O O O O O O O O O O O O O O O O O O O O O O O O O O O O O O O LOC LOC O O O O O O O'"
      ]
     },
     "execution_count": 292,
     "metadata": {},
     "output_type": "execute_result"
    }
   ],
   "source": [
    "str_final = []\n",
    "for i in range(1, len(final)):\n",
    "    str_text = ' '.join(final[i][0])\n",
    "    str_tags = ' '.join(final[i][1])\n",
    "    str_final.append([str_tags, str_text])\n",
    "str_final[0][0]"
   ]
  },
  {
   "cell_type": "markdown",
   "metadata": {},
   "source": [
    "### удаляем номер текста и его айдишник (и внешние кавычки) - ужасные артефакты"
   ]
  },
  {
   "cell_type": "code",
   "execution_count": 293,
   "metadata": {},
   "outputs": [
    {
     "data": {
      "text/plain": [
       "161"
      ]
     },
     "execution_count": 293,
     "metadata": {},
     "output_type": "execute_result"
    }
   ],
   "source": [
    "len(str_final[0][1].split(\" \"))"
   ]
  },
  {
   "cell_type": "code",
   "execution_count": 294,
   "metadata": {},
   "outputs": [
    {
     "data": {
      "text/plain": [
       "161"
      ]
     },
     "execution_count": 294,
     "metadata": {},
     "output_type": "execute_result"
    }
   ],
   "source": [
    "len(str_final[0][0].split(\" \"))"
   ]
  },
  {
   "cell_type": "code",
   "execution_count": 295,
   "metadata": {},
   "outputs": [
    {
     "data": {
      "text/plain": [
       "160"
      ]
     },
     "execution_count": 295,
     "metadata": {},
     "output_type": "execute_result"
    }
   ],
   "source": [
    "#old style\n",
    "#len(''.join(str_final[0][1].split(\",\")[1:-1]).split(' '))\n",
    "len(','.join(str_final[0][1].split(\",\")[1:-2]).split(' '))"
   ]
  },
  {
   "cell_type": "code",
   "execution_count": 296,
   "metadata": {},
   "outputs": [
    {
     "ename": "IndexError",
     "evalue": "list index out of range",
     "output_type": "error",
     "traceback": [
      "\u001b[1;31m---------------------------------------------------------------------------\u001b[0m",
      "\u001b[1;31mIndexError\u001b[0m                                Traceback (most recent call last)",
      "\u001b[1;32m<ipython-input-296-4c4b2b46bcf3>\u001b[0m in \u001b[0;36m<module>\u001b[1;34m\u001b[0m\n\u001b[1;32m----> 1\u001b[1;33m \u001b[0mstr_final\u001b[0m\u001b[1;33m[\u001b[0m\u001b[1;36m30\u001b[0m\u001b[1;33m]\u001b[0m\u001b[1;33m[\u001b[0m\u001b[1;36m1\u001b[0m\u001b[1;33m]\u001b[0m\u001b[1;33m.\u001b[0m\u001b[0msplit\u001b[0m\u001b[1;33m(\u001b[0m\u001b[1;34m' '\u001b[0m\u001b[1;33m)\u001b[0m\u001b[1;33m\u001b[0m\u001b[1;33m\u001b[0m\u001b[0m\n\u001b[0m",
      "\u001b[1;31mIndexError\u001b[0m: list index out of range"
     ]
    }
   ],
   "source": [
    "str_final[30][1].split(' ')"
   ]
  },
  {
   "cell_type": "code",
   "execution_count": 297,
   "metadata": {},
   "outputs": [
    {
     "ename": "IndexError",
     "evalue": "list index out of range",
     "output_type": "error",
     "traceback": [
      "\u001b[1;31m---------------------------------------------------------------------------\u001b[0m",
      "\u001b[1;31mIndexError\u001b[0m                                Traceback (most recent call last)",
      "\u001b[1;32m<ipython-input-297-aa562d9b0653>\u001b[0m in \u001b[0;36m<module>\u001b[1;34m\u001b[0m\n\u001b[1;32m----> 1\u001b[1;33m \u001b[1;34m','\u001b[0m\u001b[1;33m.\u001b[0m\u001b[0mjoin\u001b[0m\u001b[1;33m(\u001b[0m\u001b[0mstr_final\u001b[0m\u001b[1;33m[\u001b[0m\u001b[1;36m30\u001b[0m\u001b[1;33m]\u001b[0m\u001b[1;33m[\u001b[0m\u001b[1;36m1\u001b[0m\u001b[1;33m]\u001b[0m\u001b[1;33m.\u001b[0m\u001b[0msplit\u001b[0m\u001b[1;33m(\u001b[0m\u001b[1;34m\",\"\u001b[0m\u001b[1;33m)\u001b[0m\u001b[1;33m[\u001b[0m\u001b[1;36m1\u001b[0m\u001b[1;33m:\u001b[0m\u001b[1;33m-\u001b[0m\u001b[1;36m2\u001b[0m\u001b[1;33m]\u001b[0m\u001b[1;33m)\u001b[0m\u001b[1;33m.\u001b[0m\u001b[0msplit\u001b[0m\u001b[1;33m(\u001b[0m\u001b[1;34m' '\u001b[0m\u001b[1;33m)\u001b[0m\u001b[1;33m\u001b[0m\u001b[1;33m\u001b[0m\u001b[0m\n\u001b[0m",
      "\u001b[1;31mIndexError\u001b[0m: list index out of range"
     ]
    }
   ],
   "source": [
    "','.join(str_final[30][1].split(\",\")[1:-2]).split(' ')"
   ]
  },
  {
   "cell_type": "code",
   "execution_count": 298,
   "metadata": {},
   "outputs": [],
   "source": [
    "for i in range(0, len(str_final)):\n",
    "    str_final[i][1] = ','.join(str_final[i][1].split(\",\")[1:-2])\n",
    "    #эта строка появилась потому что при моем стиле формирования текстов на разметку в конце каждого разделителя выползает кавычка, которой присваивается собственный тег\n",
    "    #вот он-то сейчас и удалится\n",
    "    str_final[i][0] = ' '.join(str_final[i][0].split(' ')[:-1])"
   ]
  },
  {
   "cell_type": "code",
   "execution_count": 299,
   "metadata": {},
   "outputs": [],
   "source": [
    "#old style\n",
    "#for i in range(0, len(str_final)):\n",
    "#    str_final[i][1] = ','.join(str_final[i][1].split(\",\")[1:-1])"
   ]
  },
  {
   "cell_type": "code",
   "execution_count": 300,
   "metadata": {},
   "outputs": [],
   "source": [
    "#old style\n",
    "#for i in range(0, len(str_final)):\n",
    "#    str_final[i][1] = str_final[i][1].replace('\"', '')"
   ]
  },
  {
   "cell_type": "code",
   "execution_count": 301,
   "metadata": {},
   "outputs": [
    {
     "data": {
      "text/plain": [
       "160"
      ]
     },
     "execution_count": 301,
     "metadata": {},
     "output_type": "execute_result"
    }
   ],
   "source": [
    "len(str_final[0][0].split(' '))"
   ]
  },
  {
   "cell_type": "code",
   "execution_count": 302,
   "metadata": {},
   "outputs": [
    {
     "data": {
      "text/plain": [
       "160"
      ]
     },
     "execution_count": 302,
     "metadata": {},
     "output_type": "execute_result"
    }
   ],
   "source": [
    "len(str_final[0][1].split(' '))"
   ]
  },
  {
   "cell_type": "markdown",
   "metadata": {},
   "source": [
    "## все, датафрейм"
   ]
  },
  {
   "cell_type": "code",
   "execution_count": 303,
   "metadata": {},
   "outputs": [
    {
     "data": {
      "text/html": [
       "<div>\n",
       "<style scoped>\n",
       "    .dataframe tbody tr th:only-of-type {\n",
       "        vertical-align: middle;\n",
       "    }\n",
       "\n",
       "    .dataframe tbody tr th {\n",
       "        vertical-align: top;\n",
       "    }\n",
       "\n",
       "    .dataframe thead th {\n",
       "        text-align: right;\n",
       "    }\n",
       "</style>\n",
       "<table border=\"1\" class=\"dataframe\">\n",
       "  <thead>\n",
       "    <tr style=\"text-align: right;\">\n",
       "      <th></th>\n",
       "      <th>tags</th>\n",
       "      <th>texts</th>\n",
       "    </tr>\n",
       "  </thead>\n",
       "  <tbody>\n",
       "    <tr>\n",
       "      <th>0</th>\n",
       "      <td>O LOC LOC LOC O O O O O O O O O O O O O O O O ...</td>\n",
       "      <td>Суд в Новгородской области арестовал начальник...</td>\n",
       "    </tr>\n",
       "    <tr>\n",
       "      <th>1</th>\n",
       "      <td>O O O O O O O O O O O O O O O O O O O O O O O ...</td>\n",
       "      <td>Бывшего начальника якутского авиационного спор...</td>\n",
       "    </tr>\n",
       "    <tr>\n",
       "      <th>2</th>\n",
       "      <td>O LOC O O O O O O O O O O O O O O O O O O O O ...</td>\n",
       "      <td>В Карелии возбуждено уголовное дело по факту з...</td>\n",
       "    </tr>\n",
       "    <tr>\n",
       "      <th>3</th>\n",
       "      <td>O O O LOC O O O O O OFF OFF O O O O O O O O O ...</td>\n",
       "      <td>Бывшему заместителю премьер-министра Татарстан...</td>\n",
       "    </tr>\n",
       "    <tr>\n",
       "      <th>4</th>\n",
       "      <td>O O LOC O O O O O O O O O O O O O OFF OFF OFF ...</td>\n",
       "      <td>Басманный суд Москвы принял решение продлить д...</td>\n",
       "    </tr>\n",
       "  </tbody>\n",
       "</table>\n",
       "</div>"
      ],
      "text/plain": [
       "                                                tags  \\\n",
       "0  O LOC LOC LOC O O O O O O O O O O O O O O O O ...   \n",
       "1  O O O O O O O O O O O O O O O O O O O O O O O ...   \n",
       "2  O LOC O O O O O O O O O O O O O O O O O O O O ...   \n",
       "3  O O O LOC O O O O O OFF OFF O O O O O O O O O ...   \n",
       "4  O O LOC O O O O O O O O O O O O O OFF OFF OFF ...   \n",
       "\n",
       "                                               texts  \n",
       "0  Суд в Новгородской области арестовал начальник...  \n",
       "1  Бывшего начальника якутского авиационного спор...  \n",
       "2  В Карелии возбуждено уголовное дело по факту з...  \n",
       "3  Бывшему заместителю премьер-министра Татарстан...  \n",
       "4  Басманный суд Москвы принял решение продлить д...  "
      ]
     },
     "execution_count": 303,
     "metadata": {},
     "output_type": "execute_result"
    }
   ],
   "source": [
    "df = pd.DataFrame(str_final, columns=['tags', 'texts'])\n",
    "df.head()"
   ]
  },
  {
   "cell_type": "code",
   "execution_count": 304,
   "metadata": {},
   "outputs": [
    {
     "data": {
      "text/plain": [
       "'Суд в Новгородской области арестовал начальника управления экономической безопасности и противодействия коррупции ( УЭБиПК ) УМВД России по региону за присвоение выплат ветеранам боевых действий на протяжении десяти лет . Об этом сообщается на сайте следственного управления СКР по Новгородской области . Суд отправил сотрудника полиции под домашний арест . Он обвиняется по ч . 3 ст . 159 . 2 УК РФ ( мошенничество при получении выплат ) и ч . 1 ст . 285 УК РФ ( злоупотребление должностными полномочиями ) . По версии следствия , обвиняемый в течении десяти лет незаконно получал ежемесячные денежные выплаты , полагающиеся ветеранам боевых действий . В результате им были похищены бюджетные денежные средства в размере около 250 тыс . руб . , — говорится в сообщении . Кроме того , как отметили в СК , полицейскому вменяется злоупотребление должностными полномочиями при выделении ему на безвозмездной основе участка земли на озере Селигер . ,В Новгородской области обвинили полицейского в присвоении денег ветеранов'"
      ]
     },
     "execution_count": 304,
     "metadata": {},
     "output_type": "execute_result"
    }
   ],
   "source": [
    "df['texts'][0]"
   ]
  },
  {
   "cell_type": "code",
   "execution_count": 305,
   "metadata": {},
   "outputs": [
    {
     "name": "stdout",
     "output_type": "stream",
     "text": [
      "idx  6\n",
      "Полиция Камбоджи задержала в столице страны Пномпене 119 китайцев по подозрению в мошенничестве . Об этом сообщает Reuters . Подозреваемых задержали по двум адресам 22 апреля . Представители силовиков уточнили , что это было сделано по запросу китайских спецслужб . Детали мошеннической схемы агентство не уточняет . Reuters отмечает только , что жертвами мошенничества становились граждане КНР и что расследование длилось несколько месяцев . По данным иммиграционной полиции , китайцы приехали в Камбоджу по туристическим визам . В августе 2017 года Reuters сообщало об аресте 400 граждан Китая и Тайваня по аналогичному обвинению . \n",
      "95\n",
      "\n",
      "\n",
      "O LOC O O O O LOC O O O O O O O O O O O O O O O O O O O O O O O O O O O O O O O O O O O O O O O O O O O O O O O O O O O O O O O O O O O O O O O O O LOC O O O O O O O O O O O O O O LOC O LOC O O O O O LOC O O O O\n",
      "100\n",
      "\n",
      "\n"
     ]
    }
   ],
   "source": [
    "for i in range(0, len(df)):\n",
    "    if len(df['texts'][i].split(' '))!=len(df['tags'][i].split(' ')):\n",
    "        print('idx ', i)\n",
    "        print(df['texts'][i])\n",
    "        print(len(df['texts'][i].split(' ')))\n",
    "        print('\\n')\n",
    "        print(df['tags'][i])\n",
    "        print(len(df['tags'][i].split(' ')))\n",
    "        print('\\n')"
   ]
  },
  {
   "cell_type": "code",
   "execution_count": 306,
   "metadata": {},
   "outputs": [],
   "source": [
    "df.to_csv(filename+'_parsed_data_str.csv', index = False)"
   ]
  },
  {
   "cell_type": "markdown",
   "metadata": {},
   "source": [
    "### проверяем формат строк и все такое при подгрузке сформированного файла обратно"
   ]
  },
  {
   "cell_type": "code",
   "execution_count": 307,
   "metadata": {},
   "outputs": [
    {
     "data": {
      "text/html": [
       "<div>\n",
       "<style scoped>\n",
       "    .dataframe tbody tr th:only-of-type {\n",
       "        vertical-align: middle;\n",
       "    }\n",
       "\n",
       "    .dataframe tbody tr th {\n",
       "        vertical-align: top;\n",
       "    }\n",
       "\n",
       "    .dataframe thead th {\n",
       "        text-align: right;\n",
       "    }\n",
       "</style>\n",
       "<table border=\"1\" class=\"dataframe\">\n",
       "  <thead>\n",
       "    <tr style=\"text-align: right;\">\n",
       "      <th></th>\n",
       "      <th>tags</th>\n",
       "      <th>texts</th>\n",
       "    </tr>\n",
       "  </thead>\n",
       "  <tbody>\n",
       "    <tr>\n",
       "      <th>0</th>\n",
       "      <td>O LOC LOC LOC O O O O O O O O O O O O O O O O ...</td>\n",
       "      <td>Суд в Новгородской области арестовал начальник...</td>\n",
       "    </tr>\n",
       "    <tr>\n",
       "      <th>1</th>\n",
       "      <td>O O O O O O O O O O O O O O O O O O O O O O O ...</td>\n",
       "      <td>Бывшего начальника якутского авиационного спор...</td>\n",
       "    </tr>\n",
       "    <tr>\n",
       "      <th>2</th>\n",
       "      <td>O LOC O O O O O O O O O O O O O O O O O O O O ...</td>\n",
       "      <td>В Карелии возбуждено уголовное дело по факту з...</td>\n",
       "    </tr>\n",
       "    <tr>\n",
       "      <th>3</th>\n",
       "      <td>O O O LOC O O O O O OFF OFF O O O O O O O O O ...</td>\n",
       "      <td>Бывшему заместителю премьер-министра Татарстан...</td>\n",
       "    </tr>\n",
       "    <tr>\n",
       "      <th>4</th>\n",
       "      <td>O O LOC O O O O O O O O O O O O O OFF OFF OFF ...</td>\n",
       "      <td>Басманный суд Москвы принял решение продлить д...</td>\n",
       "    </tr>\n",
       "  </tbody>\n",
       "</table>\n",
       "</div>"
      ],
      "text/plain": [
       "                                                tags  \\\n",
       "0  O LOC LOC LOC O O O O O O O O O O O O O O O O ...   \n",
       "1  O O O O O O O O O O O O O O O O O O O O O O O ...   \n",
       "2  O LOC O O O O O O O O O O O O O O O O O O O O ...   \n",
       "3  O O O LOC O O O O O OFF OFF O O O O O O O O O ...   \n",
       "4  O O LOC O O O O O O O O O O O O O OFF OFF OFF ...   \n",
       "\n",
       "                                               texts  \n",
       "0  Суд в Новгородской области арестовал начальник...  \n",
       "1  Бывшего начальника якутского авиационного спор...  \n",
       "2  В Карелии возбуждено уголовное дело по факту з...  \n",
       "3  Бывшему заместителю премьер-министра Татарстан...  \n",
       "4  Басманный суд Москвы принял решение продлить д...  "
      ]
     },
     "execution_count": 307,
     "metadata": {},
     "output_type": "execute_result"
    }
   ],
   "source": [
    "df1 = pd.read_csv(filename+'_parsed_data_str.csv')\n",
    "df1.head()"
   ]
  },
  {
   "cell_type": "code",
   "execution_count": 308,
   "metadata": {},
   "outputs": [],
   "source": [
    "list_of_tags = []\n",
    "for i in range(0, len(df1['tags'])):\n",
    "    if i!=49:\n",
    "        list_of_tags.append(df1['tags'][i].split(' '))\n",
    "\n",
    "list_of_texts = []\n",
    "for i in range(0, len(df1['texts'])):\n",
    "    if i!=49:\n",
    "        list_of_texts.append(df1['texts'][i].split(' '))\n"
   ]
  },
  {
   "cell_type": "code",
   "execution_count": 309,
   "metadata": {},
   "outputs": [
    {
     "name": "stdout",
     "output_type": "stream",
     "text": [
      "i:  6\n",
      "diff:  -5\n"
     ]
    }
   ],
   "source": [
    "for i in range(0, len(list_of_texts)):\n",
    "    if len(list_of_tags[i])!=len(list_of_texts[i]):\n",
    "        print('i: ',i)\n",
    "        print('diff: ',len(list_of_texts[i])- len(list_of_tags[i]))"
   ]
  },
  {
   "cell_type": "code",
   "execution_count": null,
   "metadata": {},
   "outputs": [],
   "source": []
  },
  {
   "cell_type": "code",
   "execution_count": null,
   "metadata": {},
   "outputs": [],
   "source": []
  },
  {
   "cell_type": "code",
   "execution_count": null,
   "metadata": {},
   "outputs": [],
   "source": []
  },
  {
   "cell_type": "code",
   "execution_count": null,
   "metadata": {},
   "outputs": [],
   "source": []
  },
  {
   "cell_type": "code",
   "execution_count": null,
   "metadata": {},
   "outputs": [],
   "source": []
  },
  {
   "cell_type": "code",
   "execution_count": null,
   "metadata": {},
   "outputs": [],
   "source": []
  },
  {
   "cell_type": "markdown",
   "metadata": {},
   "source": [
    "## MAKING FILES FOR DEEP PAVLOV TRAIN NER"
   ]
  },
  {
   "cell_type": "code",
   "execution_count": 56,
   "metadata": {},
   "outputs": [],
   "source": [
    "file = open('train.txt','w', encoding='utf-8') \n",
    "for i in range(0, int(0.8*len(list_of_texts))):\n",
    "    file.write('-DOCSTART-' + '\\t'+'O'+'\\n')\n",
    "    for j in range(0, len(list_of_texts[i])):\n",
    "        line = list_of_texts[i][j] + '\\t' + list_of_tags[i][j] + '\\n'\n",
    "        file.write(line)\n",
    "        if list_of_texts[i][j] == '.':\n",
    "            file.write('\\n')\n",
    "            file.write('\\n')\n",
    "file.close()"
   ]
  },
  {
   "cell_type": "code",
   "execution_count": 62,
   "metadata": {},
   "outputs": [],
   "source": [
    "file = open('test.txt','w', encoding='utf-8') \n",
    "for i in range(int(0.8*len(list_of_texts)), int(0.9*len(list_of_texts))):\n",
    "    file.write('-DOCSTART-' + '\\t'+'O'+'\\n')\n",
    "    for j in range(0, len(list_of_texts[i])):\n",
    "        line = list_of_texts[i][j] + '\\t' + list_of_tags[i][j] + '\\n'\n",
    "        file.write(line)\n",
    "        if list_of_texts[i][j] == '.':\n",
    "            file.write('\\n')\n",
    "            file.write('\\n')\n",
    "file.close()"
   ]
  },
  {
   "cell_type": "code",
   "execution_count": 63,
   "metadata": {},
   "outputs": [],
   "source": [
    "file = open('valid.txt','w', encoding='utf-8') \n",
    "for i in range(int(0.9*len(list_of_texts)), len(list_of_texts)):\n",
    "    file.write('-DOCSTART-' + '\\t'+'O'+'\\n')\n",
    "    for j in range(0, len(list_of_texts[i])):\n",
    "        line = list_of_texts[i][j] + '\\t' + list_of_tags[i][j] + '\\n'\n",
    "        file.write(line)\n",
    "        if list_of_texts[i][j] == '.':\n",
    "            file.write('\\n')\n",
    "            file.write('\\n')\n",
    "file.close()"
   ]
  },
  {
   "cell_type": "code",
   "execution_count": null,
   "metadata": {},
   "outputs": [],
   "source": []
  },
  {
   "cell_type": "code",
   "execution_count": null,
   "metadata": {},
   "outputs": [],
   "source": []
  },
  {
   "cell_type": "code",
   "execution_count": null,
   "metadata": {},
   "outputs": [],
   "source": []
  }
 ],
 "metadata": {
  "kernelspec": {
   "display_name": "Python 3",
   "language": "python",
   "name": "python3"
  },
  "language_info": {
   "codemirror_mode": {
    "name": "ipython",
    "version": 3
   },
   "file_extension": ".py",
   "mimetype": "text/x-python",
   "name": "python",
   "nbconvert_exporter": "python",
   "pygments_lexer": "ipython3",
   "version": "3.6.7"
  }
 },
 "nbformat": 4,
 "nbformat_minor": 2
}
